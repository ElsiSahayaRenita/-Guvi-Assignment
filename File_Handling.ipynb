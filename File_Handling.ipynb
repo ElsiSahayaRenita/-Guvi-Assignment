{
  "nbformat": 4,
  "nbformat_minor": 0,
  "metadata": {
    "colab": {
      "name": "File Handling.ipynb",
      "provenance": [],
      "toc_visible": true,
      "authorship_tag": "ABX9TyPSnd10x8E3D85abr9moA48",
      "include_colab_link": true
    },
    "kernelspec": {
      "name": "python3",
      "display_name": "Python 3"
    },
    "language_info": {
      "name": "python"
    }
  },
  "cells": [
    {
      "cell_type": "markdown",
      "metadata": {
        "id": "view-in-github",
        "colab_type": "text"
      },
      "source": [
        "<a href=\"https://colab.research.google.com/github/ElsiSahayaRenita/-Guvi-Assignment/blob/main/File_Handling.ipynb\" target=\"_parent\"><img src=\"https://colab.research.google.com/assets/colab-badge.svg\" alt=\"Open In Colab\"/></a>"
      ]
    },
    {
      "cell_type": "code",
      "source": [
        "import re\n",
        "import os\n",
        "while True:\n",
        "  choose = int(input(\"1) Login \\n2) Register \\n3) Forget Password \\n4) Exit \\nChoose any one...\"))\n",
        "  if(choose!=4):\n",
        "    if(choose == 3):\n",
        "      user = input(\"Username: \")\n",
        "      password = input(\"New password: \")\n",
        "    else:\n",
        "      user = input(\"Username: \")\n",
        "      password = input(\"Password: \")\n",
        "    regex_user = r'\\b[A-Za-z0-9._%+-]+@[A-Za-z0-9.-]+\\.[A-Z|a-z]{2,}\\b'\n",
        "    regex_pwd = r'^(?=.*[a-z])(?=.*[A-Z])(?=.*\\d)[A-Za-z\\d@$!%*#?&]{5,16}$'\n",
        "  else:\n",
        "    print(\"You have exited the application\")\n",
        "    break\n",
        "  if(re.search(regex_user, user) and re.search(re.compile(regex_pwd), password)):\n",
        "    if(choose == 1):\n",
        "      a = []\n",
        "      with open(\"db.txt\", 'r') as file:\n",
        "        for i in file.readlines():\n",
        "          s = i.split()\n",
        "          [a.append(\"Success\") if(s[0] == user and s[1]==password) else a.append(\"Failure\")]\n",
        "      print(\"Login Successful\" if(\"Success\" in a) else \"Register by choosing the number 2\")\n",
        "        \n",
        "    elif(choose == 2):\n",
        "      a = []\n",
        "      with open(\"db.txt\", 'a+') as file:\n",
        "        for i in file.readlines():\n",
        "          s = i.split()\n",
        "          [a.append(\"Exists\") if(s[0] == user and s[1]==password) else a.append(\"Not Exists\")]\n",
        "        if(\"Exists\" in a):\n",
        "          print(\"User already exists try login by choosing 1\")\n",
        "        else:\n",
        "          if(os.path.getsize(\"db.txt\")!=0):\n",
        "            file.write(\"\\n\"+user+' '+password)\n",
        "          else:\n",
        "            file.write(user+' '+password)\n",
        "          print(\"Registered Successfully\")\n",
        "          continue\n",
        "    elif(choose == 3):\n",
        "      a = []\n",
        "      with open(\"db.txt\", \"r\") as fp:\n",
        "        lines = fp.readlines()\n",
        "        for i in lines:\n",
        "          s = i.split()\n",
        "          [a.append(\"Register\") if(s[0]!=user) else a.append(\"Exists\")]\n",
        "        if(\"Register\" in a):\n",
        "          print(\"No user found, register by choosing the number 2\")\n",
        "          continue\n",
        "      with open(\"db.txt\", \"w\") as fp:\n",
        "        for line in lines:\n",
        "          if user not in line.strip():\n",
        "            fp.write(line)\n",
        "        fp.write('\\n'+user+' '+password)\n",
        "        print(\"Password changed successfully try login by choosing 1\")\n",
        "\n",
        "  else:\n",
        "    print(\"Please provide valid user name and password\")"
      ],
      "metadata": {
        "id": "5UY6qF-oPVij",
        "colab": {
          "base_uri": "https://localhost:8080/"
        },
        "outputId": "152e59c5-1bcd-4ea6-f698-73f93bff2f55"
      },
      "execution_count": null,
      "outputs": [
        {
          "output_type": "stream",
          "name": "stdout",
          "text": [
            "1) Login \n",
            "2) Register \n",
            "3) Forget Password \n",
            "4) Exit \n",
            "Choose any one...2\n",
            "Username: Renita@gmail.in\n",
            "Password: Renita231!\n",
            "Registered Successfully\n",
            "1) Login \n",
            "2) Register \n",
            "3) Forget Password \n",
            "4) Exit \n",
            "Choose any one...1\n",
            "Username: Renita@gmail.in\n",
            "Password: Renita231!\n",
            "Login Successful\n",
            "1) Login \n",
            "2) Register \n",
            "3) Forget Password \n",
            "4) Exit \n",
            "Choose any one...3\n",
            "Username: Renita@gmail.in\n",
            "New password: R!eni24\n",
            "Password changed successfully try login by choosing 1\n",
            "1) Login \n",
            "2) Register \n",
            "3) Forget Password \n",
            "4) Exit \n",
            "Choose any one...4\n",
            "You have exited the application\n"
          ]
        }
      ]
    }
  ]
}