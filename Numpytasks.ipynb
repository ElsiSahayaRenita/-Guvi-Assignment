{
  "cells": [
    {
      "cell_type": "markdown",
      "metadata": {
        "id": "view-in-github",
        "colab_type": "text"
      },
      "source": [
        "<a href=\"https://colab.research.google.com/github/ElsiSahayaRenita/-Guvi-Assignment/blob/main/Numpytasks.ipynb\" target=\"_parent\"><img src=\"https://colab.research.google.com/assets/colab-badge.svg\" alt=\"Open In Colab\"/></a>"
      ]
    },
    {
      "cell_type": "markdown",
      "metadata": {
        "id": "uoChferVREPm"
      },
      "source": [
        "# Numpy\n",
        "\n"
      ]
    },
    {
      "cell_type": "markdown",
      "metadata": {
        "id": "RRUXKKHvREPp"
      },
      "source": [
        "#### 1. Import the numpy package under the name `np` (★☆☆) \n",
        "(**hint**: import … as …)"
      ]
    },
    {
      "cell_type": "code",
      "execution_count": null,
      "metadata": {
        "collapsed": true,
        "id": "wVDlbJ7SREPq"
      },
      "outputs": [],
      "source": [
        "import numpy as np"
      ]
    },
    {
      "cell_type": "markdown",
      "metadata": {
        "id": "BM4RZp_3REPq"
      },
      "source": [
        "#### 2. Print the numpy version and the configuration (★☆☆) \n",
        "(**hint**: np.\\_\\_version\\_\\_, np.show\\_config)"
      ]
    },
    {
      "cell_type": "code",
      "execution_count": null,
      "metadata": {
        "id": "x4Hosff-REPq",
        "outputId": "6edc0cf8-6556-4fa1-b3bf-7d7fc9206066",
        "colab": {
          "base_uri": "https://localhost:8080/"
        }
      },
      "outputs": [
        {
          "output_type": "execute_result",
          "data": {
            "text/plain": [
              "<function numpy.__config__.show>"
            ]
          },
          "metadata": {},
          "execution_count": 2
        }
      ],
      "source": [
        "np.__version__\n",
        "np.show_config"
      ]
    },
    {
      "cell_type": "markdown",
      "metadata": {
        "id": "r-Jok_nlREPr"
      },
      "source": [
        "#### 3. Create a null vector of size 10 (★☆☆) \n",
        "(**hint**: np.zeros)"
      ]
    },
    {
      "cell_type": "code",
      "execution_count": null,
      "metadata": {
        "id": "qo9ttBdGREPr",
        "outputId": "d4348478-c3c0-42fe-b2b5-45d0c0cb11fa",
        "colab": {
          "base_uri": "https://localhost:8080/"
        }
      },
      "outputs": [
        {
          "output_type": "stream",
          "name": "stdout",
          "text": [
            "[0. 0. 0. 0. 0. 0. 0. 0. 0. 0.]\n"
          ]
        }
      ],
      "source": [
        "a = np.zeros(10)\n",
        "print(a)"
      ]
    },
    {
      "cell_type": "markdown",
      "metadata": {
        "id": "lfMxEvWoREPr"
      },
      "source": [
        "#### 4.  How to find the memory size of any array (★☆☆) \n",
        "(**hint**: size, itemsize)"
      ]
    },
    {
      "cell_type": "code",
      "execution_count": null,
      "metadata": {
        "id": "L71fAzMYREPs",
        "colab": {
          "base_uri": "https://localhost:8080/"
        },
        "outputId": "5c0b291c-9b5e-467c-915f-5a84f7863174"
      },
      "outputs": [
        {
          "output_type": "stream",
          "name": "stdout",
          "text": [
            "Size of the array:  3\n",
            "Memory size of one array element in bytes:  8\n",
            "Memory size of numpy array in bytes: 24\n"
          ]
        }
      ],
      "source": [
        "import numpy as np\n",
        "  \n",
        "x = np.array([100,20,34])\n",
        "  \n",
        "print(\"Size of the array: \",\n",
        "      x.size)\n",
        "  \n",
        "print(\"Memory size of one array element in bytes: \",\n",
        "      x.itemsize)\n",
        "  \n",
        "\n",
        "print(\"Memory size of numpy array in bytes:\",\n",
        "      x.size * x.itemsize)"
      ]
    },
    {
      "cell_type": "markdown",
      "metadata": {
        "id": "rsjm4ve0REPs"
      },
      "source": [
        "#### 5.  How to get the documentation of the numpy add function from the command line? (★☆☆) \n",
        "(**hint**: np.info)"
      ]
    },
    {
      "cell_type": "code",
      "execution_count": null,
      "metadata": {
        "collapsed": true,
        "id": "vNKVj-vRREPt",
        "colab": {
          "base_uri": "https://localhost:8080/"
        },
        "outputId": "c6e52afd-789c-498d-e4e6-e02ea05968a0"
      },
      "outputs": [
        {
          "output_type": "stream",
          "name": "stdout",
          "text": [
            "add(x1, x2, /, out=None, *, where=True, casting='same_kind', order='K', dtype=None, subok=True[, signature, extobj])\n",
            "\n",
            "Add arguments element-wise.\n",
            "\n",
            "Parameters\n",
            "----------\n",
            "x1, x2 : array_like\n",
            "    The arrays to be added.\n",
            "    If ``x1.shape != x2.shape``, they must be broadcastable to a common\n",
            "    shape (which becomes the shape of the output).\n",
            "out : ndarray, None, or tuple of ndarray and None, optional\n",
            "    A location into which the result is stored. If provided, it must have\n",
            "    a shape that the inputs broadcast to. If not provided or None,\n",
            "    a freshly-allocated array is returned. A tuple (possible only as a\n",
            "    keyword argument) must have length equal to the number of outputs.\n",
            "where : array_like, optional\n",
            "    This condition is broadcast over the input. At locations where the\n",
            "    condition is True, the `out` array will be set to the ufunc result.\n",
            "    Elsewhere, the `out` array will retain its original value.\n",
            "    Note that if an uninitialized `out` array is created via the default\n",
            "    ``out=None``, locations within it where the condition is False will\n",
            "    remain uninitialized.\n",
            "**kwargs\n",
            "    For other keyword-only arguments, see the\n",
            "    :ref:`ufunc docs <ufuncs.kwargs>`.\n",
            "\n",
            "Returns\n",
            "-------\n",
            "add : ndarray or scalar\n",
            "    The sum of `x1` and `x2`, element-wise.\n",
            "    This is a scalar if both `x1` and `x2` are scalars.\n",
            "\n",
            "Notes\n",
            "-----\n",
            "Equivalent to `x1` + `x2` in terms of array broadcasting.\n",
            "\n",
            "Examples\n",
            "--------\n",
            ">>> np.add(1.0, 4.0)\n",
            "5.0\n",
            ">>> x1 = np.arange(9.0).reshape((3, 3))\n",
            ">>> x2 = np.arange(3.0)\n",
            ">>> np.add(x1, x2)\n",
            "array([[  0.,   2.,   4.],\n",
            "       [  3.,   5.,   7.],\n",
            "       [  6.,   8.,  10.]])\n",
            "\n",
            "The ``+`` operator can be used as a shorthand for ``np.add`` on ndarrays.\n",
            "\n",
            ">>> x1 = np.arange(9.0).reshape((3, 3))\n",
            ">>> x2 = np.arange(3.0)\n",
            ">>> x1 + x2\n",
            "array([[ 0.,  2.,  4.],\n",
            "       [ 3.,  5.,  7.],\n",
            "       [ 6.,  8., 10.]])\n"
          ]
        }
      ],
      "source": [
        "import numpy \n",
        "numpy.info(numpy.add)"
      ]
    },
    {
      "cell_type": "markdown",
      "metadata": {
        "id": "BtG9WT2IREPt"
      },
      "source": [
        "#### 6.  Create a null vector of size 10 but the fifth value which is 1 (★☆☆) \n",
        "(**hint**: array\\[4\\])"
      ]
    },
    {
      "cell_type": "code",
      "execution_count": null,
      "metadata": {
        "id": "TRKnUFR7REPt",
        "colab": {
          "base_uri": "https://localhost:8080/"
        },
        "outputId": "73f39b2d-39e7-4b57-be03-34f63a18a359"
      },
      "outputs": [
        {
          "output_type": "stream",
          "name": "stdout",
          "text": [
            "[0. 0. 0. 0. 1. 0. 0. 0. 0. 0.]\n"
          ]
        }
      ],
      "source": [
        "array = np.zeros(10)\n",
        "array[4] = 1\n",
        "print(array)"
      ]
    },
    {
      "cell_type": "markdown",
      "metadata": {
        "id": "_8zGwoMzREPt"
      },
      "source": [
        "#### 7.  Create a vector with values ranging from 10 to 49 (★☆☆) \n",
        "(**hint**: np.arange)"
      ]
    },
    {
      "cell_type": "code",
      "execution_count": null,
      "metadata": {
        "id": "OaNL9GcBREPu",
        "colab": {
          "base_uri": "https://localhost:8080/"
        },
        "outputId": "1ca702d8-035e-41cd-cec6-40ac2e2a325d"
      },
      "outputs": [
        {
          "output_type": "stream",
          "name": "stdout",
          "text": [
            "[10 11 12 13 14 15 16 17 18 19 20 21 22 23 24 25 26 27 28 29 30 31 32 33\n",
            " 34 35 36 37 38 39 40 41 42 43 44 45 46 47 48 49]\n"
          ]
        }
      ],
      "source": [
        "vec = np.arange(10,50)\n",
        "print(vec)"
      ]
    },
    {
      "cell_type": "markdown",
      "metadata": {
        "id": "SlvaMUZBREPu"
      },
      "source": [
        "#### 8.  Reverse a vector (first element becomes last) (★☆☆) \n",
        "(**hint**: array\\[::-1\\])"
      ]
    },
    {
      "cell_type": "code",
      "execution_count": null,
      "metadata": {
        "id": "onC1UuRGREPu",
        "colab": {
          "base_uri": "https://localhost:8080/"
        },
        "outputId": "c4d60a82-42cd-4c18-aaa3-2bd62f4f30f1"
      },
      "outputs": [
        {
          "output_type": "stream",
          "name": "stdout",
          "text": [
            "[19 18 17 16 15 14 13 12 11 10  9  8  7  6  5  4  3  2  1  0]\n"
          ]
        }
      ],
      "source": [
        "a = np.arange(20)\n",
        "a = a[::-1]\n",
        "print(a)"
      ]
    },
    {
      "cell_type": "markdown",
      "metadata": {
        "id": "57sM4iULREPu"
      },
      "source": [
        "#### 9.  Create a 3x3 matrix with values ranging from 0 to 8 (★☆☆) \n",
        "(**hint**: reshape)"
      ]
    },
    {
      "cell_type": "code",
      "execution_count": null,
      "metadata": {
        "id": "pKywJF4CREPu",
        "colab": {
          "base_uri": "https://localhost:8080/"
        },
        "outputId": "958b2589-f956-424c-ecd4-4acdf46ae65f"
      },
      "outputs": [
        {
          "output_type": "stream",
          "name": "stdout",
          "text": [
            "[[0 1 2]\n",
            " [3 4 5]\n",
            " [6 7 8]]\n"
          ]
        }
      ],
      "source": [
        "m = np.arange(9).reshape(3, 3)\n",
        "print(m)"
      ]
    },
    {
      "cell_type": "markdown",
      "metadata": {
        "id": "PCdPOgf3REPu"
      },
      "source": [
        "#### 10. Find indices of non-zero elements from \\[1,2,0,0,4,0\\] (★☆☆) \n",
        "(**hint**: np.nonzero)"
      ]
    },
    {
      "cell_type": "code",
      "source": [
        "a = np.nonzero([1,2,1,2,0,0,4,0])\n",
        "print(a)"
      ],
      "metadata": {
        "colab": {
          "base_uri": "https://localhost:8080/"
        },
        "id": "5HEBIam7qe9U",
        "outputId": "59fb2c23-8064-48ad-ba0e-fe826cae7d96"
      },
      "execution_count": null,
      "outputs": [
        {
          "output_type": "stream",
          "name": "stdout",
          "text": [
            "(array([0, 1, 2, 3, 6]),)\n"
          ]
        }
      ]
    },
    {
      "cell_type": "markdown",
      "metadata": {
        "id": "6aRTCFBFREPv"
      },
      "source": [
        "#### 11. Create a 3x3 identity matrix (★☆☆) \n",
        "(**hint**: np.eye)"
      ]
    },
    {
      "cell_type": "code",
      "execution_count": null,
      "metadata": {
        "id": "3Eg-w-opREPv",
        "colab": {
          "base_uri": "https://localhost:8080/"
        },
        "outputId": "6c12706a-9c39-49d6-cfc1-4958135bc240"
      },
      "outputs": [
        {
          "output_type": "stream",
          "name": "stdout",
          "text": [
            "[[1. 0. 0.]\n",
            " [0. 1. 0.]\n",
            " [0. 0. 1.]]\n"
          ]
        }
      ],
      "source": [
        "m = np.eye(3)\n",
        "print(m)"
      ]
    },
    {
      "cell_type": "markdown",
      "metadata": {
        "id": "UgmbB0NQREPv"
      },
      "source": [
        "#### 12. Create a 3x3x3 array with random values (★☆☆) \n",
        "(**hint**: np.random.random)"
      ]
    },
    {
      "cell_type": "code",
      "execution_count": null,
      "metadata": {
        "collapsed": true,
        "id": "fJGHiCXNREPv",
        "colab": {
          "base_uri": "https://localhost:8080/"
        },
        "outputId": "7d6ab918-3dc7-43e7-d393-36725b960b5c"
      },
      "outputs": [
        {
          "output_type": "stream",
          "name": "stdout",
          "text": [
            "[[[0.53836191 0.03860348 0.55538725]\n",
            "  [0.59993466 0.07577074 0.67019672]\n",
            "  [0.44561739 0.85546632 0.88745513]]\n",
            "\n",
            " [[0.87113129 0.86785916 0.74983074]\n",
            "  [0.77230315 0.23965904 0.52548384]\n",
            "  [0.6153575  0.38053895 0.22380076]]\n",
            "\n",
            " [[0.5613275  0.84624268 0.85566809]\n",
            "  [0.83499081 0.5827245  0.50693744]\n",
            "  [0.62649989 0.20812229 0.00427043]]]\n"
          ]
        }
      ],
      "source": [
        "r = np.random.random((3,3,3))\n",
        "print(r)"
      ]
    },
    {
      "cell_type": "markdown",
      "metadata": {
        "id": "_bBXuZhGREPv"
      },
      "source": [
        "#### 13. Create a 10x10 array with random values and find the minimum and maximum values (★☆☆) \n",
        "(**hint**: min, max)"
      ]
    },
    {
      "cell_type": "code",
      "execution_count": null,
      "metadata": {
        "id": "SEyYsF52REPv",
        "colab": {
          "base_uri": "https://localhost:8080/"
        },
        "outputId": "73cb72e4-58c9-490d-ad2d-23cff8ab5f61"
      },
      "outputs": [
        {
          "output_type": "stream",
          "name": "stdout",
          "text": [
            "4.605879713392991e-05 0.998592276411727\n"
          ]
        }
      ],
      "source": [
        "m = np.random.random((10,10))\n",
        "mmin, mmax = m.min(), m.max()\n",
        "print(mmin, mmax)"
      ]
    },
    {
      "cell_type": "markdown",
      "metadata": {
        "id": "5XiaXu2sREPv"
      },
      "source": [
        "#### 14. Create a random vector of size 30 and find the mean value (★☆☆) \n",
        "(**hint**: mean)"
      ]
    },
    {
      "cell_type": "code",
      "execution_count": null,
      "metadata": {
        "id": "l5aAPeZNREPw",
        "colab": {
          "base_uri": "https://localhost:8080/"
        },
        "outputId": "f468c25c-3b0e-43d7-dd2d-df7ecfb4b74d"
      },
      "outputs": [
        {
          "output_type": "stream",
          "name": "stdout",
          "text": [
            "0.5114395741206264\n"
          ]
        }
      ],
      "source": [
        "a = np.random.random(30)\n",
        "m = a.mean()\n",
        "print(m)"
      ]
    },
    {
      "cell_type": "markdown",
      "metadata": {
        "id": "YEfPAf27REPw"
      },
      "source": [
        "#### 15. Create a 2d array with 1 on the border and 0 inside (★☆☆) \n",
        "(**hint**: array\\[1:-1, 1:-1\\])"
      ]
    },
    {
      "cell_type": "code",
      "execution_count": null,
      "metadata": {
        "id": "fFKhGDY1REPw",
        "colab": {
          "base_uri": "https://localhost:8080/"
        },
        "outputId": "5447d078-8f81-45b7-fcf9-0c910b9a763f"
      },
      "outputs": [
        {
          "output_type": "stream",
          "name": "stdout",
          "text": [
            "[[1. 1. 1. 1. 1. 1. 1. 1. 1. 1.]\n",
            " [1. 0. 0. 0. 0. 0. 0. 0. 0. 1.]\n",
            " [1. 0. 0. 0. 0. 0. 0. 0. 0. 1.]\n",
            " [1. 0. 0. 0. 0. 0. 0. 0. 0. 1.]\n",
            " [1. 0. 0. 0. 0. 0. 0. 0. 0. 1.]\n",
            " [1. 0. 0. 0. 0. 0. 0. 0. 0. 1.]\n",
            " [1. 0. 0. 0. 0. 0. 0. 0. 0. 1.]\n",
            " [1. 0. 0. 0. 0. 0. 0. 0. 0. 1.]\n",
            " [1. 0. 0. 0. 0. 0. 0. 0. 0. 1.]\n",
            " [1. 1. 1. 1. 1. 1. 1. 1. 1. 1.]]\n"
          ]
        }
      ],
      "source": [
        "d = np.ones((10,10))\n",
        "d[1:-1,1:-1] = 0 \n",
        "print(d)"
      ]
    },
    {
      "cell_type": "markdown",
      "metadata": {
        "id": "P8N9AgfjREPw"
      },
      "source": [
        "#### 16. How to add a border (filled with 0's) around an existing array? (★☆☆) \n",
        "(**hint**: np.pad)"
      ]
    },
    {
      "cell_type": "code",
      "execution_count": null,
      "metadata": {
        "id": "CbEOwFGrREPw",
        "colab": {
          "base_uri": "https://localhost:8080/"
        },
        "outputId": "0ec92a99-27e4-47b5-c388-edd2e2a18765"
      },
      "outputs": [
        {
          "output_type": "stream",
          "name": "stdout",
          "text": [
            "[[0. 0. 0. 0. 0. 0. 0. 0. 0. 0. 0. 0.]\n",
            " [0. 1. 1. 1. 1. 1. 1. 1. 1. 1. 1. 0.]\n",
            " [0. 1. 1. 1. 1. 1. 1. 1. 1. 1. 1. 0.]\n",
            " [0. 1. 1. 1. 1. 1. 1. 1. 1. 1. 1. 0.]\n",
            " [0. 1. 1. 1. 1. 1. 1. 1. 1. 1. 1. 0.]\n",
            " [0. 1. 1. 1. 1. 1. 1. 1. 1. 1. 1. 0.]\n",
            " [0. 1. 1. 1. 1. 1. 1. 1. 1. 1. 1. 0.]\n",
            " [0. 1. 1. 1. 1. 1. 1. 1. 1. 1. 1. 0.]\n",
            " [0. 1. 1. 1. 1. 1. 1. 1. 1. 1. 1. 0.]\n",
            " [0. 1. 1. 1. 1. 1. 1. 1. 1. 1. 1. 0.]\n",
            " [0. 1. 1. 1. 1. 1. 1. 1. 1. 1. 1. 0.]\n",
            " [0. 0. 0. 0. 0. 0. 0. 0. 0. 0. 0. 0.]]\n"
          ]
        }
      ],
      "source": [
        "b = np.ones((10,10))\n",
        "b = np.pad(b, pad_width=1, mode='constant', constant_values=0)\n",
        "print(b)"
      ]
    },
    {
      "cell_type": "markdown",
      "metadata": {
        "id": "sRSuTpGpREPw"
      },
      "source": [
        "#### 17. What is the result of the following expression? (★☆☆) \n",
        "(**hint**: NaN = not a number, inf = infinity)"
      ]
    },
    {
      "cell_type": "markdown",
      "metadata": {
        "id": "NQ747vv7REPw"
      },
      "source": [
        "```python\n",
        "0 * np.nan\n",
        "np.nan == np.nan\n",
        "np.inf > np.nan\n",
        "np.nan - np.nan\n",
        "0.3 == 3 * 0.1\n",
        "```"
      ]
    },
    {
      "cell_type": "code",
      "execution_count": null,
      "metadata": {
        "id": "goNk0UBXREPw",
        "colab": {
          "base_uri": "https://localhost:8080/"
        },
        "outputId": "bb4153c8-8cc7-45f0-d07d-68a53a4e1972"
      },
      "outputs": [
        {
          "output_type": "stream",
          "name": "stdout",
          "text": [
            "nan\n",
            "False\n",
            "False\n",
            "nan\n",
            "False\n"
          ]
        }
      ],
      "source": [
        "print(0 * np.nan)\n",
        "print(np.nan == np.nan)\n",
        "print(np.inf > np.nan)\n",
        "print(np.nan - np.nan)\n",
        "print(0.3 == 3 * 0.1)"
      ]
    },
    {
      "cell_type": "markdown",
      "metadata": {
        "id": "CeosG61RREPx"
      },
      "source": [
        "#### 18. Create a 5x5 matrix with values 1,2,3,4 just below the diagonal (★☆☆) \n",
        "(**hint**: np.diag)"
      ]
    },
    {
      "cell_type": "code",
      "execution_count": null,
      "metadata": {
        "id": "X_MaJeOwREPx",
        "colab": {
          "base_uri": "https://localhost:8080/"
        },
        "outputId": "66836f32-e15e-4de8-f1ee-899d9f6b1d8b"
      },
      "outputs": [
        {
          "output_type": "stream",
          "name": "stdout",
          "text": [
            "[[0 0 0 0 0]\n",
            " [1 0 0 0 0]\n",
            " [0 2 0 0 0]\n",
            " [0 0 3 0 0]\n",
            " [0 0 0 4 0]]\n"
          ]
        }
      ],
      "source": [
        "mat = np.diag(1+np.arange(4), k = -1)\n",
        "print(mat)"
      ]
    },
    {
      "cell_type": "markdown",
      "metadata": {
        "id": "8q2Q89PFREPx"
      },
      "source": [
        "#### 19. Create a 8x8 matrix and fill it with a checkerboard pattern (★☆☆) \n",
        "(**hint**: array\\[::2\\])"
      ]
    },
    {
      "cell_type": "code",
      "execution_count": null,
      "metadata": {
        "id": "VDEqe46iREPx",
        "colab": {
          "base_uri": "https://localhost:8080/"
        },
        "outputId": "01879ef9-b8d9-4097-8223-4fde7c3523b6"
      },
      "outputs": [
        {
          "output_type": "stream",
          "name": "stdout",
          "text": [
            "[[0 1 0 1 0 1 0 1]\n",
            " [1 0 1 0 1 0 1 0]\n",
            " [0 1 0 1 0 1 0 1]\n",
            " [1 0 1 0 1 0 1 0]\n",
            " [0 1 0 1 0 1 0 1]\n",
            " [1 0 1 0 1 0 1 0]\n",
            " [0 1 0 1 0 1 0 1]\n",
            " [1 0 1 0 1 0 1 0]]\n"
          ]
        }
      ],
      "source": [
        "check = np.zeros((8,8),dtype = int)\n",
        "check[1::2, ::2] =1\n",
        "check[::2,1::2] =1\n",
        "print(check)"
      ]
    },
    {
      "cell_type": "markdown",
      "metadata": {
        "id": "R87r2NqfREPx"
      },
      "source": [
        "#### 20. Consider a (6,7,8) shape array, what is the index (x,y,z) of the 100th element? \n",
        "(**hint**: np.unravel_index)"
      ]
    },
    {
      "cell_type": "code",
      "execution_count": null,
      "metadata": {
        "id": "QzqQBPO4REPx",
        "colab": {
          "base_uri": "https://localhost:8080/"
        },
        "outputId": "6ea8160e-426f-4c3e-99e6-c2e929f3273b"
      },
      "outputs": [
        {
          "output_type": "stream",
          "name": "stdout",
          "text": [
            "(1, 5, 3)\n"
          ]
        }
      ],
      "source": [
        "a = np.unravel_index(99,(6,7,8))\n",
        "print(a)"
      ]
    },
    {
      "cell_type": "markdown",
      "metadata": {
        "id": "Gi_HfjSaREPx"
      },
      "source": [
        "#### 21. Create a checkerboard 8x8 matrix using the tile function (★☆☆) \n",
        "(**hint**: np.tile)"
      ]
    },
    {
      "cell_type": "code",
      "execution_count": null,
      "metadata": {
        "id": "49ttMaGHREPx",
        "colab": {
          "base_uri": "https://localhost:8080/"
        },
        "outputId": "946d390c-996d-4d75-9241-39a3b8e142f9"
      },
      "outputs": [
        {
          "output_type": "stream",
          "name": "stdout",
          "text": [
            "[[0 1 0 1 0 1 0 1]\n",
            " [1 0 1 0 1 0 1 0]\n",
            " [0 1 0 1 0 1 0 1]\n",
            " [1 0 1 0 1 0 1 0]\n",
            " [0 1 0 1 0 1 0 1]\n",
            " [1 0 1 0 1 0 1 0]\n",
            " [0 1 0 1 0 1 0 1]\n",
            " [1 0 1 0 1 0 1 0]]\n"
          ]
        }
      ],
      "source": [
        "cb = np.tile(np.array([[0,1],[1,0]]) , (4,4))\n",
        "print(cb)"
      ]
    },
    {
      "cell_type": "markdown",
      "metadata": {
        "id": "pRklqun_REPx"
      },
      "source": [
        "#### 22. Normalize a 5x5 random matrix (★☆☆) \n",
        "(**hint**: (x - min) / (max - min))"
      ]
    },
    {
      "cell_type": "code",
      "execution_count": null,
      "metadata": {
        "id": "3Mgm6YzoREPx",
        "colab": {
          "base_uri": "https://localhost:8080/"
        },
        "outputId": "cfb68afa-fa47-4182-e9cc-250c935f9852"
      },
      "outputs": [
        {
          "output_type": "stream",
          "name": "stdout",
          "text": [
            "[[ 1.52754950e+00  3.47641443e-01  8.28463900e-01 -1.47806701e+00\n",
            "  -6.67267775e-01]\n",
            " [ 1.61736706e+00 -7.51943961e-01  3.84766997e-01  7.28249023e-01\n",
            "   8.78455244e-01]\n",
            " [-1.02695373e+00 -1.32902155e+00 -1.09424962e+00  1.02542975e+00\n",
            "  -1.41702496e+00]\n",
            " [-1.82782807e-01 -1.05807922e+00 -1.38673623e-03  1.02204690e+00\n",
            "  -1.39046154e+00]\n",
            " [-3.34176876e-01 -3.30964663e-01  2.01457294e-01  1.24003518e+00\n",
            "   1.26091815e+00]]\n"
          ]
        }
      ],
      "source": [
        "x= np.random.random((5,5))\n",
        "x = (x - np.mean(x)) / (np.std(x))\n",
        "print(x)"
      ]
    },
    {
      "cell_type": "markdown",
      "metadata": {
        "id": "5n1Ma1-nREPy"
      },
      "source": [
        "#### 23. Create a custom dtype that describes a color as four unsigned bytes (RGBA) (★☆☆) \n",
        "(**hint**: np.dtype)"
      ]
    },
    {
      "cell_type": "code",
      "execution_count": null,
      "metadata": {
        "collapsed": true,
        "id": "2TyHIjATREPy",
        "colab": {
          "base_uri": "https://localhost:8080/"
        },
        "outputId": "44eb405b-4190-47be-ca3d-6ddfca960e89"
      },
      "outputs": [
        {
          "output_type": "stream",
          "name": "stdout",
          "text": [
            "[('r', 'u1'), ('g', 'u1'), ('b', 'u1'), ('a', 'u1')]\n"
          ]
        },
        {
          "output_type": "stream",
          "name": "stderr",
          "text": [
            "/usr/local/lib/python3.7/dist-packages/ipykernel_launcher.py:4: FutureWarning: Passing (type, 1) or '1type' as a synonym of type is deprecated; in a future version of numpy, it will be understood as (type, (1,)) / '(1,)type'.\n",
            "  after removing the cwd from sys.path.\n"
          ]
        }
      ],
      "source": [
        "Color = np.dtype([(\"r\", np.ubyte, 1), \n",
        "                  (\"g\", np.ubyte, 1),\n",
        "                  (\"b\", np.ubyte, 1),\n",
        "                  (\"a\", np.ubyte, 1)])\n",
        "print(Color)"
      ]
    },
    {
      "cell_type": "markdown",
      "metadata": {
        "id": "8lO7_AHQREPy"
      },
      "source": [
        "#### 24. Multiply a 5x3 matrix by a 3x2 matrix (real matrix product) (★☆☆) \n",
        "(**hint**: np.dot | @)"
      ]
    },
    {
      "cell_type": "code",
      "execution_count": null,
      "metadata": {
        "id": "ZtLB0jXfREPy",
        "colab": {
          "base_uri": "https://localhost:8080/"
        },
        "outputId": "1fcb150c-62f8-47b9-e973-1b682e16a786"
      },
      "outputs": [
        {
          "output_type": "stream",
          "name": "stdout",
          "text": [
            "[[3. 3.]\n",
            " [3. 3.]\n",
            " [3. 3.]\n",
            " [3. 3.]\n",
            " [3. 3.]]\n"
          ]
        }
      ],
      "source": [
        "m =  np.dot(np.ones((5, 3)), np.ones((3, 2)))\n",
        "print(m)"
      ]
    },
    {
      "cell_type": "markdown",
      "metadata": {
        "id": "cN49NIjOREPy"
      },
      "source": [
        "#### 25. Given a 1D array, negate all elements which are between 3 and 8, in place. (★☆☆) \n",
        "(**hint**: >, <=)"
      ]
    },
    {
      "cell_type": "code",
      "source": [
        "a = np.arange(12)\n",
        "a[(3<a)&(a<8)] *= -1\n",
        "print(a)"
      ],
      "metadata": {
        "colab": {
          "base_uri": "https://localhost:8080/"
        },
        "id": "zINMk4bU6PIV",
        "outputId": "2b3f0e40-8e88-4f4b-9a77-c0cc0e6bbb4e"
      },
      "execution_count": null,
      "outputs": [
        {
          "output_type": "stream",
          "name": "stdout",
          "text": [
            "[ 0  1  2  3 -4 -5 -6 -7  8  9 10 11]\n"
          ]
        }
      ]
    },
    {
      "cell_type": "markdown",
      "metadata": {
        "id": "Lp1sEewAREPy"
      },
      "source": [
        "#### 26. What is the output of the following script? (★☆☆) \n",
        "(**hint**: np.sum)"
      ]
    },
    {
      "cell_type": "markdown",
      "metadata": {
        "id": "Rv7RXGAIREPy"
      },
      "source": [
        "```python\n",
        "# Author: Jake VanderPlas\n",
        "\n",
        "print(sum(range(5),-1))\n",
        "from numpy import *\n",
        "print(sum(range(5),-1))\n",
        "```"
      ]
    },
    {
      "cell_type": "code",
      "execution_count": null,
      "metadata": {
        "id": "FKiYX5DUREPy",
        "colab": {
          "base_uri": "https://localhost:8080/"
        },
        "outputId": "5cf5f370-834e-453d-ebc3-50f5a01d7d30"
      },
      "outputs": [
        {
          "output_type": "stream",
          "name": "stdout",
          "text": [
            "9\n",
            "10\n"
          ]
        }
      ],
      "source": [
        "print(sum(range(5),-1))\n",
        "from numpy import *\n",
        "print(sum(range(5),-1))"
      ]
    },
    {
      "cell_type": "markdown",
      "metadata": {
        "id": "ugb46ZWaREPy"
      },
      "source": [
        "#### 27. Consider an integer vector Z, which of these expressions are legal? (★☆☆)"
      ]
    },
    {
      "cell_type": "markdown",
      "metadata": {
        "id": "czzWf3PlREPy"
      },
      "source": [
        "```python\n",
        "Z**Z\n",
        "2 << Z >> 2\n",
        "Z <- Z\n",
        "1j*Z\n",
        "Z/1/1\n",
        "Z<Z>Z\n",
        "```"
      ]
    },
    {
      "cell_type": "code",
      "execution_count": null,
      "metadata": {
        "id": "i5LLN2wMREPz",
        "colab": {
          "base_uri": "https://localhost:8080/"
        },
        "outputId": "90373a2a-278c-4e9f-e207-f013abbd2512"
      },
      "outputs": [
        {
          "output_type": "execute_result",
          "data": {
            "text/plain": [
              "array([0., 1., 2.])"
            ]
          },
          "metadata": {},
          "execution_count": 27
        }
      ],
      "source": [
        "Z = np.arange(3)\n",
        "Z ** Z       \n",
        "2 << Z >> 2  \n",
        "Z < - Z      \n",
        "1j * Z       \n",
        "Z / 1 / 1    "
      ]
    },
    {
      "cell_type": "markdown",
      "metadata": {
        "id": "mIXOt-ZLREPz"
      },
      "source": [
        "#### 28. What are the result of the following expressions?"
      ]
    },
    {
      "cell_type": "markdown",
      "metadata": {
        "id": "kkn3GeTbREPz"
      },
      "source": [
        "```python\n",
        "np.array(0) / np.array(0)\n",
        "np.array(0) // np.array(0)\n",
        "np.array([np.nan]).astype(int).astype(float)\n",
        "```"
      ]
    },
    {
      "cell_type": "code",
      "execution_count": null,
      "metadata": {
        "id": "1Yw_V8W5REPz",
        "colab": {
          "base_uri": "https://localhost:8080/"
        },
        "outputId": "16f811cf-714a-4849-a30d-2fd12d956ce2"
      },
      "outputs": [
        {
          "output_type": "stream",
          "name": "stdout",
          "text": [
            "nan\n",
            "0\n",
            "[-9.22337204e+18]\n"
          ]
        },
        {
          "output_type": "stream",
          "name": "stderr",
          "text": [
            "/usr/local/lib/python3.7/dist-packages/ipykernel_launcher.py:1: RuntimeWarning: invalid value encountered in true_divide\n",
            "  \"\"\"Entry point for launching an IPython kernel.\n",
            "/usr/local/lib/python3.7/dist-packages/ipykernel_launcher.py:2: RuntimeWarning: divide by zero encountered in floor_divide\n",
            "  \n"
          ]
        }
      ],
      "source": [
        "print(np.array(0) / np.array(0))\n",
        "print(np.array(0) // np.array(0))\n",
        "print(np.array([np.nan]).astype(int).astype(float))"
      ]
    },
    {
      "cell_type": "markdown",
      "metadata": {
        "id": "DLPdzwGWREPz"
      },
      "source": [
        "#### 29. How to round away from zero a float array ? (★☆☆) \n",
        "(**hint**: np.uniform, np.copysign, np.ceil, np.abs)"
      ]
    },
    {
      "cell_type": "code",
      "execution_count": null,
      "metadata": {
        "id": "gYTDqUl2REPz",
        "colab": {
          "base_uri": "https://localhost:8080/"
        },
        "outputId": "d9d5f8c8-8127-4bbb-eb49-36c10c534406"
      },
      "outputs": [
        {
          "output_type": "stream",
          "name": "stdout",
          "text": [
            "[-1. -2. -3.  8. -9. -9. -6. 10.  9. -4.]\n"
          ]
        }
      ],
      "source": [
        "f = np.random.uniform(-10,+10,10)\n",
        "print (np.copysign(np.ceil(np.abs(f)), f))"
      ]
    },
    {
      "cell_type": "markdown",
      "metadata": {
        "id": "ZbaklFt2REPz"
      },
      "source": [
        "#### 30. How to find common values between two arrays? (★☆☆) \n",
        "(**hint**: np.intersect1d)"
      ]
    },
    {
      "cell_type": "code",
      "execution_count": null,
      "metadata": {
        "id": "c8O_cfIsREPz",
        "colab": {
          "base_uri": "https://localhost:8080/"
        },
        "outputId": "de8d2489-19fe-4ad1-8074-37e230088621"
      },
      "outputs": [
        {
          "output_type": "execute_result",
          "data": {
            "text/plain": [
              "array([5, 6, 7, 8, 9])"
            ]
          },
          "metadata": {},
          "execution_count": 30
        }
      ],
      "source": [
        "x = np.arange(0, 10)\n",
        "y = np.arange(5, 15)\n",
        "np.intersect1d(x, y)"
      ]
    },
    {
      "cell_type": "markdown",
      "metadata": {
        "id": "6BBJajb3REPz"
      },
      "source": [
        "#### 31. How to ignore all numpy warnings (not recommended)? (★☆☆) \n",
        "(**hint**: np.seterr, np.errstate)"
      ]
    },
    {
      "cell_type": "code",
      "execution_count": null,
      "metadata": {
        "id": "ZLE0H3fRREPz",
        "colab": {
          "base_uri": "https://localhost:8080/"
        },
        "outputId": "7abb6ba3-3a08-480d-992c-0b121e43e16d"
      },
      "outputs": [
        {
          "output_type": "stream",
          "name": "stdout",
          "text": [
            "(array([0, 1, 2, 5, 6]),)\n"
          ]
        }
      ],
      "source": [
        "defaults = np.seterr(all=\"ignore\")\n",
        "Z = np.ones(1) / 0\n",
        "\n",
        "\n",
        "_ = np.seterr(**defaults)\n",
        "rz = np.nonzero([1,2,nan,0,0,nan,4,0])\n",
        "print(rz)\n"
      ]
    },
    {
      "cell_type": "markdown",
      "metadata": {
        "id": "wbzgzt3YREPz"
      },
      "source": [
        "#### 32. Is the following expressions true? (★☆☆) \n",
        "(**hint**: imaginary number)"
      ]
    },
    {
      "cell_type": "markdown",
      "metadata": {
        "id": "n9lER0FyREPz"
      },
      "source": [
        "```python\n",
        "np.sqrt(-1) == np.emath.sqrt(-1)\n",
        "```"
      ]
    },
    {
      "cell_type": "code",
      "execution_count": null,
      "metadata": {
        "id": "GUM1uvZ0REP0",
        "colab": {
          "base_uri": "https://localhost:8080/"
        },
        "outputId": "4263bfb9-14dd-4e36-afde-c2bc3ba3943e"
      },
      "outputs": [
        {
          "output_type": "stream",
          "name": "stdout",
          "text": [
            "False\n"
          ]
        },
        {
          "output_type": "stream",
          "name": "stderr",
          "text": [
            "/usr/local/lib/python3.7/dist-packages/ipykernel_launcher.py:1: RuntimeWarning: invalid value encountered in sqrt\n",
            "  \"\"\"Entry point for launching an IPython kernel.\n"
          ]
        }
      ],
      "source": [
        "print(np.sqrt(-1) == np.emath.sqrt(-1))"
      ]
    },
    {
      "cell_type": "markdown",
      "metadata": {
        "id": "-SNovodsREP0"
      },
      "source": [
        "#### 33. How to get the dates of yesterday, today and tomorrow? (★☆☆) \n",
        "(**hint**: np.datetime64, np.timedelta64)"
      ]
    },
    {
      "cell_type": "code",
      "execution_count": null,
      "metadata": {
        "collapsed": true,
        "id": "2QB3QTomREP0",
        "colab": {
          "base_uri": "https://localhost:8080/"
        },
        "outputId": "392fee91-5286-42bd-ae16-20f40af240b2"
      },
      "outputs": [
        {
          "output_type": "stream",
          "name": "stdout",
          "text": [
            "2022-03-21\n",
            "2022-03-22\n",
            "2022-03-23\n"
          ]
        }
      ],
      "source": [
        "yesterday = np.datetime64('today', 'D') - np.timedelta64(1, 'D')\n",
        "today     = np.datetime64('today', 'D')\n",
        "tomorrow  = np.datetime64('today', 'D') + np.timedelta64(1, 'D')\n",
        "print(yesterday)\n",
        "print(today)\n",
        "print(tomorrow)"
      ]
    },
    {
      "cell_type": "markdown",
      "metadata": {
        "id": "vNWmb-L-REP0"
      },
      "source": [
        "#### 34. How to get all the dates corresponding to the month of July 2016? (★★☆) \n",
        "(**hint**: np.arange(dtype=datetime64\\['D'\\]))"
      ]
    },
    {
      "cell_type": "code",
      "execution_count": null,
      "metadata": {
        "id": "LUsfTcJOREP0",
        "colab": {
          "base_uri": "https://localhost:8080/"
        },
        "outputId": "754f392b-4aa8-4314-ced2-31e319111ac9"
      },
      "outputs": [
        {
          "output_type": "stream",
          "name": "stdout",
          "text": [
            "['2016-07-01' '2016-07-02' '2016-07-03' '2016-07-04' '2016-07-05'\n",
            " '2016-07-06' '2016-07-07' '2016-07-08' '2016-07-09' '2016-07-10'\n",
            " '2016-07-11' '2016-07-12' '2016-07-13' '2016-07-14' '2016-07-15'\n",
            " '2016-07-16' '2016-07-17' '2016-07-18' '2016-07-19' '2016-07-20'\n",
            " '2016-07-21' '2016-07-22' '2016-07-23' '2016-07-24' '2016-07-25'\n",
            " '2016-07-26' '2016-07-27' '2016-07-28' '2016-07-29' '2016-07-30'\n",
            " '2016-07-31']\n"
          ]
        }
      ],
      "source": [
        "date = np.arange('2016-07', '2016-08', dtype='datetime64[D]')\n",
        "print(date)"
      ]
    },
    {
      "cell_type": "markdown",
      "metadata": {
        "id": "wX8f-pK5REP0"
      },
      "source": [
        "#### 35. How to compute ((A+B)\\*(-A/2)) in place (without copy)? (★★☆) \n",
        "(**hint**: np.add(out=), np.negative(out=), np.multiply(out=), np.divide(out=))"
      ]
    },
    {
      "cell_type": "code",
      "execution_count": null,
      "metadata": {
        "id": "zSAS8HKeREP0",
        "colab": {
          "base_uri": "https://localhost:8080/"
        },
        "outputId": "7da08f69-d5f5-4409-a6e1-238747dac017"
      },
      "outputs": [
        {
          "output_type": "execute_result",
          "data": {
            "text/plain": [
              "array([-1.5, -1.5, -1.5])"
            ]
          },
          "metadata": {},
          "execution_count": 35
        }
      ],
      "source": [
        "x = np.ones(3)*1\n",
        "y = np.ones(3)*2\n",
        "z = np.ones(3)*3\n",
        "np.add(x,y,out=y)\n",
        "np.divide(x,2,out=x)\n",
        "np.negative(x,out=x)\n",
        "np.multiply(x,y,out=x)"
      ]
    },
    {
      "cell_type": "markdown",
      "metadata": {
        "id": "6_-9uyajREP0"
      },
      "source": [
        "#### 36. Extract the integer part of a random array using 5 different methods (★★☆) \n",
        "(**hint**: %, np.floor, np.ceil, astype, np.trunc)"
      ]
    },
    {
      "cell_type": "code",
      "execution_count": null,
      "metadata": {
        "id": "1TVuRggsREP0",
        "colab": {
          "base_uri": "https://localhost:8080/"
        },
        "outputId": "865713ad-a3b1-4337-b753-3815e6d31aa1"
      },
      "outputs": [
        {
          "output_type": "stream",
          "name": "stdout",
          "text": [
            "[4. 4. 2. 2. 3.]\n",
            "[4. 4. 2. 2. 3.]\n",
            "[4. 4. 2. 2. 3.]\n",
            "[4 4 2 2 3]\n",
            "[4. 4. 2. 2. 3.]\n"
          ]
        }
      ],
      "source": [
        "integer = np.random.uniform(0,5,5)\n",
        "\n",
        "print (integer - integer%1)\n",
        "print (np.floor(integer))\n",
        "print (np.ceil(integer)-1)\n",
        "print (integer.astype(int))\n",
        "print (np.trunc(integer))"
      ]
    },
    {
      "cell_type": "markdown",
      "metadata": {
        "id": "qIA8YQJ0REP0"
      },
      "source": [
        "#### 37. Create a 5x5 matrix with row values ranging from 0 to 4 (★★☆) \n",
        "(**hint**: np.arange)"
      ]
    },
    {
      "cell_type": "code",
      "execution_count": null,
      "metadata": {
        "id": "LevgIqUfREP0",
        "colab": {
          "base_uri": "https://localhost:8080/"
        },
        "outputId": "c9762974-4b45-4556-8a90-8decabee1ae5"
      },
      "outputs": [
        {
          "output_type": "stream",
          "name": "stdout",
          "text": [
            "[[0. 1. 2. 3. 4.]\n",
            " [0. 1. 2. 3. 4.]\n",
            " [0. 1. 2. 3. 4.]\n",
            " [0. 1. 2. 3. 4.]\n",
            " [0. 1. 2. 3. 4.]]\n"
          ]
        }
      ],
      "source": [
        "r = np.zeros((5,5))\n",
        "r += np.arange(5)\n",
        "print(r)"
      ]
    },
    {
      "cell_type": "markdown",
      "metadata": {
        "id": "b6licrjTREP0"
      },
      "source": [
        "#### 38. Consider a generator function that generates 10 integers and use it to build an array (★☆☆) \n",
        "(**hint**: np.fromiter)"
      ]
    },
    {
      "cell_type": "code",
      "execution_count": null,
      "metadata": {
        "id": "5RNwxhYIREP0",
        "colab": {
          "base_uri": "https://localhost:8080/"
        },
        "outputId": "98126878-7ce0-466a-827d-a59e764562b5"
      },
      "outputs": [
        {
          "output_type": "stream",
          "name": "stdout",
          "text": [
            "[0. 1. 2. 3. 4. 5. 6. 7. 8. 9.]\n"
          ]
        }
      ],
      "source": [
        "def generate():\n",
        "    for x in range(10):\n",
        "        yield x\n",
        "a = np.fromiter(generate(),dtype=float,count=-1)\n",
        "print(a)"
      ]
    },
    {
      "cell_type": "markdown",
      "metadata": {
        "id": "eCVty7_lREP0"
      },
      "source": [
        "#### 39. Create a vector of size 10 with values ranging from 0 to 1, both excluded (★★☆) \n",
        "(**hint**: np.linspace)"
      ]
    },
    {
      "cell_type": "code",
      "execution_count": null,
      "metadata": {
        "id": "Wl_bjIhKREP1",
        "colab": {
          "base_uri": "https://localhost:8080/"
        },
        "outputId": "8d9be344-c20d-4080-8378-af670406b5b5"
      },
      "outputs": [
        {
          "output_type": "stream",
          "name": "stdout",
          "text": [
            "[0.09090909 0.18181818 0.27272727 0.36363636 0.45454545 0.54545455\n",
            " 0.63636364 0.72727273 0.81818182 0.90909091]\n"
          ]
        }
      ],
      "source": [
        "v = np.linspace(0,1,11,endpoint=False)[1:]\n",
        "print(v)"
      ]
    },
    {
      "cell_type": "markdown",
      "metadata": {
        "id": "XnrJSt3RREP1"
      },
      "source": [
        "#### 40. Create a random vector of size 10 and sort it (★★☆) \n",
        "(**hint**: sort)"
      ]
    },
    {
      "cell_type": "code",
      "execution_count": null,
      "metadata": {
        "id": "E6Q_WzBpREP1",
        "colab": {
          "base_uri": "https://localhost:8080/"
        },
        "outputId": "6b599126-5ac1-4b34-c662-65e73f5faa9c"
      },
      "outputs": [
        {
          "output_type": "stream",
          "name": "stdout",
          "text": [
            "[0.00659083 0.06436779 0.17277873 0.2050149  0.39838481 0.45406488\n",
            " 0.74964359 0.82536178 0.84634597 0.93800616]\n"
          ]
        }
      ],
      "source": [
        "vector = np.random.random(10)\n",
        "vector.sort()\n",
        "print(vector)"
      ]
    },
    {
      "cell_type": "markdown",
      "metadata": {
        "id": "KE7u74QGREP1"
      },
      "source": [
        "#### 41. How to sum a small array faster than np.sum? (★★☆) \n",
        "(**hint**: np.add.reduce)"
      ]
    },
    {
      "cell_type": "code",
      "execution_count": null,
      "metadata": {
        "id": "4lYLGS14REP1",
        "colab": {
          "base_uri": "https://localhost:8080/"
        },
        "outputId": "12ca1e26-6362-4a15-a6fc-7534dde20c51"
      },
      "outputs": [
        {
          "output_type": "execute_result",
          "data": {
            "text/plain": [
              "10"
            ]
          },
          "metadata": {},
          "execution_count": 41
        }
      ],
      "source": [
        "array = np.arange(5)\n",
        "np.add.reduce(array)\n"
      ]
    },
    {
      "cell_type": "markdown",
      "metadata": {
        "id": "jGK5s8FwREP1"
      },
      "source": [
        "#### 42. Consider two random array A and B, check if they are equal (★★☆) \n",
        "(**hint**: np.allclose, np.array\\_equal)"
      ]
    },
    {
      "cell_type": "code",
      "execution_count": null,
      "metadata": {
        "id": "XaxYtkIoREP1",
        "colab": {
          "base_uri": "https://localhost:8080/"
        },
        "outputId": "4ecc0b30-c45c-4f06-aed4-495ba40c9e2b"
      },
      "outputs": [
        {
          "output_type": "stream",
          "name": "stdout",
          "text": [
            "False\n",
            "False\n"
          ]
        }
      ],
      "source": [
        "A = np.random.randint(0,4,7)\n",
        "B = np.random.randint(0,4,7)\n",
        "\n",
        "equal = np.allclose(A,B)\n",
        "print(equal)\n",
        "equal = np.array_equal(A,B)\n",
        "print(equal)\n"
      ]
    },
    {
      "cell_type": "markdown",
      "metadata": {
        "id": "E6hy3pC3REP1"
      },
      "source": [
        "#### 43. Make an array immutable (read-only) (★★☆) \n",
        "(**hint**: flags.writeable)"
      ]
    },
    {
      "cell_type": "code",
      "execution_count": null,
      "metadata": {
        "id": "Ds4l8lGtREP1",
        "colab": {
          "base_uri": "https://localhost:8080/",
          "height": 217
        },
        "outputId": "e53d312e-99c5-47d1-c2b9-04bc477c7393"
      },
      "outputs": [
        {
          "output_type": "stream",
          "name": "stdout",
          "text": [
            "[3. 3. 3.]\n"
          ]
        },
        {
          "output_type": "error",
          "ename": "ValueError",
          "evalue": "ignored",
          "traceback": [
            "\u001b[0;31m---------------------------------------------------------------------------\u001b[0m",
            "\u001b[0;31mValueError\u001b[0m                                Traceback (most recent call last)",
            "\u001b[0;32m<ipython-input-46-2228babb80cb>\u001b[0m in \u001b[0;36m<module>\u001b[0;34m()\u001b[0m\n\u001b[1;32m      2\u001b[0m \u001b[0mprint\u001b[0m\u001b[0;34m(\u001b[0m\u001b[0mz\u001b[0m\u001b[0;34m)\u001b[0m\u001b[0;34m\u001b[0m\u001b[0;34m\u001b[0m\u001b[0m\n\u001b[1;32m      3\u001b[0m \u001b[0mZ\u001b[0m\u001b[0;34m.\u001b[0m\u001b[0mflags\u001b[0m\u001b[0;34m.\u001b[0m\u001b[0mwriteable\u001b[0m \u001b[0;34m=\u001b[0m \u001b[0;32mFalse\u001b[0m\u001b[0;34m\u001b[0m\u001b[0;34m\u001b[0m\u001b[0m\n\u001b[0;32m----> 4\u001b[0;31m \u001b[0mZ\u001b[0m\u001b[0;34m[\u001b[0m\u001b[0;36m0\u001b[0m\u001b[0;34m]\u001b[0m\u001b[0;34m=\u001b[0m \u001b[0;36m1\u001b[0m\u001b[0;34m\u001b[0m\u001b[0;34m\u001b[0m\u001b[0m\n\u001b[0m",
            "\u001b[0;31mValueError\u001b[0m: assignment destination is read-only"
          ]
        }
      ],
      "source": [
        "Z = np.zeros(10)\n",
        "print(z)\n",
        "Z.flags.writeable = False\n",
        "Z[0]= 1"
      ]
    },
    {
      "cell_type": "markdown",
      "metadata": {
        "id": "AFJohv_zREP1"
      },
      "source": [
        "#### 44. Consider a random 10x2 matrix representing cartesian coordinates, convert them to polar coordinates (★★☆) \n",
        "(**hint**: np.sqrt, np.arctan2)"
      ]
    },
    {
      "cell_type": "code",
      "execution_count": null,
      "metadata": {
        "id": "E2smssXHREP1"
      },
      "outputs": [],
      "source": [
        "arr= np.random.random((10,2))\n",
        "X,Y = arr[:,0], arr[:,1]\n",
        "RAN = np.sqrt(X**2+Y**2)\n",
        "DOM = np.arctan2(Y,X)\n",
        "print(RAN)\n",
        "print(DOM)"
      ]
    },
    {
      "cell_type": "markdown",
      "metadata": {
        "id": "jejGgU9YREP1"
      },
      "source": [
        "#### 45. Create random vector of size 10 and replace the maximum value by 0 (★★☆) \n",
        "(**hint**: argmax)"
      ]
    },
    {
      "cell_type": "code",
      "execution_count": null,
      "metadata": {
        "id": "nV9Y7la6REP1"
      },
      "outputs": [],
      "source": [
        "r = np.random.random(10)\n",
        "r[r.argmax()] = 0\n",
        "print(r)"
      ]
    },
    {
      "cell_type": "markdown",
      "metadata": {
        "id": "T1brGdEeREP2"
      },
      "source": [
        "#### 46. Create a structured array with `x` and `y` coordinates covering the \\[0,1\\]x\\[0,1\\] area (★★☆) \n",
        "(**hint**: np.meshgrid)"
      ]
    },
    {
      "cell_type": "code",
      "execution_count": null,
      "metadata": {
        "id": "cxX_DlpyREP2"
      },
      "outputs": [],
      "source": [
        "array = np.zeros((5,5), [('x',float),('y',float)])\n",
        "array['x'], array['y'] = np.meshgrid(np.linspace(0,1,5),\n",
        "                             np.linspace(0,1,5))\n",
        "print(array)"
      ]
    },
    {
      "cell_type": "markdown",
      "metadata": {
        "id": "qgn3czzRREP2"
      },
      "source": [
        "####  47. Given two arrays, X and Y, construct the Cauchy matrix C (Cij =1/(xi - yj)) \n",
        "(**hint**: np.subtract.outer)"
      ]
    },
    {
      "cell_type": "code",
      "execution_count": null,
      "metadata": {
        "id": "TDXHrAxtREP2"
      },
      "outputs": [],
      "source": [
        "x = np.arange(6)\n",
        "y = x + 0.5\n",
        "cauchy = 1.0 / np.subtract.outer(x, y)\n",
        "print(np.linalg.det(cauchy))"
      ]
    },
    {
      "cell_type": "markdown",
      "metadata": {
        "id": "QpyYTSq4REP2"
      },
      "source": [
        "#### 48. Print the minimum and maximum representable value for each numpy scalar type (★★☆) \n",
        "(**hint**: np.iinfo, np.finfo, eps)"
      ]
    },
    {
      "cell_type": "code",
      "execution_count": null,
      "metadata": {
        "id": "gh96cFOXREP2"
      },
      "outputs": [],
      "source": [
        "for dtype in [np.int8, np.int32, np.int64]:\n",
        "   print(np.iinfo(dtype).min)\n",
        "   print(np.iinfo(dtype).max)\n",
        "for dtype in [np.float32, np.float64]:\n",
        "   print(np.finfo(dtype).min)\n",
        "   print(np.finfo(dtype).max)\n",
        "   print(np.finfo(dtype).eps)"
      ]
    },
    {
      "cell_type": "markdown",
      "metadata": {
        "id": "06bS6fw2REP2"
      },
      "source": [
        "#### 49. How to print all the values of an array? (★★☆) \n",
        "(**hint**: np.set\\_printoptions)"
      ]
    },
    {
      "cell_type": "code",
      "execution_count": null,
      "metadata": {
        "id": "ZrN6tvwqREP2"
      },
      "outputs": [],
      "source": [
        "np.set_printoptions(threshold=float(\"inf\"))\n",
        "arr = np.zeros((20,20))\n",
        "print(arr)"
      ]
    },
    {
      "cell_type": "markdown",
      "metadata": {
        "id": "NQ10Jqs7REP2"
      },
      "source": [
        "#### 50. How to find the closest value (to a given scalar) in a vector? (★★☆) \n",
        "(**hint**: argmin)"
      ]
    },
    {
      "cell_type": "code",
      "execution_count": null,
      "metadata": {
        "id": "9W2zp7IqREP2"
      },
      "outputs": [],
      "source": [
        "vec= np.arange(50)\n",
        "tor = np.random.uniform(0,50)\n",
        "index = (np.abs(vec-tor)).argmin()\n",
        "print(vec[index])"
      ]
    },
    {
      "cell_type": "markdown",
      "metadata": {
        "id": "Uq5xRz23REP2"
      },
      "source": [
        "#### 51. Create a structured array representing a position (x,y) and a color (r,g,b) (★★☆) \n",
        "(**hint**: dtype)"
      ]
    },
    {
      "cell_type": "code",
      "execution_count": null,
      "metadata": {
        "id": "xtkabd3uREP2"
      },
      "outputs": [],
      "source": [
        "array = np.zeros(10, [ ('position', [ ('x', float, 1),\n",
        "                                  ('y', float, 1)]),\n",
        "                   ('color',    [ ('r', float, 1),\n",
        "                                  ('g', float, 1),\n",
        "                                  ('b', float, 1)])])\n",
        "print(array)\n"
      ]
    },
    {
      "cell_type": "markdown",
      "metadata": {
        "id": "3U681rnfREP2"
      },
      "source": [
        "#### 52. Consider a random vector with shape (100,2) representing coordinates, find point by point distances (★★☆) \n",
        "(**hint**: np.atleast\\_2d, T, np.sqrt)"
      ]
    },
    {
      "cell_type": "code",
      "execution_count": null,
      "metadata": {
        "id": "992ey-42REP3"
      },
      "outputs": [],
      "source": [
        "Z = np.random.random((100,2))\n",
        "X,Y = np.atleast_2d(Z[:,0], Z[:,1])\n",
        "D = np.sqrt( (X-X.T)**2 + (Y-Y.T)**2)\n",
        "print(D)"
      ]
    },
    {
      "cell_type": "markdown",
      "metadata": {
        "id": "Qe41U1_4REP3"
      },
      "source": [
        "#### 53. How to convert a float (32 bits) array into an integer (32 bits) in place? \n",
        "(**hint**: astype(copy=False))"
      ]
    },
    {
      "cell_type": "code",
      "execution_count": null,
      "metadata": {
        "id": "3UkGSrKLREP3"
      },
      "outputs": [],
      "source": [
        "a = np.arange(25, dtype=np.float32)\n",
        "a = a.astype(np.int32, copy=False)\n",
        "print(a)"
      ]
    },
    {
      "cell_type": "markdown",
      "metadata": {
        "id": "grhsSvmGREP3"
      },
      "source": [
        "#### 54. How to read the following file? (★★☆) \n",
        "(**hint**: np.genfromtxt)"
      ]
    },
    {
      "cell_type": "markdown",
      "metadata": {
        "id": "KKCNuQIkREP3"
      },
      "source": [
        "```\n",
        "1, 2, 3, 4, 5\n",
        "6,  ,  , 7, 8\n",
        " ,  , 9,10,11\n",
        "```"
      ]
    },
    {
      "cell_type": "code",
      "execution_count": null,
      "metadata": {
        "id": "ikU7fG3OREP3"
      },
      "outputs": [],
      "source": [
        "from io import StringIO\n",
        "\n",
        "F = StringIO('''1, 2, 3, 4, 5\n",
        "                6,  ,  , 7, 8\n",
        "                 ,  , 9,10,11\n",
        "''')\n",
        "ar = np.genfromtxt(F, delimiter=\",\", dtype=np.int)\n",
        "print(ar)"
      ]
    },
    {
      "cell_type": "markdown",
      "metadata": {
        "id": "-Va4dFSuREP3"
      },
      "source": [
        "#### 55. What is the equivalent of enumerate for numpy arrays? (★★☆) \n",
        "(**hint**: np.ndenumerate, np.ndindex)"
      ]
    },
    {
      "cell_type": "code",
      "execution_count": null,
      "metadata": {
        "id": "dJkZBJHNREP3"
      },
      "outputs": [],
      "source": [
        "nump = np.arange(16).reshape(4,4)\n",
        "for index, value in np.ndenumerate(nump):\n",
        "    print(index, value)\n",
        "for index in np.ndindex(nump.shape):\n",
        "    print(index, nump[index])\n"
      ]
    },
    {
      "cell_type": "markdown",
      "metadata": {
        "id": "ZAA8te2HREP3"
      },
      "source": [
        "#### 56. Generate a generic 2D Gaussian-like array (★★☆) \n",
        "(**hint**: np.meshgrid, np.exp)"
      ]
    },
    {
      "cell_type": "code",
      "execution_count": null,
      "metadata": {
        "id": "raxlOZLzREP3"
      },
      "outputs": [],
      "source": [
        "a, b = np.meshgrid(np.linspace(-1,1,10), np.linspace(-1,1,10))\n",
        "D = np.sqrt(a*a+b*b)\n",
        "sigma, mu = 1.0, 0.0\n",
        "G = np.exp(-( (D-mu)**2 / ( 2.0 * sigma**2 ) ) )\n",
        "print(G)"
      ]
    },
    {
      "cell_type": "markdown",
      "metadata": {
        "id": "6gewsw5TREP4"
      },
      "source": [
        "#### 57. How to randomly place p elements in a 2D array? (★★☆) \n",
        "(**hint**: np.put, np.random.choice)"
      ]
    },
    {
      "cell_type": "code",
      "execution_count": null,
      "metadata": {
        "id": "NLA3OJXNREP4"
      },
      "outputs": [],
      "source": [
        "s = 9\n",
        "p = 6\n",
        "A= np.zeros((s,s))\n",
        "np.put(A, np.random.choice(range(s*s), p, replace=False),1)\n",
        "print(A)"
      ]
    },
    {
      "cell_type": "markdown",
      "metadata": {
        "id": "J1Fxp08BREP4"
      },
      "source": [
        "#### 58. Subtract the mean of each row of a matrix (★★☆) \n",
        "(**hint**: mean(axis=,keepdims=))"
      ]
    },
    {
      "cell_type": "code",
      "execution_count": null,
      "metadata": {
        "id": "SzRyO2hzREP4"
      },
      "outputs": [],
      "source": [
        "ar = np.random.rand(4, 8)\n",
        "\n",
        "ray = ar - ar.mean(axis=1, keepdims=True)\n",
        "print(ray)"
      ]
    },
    {
      "cell_type": "markdown",
      "metadata": {
        "id": "8HMDIP9DREP4"
      },
      "source": [
        "#### 59. How to sort an array by the nth column? (★★☆) \n",
        "(**hint**: argsort)"
      ]
    },
    {
      "cell_type": "code",
      "execution_count": null,
      "metadata": {
        "id": "Nmux5g9bREP4"
      },
      "outputs": [],
      "source": [
        "col = np.random.randint(0,8,(4,4))\n",
        "print(col)\n",
        "print(col[col[:,1].argsort()])"
      ]
    },
    {
      "cell_type": "markdown",
      "metadata": {
        "id": "eek1G5G-REP4"
      },
      "source": [
        "#### 60. How to tell if a given 2D array has null columns? (★★☆) \n",
        "(**hint**: any, ~)"
      ]
    },
    {
      "cell_type": "code",
      "execution_count": null,
      "metadata": {
        "id": "45p3S9J_REP4"
      },
      "outputs": [],
      "source": [
        "arr = np.random.randint(0,5,(5,10))\n",
        "print((~arr.any(axis=0)).any())"
      ]
    },
    {
      "cell_type": "markdown",
      "metadata": {
        "id": "tk4PaMxJREP4"
      },
      "source": [
        "#### 61. Find the nearest value from a given value in an array (★★☆) \n",
        "(**hint**: np.abs, argmin, flat)"
      ]
    },
    {
      "cell_type": "code",
      "execution_count": null,
      "metadata": {
        "id": "mVGgM-Q3REP4"
      },
      "outputs": [],
      "source": [
        "ar= np.random.uniform(0,1,9)\n",
        "ray = 0.5\n",
        "value = ar.flat[np.abs(ar- ray).argmin()]\n",
        "print(value)"
      ]
    },
    {
      "cell_type": "markdown",
      "metadata": {
        "id": "ts7k0ViwREP4"
      },
      "source": [
        "#### 62. Considering two arrays with shape (1,3) and (3,1), how to compute their sum using an iterator? (★★☆) \n",
        "(**hint**: np.nditer)"
      ]
    },
    {
      "cell_type": "code",
      "execution_count": null,
      "metadata": {
        "id": "d3ZVNT7cREP5"
      },
      "outputs": [],
      "source": [
        "A = np.arange(3).reshape(3,1)\n",
        "B = np.arange(3).reshape(1,3)\n",
        "it = np.nditer([A,B,None])\n",
        "for x,y,z in it: z[...] = x + y\n",
        "print(it.operands[2])\n"
      ]
    },
    {
      "cell_type": "markdown",
      "metadata": {
        "id": "euRyj5tkREP5"
      },
      "source": [
        "#### 63. Create an array class that has a name attribute (★★☆) \n",
        "(**hint**: class method)"
      ]
    },
    {
      "cell_type": "code",
      "execution_count": null,
      "metadata": {
        "id": "cLwSFU50REP5"
      },
      "outputs": [],
      "source": [
        "class NamedArray(np.ndarray):\n",
        "    def __new__(cls, array, name=\"no name\"):\n",
        "        obj = np.asarray(array).view(cls)\n",
        "        obj.name = name\n",
        "        return obj\n",
        "    def __array_finalize__(self, obj):\n",
        "        if obj is None: return\n",
        "        self.info = getattr(obj, 'name', \"no name\")\n",
        "Z = NamedArray(np.arange(10), \"range_10\")\n",
        "print (Z.name)"
      ]
    },
    {
      "cell_type": "markdown",
      "metadata": {
        "id": "HO2Y-6L8REP5"
      },
      "source": [
        "#### 64. Consider a given vector, how to add 1 to each element indexed by a second vector (be careful with repeated indices)? (★★★) \n",
        "(**hint**: np.bincount | np.add.at)"
      ]
    },
    {
      "cell_type": "code",
      "execution_count": null,
      "metadata": {
        "id": "LVByqmLHREP5"
      },
      "outputs": [],
      "source": [
        "vec = np.ones(15)\n",
        "tor = np.random.randint(0,len(vec),30)\n",
        "vec += np.bincount(tor, minlength=len(Z))\n",
        "print(vec)"
      ]
    },
    {
      "cell_type": "markdown",
      "metadata": {
        "id": "6Vqa5lLUREP5"
      },
      "source": [
        "#### 65. How to accumulate elements of a vector (X) to an array (F) based on an index list (I)? (★★★) \n",
        "(**hint**: np.bincount)"
      ]
    },
    {
      "cell_type": "code",
      "execution_count": null,
      "metadata": {
        "id": "YD0EF2qNREP5"
      },
      "outputs": [],
      "source": [
        "X = [9,8,7,6,5,1]\n",
        "Y = [1,2,3,4,5,9]\n",
        "F = np.bincount(Y,X)\n",
        "print(F)"
      ]
    },
    {
      "cell_type": "markdown",
      "metadata": {
        "id": "_HnQYhRLREP5"
      },
      "source": [
        "#### 66. Considering a (w,h,3) image of (dtype=ubyte), compute the number of unique colors (★★★) \n",
        "(**hint**: np.unique)"
      ]
    },
    {
      "cell_type": "code",
      "execution_count": null,
      "metadata": {
        "id": "22ry90ZsREP5"
      },
      "outputs": [],
      "source": [
        "w,h = 16,16\n",
        "I = np.random.randint(0,2,(h,w,3)).astype(np.ubyte)\n",
        "F = I[...,0]*256*256 + I[...,1]*256 +I[...,2]\n",
        "n = len(np.unique(F))\n",
        "print(np.unique(I))"
      ]
    },
    {
      "cell_type": "markdown",
      "metadata": {
        "id": "U41ncTTWREP5"
      },
      "source": [
        "#### 67. Considering a four dimensions array, how to get sum over the last two axis at once? (★★★) \n",
        "(**hint**: sum(axis=(-2,-1)))"
      ]
    },
    {
      "cell_type": "code",
      "execution_count": null,
      "metadata": {
        "id": "1aFLV0z_REP5"
      },
      "outputs": [],
      "source": [
        "dim = np.random.randint(0,10,(4,3,4,3))\n",
        "\n",
        "sum = dim.reshape(dim.shape[:-2] + (-1,)).sum(axis=-1)\n",
        "print(sum)"
      ]
    },
    {
      "cell_type": "markdown",
      "metadata": {
        "id": "03hVcruGREP6"
      },
      "source": [
        "#### 68. Considering a one-dimensional vector D, how to compute means of subsets of D using a vector S of same size describing subset  indices? (★★★) \n",
        "(**hint**: np.bincount)"
      ]
    },
    {
      "cell_type": "code",
      "execution_count": null,
      "metadata": {
        "id": "WrxvTT_kREP6"
      },
      "outputs": [],
      "source": [
        "D = np.random.uniform(0,1,100)\n",
        "S = np.random.randint(0,10,100)\n",
        "D_sums = np.bincount(S, weights=D)\n",
        "D_counts = np.bincount(S)\n",
        "D_means = D_sums / D_counts\n",
        "print(D_means)"
      ]
    },
    {
      "cell_type": "markdown",
      "metadata": {
        "id": "JGQ3AFVsREP6"
      },
      "source": [
        "#### 69. How to get the diagonal of a dot product? (★★★) \n",
        "(**hint**: np.diag)"
      ]
    },
    {
      "cell_type": "code",
      "execution_count": null,
      "metadata": {
        "id": "Lp_Mj5_XREP6"
      },
      "outputs": [],
      "source": [
        "diag= np.random.uniform(0,1,(6,6))\n",
        "onal = np.random.uniform(0,1,(6,6))\n",
        "diagonal = np.diag(np.dot(diag,onal))\n",
        "print(diagonal)"
      ]
    },
    {
      "cell_type": "markdown",
      "metadata": {
        "id": "s750CK7YREP6"
      },
      "source": [
        "#### 70. Consider the vector \\[1, 2, 3, 4, 5\\], how to build a new vector with 3 consecutive zeros interleaved between each value? (★★★) \n",
        "(**hint**: array\\[::4\\])"
      ]
    },
    {
      "cell_type": "code",
      "execution_count": null,
      "metadata": {
        "id": "Lq2RrdyHREP6"
      },
      "outputs": [],
      "source": [
        "a= np.array([1,2,3,4,5])\n",
        "b = 3\n",
        "c= np.zeros(len(a) + (len(a)-1)*(b))\n",
        "c[::b+1] = a\n",
        "print(c)"
      ]
    },
    {
      "cell_type": "markdown",
      "metadata": {
        "id": "wQmJK77QREP6"
      },
      "source": [
        "#### 71. Consider an array of dimension (5,5,3), how to mulitply it by an array with dimensions (5,5)? (★★★) \n",
        "(**hint**: array\\[:, :, None\\])"
      ]
    },
    {
      "cell_type": "code",
      "execution_count": null,
      "metadata": {
        "collapsed": true,
        "id": "zWDTBX5oREP6"
      },
      "outputs": [],
      "source": [
        "dimen = np.ones((5,5,3))\n",
        "sion = 2*np.ones((5,5))\n",
        "print(dimen * sion[:,:,None])"
      ]
    },
    {
      "cell_type": "markdown",
      "metadata": {
        "id": "8wRWbSfbREP6"
      },
      "source": [
        "#### 72. How to swap two rows of an array? (★★★) \n",
        "(**hint**: array\\[\\[\\]\\] = array\\[\\[\\]\\])"
      ]
    },
    {
      "cell_type": "code",
      "execution_count": null,
      "metadata": {
        "id": "e3VRfdjkREP6"
      },
      "outputs": [],
      "source": [
        "Arr = np.arange(16).reshape(4,4)\n",
        "print(Arr)\n",
        "Arr[[0,1]] = Arr[[1,0]]\n",
        "print(Arr)"
      ]
    },
    {
      "cell_type": "markdown",
      "metadata": {
        "id": "6_YQnPaXREP7"
      },
      "source": [
        "#### 73. Consider a set of 10 triplets describing 10 triangles (with shared vertices), find the set of unique line segments composing all the  triangles (★★★) \n",
        "(**hint**: repeat, np.roll, np.sort, view, np.unique)"
      ]
    },
    {
      "cell_type": "code",
      "execution_count": null,
      "metadata": {
        "id": "3JzAabh5REP7"
      },
      "outputs": [],
      "source": [
        "faces = np.random.randint(0,100,(10,3))\n",
        "F = np.roll(faces.repeat(2,axis=1),-1,axis=1)\n",
        "F = F.reshape(len(F)*3,2)\n",
        "F = np.sort(F,axis=1)\n",
        "G = F.view( dtype=[('p0',F.dtype),('p1',F.dtype)] )\n",
        "G = np.unique(G)\n",
        "print(G)"
      ]
    },
    {
      "cell_type": "markdown",
      "metadata": {
        "id": "4-1RqkjrREP7"
      },
      "source": [
        "#### 74. Given an array C that is a bincount, how to produce an array A such that np.bincount(A) == C? (★★★) \n",
        "(**hint**: np.repeat)"
      ]
    },
    {
      "cell_type": "code",
      "execution_count": null,
      "metadata": {
        "id": "7l_lxaYkREP7"
      },
      "outputs": [],
      "source": [
        "C = np.bincount([1,2,3,4,5,6,1,2,6,4])\n",
        "A = np.repeat(np.arange(len(C)), C)\n",
        "print(A)"
      ]
    },
    {
      "cell_type": "markdown",
      "metadata": {
        "id": "pd6uH2I3REP7"
      },
      "source": [
        "#### 75. How to compute averages using a sliding window over an array? (★★★) \n",
        "(**hint**: np.cumsum)"
      ]
    },
    {
      "cell_type": "code",
      "execution_count": null,
      "metadata": {
        "id": "SF5Co4_WREP7"
      },
      "outputs": [],
      "source": [
        "def moving_average(a, n=3) :\n",
        "    ret = np.cumsum(a, dtype=float)\n",
        "    ret[n:] = ret[n:] - ret[:-n]\n",
        "    return ret[n - 1:] / n\n",
        "Z = np.arange(20)\n",
        "print(moving_average(Z, n=3))"
      ]
    },
    {
      "cell_type": "markdown",
      "metadata": {
        "id": "VUAa6dYmREP7"
      },
      "source": [
        "#### 76. Consider a one-dimensional array Z, build a two-dimensional array whose first row is (Z\\[0\\],Z\\[1\\],Z\\[2\\]) and each subsequent row is  shifted by 1 (last row should be (Z\\[-3\\],Z\\[-2\\],Z\\[-1\\]) (★★★) \n",
        "(**hint**: from numpy.lib import stride_tricks)"
      ]
    },
    {
      "cell_type": "code",
      "execution_count": null,
      "metadata": {
        "id": "DcqrZJ1BREP7"
      },
      "outputs": [],
      "source": [
        "from numpy.lib import stride_tricks\n",
        "\n",
        "def rolling(a, window):\n",
        "    shape = (a.size - window + 1, window)\n",
        "    strides = (a.strides[0], a.strides[0])\n",
        "    return stride_tricks.as_strided(a, shape=shape, strides=strides)\n",
        "array= rolling(np.arange(9), 3)\n",
        "print(array)"
      ]
    },
    {
      "cell_type": "markdown",
      "metadata": {
        "id": "EOMdZkICREP7"
      },
      "source": [
        "#### 77. How to negate a boolean, or to change the sign of a float inplace? (★★★) \n",
        "(**hint**: np.logical_not, np.negative)"
      ]
    },
    {
      "cell_type": "code",
      "execution_count": null,
      "metadata": {
        "id": "LMGtjginREP7"
      },
      "outputs": [],
      "source": [
        "Z = np.random.randint(0,2,100)\n",
        "np.logical_not(Z, out=Z)\n",
        "\n",
        "Z = np.random.uniform(-1.0,1.0,100)\n",
        "np.negative(Z, out=Z)"
      ]
    },
    {
      "cell_type": "markdown",
      "metadata": {
        "id": "BeJamh4VREP7"
      },
      "source": [
        "#### 78. Consider 2 sets of points P0,P1 describing lines (2d) and a point p, how to compute distance from p to each line i  (P0\\[i\\],P1\\[i\\])? (★★★)"
      ]
    },
    {
      "cell_type": "code",
      "execution_count": null,
      "metadata": {
        "id": "SSsnxEntREP7"
      },
      "outputs": [],
      "source": [
        "def distance(P0, P1, p):\n",
        "    T = P1 - P0\n",
        "    L = (T**2).sum(axis=1)\n",
        "    U = -((P0[:,0]-p[...,0])*T[:,0] + (P0[:,1]-p[...,1])*T[:,1]) / L\n",
        "    U = U.reshape(len(U),1)\n",
        "    D = P0 + U*T - p\n",
        "    return np.sqrt((D**2).sum(axis=1))\n",
        "\n",
        "P0 = np.random.uniform(-10,10,(10,2))\n",
        "P1 = np.random.uniform(-10,10,(10,2))\n",
        "p  = np.random.uniform(-10,10,( 1,2))\n",
        "print(distance(P0, P1, p))"
      ]
    },
    {
      "cell_type": "markdown",
      "metadata": {
        "id": "KrPCmFlJREP7"
      },
      "source": [
        "#### 79. Consider 2 sets of points P0,P1 describing lines (2d) and a set of points P, how to compute distance from each point j (P\\[j\\]) to each line i (P0\\[i\\],P1\\[i\\])? (★★★)"
      ]
    },
    {
      "cell_type": "code",
      "execution_count": null,
      "metadata": {
        "id": "g7dZKjmIREP8"
      },
      "outputs": [],
      "source": [
        "P0 = np.random.uniform(-10, 10, (10,2))\n",
        "P1 = np.random.uniform(-10,10,(10,2))\n",
        "p = np.random.uniform(-10, 10, (10,2))\n",
        "print(np.array([distance(P0,P1,p_i) for p_i in p]))"
      ]
    },
    {
      "cell_type": "markdown",
      "metadata": {
        "id": "QfWvQM9VREP8"
      },
      "source": [
        "#### 80. Consider an arbitrary array, write a function that extract a subpart with a fixed shape and centered on a given element (pad with a `fill` value when necessary) (★★★) \n",
        "(**hint**: minimum, maximum)"
      ]
    },
    {
      "cell_type": "code",
      "execution_count": null,
      "metadata": {
        "id": "j9BHcpmQREP8"
      },
      "outputs": [],
      "source": [
        "Z = np.random.randint(0,10,(10,10))\n",
        "shape = (5,5)\n",
        "fill  = 0\n",
        "position = (1,1)\n",
        "R = np.ones(shape, dtype=Z.dtype)*fill\n",
        "P  = np.array(list(position)).astype(int)\n",
        "Rs = np.array(list(R.shape)).astype(int)\n",
        "Zs = np.array(list(Z.shape)).astype(int)\n",
        "R_start = np.zeros((len(shape),)).astype(int)\n",
        "R_stop  = np.array(list(shape)).astype(int)\n",
        "Z_start = (P-Rs//2)\n",
        "Z_stop  = (P+Rs//2)+Rs%2\n",
        "R_start = (R_start - np.minimum(Z_start,0)).tolist()\n",
        "Z_start = (np.maximum(Z_start,0)).tolist()\n",
        "R_stop = np.maximum(R_start, (R_stop - np.maximum(Z_stop-Zs,0))).tolist()\n",
        "Z_stop = (np.minimum(Z_stop,Zs)).tolist()\n",
        "r = [slice(start,stop) for start,stop in zip(R_start,R_stop)]\n",
        "z = [slice(start,stop) for start,stop in zip(Z_start,Z_stop)]\n",
        "R[r] = Z[z]\n",
        "print(Z)\n",
        "print(R)"
      ]
    },
    {
      "cell_type": "markdown",
      "metadata": {
        "id": "BifbB1i3REP8"
      },
      "source": [
        "#### 81. Consider an array Z = \\[1,2,3,4,5,6,7,8,9,10,11,12,13,14\\], how to generate an array R = \\[\\[1,2,3,4\\], \\[2,3,4,5\\], \\[3,4,5,6\\], ..., \\[11,12,13,14\\]\\]? (★★★) \n",
        "(**hint**: stride\\_tricks.as\\_strided)"
      ]
    },
    {
      "cell_type": "code",
      "execution_count": null,
      "metadata": {
        "id": "1zhsBcDNREP8"
      },
      "outputs": [],
      "source": [
        "Z = np.arange(1,15,dtype=np.uint32)\n",
        "array = stride_tricks.as_strided(Z,(11,4),(4,4))\n",
        "print(array)"
      ]
    },
    {
      "cell_type": "markdown",
      "metadata": {
        "id": "43dhKzRGREP8"
      },
      "source": [
        "#### 82. Compute a matrix rank (★★★) \n",
        "(**hint**: np.linalg.svd) (suggestion: np.linalg.svd)"
      ]
    },
    {
      "cell_type": "code",
      "execution_count": null,
      "metadata": {
        "id": "ip2hg4arREP8"
      },
      "outputs": [],
      "source": [
        "array = np.random.uniform(0,1,(9,9))\n",
        "U, S, V = np.linalg.svd(array) \n",
        "rank = np.sum(S > 1e-9)\n",
        "print(rank)"
      ]
    },
    {
      "cell_type": "markdown",
      "metadata": {
        "id": "1Bhp0i0QREP8"
      },
      "source": [
        "#### 83. How to find the most frequent value in an array? \n",
        "(**hint**: np.bincount, argmax)"
      ]
    },
    {
      "cell_type": "code",
      "execution_count": null,
      "metadata": {
        "id": "wLeMUyGGREP9"
      },
      "outputs": [],
      "source": [
        "array = np.random.randint(0,5,25)\n",
        "print(np.bincount(array).argmax())"
      ]
    },
    {
      "cell_type": "markdown",
      "metadata": {
        "id": "OAtlwhifREP9"
      },
      "source": [
        "#### 84. Extract all the contiguous 3x3 blocks from a random 10x10 matrix (★★★) \n",
        "(**hint**: stride\\_tricks.as\\_strided)"
      ]
    },
    {
      "cell_type": "code",
      "execution_count": null,
      "metadata": {
        "id": "oDvZz37jREP9"
      },
      "outputs": [],
      "source": [
        "Z = np.random.randint(0,5,(10,10))\n",
        "n = 3\n",
        "i = 1 + (Z.shape[0]-3)\n",
        "j = 1 + (Z.shape[1]-3)\n",
        "C = stride_tricks.as_strided(Z, shape=(i, j, n, n), strides=Z.strides + Z.strides)\n",
        "print(C)"
      ]
    },
    {
      "cell_type": "markdown",
      "metadata": {
        "id": "qhA2apmxREP9"
      },
      "source": [
        "#### 85. Create a 2D array subclass such that Z\\[i,j\\] == Z\\[j,i\\] (★★★) \n",
        "(**hint**: class method)"
      ]
    },
    {
      "cell_type": "code",
      "execution_count": null,
      "metadata": {
        "id": "qtUcPng2REP9"
      },
      "outputs": [],
      "source": [
        "class Symetric(np.ndarray):\n",
        "    def __setitem__(self, index, value):\n",
        "        i,j = index\n",
        "        super(Symetric, self).__setitem__((i,j), value)\n",
        "        super(Symetric, self).__setitem__((j,i), value)\n",
        "\n",
        "def symetric(Z):\n",
        "    return np.asarray(Z + Z.T - np.diag(Z.diagonal())).view(Symetric)\n",
        "\n",
        "S = symetric(np.random.randint(0,8,(4,4)))\n",
        "S[2,3] = 42\n",
        "print(S)"
      ]
    },
    {
      "cell_type": "markdown",
      "metadata": {
        "id": "6F8qSMubREP9"
      },
      "source": [
        "#### 86. Consider a set of p matrices wich shape (n,n) and a set of p vectors with shape (n,1). How to compute the sum of of the p matrix products at once? (result has shape (n,1)) (★★★) \n",
        "(**hint**: np.tensordot)"
      ]
    },
    {
      "cell_type": "code",
      "execution_count": null,
      "metadata": {
        "id": "A_KhBXe2REP9"
      },
      "outputs": [],
      "source": [
        "p, n = 5, 10\n",
        "M = np.ones((p,n,n))\n",
        "V = np.ones((p,n,1))\n",
        "S = np.tensordot(M, V, axes=[[0, 2], [0, 1]])\n",
        "print(S)"
      ]
    },
    {
      "cell_type": "markdown",
      "metadata": {
        "id": "5t2GF4-kREP-"
      },
      "source": [
        "#### 87. Consider a 16x16 array, how to get the block-sum (block size is 4x4)? (★★★) \n",
        "(**hint**: np.add.reduceat)"
      ]
    },
    {
      "cell_type": "code",
      "execution_count": null,
      "metadata": {
        "id": "1fp0o8EhREP-"
      },
      "outputs": [],
      "source": [
        "Z = np.ones((16,16))\n",
        "k = 4\n",
        "S = np.add.reduceat(np.add.reduceat(Z, np.arange(0, Z.shape[0], k), axis=0),\n",
        "                                       np.arange(0, Z.shape[1], k), axis=1)\n",
        "print(S)"
      ]
    },
    {
      "cell_type": "markdown",
      "metadata": {
        "id": "rvd5rWqRREP-"
      },
      "source": [
        "#### 88. How to implement the Game of Life using numpy arrays? (★★★)"
      ]
    },
    {
      "cell_type": "code",
      "execution_count": null,
      "metadata": {
        "id": "O3d4uTk5REP-"
      },
      "outputs": [],
      "source": [
        "def iterate(Z):\n",
        "    \n",
        "    N = (Z[0:-2,0:-2] + Z[0:-2,1:-1] + Z[0:-2,2:] +\n",
        "         Z[1:-1,0:-2]                + Z[1:-1,2:] +\n",
        "         Z[2:  ,0:-2] + Z[2:  ,1:-1] + Z[2:  ,2:])\n",
        "\n",
        "  \n",
        "    birth = (N==3) & (Z[1:-1,1:-1]==0)\n",
        "    survive = ((N==2) | (N==3)) & (Z[1:-1,1:-1]==1)\n",
        "    Z[...] = 0\n",
        "    Z[1:-1,1:-1][birth | survive] = 1\n",
        "    return Z\n",
        "\n",
        "Z = np.random.randint(0,2,(50,50))\n",
        "for i in range(100): Z = iterate(Z)\n",
        "print(Z)\n"
      ]
    },
    {
      "cell_type": "markdown",
      "metadata": {
        "id": "H_Tc1X05REP-"
      },
      "source": [
        "#### 89. How to get the n largest values of an array (★★★) \n",
        "(**hint**: np.argsort | np.argpartition)"
      ]
    },
    {
      "cell_type": "code",
      "execution_count": null,
      "metadata": {
        "id": "7vTDVyTRREP-"
      },
      "outputs": [],
      "source": [
        "Z = np.arange(1000)\n",
        "np.random.shuffle(Z)\n",
        "n = 6\n",
        "print (Z[np.argsort(Z)[-n:]])\n",
        "print (Z[np.argpartition(-Z,n)[:n]])"
      ]
    },
    {
      "cell_type": "markdown",
      "metadata": {
        "id": "Ed2jyUtkREP-"
      },
      "source": [
        "#### 90. Given an arbitrary number of vectors, build the cartesian product (every combinations of every item) (★★★) \n",
        "(**hint**: np.indices)"
      ]
    },
    {
      "cell_type": "code",
      "execution_count": null,
      "metadata": {
        "scrolled": true,
        "id": "UlvZJuraREP-"
      },
      "outputs": [],
      "source": [
        "def cartesian(arrays):\n",
        "    arrays = [np.asarray(a) for a in arrays]\n",
        "    shape = (len(x) for x in arrays)\n",
        "    ix = np.indices(shape, dtype=int)\n",
        "    ix = ix.reshape(len(arrays), -1).T\n",
        "    for n, arr in enumerate(arrays):\n",
        "        ix[:, n] = arrays[n][ix[:, n]]\n",
        "    return ix\n",
        "print (cartesian(([1, 2, 3], [4, 5], [6, 7])))"
      ]
    },
    {
      "cell_type": "markdown",
      "metadata": {
        "id": "XQio-YjfREP_"
      },
      "source": [
        "#### 91. How to create a record array from a regular array? (★★★) \n",
        "(**hint**: np.core.records.fromarrays)"
      ]
    },
    {
      "cell_type": "code",
      "execution_count": null,
      "metadata": {
        "id": "yA7Bvu7kREP_"
      },
      "outputs": [],
      "source": [
        "A = np.array([(\"Welcome to the\", 3.11, 2),\n",
        "              (\"Python World\", 4.6, 2)])\n",
        "ARR   = np.core.records.fromarrays(A.T,\n",
        "                               names='col1, col2, col3',\n",
        "                               formats = 'S8, f8, i8')\n",
        "print(ARR)"
      ]
    },
    {
      "cell_type": "markdown",
      "metadata": {
        "id": "UxJ3Fm1kREP_"
      },
      "source": [
        "#### 92. Consider a large vector Z, compute Z to the power of 3 using 3 different methods (★★★) \n",
        "(**hint**: np.power, \\*, np.einsum)"
      ]
    },
    {
      "cell_type": "code",
      "execution_count": null,
      "metadata": {
        "id": "6abBCJvDREP_"
      },
      "outputs": [],
      "source": [
        "Z = np.random.rand(int(3e5))\n",
        "%timeit np.power(Z,3)\n",
        "%timeit Z*Z*Z\n",
        "%timeit np.einsum('i,i,i->i',Z,Z,Z)"
      ]
    },
    {
      "cell_type": "markdown",
      "metadata": {
        "id": "LrXLwuI5REP_"
      },
      "source": [
        "#### 93. Consider two arrays A and B of shape (8,3) and (2,2). How to find rows of A that contain elements of each row of B regardless of the order of the elements in B? (★★★) \n",
        "(**hint**: np.where)"
      ]
    },
    {
      "cell_type": "code",
      "execution_count": null,
      "metadata": {
        "id": "sE7mhQBfREP_"
      },
      "outputs": [],
      "source": [
        "A = np.random.randint(0,5,(8,3))\n",
        "B = np.random.randint(0,5,(2,2))\n",
        "C = (A[..., np.newaxis, np.newaxis] == B)\n",
        "rows = np.where(C.any((3,1)).all(1))[0]\n",
        "print(rows)"
      ]
    },
    {
      "cell_type": "markdown",
      "metadata": {
        "id": "TIu0hfgvREQA"
      },
      "source": [
        "#### 94. Considering a 10x3 matrix, extract rows with unequal values (e.g. \\[2,2,3\\]) (★★★)"
      ]
    },
    {
      "cell_type": "code",
      "execution_count": null,
      "metadata": {
        "id": "u870QfhTREQA"
      },
      "outputs": [],
      "source": [
        "A = np.random.randint(0,5,(10,3))\n",
        "print(A)\n",
        "\n",
        "E = np.all(A[:,1:] == A[:,:-1], axis=1)\n",
        "U = A[~E]\n",
        "print(U)\n",
        "\n",
        "U = A[A.max(axis=1) != A.min(axis=1),:]\n",
        "print(U)"
      ]
    },
    {
      "cell_type": "markdown",
      "metadata": {
        "id": "Wg_KDBrLREQA"
      },
      "source": [
        "#### 95. Convert a vector of ints into a matrix binary representation (★★★) \n",
        "(**hint**: np.unpackbits)"
      ]
    },
    {
      "cell_type": "code",
      "execution_count": null,
      "metadata": {
        "id": "e4kEBSofREQA"
      },
      "outputs": [],
      "source": [
        "vector= np.array([0,1,2,40,67,90,125,25])\n",
        "B = ((vector.reshape(-1,1) & (2**np.arange(8))) != 0).astype(int)\n",
        "print(B[:,::-1])"
      ]
    },
    {
      "cell_type": "markdown",
      "metadata": {
        "id": "l4VQwwcXREQA"
      },
      "source": [
        "#### 96. Given a two dimensional array, how to extract unique rows? (★★★) \n",
        "(**hint**: np.ascontiguousarray)"
      ]
    },
    {
      "cell_type": "code",
      "execution_count": null,
      "metadata": {
        "id": "JUKPbCIuREQA"
      },
      "outputs": [],
      "source": [
        "Z = np.random.randint(0,2,(8,4))\n",
        "T = np.ascontiguousarray(Z).view(np.dtype((np.void, Z.dtype.itemsize * Z.shape[1])))\n",
        "_, idx = np.unique(T, return_index=True)\n",
        "uZ = Z[idx]\n",
        "print(uZ)"
      ]
    },
    {
      "cell_type": "markdown",
      "metadata": {
        "id": "SwpaO6ehREQA"
      },
      "source": [
        "#### 97. Considering 2 vectors A & B, write the einsum equivalent of inner, outer, sum, and mul function (★★★) \n",
        "(**hint**: np.einsum)"
      ]
    },
    {
      "cell_type": "code",
      "execution_count": null,
      "metadata": {
        "id": "bz4ALmcUREQA"
      },
      "outputs": [],
      "source": [
        "A = np.random.uniform(0,1,9)\n",
        "B = np.random.uniform(0,1,9)\n",
        "np.einsum('i->', A)       \n",
        "np.einsum('i,i->i', A, B) \n",
        "np.einsum('i,i', A, B)    \n",
        "np.einsum('i,j->ij', A, B)"
      ]
    },
    {
      "cell_type": "markdown",
      "metadata": {
        "id": "hfQESaY3REQA"
      },
      "source": [
        "#### 98. Considering a path described by two vectors (X,Y), how to sample it using equidistant samples (★★★)? \n",
        "(**hint**: np.cumsum, np.interp)"
      ]
    },
    {
      "cell_type": "code",
      "execution_count": null,
      "metadata": {
        "collapsed": true,
        "id": "uaZsYrMjREQA"
      },
      "outputs": [],
      "source": [
        "phi = np.arange(0, 10*np.pi, 0.1)\n",
        "a = 1\n",
        "x = a*phi*np.cos(phi)\n",
        "y = a*phi*np.sin(phi)\n",
        "dr = (np.diff(x)**2 + np.diff(y)**2)**.5 \n",
        "r = np.zeros_like(x)\n",
        "r[1:] = np.cumsum(dr)                \n",
        "r_int = np.linspace(0, r.max(), 200) \n",
        "x_int = np.interp(r_int, r, x)       \n",
        "y_int = np.interp(r_int, r, y)\n",
        "\n",
        "print(r_int)\n",
        "print(x_int)\n",
        "print(y_int)"
      ]
    },
    {
      "cell_type": "markdown",
      "metadata": {
        "id": "I4iSgIKIREQA"
      },
      "source": [
        "#### 99. Given an integer n and a 2D array X, select from X the rows which can be interpreted as draws from a multinomial distribution with n degrees, i.e., the rows which only contain integers and which sum to n. (★★★) \n",
        "(**hint**: np.logical\\_and.reduce, np.mod)"
      ]
    },
    {
      "cell_type": "code",
      "execution_count": null,
      "metadata": {
        "id": "rZFMXB0dREQB"
      },
      "outputs": [],
      "source": [
        "arr = np.asarray([[1.0, 0.0, 5.4, 7.9],\n",
        "                [12.0, 0.0, 8.0, 5.0],\n",
        "                [1.5, 0.76, 8.5, 0.0]])\n",
        "n = 5\n",
        "M = np.logical_and.reduce(np.mod(arr, 1) == 0, axis=-1)\n",
        "M &= (arr.sum(axis=-1) == n)\n",
        "print(arr[M])\n"
      ]
    },
    {
      "cell_type": "markdown",
      "metadata": {
        "id": "7IMw9SIfREQB"
      },
      "source": [
        "#### 100. Compute bootstrapped 95% confidence intervals for the mean of a 1D array X (i.e., resample the elements of an array with replacement N times, compute the mean of each sample, and then compute percentiles over the means). (★★★) \n",
        "(**hint**: np.percentile)"
      ]
    },
    {
      "cell_type": "code",
      "execution_count": null,
      "metadata": {
        "id": "9f975k2QREQB"
      },
      "outputs": [],
      "source": [
        "X = np.random.randn(100) \n",
        "N = 1000 \n",
        "idx = np.random.randint(0, X.size, (N, X.size))\n",
        "means = X[idx].mean(axis=1)\n",
        "confint = np.percentile(means, [2.5, 97.5])\n",
        "print(confint)"
      ]
    }
  ],
  "metadata": {
    "kernelspec": {
      "display_name": "Python 3",
      "language": "python",
      "name": "python3"
    },
    "language_info": {
      "codemirror_mode": {
        "name": "ipython",
        "version": 3
      },
      "file_extension": ".py",
      "mimetype": "text/x-python",
      "name": "python",
      "nbconvert_exporter": "python",
      "pygments_lexer": "ipython3",
      "version": "3.8.3"
    },
    "colab": {
      "name": "Numpytasks.ipynb",
      "provenance": [],
      "collapsed_sections": [
        "57sM4iULREPu",
        "PCdPOgf3REPu",
        "6aRTCFBFREPv",
        "UgmbB0NQREPv",
        "_bBXuZhGREPv",
        "5XiaXu2sREPv",
        "YEfPAf27REPw",
        "P8N9AgfjREPw",
        "sRSuTpGpREPw",
        "CeosG61RREPx",
        "8q2Q89PFREPx",
        "R87r2NqfREPx",
        "Gi_HfjSaREPx",
        "pRklqun_REPx",
        "5n1Ma1-nREPy",
        "8lO7_AHQREPy",
        "cN49NIjOREPy",
        "Lp1sEewAREPy",
        "ugb46ZWaREPy",
        "mIXOt-ZLREPz",
        "DLPdzwGWREPz",
        "ZbaklFt2REPz",
        "6BBJajb3REPz",
        "wbzgzt3YREPz",
        "-SNovodsREP0",
        "vNWmb-L-REP0",
        "wX8f-pK5REP0",
        "6_-9uyajREP0",
        "qIA8YQJ0REP0",
        "b6licrjTREP0",
        "eCVty7_lREP0",
        "XnrJSt3RREP1",
        "8HMDIP9DREP4",
        "eek1G5G-REP4",
        "tk4PaMxJREP4",
        "ts7k0ViwREP4",
        "euRyj5tkREP5",
        "HO2Y-6L8REP5",
        "6Vqa5lLUREP5",
        "_HnQYhRLREP5",
        "U41ncTTWREP5",
        "03hVcruGREP6",
        "JGQ3AFVsREP6",
        "s750CK7YREP6",
        "wQmJK77QREP6",
        "8wRWbSfbREP6",
        "6_YQnPaXREP7",
        "4-1RqkjrREP7",
        "pd6uH2I3REP7",
        "VUAa6dYmREP7",
        "EOMdZkICREP7",
        "BeJamh4VREP7",
        "KrPCmFlJREP7",
        "QfWvQM9VREP8",
        "BifbB1i3REP8",
        "43dhKzRGREP8",
        "1Bhp0i0QREP8",
        "OAtlwhifREP9",
        "qhA2apmxREP9",
        "6F8qSMubREP9",
        "5t2GF4-kREP-",
        "rvd5rWqRREP-",
        "H_Tc1X05REP-",
        "Ed2jyUtkREP-",
        "XQio-YjfREP_",
        "UxJ3Fm1kREP_",
        "LrXLwuI5REP_",
        "TIu0hfgvREQA",
        "Wg_KDBrLREQA",
        "l4VQwwcXREQA",
        "SwpaO6ehREQA",
        "hfQESaY3REQA",
        "I4iSgIKIREQA",
        "7IMw9SIfREQB"
      ],
      "include_colab_link": true
    }
  },
  "nbformat": 4,
  "nbformat_minor": 0
}