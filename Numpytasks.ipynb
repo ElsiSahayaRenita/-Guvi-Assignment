{
  "cells": [
    {
      "cell_type": "markdown",
      "metadata": {
        "id": "uoChferVREPm"
      },
      "source": [
        "# Numpy\n",
        "\n"
      ]
    },
    {
      "cell_type": "markdown",
      "metadata": {
        "id": "RRUXKKHvREPp"
      },
      "source": [
        "#### 1. Import the numpy package under the name `np` (★☆☆) \n",
        "(**hint**: import … as …)"
      ]
    },
    {
      "cell_type": "code",
      "execution_count": 84,
      "metadata": {
        "collapsed": true,
        "id": "wVDlbJ7SREPq"
      },
      "outputs": [],
      "source": [
        "import numpy as np"
      ]
    },
    {
      "cell_type": "markdown",
      "metadata": {
        "id": "BM4RZp_3REPq"
      },
      "source": [
        "#### 2. Print the numpy version and the configuration (★☆☆) \n",
        "(**hint**: np.\\_\\_version\\_\\_, np.show\\_config)"
      ]
    },
    {
      "cell_type": "code",
      "execution_count": 85,
      "metadata": {
        "id": "x4Hosff-REPq",
        "outputId": "90442706-9751-446a-dc7f-11837fdd3971",
        "colab": {
          "base_uri": "https://localhost:8080/"
        }
      },
      "outputs": [
        {
          "output_type": "execute_result",
          "data": {
            "text/plain": [
              "<function numpy.__config__.show>"
            ]
          },
          "metadata": {},
          "execution_count": 85
        }
      ],
      "source": [
        "np.__version__\n",
        "np.show_config"
      ]
    },
    {
      "cell_type": "markdown",
      "metadata": {
        "id": "r-Jok_nlREPr"
      },
      "source": [
        "#### 3. Create a null vector of size 10 (★☆☆) \n",
        "(**hint**: np.zeros)"
      ]
    },
    {
      "cell_type": "code",
      "execution_count": 86,
      "metadata": {
        "id": "qo9ttBdGREPr",
        "outputId": "b1c94f9d-a651-47a0-a5e3-e44fb40c621f",
        "colab": {
          "base_uri": "https://localhost:8080/"
        }
      },
      "outputs": [
        {
          "output_type": "stream",
          "name": "stdout",
          "text": [
            "[0. 0. 0. 0. 0. 0. 0. 0. 0. 0.]\n"
          ]
        }
      ],
      "source": [
        "a = np.zeros(10)\n",
        "print(a)"
      ]
    },
    {
      "cell_type": "markdown",
      "metadata": {
        "id": "lfMxEvWoREPr"
      },
      "source": [
        "#### 4.  How to find the memory size of any array (★☆☆) \n",
        "(**hint**: size, itemsize)"
      ]
    },
    {
      "cell_type": "code",
      "execution_count": 87,
      "metadata": {
        "id": "L71fAzMYREPs",
        "colab": {
          "base_uri": "https://localhost:8080/"
        },
        "outputId": "5b916616-51d3-40dc-cbbd-7941ffd6fdf1"
      },
      "outputs": [
        {
          "output_type": "stream",
          "name": "stdout",
          "text": [
            "Size of the array:  3\n",
            "Memory size of one array element in bytes:  8\n",
            "Memory size of numpy array in bytes: 24\n"
          ]
        }
      ],
      "source": [
        "import numpy as np\n",
        "  \n",
        "x = np.array([100,20,34])\n",
        "  \n",
        "print(\"Size of the array: \",\n",
        "      x.size)\n",
        "  \n",
        "print(\"Memory size of one array element in bytes: \",\n",
        "      x.itemsize)\n",
        "  \n",
        "\n",
        "print(\"Memory size of numpy array in bytes:\",\n",
        "      x.size * x.itemsize)"
      ]
    },
    {
      "cell_type": "markdown",
      "metadata": {
        "id": "rsjm4ve0REPs"
      },
      "source": [
        "#### 5.  How to get the documentation of the numpy add function from the command line? (★☆☆) \n",
        "(**hint**: np.info)"
      ]
    },
    {
      "cell_type": "code",
      "execution_count": 88,
      "metadata": {
        "collapsed": true,
        "id": "vNKVj-vRREPt"
      },
      "outputs": [],
      "source": [
        "import numpy \n",
        "numpy.info(numpy.add)"
      ]
    },
    {
      "cell_type": "markdown",
      "metadata": {
        "id": "BtG9WT2IREPt"
      },
      "source": [
        "#### 6.  Create a null vector of size 10 but the fifth value which is 1 (★☆☆) \n",
        "(**hint**: array\\[4\\])"
      ]
    },
    {
      "cell_type": "code",
      "execution_count": 89,
      "metadata": {
        "id": "TRKnUFR7REPt",
        "colab": {
          "base_uri": "https://localhost:8080/"
        },
        "outputId": "97e0179b-0e2d-4ea5-c6fd-205b8a25e0b7"
      },
      "outputs": [
        {
          "output_type": "stream",
          "name": "stdout",
          "text": [
            "[0. 0. 0. 0. 1. 0. 0. 0. 0. 0.]\n"
          ]
        }
      ],
      "source": [
        "array = np.zeros(10)\n",
        "array[4] = 1\n",
        "print(array)"
      ]
    },
    {
      "cell_type": "markdown",
      "metadata": {
        "id": "_8zGwoMzREPt"
      },
      "source": [
        "#### 7.  Create a vector with values ranging from 10 to 49 (★☆☆) \n",
        "(**hint**: np.arange)"
      ]
    },
    {
      "cell_type": "code",
      "execution_count": 90,
      "metadata": {
        "id": "OaNL9GcBREPu",
        "colab": {
          "base_uri": "https://localhost:8080/"
        },
        "outputId": "998876f3-0010-4a5d-efed-0c2f1301ccd6"
      },
      "outputs": [
        {
          "output_type": "stream",
          "name": "stdout",
          "text": [
            "[10 11 12 13 14 15 16 17 18 19 20 21 22 23 24 25 26 27 28 29 30 31 32 33\n",
            " 34 35 36 37 38 39 40 41 42 43 44 45 46 47 48 49]\n"
          ]
        }
      ],
      "source": [
        "vec = np.arange(10,50)\n",
        "print(vec)"
      ]
    },
    {
      "cell_type": "markdown",
      "metadata": {
        "id": "SlvaMUZBREPu"
      },
      "source": [
        "#### 8.  Reverse a vector (first element becomes last) (★☆☆) \n",
        "(**hint**: array\\[::-1\\])"
      ]
    },
    {
      "cell_type": "code",
      "execution_count": 91,
      "metadata": {
        "id": "onC1UuRGREPu",
        "colab": {
          "base_uri": "https://localhost:8080/"
        },
        "outputId": "237726fe-3445-49f4-8133-c7713922fe69"
      },
      "outputs": [
        {
          "output_type": "stream",
          "name": "stdout",
          "text": [
            "[19 18 17 16 15 14 13 12 11 10  9  8  7  6  5  4  3  2  1  0]\n"
          ]
        }
      ],
      "source": [
        "a = np.arange(20)\n",
        "a = a[::-1]\n",
        "print(a)"
      ]
    },
    {
      "cell_type": "markdown",
      "metadata": {
        "id": "57sM4iULREPu"
      },
      "source": [
        "#### 9.  Create a 3x3 matrix with values ranging from 0 to 8 (★☆☆) \n",
        "(**hint**: reshape)"
      ]
    },
    {
      "cell_type": "code",
      "execution_count": 92,
      "metadata": {
        "id": "pKywJF4CREPu",
        "colab": {
          "base_uri": "https://localhost:8080/"
        },
        "outputId": "284da5f9-0e9c-4dd6-9836-842250acb8c8"
      },
      "outputs": [
        {
          "output_type": "stream",
          "name": "stdout",
          "text": [
            "[[0 1 2]\n",
            " [3 4 5]\n",
            " [6 7 8]]\n"
          ]
        }
      ],
      "source": [
        "m = np.arange(9).reshape(3, 3)\n",
        "print(m)"
      ]
    },
    {
      "cell_type": "markdown",
      "metadata": {
        "id": "PCdPOgf3REPu"
      },
      "source": [
        "#### 10. Find indices of non-zero elements from \\[1,2,0,0,4,0\\] (★☆☆) \n",
        "(**hint**: np.nonzero)"
      ]
    },
    {
      "cell_type": "code",
      "source": [
        "a = np.nonzero([1,2,1,2,0,0,4,0])\n",
        "print(a)"
      ],
      "metadata": {
        "colab": {
          "base_uri": "https://localhost:8080/"
        },
        "id": "5HEBIam7qe9U",
        "outputId": "ed862b3f-7708-4460-fbba-9fc9a3eea6a8"
      },
      "execution_count": 93,
      "outputs": [
        {
          "output_type": "stream",
          "name": "stdout",
          "text": [
            "(array([0, 1, 2, 3, 6]),)\n"
          ]
        }
      ]
    },
    {
      "cell_type": "markdown",
      "metadata": {
        "id": "6aRTCFBFREPv"
      },
      "source": [
        "#### 11. Create a 3x3 identity matrix (★☆☆) \n",
        "(**hint**: np.eye)"
      ]
    },
    {
      "cell_type": "code",
      "execution_count": 94,
      "metadata": {
        "id": "3Eg-w-opREPv",
        "colab": {
          "base_uri": "https://localhost:8080/"
        },
        "outputId": "f4d6ecb1-8bcd-4757-9647-4698df727565"
      },
      "outputs": [
        {
          "output_type": "stream",
          "name": "stdout",
          "text": [
            "[[1. 0. 0.]\n",
            " [0. 1. 0.]\n",
            " [0. 0. 1.]]\n"
          ]
        }
      ],
      "source": [
        "m = np.eye(3)\n",
        "print(m)"
      ]
    },
    {
      "cell_type": "markdown",
      "metadata": {
        "id": "UgmbB0NQREPv"
      },
      "source": [
        "#### 12. Create a 3x3x3 array with random values (★☆☆) \n",
        "(**hint**: np.random.random)"
      ]
    },
    {
      "cell_type": "code",
      "execution_count": 95,
      "metadata": {
        "collapsed": true,
        "id": "fJGHiCXNREPv",
        "colab": {
          "base_uri": "https://localhost:8080/"
        },
        "outputId": "5ebc1536-719f-455b-a8ee-37d1210d92f2"
      },
      "outputs": [
        {
          "output_type": "stream",
          "name": "stdout",
          "text": [
            "[[[0.59734624 0.24563562 0.9445597 ]\n",
            "  [0.65072602 0.23893892 0.04711368]\n",
            "  [0.28299784 0.10081697 0.16309068]]\n",
            "\n",
            " [[0.18240741 0.74236852 0.101569  ]\n",
            "  [0.69174243 0.9819345  0.38749665]\n",
            "  [0.3007854  0.23926873 0.66525418]]\n",
            "\n",
            " [[0.43999436 0.222737   0.9391491 ]\n",
            "  [0.0282451  0.18926679 0.30577103]\n",
            "  [0.24254572 0.7279128  0.36925877]]]\n"
          ]
        }
      ],
      "source": [
        "r = np.random.random((3,3,3))\n",
        "print(r)"
      ]
    },
    {
      "cell_type": "markdown",
      "metadata": {
        "id": "_bBXuZhGREPv"
      },
      "source": [
        "#### 13. Create a 10x10 array with random values and find the minimum and maximum values (★☆☆) \n",
        "(**hint**: min, max)"
      ]
    },
    {
      "cell_type": "code",
      "execution_count": 96,
      "metadata": {
        "id": "SEyYsF52REPv",
        "colab": {
          "base_uri": "https://localhost:8080/"
        },
        "outputId": "3de19330-d9db-4c9f-a8ef-21719bb875b9"
      },
      "outputs": [
        {
          "output_type": "stream",
          "name": "stdout",
          "text": [
            "0.012471698174445489 0.9989015967030057\n"
          ]
        }
      ],
      "source": [
        "m = np.random.random((10,10))\n",
        "mmin, mmax = m.min(), m.max()\n",
        "print(mmin, mmax)"
      ]
    },
    {
      "cell_type": "markdown",
      "metadata": {
        "id": "5XiaXu2sREPv"
      },
      "source": [
        "#### 14. Create a random vector of size 30 and find the mean value (★☆☆) \n",
        "(**hint**: mean)"
      ]
    },
    {
      "cell_type": "code",
      "execution_count": 97,
      "metadata": {
        "id": "l5aAPeZNREPw",
        "colab": {
          "base_uri": "https://localhost:8080/"
        },
        "outputId": "9d49764e-1a36-4d93-d89f-56a4552cae89"
      },
      "outputs": [
        {
          "output_type": "stream",
          "name": "stdout",
          "text": [
            "0.5030292247415601\n"
          ]
        }
      ],
      "source": [
        "a = np.random.random(30)\n",
        "m = a.mean()\n",
        "print(m)"
      ]
    },
    {
      "cell_type": "markdown",
      "metadata": {
        "id": "YEfPAf27REPw"
      },
      "source": [
        "#### 15. Create a 2d array with 1 on the border and 0 inside (★☆☆) \n",
        "(**hint**: array\\[1:-1, 1:-1\\])"
      ]
    },
    {
      "cell_type": "code",
      "execution_count": 98,
      "metadata": {
        "id": "fFKhGDY1REPw",
        "colab": {
          "base_uri": "https://localhost:8080/"
        },
        "outputId": "f7a0e484-2039-4e84-da33-6e8f30478a98"
      },
      "outputs": [
        {
          "output_type": "stream",
          "name": "stdout",
          "text": [
            "[[1. 1. 1. 1. 1. 1. 1. 1. 1. 1.]\n",
            " [1. 0. 0. 0. 0. 0. 0. 0. 0. 1.]\n",
            " [1. 0. 0. 0. 0. 0. 0. 0. 0. 1.]\n",
            " [1. 0. 0. 0. 0. 0. 0. 0. 0. 1.]\n",
            " [1. 0. 0. 0. 0. 0. 0. 0. 0. 1.]\n",
            " [1. 0. 0. 0. 0. 0. 0. 0. 0. 1.]\n",
            " [1. 0. 0. 0. 0. 0. 0. 0. 0. 1.]\n",
            " [1. 0. 0. 0. 0. 0. 0. 0. 0. 1.]\n",
            " [1. 0. 0. 0. 0. 0. 0. 0. 0. 1.]\n",
            " [1. 1. 1. 1. 1. 1. 1. 1. 1. 1.]]\n"
          ]
        }
      ],
      "source": [
        "d = np.ones((10,10))\n",
        "d[1:-1,1:-1] = 0 \n",
        "print(d)"
      ]
    },
    {
      "cell_type": "markdown",
      "metadata": {
        "id": "P8N9AgfjREPw"
      },
      "source": [
        "#### 16. How to add a border (filled with 0's) around an existing array? (★☆☆) \n",
        "(**hint**: np.pad)"
      ]
    },
    {
      "cell_type": "code",
      "execution_count": 99,
      "metadata": {
        "id": "CbEOwFGrREPw",
        "colab": {
          "base_uri": "https://localhost:8080/"
        },
        "outputId": "5d006475-6f08-4c96-9a9d-683973a74056"
      },
      "outputs": [
        {
          "output_type": "stream",
          "name": "stdout",
          "text": [
            "[[0. 0. 0. 0. 0. 0. 0. 0. 0. 0. 0. 0.]\n",
            " [0. 1. 1. 1. 1. 1. 1. 1. 1. 1. 1. 0.]\n",
            " [0. 1. 1. 1. 1. 1. 1. 1. 1. 1. 1. 0.]\n",
            " [0. 1. 1. 1. 1. 1. 1. 1. 1. 1. 1. 0.]\n",
            " [0. 1. 1. 1. 1. 1. 1. 1. 1. 1. 1. 0.]\n",
            " [0. 1. 1. 1. 1. 1. 1. 1. 1. 1. 1. 0.]\n",
            " [0. 1. 1. 1. 1. 1. 1. 1. 1. 1. 1. 0.]\n",
            " [0. 1. 1. 1. 1. 1. 1. 1. 1. 1. 1. 0.]\n",
            " [0. 1. 1. 1. 1. 1. 1. 1. 1. 1. 1. 0.]\n",
            " [0. 1. 1. 1. 1. 1. 1. 1. 1. 1. 1. 0.]\n",
            " [0. 1. 1. 1. 1. 1. 1. 1. 1. 1. 1. 0.]\n",
            " [0. 0. 0. 0. 0. 0. 0. 0. 0. 0. 0. 0.]]\n"
          ]
        }
      ],
      "source": [
        "b = np.ones((10,10))\n",
        "b = np.pad(b, pad_width=1, mode='constant', constant_values=0)\n",
        "print(b)"
      ]
    },
    {
      "cell_type": "markdown",
      "metadata": {
        "id": "sRSuTpGpREPw"
      },
      "source": [
        "#### 17. What is the result of the following expression? (★☆☆) \n",
        "(**hint**: NaN = not a number, inf = infinity)"
      ]
    },
    {
      "cell_type": "markdown",
      "metadata": {
        "id": "NQ747vv7REPw"
      },
      "source": [
        "```python\n",
        "0 * np.nan\n",
        "np.nan == np.nan\n",
        "np.inf > np.nan\n",
        "np.nan - np.nan\n",
        "0.3 == 3 * 0.1\n",
        "```"
      ]
    },
    {
      "cell_type": "code",
      "execution_count": 100,
      "metadata": {
        "id": "goNk0UBXREPw",
        "colab": {
          "base_uri": "https://localhost:8080/"
        },
        "outputId": "01da5102-94f0-4179-ba86-2bab34004f33"
      },
      "outputs": [
        {
          "output_type": "stream",
          "name": "stdout",
          "text": [
            "nan\n",
            "False\n",
            "False\n",
            "nan\n",
            "False\n"
          ]
        }
      ],
      "source": [
        "print(0 * np.nan)\n",
        "print(np.nan == np.nan)\n",
        "print(np.inf > np.nan)\n",
        "print(np.nan - np.nan)\n",
        "print(0.3 == 3 * 0.1)"
      ]
    },
    {
      "cell_type": "markdown",
      "metadata": {
        "id": "CeosG61RREPx"
      },
      "source": [
        "#### 18. Create a 5x5 matrix with values 1,2,3,4 just below the diagonal (★☆☆) \n",
        "(**hint**: np.diag)"
      ]
    },
    {
      "cell_type": "code",
      "execution_count": 101,
      "metadata": {
        "id": "X_MaJeOwREPx",
        "colab": {
          "base_uri": "https://localhost:8080/"
        },
        "outputId": "9011088f-d4c7-4c8b-b057-3175893ed591"
      },
      "outputs": [
        {
          "output_type": "stream",
          "name": "stdout",
          "text": [
            "[[0 0 0 0 0]\n",
            " [1 0 0 0 0]\n",
            " [0 2 0 0 0]\n",
            " [0 0 3 0 0]\n",
            " [0 0 0 4 0]]\n"
          ]
        }
      ],
      "source": [
        "mat = np.diag(1+np.arange(4), k = -1)\n",
        "print(mat)"
      ]
    },
    {
      "cell_type": "markdown",
      "metadata": {
        "id": "8q2Q89PFREPx"
      },
      "source": [
        "#### 19. Create a 8x8 matrix and fill it with a checkerboard pattern (★☆☆) \n",
        "(**hint**: array\\[::2\\])"
      ]
    },
    {
      "cell_type": "code",
      "execution_count": 102,
      "metadata": {
        "id": "VDEqe46iREPx",
        "colab": {
          "base_uri": "https://localhost:8080/"
        },
        "outputId": "df532215-6e7b-4e52-93a8-440823da6b55"
      },
      "outputs": [
        {
          "output_type": "stream",
          "name": "stdout",
          "text": [
            "[[0 1 0 1 0 1 0 1]\n",
            " [1 0 1 0 1 0 1 0]\n",
            " [0 1 0 1 0 1 0 1]\n",
            " [1 0 1 0 1 0 1 0]\n",
            " [0 1 0 1 0 1 0 1]\n",
            " [1 0 1 0 1 0 1 0]\n",
            " [0 1 0 1 0 1 0 1]\n",
            " [1 0 1 0 1 0 1 0]]\n"
          ]
        }
      ],
      "source": [
        "check = np.zeros((8,8),dtype = int)\n",
        "check[1::2, ::2] =1\n",
        "check[::2,1::2] =1\n",
        "print(check)"
      ]
    },
    {
      "cell_type": "markdown",
      "metadata": {
        "id": "R87r2NqfREPx"
      },
      "source": [
        "#### 20. Consider a (6,7,8) shape array, what is the index (x,y,z) of the 100th element? \n",
        "(**hint**: np.unravel_index)"
      ]
    },
    {
      "cell_type": "code",
      "execution_count": 103,
      "metadata": {
        "id": "QzqQBPO4REPx",
        "colab": {
          "base_uri": "https://localhost:8080/"
        },
        "outputId": "59cf856d-e7f5-4ddc-d4fe-4b25459da3b8"
      },
      "outputs": [
        {
          "output_type": "stream",
          "name": "stdout",
          "text": [
            "(1, 5, 3)\n"
          ]
        }
      ],
      "source": [
        "a = np.unravel_index(99,(6,7,8))\n",
        "print(a)"
      ]
    },
    {
      "cell_type": "markdown",
      "metadata": {
        "id": "Gi_HfjSaREPx"
      },
      "source": [
        "#### 21. Create a checkerboard 8x8 matrix using the tile function (★☆☆) \n",
        "(**hint**: np.tile)"
      ]
    },
    {
      "cell_type": "code",
      "execution_count": 104,
      "metadata": {
        "id": "49ttMaGHREPx",
        "colab": {
          "base_uri": "https://localhost:8080/"
        },
        "outputId": "69dda3ec-2c56-4ee8-ec8e-e130c0a10c7a"
      },
      "outputs": [
        {
          "output_type": "stream",
          "name": "stdout",
          "text": [
            "[[0 1 0 1 0 1 0 1]\n",
            " [1 0 1 0 1 0 1 0]\n",
            " [0 1 0 1 0 1 0 1]\n",
            " [1 0 1 0 1 0 1 0]\n",
            " [0 1 0 1 0 1 0 1]\n",
            " [1 0 1 0 1 0 1 0]\n",
            " [0 1 0 1 0 1 0 1]\n",
            " [1 0 1 0 1 0 1 0]]\n"
          ]
        }
      ],
      "source": [
        "cb = np.tile(np.array([[0,1],[1,0]]) , (4,4))\n",
        "print(cb)"
      ]
    },
    {
      "cell_type": "markdown",
      "metadata": {
        "id": "pRklqun_REPx"
      },
      "source": [
        "#### 22. Normalize a 5x5 random matrix (★☆☆) \n",
        "(**hint**: (x - min) / (max - min))"
      ]
    },
    {
      "cell_type": "code",
      "execution_count": 105,
      "metadata": {
        "id": "3Mgm6YzoREPx",
        "colab": {
          "base_uri": "https://localhost:8080/"
        },
        "outputId": "9cbdafdf-f03f-4127-d2d5-04b7b47bac6a"
      },
      "outputs": [
        {
          "output_type": "stream",
          "name": "stdout",
          "text": [
            "[[-0.10709948 -0.03472316  0.33134268  1.36233408  1.07139325]\n",
            " [-0.37597751  0.52285395  0.8416244  -1.20463645  0.32623568]\n",
            " [ 0.5807796  -1.31034808  0.05873898  0.16674655  1.19872876]\n",
            " [ 1.29481652  0.77389406 -1.70721018  0.67463437 -1.66417739]\n",
            " [-1.37606754 -1.01449508 -1.50584778  1.40392619 -0.30746644]]\n"
          ]
        }
      ],
      "source": [
        "x= np.random.random((5,5))\n",
        "x = (x - np.mean(x)) / (np.std(x))\n",
        "print(x)"
      ]
    },
    {
      "cell_type": "markdown",
      "metadata": {
        "id": "5n1Ma1-nREPy"
      },
      "source": [
        "#### 23. Create a custom dtype that describes a color as four unsigned bytes (RGBA) (★☆☆) \n",
        "(**hint**: np.dtype)"
      ]
    },
    {
      "cell_type": "code",
      "execution_count": 106,
      "metadata": {
        "collapsed": true,
        "id": "2TyHIjATREPy",
        "colab": {
          "base_uri": "https://localhost:8080/"
        },
        "outputId": "cb2197d1-0b2a-415a-801f-b41a2ef77d9a"
      },
      "outputs": [
        {
          "output_type": "stream",
          "name": "stdout",
          "text": [
            "[('r', 'u1'), ('g', 'u1'), ('b', 'u1'), ('a', 'u1')]\n"
          ]
        },
        {
          "output_type": "stream",
          "name": "stderr",
          "text": [
            "/usr/local/lib/python3.7/dist-packages/ipykernel_launcher.py:4: FutureWarning: Passing (type, 1) or '1type' as a synonym of type is deprecated; in a future version of numpy, it will be understood as (type, (1,)) / '(1,)type'.\n",
            "  after removing the cwd from sys.path.\n"
          ]
        }
      ],
      "source": [
        "Color = np.dtype([(\"r\", np.ubyte, 1), \n",
        "                  (\"g\", np.ubyte, 1),\n",
        "                  (\"b\", np.ubyte, 1),\n",
        "                  (\"a\", np.ubyte, 1)])\n",
        "print(Color)"
      ]
    },
    {
      "cell_type": "markdown",
      "metadata": {
        "id": "8lO7_AHQREPy"
      },
      "source": [
        "#### 24. Multiply a 5x3 matrix by a 3x2 matrix (real matrix product) (★☆☆) \n",
        "(**hint**: np.dot | @)"
      ]
    },
    {
      "cell_type": "code",
      "execution_count": 107,
      "metadata": {
        "id": "ZtLB0jXfREPy",
        "colab": {
          "base_uri": "https://localhost:8080/"
        },
        "outputId": "fa18fae4-8222-471d-edcc-a4bb2b5ed4da"
      },
      "outputs": [
        {
          "output_type": "stream",
          "name": "stdout",
          "text": [
            "[[3. 3.]\n",
            " [3. 3.]\n",
            " [3. 3.]\n",
            " [3. 3.]\n",
            " [3. 3.]]\n"
          ]
        }
      ],
      "source": [
        "m =  np.dot(np.ones((5, 3)), np.ones((3, 2)))\n",
        "print(m)"
      ]
    },
    {
      "cell_type": "markdown",
      "metadata": {
        "id": "cN49NIjOREPy"
      },
      "source": [
        "#### 25. Given a 1D array, negate all elements which are between 3 and 8, in place. (★☆☆) \n",
        "(**hint**: >, <=)"
      ]
    },
    {
      "cell_type": "code",
      "source": [
        "a = np.arange(12)\n",
        "a[(3<a)&(a<8)] *= -1\n",
        "print(a)"
      ],
      "metadata": {
        "colab": {
          "base_uri": "https://localhost:8080/"
        },
        "id": "zINMk4bU6PIV",
        "outputId": "d9949c39-ef86-4895-ca1b-eaad0c2c1ad8"
      },
      "execution_count": 108,
      "outputs": [
        {
          "output_type": "stream",
          "name": "stdout",
          "text": [
            "[ 0  1  2  3 -4 -5 -6 -7  8  9 10 11]\n"
          ]
        }
      ]
    },
    {
      "cell_type": "markdown",
      "metadata": {
        "id": "Lp1sEewAREPy"
      },
      "source": [
        "#### 26. What is the output of the following script? (★☆☆) \n",
        "(**hint**: np.sum)"
      ]
    },
    {
      "cell_type": "markdown",
      "metadata": {
        "id": "Rv7RXGAIREPy"
      },
      "source": [
        "```python\n",
        "# Author: Jake VanderPlas\n",
        "\n",
        "print(sum(range(5),-1))\n",
        "from numpy import *\n",
        "print(sum(range(5),-1))\n",
        "```"
      ]
    },
    {
      "cell_type": "code",
      "execution_count": 109,
      "metadata": {
        "id": "FKiYX5DUREPy",
        "colab": {
          "base_uri": "https://localhost:8080/"
        },
        "outputId": "43089bee-ea5e-4806-b504-7057cac71b67"
      },
      "outputs": [
        {
          "output_type": "stream",
          "name": "stdout",
          "text": [
            "10\n",
            "10\n"
          ]
        }
      ],
      "source": [
        "print(sum(range(5),-1))\n",
        "from numpy import *\n",
        "print(sum(range(5),-1))"
      ]
    },
    {
      "cell_type": "markdown",
      "metadata": {
        "id": "ugb46ZWaREPy"
      },
      "source": [
        "#### 27. Consider an integer vector Z, which of these expressions are legal? (★☆☆)"
      ]
    },
    {
      "cell_type": "markdown",
      "metadata": {
        "id": "czzWf3PlREPy"
      },
      "source": [
        "```python\n",
        "Z**Z\n",
        "2 << Z >> 2\n",
        "Z <- Z\n",
        "1j*Z\n",
        "Z/1/1\n",
        "Z<Z>Z\n",
        "```"
      ]
    },
    {
      "cell_type": "code",
      "execution_count": 110,
      "metadata": {
        "id": "i5LLN2wMREPz",
        "colab": {
          "base_uri": "https://localhost:8080/"
        },
        "outputId": "b0c05039-1754-46f7-d05c-3219bebf2196"
      },
      "outputs": [
        {
          "output_type": "execute_result",
          "data": {
            "text/plain": [
              "array([0., 1., 2.])"
            ]
          },
          "metadata": {},
          "execution_count": 110
        }
      ],
      "source": [
        "Z = np.arange(3)\n",
        "Z ** Z       \n",
        "2 << Z >> 2  \n",
        "Z < - Z      \n",
        "1j * Z       \n",
        "Z / 1 / 1    "
      ]
    },
    {
      "cell_type": "markdown",
      "metadata": {
        "id": "mIXOt-ZLREPz"
      },
      "source": [
        "#### 28. What are the result of the following expressions?"
      ]
    },
    {
      "cell_type": "markdown",
      "metadata": {
        "id": "kkn3GeTbREPz"
      },
      "source": [
        "```python\n",
        "np.array(0) / np.array(0)\n",
        "np.array(0) // np.array(0)\n",
        "np.array([np.nan]).astype(int).astype(float)\n",
        "```"
      ]
    },
    {
      "cell_type": "code",
      "execution_count": 111,
      "metadata": {
        "id": "1Yw_V8W5REPz",
        "colab": {
          "base_uri": "https://localhost:8080/"
        },
        "outputId": "c5051b5f-7b5a-4762-8a03-719b6f24989f"
      },
      "outputs": [
        {
          "output_type": "stream",
          "name": "stdout",
          "text": [
            "nan\n",
            "0\n",
            "[-9.22337204e+18]\n"
          ]
        },
        {
          "output_type": "stream",
          "name": "stderr",
          "text": [
            "/usr/local/lib/python3.7/dist-packages/ipykernel_launcher.py:1: RuntimeWarning: invalid value encountered in true_divide\n",
            "  \"\"\"Entry point for launching an IPython kernel.\n",
            "/usr/local/lib/python3.7/dist-packages/ipykernel_launcher.py:2: RuntimeWarning: divide by zero encountered in floor_divide\n",
            "  \n"
          ]
        }
      ],
      "source": [
        "print(np.array(0) / np.array(0))\n",
        "print(np.array(0) // np.array(0))\n",
        "print(np.array([np.nan]).astype(int).astype(float))"
      ]
    },
    {
      "cell_type": "markdown",
      "metadata": {
        "id": "DLPdzwGWREPz"
      },
      "source": [
        "#### 29. How to round away from zero a float array ? (★☆☆) \n",
        "(**hint**: np.uniform, np.copysign, np.ceil, np.abs)"
      ]
    },
    {
      "cell_type": "code",
      "execution_count": 112,
      "metadata": {
        "id": "gYTDqUl2REPz",
        "colab": {
          "base_uri": "https://localhost:8080/"
        },
        "outputId": "0c0e7498-b633-45f4-e182-72a14747c64b"
      },
      "outputs": [
        {
          "output_type": "stream",
          "name": "stdout",
          "text": [
            "[ 1.  6.  1.  5.  8. -8.  8. -6. -2. -6.]\n"
          ]
        }
      ],
      "source": [
        "f = np.random.uniform(-10,+10,10)\n",
        "print (np.copysign(np.ceil(np.abs(f)), f))"
      ]
    },
    {
      "cell_type": "markdown",
      "metadata": {
        "id": "ZbaklFt2REPz"
      },
      "source": [
        "#### 30. How to find common values between two arrays? (★☆☆) \n",
        "(**hint**: np.intersect1d)"
      ]
    },
    {
      "cell_type": "code",
      "execution_count": 113,
      "metadata": {
        "id": "c8O_cfIsREPz",
        "colab": {
          "base_uri": "https://localhost:8080/"
        },
        "outputId": "baa82b46-c5c8-4447-9cd1-03072e7c7150"
      },
      "outputs": [
        {
          "output_type": "execute_result",
          "data": {
            "text/plain": [
              "array([5, 6, 7, 8, 9])"
            ]
          },
          "metadata": {},
          "execution_count": 113
        }
      ],
      "source": [
        "x = np.arange(0, 10)\n",
        "y = np.arange(5, 15)\n",
        "np.intersect1d(x, y)"
      ]
    },
    {
      "cell_type": "markdown",
      "metadata": {
        "id": "6BBJajb3REPz"
      },
      "source": [
        "#### 31. How to ignore all numpy warnings (not recommended)? (★☆☆) \n",
        "(**hint**: np.seterr, np.errstate)"
      ]
    },
    {
      "cell_type": "code",
      "execution_count": 114,
      "metadata": {
        "id": "ZLE0H3fRREPz",
        "colab": {
          "base_uri": "https://localhost:8080/"
        },
        "outputId": "07c46290-9cff-4f93-d2e1-4416fc2d230f"
      },
      "outputs": [
        {
          "output_type": "stream",
          "name": "stdout",
          "text": [
            "(array([0, 1, 2, 5, 6]),)\n"
          ]
        }
      ],
      "source": [
        "defaults = np.seterr(all=\"ignore\")\n",
        "Z = np.ones(1) / 0\n",
        "\n",
        "\n",
        "_ = np.seterr(**defaults)\n",
        "rz = np.nonzero([1,2,nan,0,0,nan,4,0])\n",
        "print(rz)\n"
      ]
    },
    {
      "cell_type": "markdown",
      "metadata": {
        "id": "wbzgzt3YREPz"
      },
      "source": [
        "#### 32. Is the following expressions true? (★☆☆) \n",
        "(**hint**: imaginary number)"
      ]
    },
    {
      "cell_type": "markdown",
      "metadata": {
        "id": "n9lER0FyREPz"
      },
      "source": [
        "```python\n",
        "np.sqrt(-1) == np.emath.sqrt(-1)\n",
        "```"
      ]
    },
    {
      "cell_type": "code",
      "execution_count": 115,
      "metadata": {
        "id": "GUM1uvZ0REP0",
        "colab": {
          "base_uri": "https://localhost:8080/"
        },
        "outputId": "0a3e8f4c-f9fc-4d8e-fe0b-02023d600201"
      },
      "outputs": [
        {
          "output_type": "stream",
          "name": "stdout",
          "text": [
            "False\n"
          ]
        },
        {
          "output_type": "stream",
          "name": "stderr",
          "text": [
            "/usr/local/lib/python3.7/dist-packages/ipykernel_launcher.py:1: RuntimeWarning: invalid value encountered in sqrt\n",
            "  \"\"\"Entry point for launching an IPython kernel.\n"
          ]
        }
      ],
      "source": [
        "print(np.sqrt(-1) == np.emath.sqrt(-1))"
      ]
    },
    {
      "cell_type": "markdown",
      "metadata": {
        "id": "-SNovodsREP0"
      },
      "source": [
        "#### 33. How to get the dates of yesterday, today and tomorrow? (★☆☆) \n",
        "(**hint**: np.datetime64, np.timedelta64)"
      ]
    },
    {
      "cell_type": "code",
      "execution_count": 116,
      "metadata": {
        "collapsed": true,
        "id": "2QB3QTomREP0",
        "colab": {
          "base_uri": "https://localhost:8080/"
        },
        "outputId": "d135fcc3-e2b3-4e2f-9758-fa27f2e8d8b1"
      },
      "outputs": [
        {
          "output_type": "stream",
          "name": "stdout",
          "text": [
            "2022-02-20\n",
            "2022-02-21\n",
            "2022-02-22\n"
          ]
        }
      ],
      "source": [
        "yesterday = np.datetime64('today', 'D') - np.timedelta64(1, 'D')\n",
        "today     = np.datetime64('today', 'D')\n",
        "tomorrow  = np.datetime64('today', 'D') + np.timedelta64(1, 'D')\n",
        "print(yesterday)\n",
        "print(today)\n",
        "print(tomorrow)"
      ]
    },
    {
      "cell_type": "markdown",
      "metadata": {
        "id": "vNWmb-L-REP0"
      },
      "source": [
        "#### 34. How to get all the dates corresponding to the month of July 2016? (★★☆) \n",
        "(**hint**: np.arange(dtype=datetime64\\['D'\\]))"
      ]
    },
    {
      "cell_type": "code",
      "execution_count": 117,
      "metadata": {
        "id": "LUsfTcJOREP0",
        "colab": {
          "base_uri": "https://localhost:8080/"
        },
        "outputId": "6a590f2b-a0b3-4bdb-9914-8660ecfe628b"
      },
      "outputs": [
        {
          "output_type": "stream",
          "name": "stdout",
          "text": [
            "['2016-07-01' '2016-07-02' '2016-07-03' '2016-07-04' '2016-07-05'\n",
            " '2016-07-06' '2016-07-07' '2016-07-08' '2016-07-09' '2016-07-10'\n",
            " '2016-07-11' '2016-07-12' '2016-07-13' '2016-07-14' '2016-07-15'\n",
            " '2016-07-16' '2016-07-17' '2016-07-18' '2016-07-19' '2016-07-20'\n",
            " '2016-07-21' '2016-07-22' '2016-07-23' '2016-07-24' '2016-07-25'\n",
            " '2016-07-26' '2016-07-27' '2016-07-28' '2016-07-29' '2016-07-30'\n",
            " '2016-07-31']\n"
          ]
        }
      ],
      "source": [
        "date = np.arange('2016-07', '2016-08', dtype='datetime64[D]')\n",
        "print(date)"
      ]
    },
    {
      "cell_type": "markdown",
      "metadata": {
        "id": "wX8f-pK5REP0"
      },
      "source": [
        "#### 35. How to compute ((A+B)\\*(-A/2)) in place (without copy)? (★★☆) \n",
        "(**hint**: np.add(out=), np.negative(out=), np.multiply(out=), np.divide(out=))"
      ]
    },
    {
      "cell_type": "code",
      "execution_count": 118,
      "metadata": {
        "id": "zSAS8HKeREP0",
        "colab": {
          "base_uri": "https://localhost:8080/"
        },
        "outputId": "d9c5f149-2bc4-4f3b-fcb3-ada443d9664e"
      },
      "outputs": [
        {
          "output_type": "execute_result",
          "data": {
            "text/plain": [
              "array([-1.5, -1.5, -1.5])"
            ]
          },
          "metadata": {},
          "execution_count": 118
        }
      ],
      "source": [
        "x = np.ones(3)*1\n",
        "y = np.ones(3)*2\n",
        "z = np.ones(3)*3\n",
        "np.add(x,y,out=y)\n",
        "np.divide(x,2,out=x)\n",
        "np.negative(x,out=x)\n",
        "np.multiply(x,y,out=x)"
      ]
    },
    {
      "cell_type": "markdown",
      "metadata": {
        "id": "6_-9uyajREP0"
      },
      "source": [
        "#### 36. Extract the integer part of a random array using 5 different methods (★★☆) \n",
        "(**hint**: %, np.floor, np.ceil, astype, np.trunc)"
      ]
    },
    {
      "cell_type": "code",
      "execution_count": 119,
      "metadata": {
        "id": "1TVuRggsREP0",
        "colab": {
          "base_uri": "https://localhost:8080/"
        },
        "outputId": "9e2f44ac-a1e5-4135-b940-ac8534ab664d"
      },
      "outputs": [
        {
          "output_type": "stream",
          "name": "stdout",
          "text": [
            "[1. 4. 0. 3. 1.]\n",
            "[1. 4. 0. 3. 1.]\n",
            "[1. 4. 0. 3. 1.]\n",
            "[1 4 0 3 1]\n",
            "[1. 4. 0. 3. 1.]\n"
          ]
        }
      ],
      "source": [
        "integer = np.random.uniform(0,5,5)\n",
        "\n",
        "print (integer - integer%1)\n",
        "print (np.floor(integer))\n",
        "print (np.ceil(integer)-1)\n",
        "print (integer.astype(int))\n",
        "print (np.trunc(integer))"
      ]
    },
    {
      "cell_type": "markdown",
      "metadata": {
        "id": "qIA8YQJ0REP0"
      },
      "source": [
        "#### 37. Create a 5x5 matrix with row values ranging from 0 to 4 (★★☆) \n",
        "(**hint**: np.arange)"
      ]
    },
    {
      "cell_type": "code",
      "execution_count": 120,
      "metadata": {
        "id": "LevgIqUfREP0",
        "colab": {
          "base_uri": "https://localhost:8080/"
        },
        "outputId": "8053c0aa-3ee7-4fe2-95b6-037772a216e9"
      },
      "outputs": [
        {
          "output_type": "stream",
          "name": "stdout",
          "text": [
            "[[0. 1. 2. 3. 4.]\n",
            " [0. 1. 2. 3. 4.]\n",
            " [0. 1. 2. 3. 4.]\n",
            " [0. 1. 2. 3. 4.]\n",
            " [0. 1. 2. 3. 4.]]\n"
          ]
        }
      ],
      "source": [
        "r = np.zeros((5,5))\n",
        "r += np.arange(5)\n",
        "print(r)"
      ]
    },
    {
      "cell_type": "markdown",
      "metadata": {
        "id": "b6licrjTREP0"
      },
      "source": [
        "#### 38. Consider a generator function that generates 10 integers and use it to build an array (★☆☆) \n",
        "(**hint**: np.fromiter)"
      ]
    },
    {
      "cell_type": "code",
      "execution_count": 121,
      "metadata": {
        "id": "5RNwxhYIREP0",
        "colab": {
          "base_uri": "https://localhost:8080/"
        },
        "outputId": "9c600fae-b9ce-4fa7-9a13-42b66bbe82ff"
      },
      "outputs": [
        {
          "output_type": "stream",
          "name": "stdout",
          "text": [
            "[0. 1. 2. 3. 4. 5. 6. 7. 8. 9.]\n"
          ]
        }
      ],
      "source": [
        "def generate():\n",
        "    for x in range(10):\n",
        "        yield x\n",
        "a = np.fromiter(generate(),dtype=float,count=-1)\n",
        "print(a)"
      ]
    },
    {
      "cell_type": "markdown",
      "metadata": {
        "id": "eCVty7_lREP0"
      },
      "source": [
        "#### 39. Create a vector of size 10 with values ranging from 0 to 1, both excluded (★★☆) \n",
        "(**hint**: np.linspace)"
      ]
    },
    {
      "cell_type": "code",
      "execution_count": 122,
      "metadata": {
        "id": "Wl_bjIhKREP1",
        "colab": {
          "base_uri": "https://localhost:8080/"
        },
        "outputId": "5d90a3a3-2dae-4bb0-89ae-ccf0a19874a0"
      },
      "outputs": [
        {
          "output_type": "stream",
          "name": "stdout",
          "text": [
            "[0.09090909 0.18181818 0.27272727 0.36363636 0.45454545 0.54545455\n",
            " 0.63636364 0.72727273 0.81818182 0.90909091]\n"
          ]
        }
      ],
      "source": [
        "v = np.linspace(0,1,11,endpoint=False)[1:]\n",
        "print(v)"
      ]
    },
    {
      "cell_type": "markdown",
      "metadata": {
        "id": "XnrJSt3RREP1"
      },
      "source": [
        "#### 40. Create a random vector of size 10 and sort it (★★☆) \n",
        "(**hint**: sort)"
      ]
    },
    {
      "cell_type": "code",
      "execution_count": 123,
      "metadata": {
        "id": "E6Q_WzBpREP1",
        "colab": {
          "base_uri": "https://localhost:8080/"
        },
        "outputId": "8b6714d3-8a48-411b-8822-c62763d3e0fd"
      },
      "outputs": [
        {
          "output_type": "stream",
          "name": "stdout",
          "text": [
            "[0.03696512 0.26483866 0.38203219 0.40658544 0.49374625 0.49931705\n",
            " 0.5619103  0.69714283 0.90368395 0.95162414]\n"
          ]
        }
      ],
      "source": [
        "vector = np.random.random(10)\n",
        "vector.sort()\n",
        "print(vector)"
      ]
    },
    {
      "cell_type": "markdown",
      "metadata": {
        "id": "KE7u74QGREP1"
      },
      "source": [
        "#### 41. How to sum a small array faster than np.sum? (★★☆) \n",
        "(**hint**: np.add.reduce)"
      ]
    },
    {
      "cell_type": "code",
      "execution_count": 124,
      "metadata": {
        "id": "4lYLGS14REP1",
        "colab": {
          "base_uri": "https://localhost:8080/"
        },
        "outputId": "8e056666-dd34-4819-a212-c183cd3f4106"
      },
      "outputs": [
        {
          "output_type": "execute_result",
          "data": {
            "text/plain": [
              "10"
            ]
          },
          "metadata": {},
          "execution_count": 124
        }
      ],
      "source": [
        "array = np.arange(5)\n",
        "np.add.reduce(array)\n"
      ]
    },
    {
      "cell_type": "markdown",
      "metadata": {
        "id": "jGK5s8FwREP1"
      },
      "source": [
        "#### 42. Consider two random array A and B, check if they are equal (★★☆) \n",
        "(**hint**: np.allclose, np.array\\_equal)"
      ]
    },
    {
      "cell_type": "code",
      "execution_count": 125,
      "metadata": {
        "id": "XaxYtkIoREP1",
        "colab": {
          "base_uri": "https://localhost:8080/"
        },
        "outputId": "a90f8d81-5243-4e7d-87e2-a35aa29a336b"
      },
      "outputs": [
        {
          "output_type": "stream",
          "name": "stdout",
          "text": [
            "False\n",
            "False\n"
          ]
        }
      ],
      "source": [
        "A = np.random.randint(0,4,7)\n",
        "B = np.random.randint(0,4,7)\n",
        "\n",
        "equal = np.allclose(A,B)\n",
        "print(equal)\n",
        "equal = np.array_equal(A,B)\n",
        "print(equal)\n"
      ]
    },
    {
      "cell_type": "markdown",
      "metadata": {
        "id": "E6hy3pC3REP1"
      },
      "source": [
        "#### 43. Make an array immutable (read-only) (★★☆) \n",
        "(**hint**: flags.writeable)"
      ]
    },
    {
      "cell_type": "code",
      "execution_count": 126,
      "metadata": {
        "id": "Ds4l8lGtREP1",
        "colab": {
          "base_uri": "https://localhost:8080/",
          "height": 217
        },
        "outputId": "967a18b9-2cc9-4dfc-8a90-7b71f04776a0"
      },
      "outputs": [
        {
          "output_type": "stream",
          "name": "stdout",
          "text": [
            "[3. 3. 3.]\n"
          ]
        },
        {
          "output_type": "error",
          "ename": "ValueError",
          "evalue": "ignored",
          "traceback": [
            "\u001b[0;31m---------------------------------------------------------------------------\u001b[0m",
            "\u001b[0;31mValueError\u001b[0m                                Traceback (most recent call last)",
            "\u001b[0;32m<ipython-input-126-2228babb80cb>\u001b[0m in \u001b[0;36m<module>\u001b[0;34m()\u001b[0m\n\u001b[1;32m      2\u001b[0m \u001b[0mprint\u001b[0m\u001b[0;34m(\u001b[0m\u001b[0mz\u001b[0m\u001b[0;34m)\u001b[0m\u001b[0;34m\u001b[0m\u001b[0;34m\u001b[0m\u001b[0m\n\u001b[1;32m      3\u001b[0m \u001b[0mZ\u001b[0m\u001b[0;34m.\u001b[0m\u001b[0mflags\u001b[0m\u001b[0;34m.\u001b[0m\u001b[0mwriteable\u001b[0m \u001b[0;34m=\u001b[0m \u001b[0;32mFalse\u001b[0m\u001b[0;34m\u001b[0m\u001b[0;34m\u001b[0m\u001b[0m\n\u001b[0;32m----> 4\u001b[0;31m \u001b[0mZ\u001b[0m\u001b[0;34m[\u001b[0m\u001b[0;36m0\u001b[0m\u001b[0;34m]\u001b[0m\u001b[0;34m=\u001b[0m \u001b[0;36m1\u001b[0m\u001b[0;34m\u001b[0m\u001b[0;34m\u001b[0m\u001b[0m\n\u001b[0m",
            "\u001b[0;31mValueError\u001b[0m: assignment destination is read-only"
          ]
        }
      ],
      "source": [
        "Z = np.zeros(10)\n",
        "print(z)\n",
        "Z.flags.writeable = False\n",
        "Z[0]= 1"
      ]
    },
    {
      "cell_type": "markdown",
      "metadata": {
        "id": "AFJohv_zREP1"
      },
      "source": [
        "#### 44. Consider a random 10x2 matrix representing cartesian coordinates, convert them to polar coordinates (★★☆) \n",
        "(**hint**: np.sqrt, np.arctan2)"
      ]
    },
    {
      "cell_type": "code",
      "execution_count": 127,
      "metadata": {
        "id": "E2smssXHREP1",
        "colab": {
          "base_uri": "https://localhost:8080/"
        },
        "outputId": "20e5f291-ac25-44f8-b36a-0ed2c1aa9293"
      },
      "outputs": [
        {
          "output_type": "stream",
          "name": "stdout",
          "text": [
            "[0.8865621  0.54680681 0.60900573 1.14201017 0.88426836 0.97604114\n",
            " 0.8101071  0.94202209 1.118835   1.21786249]\n",
            "[0.80318651 0.39954343 0.20750734 0.85433267 0.86969605 1.16297578\n",
            " 1.18448629 1.19222191 0.76649313 0.87538949]\n"
          ]
        }
      ],
      "source": [
        "arr= np.random.random((10,2))\n",
        "X,Y = arr[:,0], arr[:,1]\n",
        "RAN = np.sqrt(X**2+Y**2)\n",
        "DOM = np.arctan2(Y,X)\n",
        "print(RAN)\n",
        "print(DOM)"
      ]
    },
    {
      "cell_type": "markdown",
      "metadata": {
        "id": "jejGgU9YREP1"
      },
      "source": [
        "#### 45. Create random vector of size 10 and replace the maximum value by 0 (★★☆) \n",
        "(**hint**: argmax)"
      ]
    },
    {
      "cell_type": "code",
      "execution_count": 128,
      "metadata": {
        "id": "nV9Y7la6REP1",
        "colab": {
          "base_uri": "https://localhost:8080/"
        },
        "outputId": "6da43ea6-b12a-4d74-e757-b8a443eb2b90"
      },
      "outputs": [
        {
          "output_type": "stream",
          "name": "stdout",
          "text": [
            "[0.46821499 0.0871028  0.2364343  0.7208965  0.74528594 0.13337307\n",
            " 0.52035731 0.6898519  0.32883404 0.        ]\n"
          ]
        }
      ],
      "source": [
        "r = np.random.random(10)\n",
        "r[r.argmax()] = 0\n",
        "print(r)"
      ]
    },
    {
      "cell_type": "markdown",
      "metadata": {
        "id": "T1brGdEeREP2"
      },
      "source": [
        "#### 46. Create a structured array with `x` and `y` coordinates covering the \\[0,1\\]x\\[0,1\\] area (★★☆) \n",
        "(**hint**: np.meshgrid)"
      ]
    },
    {
      "cell_type": "code",
      "execution_count": 129,
      "metadata": {
        "id": "cxX_DlpyREP2",
        "colab": {
          "base_uri": "https://localhost:8080/"
        },
        "outputId": "674dca45-eeff-4065-f82d-57f8187825c9"
      },
      "outputs": [
        {
          "output_type": "stream",
          "name": "stdout",
          "text": [
            "[[(0.  , 0.  ) (0.25, 0.  ) (0.5 , 0.  ) (0.75, 0.  ) (1.  , 0.  )]\n",
            " [(0.  , 0.25) (0.25, 0.25) (0.5 , 0.25) (0.75, 0.25) (1.  , 0.25)]\n",
            " [(0.  , 0.5 ) (0.25, 0.5 ) (0.5 , 0.5 ) (0.75, 0.5 ) (1.  , 0.5 )]\n",
            " [(0.  , 0.75) (0.25, 0.75) (0.5 , 0.75) (0.75, 0.75) (1.  , 0.75)]\n",
            " [(0.  , 1.  ) (0.25, 1.  ) (0.5 , 1.  ) (0.75, 1.  ) (1.  , 1.  )]]\n"
          ]
        }
      ],
      "source": [
        "array = np.zeros((5,5), [('x',float),('y',float)])\n",
        "array['x'], array['y'] = np.meshgrid(np.linspace(0,1,5),\n",
        "                             np.linspace(0,1,5))\n",
        "print(array)"
      ]
    },
    {
      "cell_type": "markdown",
      "metadata": {
        "id": "qgn3czzRREP2"
      },
      "source": [
        "####  47. Given two arrays, X and Y, construct the Cauchy matrix C (Cij =1/(xi - yj)) \n",
        "(**hint**: np.subtract.outer)"
      ]
    },
    {
      "cell_type": "code",
      "execution_count": 130,
      "metadata": {
        "id": "TDXHrAxtREP2",
        "colab": {
          "base_uri": "https://localhost:8080/"
        },
        "outputId": "4a0dd117-5e00-4f98-dda2-b1522648612a"
      },
      "outputs": [
        {
          "output_type": "stream",
          "name": "stdout",
          "text": [
            "396.0368295558234\n"
          ]
        }
      ],
      "source": [
        "x = np.arange(6)\n",
        "y = x + 0.5\n",
        "cauchy = 1.0 / np.subtract.outer(x, y)\n",
        "print(np.linalg.det(cauchy))"
      ]
    },
    {
      "cell_type": "markdown",
      "metadata": {
        "id": "QpyYTSq4REP2"
      },
      "source": [
        "#### 48. Print the minimum and maximum representable value for each numpy scalar type (★★☆) \n",
        "(**hint**: np.iinfo, np.finfo, eps)"
      ]
    },
    {
      "cell_type": "code",
      "execution_count": 131,
      "metadata": {
        "id": "gh96cFOXREP2",
        "colab": {
          "base_uri": "https://localhost:8080/"
        },
        "outputId": "1c5c7703-6aa2-4e42-ccb5-d28a1ee8b926"
      },
      "outputs": [
        {
          "output_type": "stream",
          "name": "stdout",
          "text": [
            "-128\n",
            "127\n",
            "-2147483648\n",
            "2147483647\n",
            "-9223372036854775808\n",
            "9223372036854775807\n",
            "-3.4028235e+38\n",
            "3.4028235e+38\n",
            "1.1920929e-07\n",
            "-1.7976931348623157e+308\n",
            "1.7976931348623157e+308\n",
            "2.220446049250313e-16\n"
          ]
        }
      ],
      "source": [
        "for dtype in [np.int8, np.int32, np.int64]:\n",
        "   print(np.iinfo(dtype).min)\n",
        "   print(np.iinfo(dtype).max)\n",
        "for dtype in [np.float32, np.float64]:\n",
        "   print(np.finfo(dtype).min)\n",
        "   print(np.finfo(dtype).max)\n",
        "   print(np.finfo(dtype).eps)"
      ]
    },
    {
      "cell_type": "markdown",
      "metadata": {
        "id": "06bS6fw2REP2"
      },
      "source": [
        "#### 49. How to print all the values of an array? (★★☆) \n",
        "(**hint**: np.set\\_printoptions)"
      ]
    },
    {
      "cell_type": "code",
      "execution_count": 132,
      "metadata": {
        "id": "ZrN6tvwqREP2",
        "colab": {
          "base_uri": "https://localhost:8080/"
        },
        "outputId": "b7d0cf2f-9305-46e2-c7aa-4b0678188feb"
      },
      "outputs": [
        {
          "output_type": "stream",
          "name": "stdout",
          "text": [
            "[[0. 0. 0. 0. 0. 0. 0. 0. 0. 0. 0. 0. 0. 0. 0. 0. 0. 0. 0. 0.]\n",
            " [0. 0. 0. 0. 0. 0. 0. 0. 0. 0. 0. 0. 0. 0. 0. 0. 0. 0. 0. 0.]\n",
            " [0. 0. 0. 0. 0. 0. 0. 0. 0. 0. 0. 0. 0. 0. 0. 0. 0. 0. 0. 0.]\n",
            " [0. 0. 0. 0. 0. 0. 0. 0. 0. 0. 0. 0. 0. 0. 0. 0. 0. 0. 0. 0.]\n",
            " [0. 0. 0. 0. 0. 0. 0. 0. 0. 0. 0. 0. 0. 0. 0. 0. 0. 0. 0. 0.]\n",
            " [0. 0. 0. 0. 0. 0. 0. 0. 0. 0. 0. 0. 0. 0. 0. 0. 0. 0. 0. 0.]\n",
            " [0. 0. 0. 0. 0. 0. 0. 0. 0. 0. 0. 0. 0. 0. 0. 0. 0. 0. 0. 0.]\n",
            " [0. 0. 0. 0. 0. 0. 0. 0. 0. 0. 0. 0. 0. 0. 0. 0. 0. 0. 0. 0.]\n",
            " [0. 0. 0. 0. 0. 0. 0. 0. 0. 0. 0. 0. 0. 0. 0. 0. 0. 0. 0. 0.]\n",
            " [0. 0. 0. 0. 0. 0. 0. 0. 0. 0. 0. 0. 0. 0. 0. 0. 0. 0. 0. 0.]\n",
            " [0. 0. 0. 0. 0. 0. 0. 0. 0. 0. 0. 0. 0. 0. 0. 0. 0. 0. 0. 0.]\n",
            " [0. 0. 0. 0. 0. 0. 0. 0. 0. 0. 0. 0. 0. 0. 0. 0. 0. 0. 0. 0.]\n",
            " [0. 0. 0. 0. 0. 0. 0. 0. 0. 0. 0. 0. 0. 0. 0. 0. 0. 0. 0. 0.]\n",
            " [0. 0. 0. 0. 0. 0. 0. 0. 0. 0. 0. 0. 0. 0. 0. 0. 0. 0. 0. 0.]\n",
            " [0. 0. 0. 0. 0. 0. 0. 0. 0. 0. 0. 0. 0. 0. 0. 0. 0. 0. 0. 0.]\n",
            " [0. 0. 0. 0. 0. 0. 0. 0. 0. 0. 0. 0. 0. 0. 0. 0. 0. 0. 0. 0.]\n",
            " [0. 0. 0. 0. 0. 0. 0. 0. 0. 0. 0. 0. 0. 0. 0. 0. 0. 0. 0. 0.]\n",
            " [0. 0. 0. 0. 0. 0. 0. 0. 0. 0. 0. 0. 0. 0. 0. 0. 0. 0. 0. 0.]\n",
            " [0. 0. 0. 0. 0. 0. 0. 0. 0. 0. 0. 0. 0. 0. 0. 0. 0. 0. 0. 0.]\n",
            " [0. 0. 0. 0. 0. 0. 0. 0. 0. 0. 0. 0. 0. 0. 0. 0. 0. 0. 0. 0.]]\n"
          ]
        }
      ],
      "source": [
        "np.set_printoptions(threshold=float(\"inf\"))\n",
        "arr = np.zeros((20,20))\n",
        "print(arr)"
      ]
    },
    {
      "cell_type": "markdown",
      "metadata": {
        "id": "NQ10Jqs7REP2"
      },
      "source": [
        "#### 50. How to find the closest value (to a given scalar) in a vector? (★★☆) \n",
        "(**hint**: argmin)"
      ]
    },
    {
      "cell_type": "code",
      "execution_count": 133,
      "metadata": {
        "id": "9W2zp7IqREP2",
        "colab": {
          "base_uri": "https://localhost:8080/"
        },
        "outputId": "44dae7e8-7ca9-4059-bddf-b0cee8e807c2"
      },
      "outputs": [
        {
          "output_type": "stream",
          "name": "stdout",
          "text": [
            "39\n"
          ]
        }
      ],
      "source": [
        "vec= np.arange(50)\n",
        "tor = np.random.uniform(0,50)\n",
        "index = (np.abs(vec-tor)).argmin()\n",
        "print(vec[index])"
      ]
    },
    {
      "cell_type": "markdown",
      "metadata": {
        "id": "Uq5xRz23REP2"
      },
      "source": [
        "#### 51. Create a structured array representing a position (x,y) and a color (r,g,b) (★★☆) \n",
        "(**hint**: dtype)"
      ]
    },
    {
      "cell_type": "code",
      "execution_count": 134,
      "metadata": {
        "id": "xtkabd3uREP2",
        "colab": {
          "base_uri": "https://localhost:8080/"
        },
        "outputId": "7e85f2ad-0b55-4f7b-cf58-d989b2bf27fc"
      },
      "outputs": [
        {
          "output_type": "stream",
          "name": "stdout",
          "text": [
            "[((0., 0.), (0., 0., 0.)) ((0., 0.), (0., 0., 0.))\n",
            " ((0., 0.), (0., 0., 0.)) ((0., 0.), (0., 0., 0.))\n",
            " ((0., 0.), (0., 0., 0.)) ((0., 0.), (0., 0., 0.))\n",
            " ((0., 0.), (0., 0., 0.)) ((0., 0.), (0., 0., 0.))\n",
            " ((0., 0.), (0., 0., 0.)) ((0., 0.), (0., 0., 0.))]\n"
          ]
        },
        {
          "output_type": "stream",
          "name": "stderr",
          "text": [
            "/usr/local/lib/python3.7/dist-packages/ipykernel_launcher.py:5: FutureWarning: Passing (type, 1) or '1type' as a synonym of type is deprecated; in a future version of numpy, it will be understood as (type, (1,)) / '(1,)type'.\n",
            "  \"\"\"\n"
          ]
        }
      ],
      "source": [
        "array = np.zeros(10, [ ('position', [ ('x', float, 1),\n",
        "                                  ('y', float, 1)]),\n",
        "                   ('color',    [ ('r', float, 1),\n",
        "                                  ('g', float, 1),\n",
        "                                  ('b', float, 1)])])\n",
        "print(array)\n"
      ]
    },
    {
      "cell_type": "markdown",
      "metadata": {
        "id": "3U681rnfREP2"
      },
      "source": [
        "#### 52. Consider a random vector with shape (100,2) representing coordinates, find point by point distances (★★☆) \n",
        "(**hint**: np.atleast\\_2d, T, np.sqrt)"
      ]
    },
    {
      "cell_type": "code",
      "execution_count": 135,
      "metadata": {
        "id": "992ey-42REP3",
        "colab": {
          "base_uri": "https://localhost:8080/"
        },
        "outputId": "7f864ac4-0b55-49ae-b23d-d66111ff557d"
      },
      "outputs": [
        {
          "output_type": "stream",
          "name": "stdout",
          "text": [
            "[[0.         1.02078901 0.97564754 0.99205823 0.36910518 0.98826661\n",
            "  0.82873484 0.13118279 0.6064288  1.04894745 1.0008535  0.73359739\n",
            "  0.40675458 0.15331898 0.79121303 0.9787354  0.630552   0.85460051\n",
            "  0.22019038 0.76291839 0.55064739 0.56240838 0.52660396 0.79166508\n",
            "  0.34023328 0.62216301 0.61008513 0.68468376 0.30517928 0.22799813\n",
            "  0.94621532 0.70139227 0.88968172 0.54876327 0.55288516 0.25274012\n",
            "  0.55152131 0.56412594 1.14996436 0.49188249 0.69020557 0.70318151\n",
            "  0.54539896 0.27353945 0.06392378 0.58466986 0.70282219 1.10186755\n",
            "  0.28598653 0.70162115 0.96290149 0.74718265 1.08803742 0.42354887\n",
            "  0.89442156 0.66415647 0.6671096  0.50884842 0.60063334 0.20725424\n",
            "  0.05623616 0.73921862 0.54546174 0.42259025 1.04618525 0.23690973\n",
            "  0.14596491 0.87484084 0.34748307 0.67504239 0.85098416 0.801803\n",
            "  0.15382699 1.03227225 0.75469705 0.25457326 0.66052781 0.35239093\n",
            "  0.47199919 0.36755713 1.11131015 0.60271089 0.49953161 0.52002702\n",
            "  0.65757769 0.88460228 0.81843356 0.93950616 0.9883944  1.04829113\n",
            "  0.84231575 0.74182079 0.94059311 0.84352935 1.03045647 0.63933185\n",
            "  0.21005978 0.79955779 0.74196955 0.83184615]\n",
            " [1.02078901 0.         0.67821715 0.16735328 0.6518629  0.14914728\n",
            "  0.19780558 0.92075116 0.52094199 0.17142647 0.72415075 0.55701461\n",
            "  0.90182082 0.87233516 0.33521656 0.58324422 0.83283347 0.19796522\n",
            "  1.09616439 0.44675012 0.52836128 0.59677094 0.53303712 0.26291619\n",
            "  0.90499948 0.84734875 0.81345834 0.75850315 0.89253887 0.90294851\n",
            "  0.59284199 0.47049215 0.5133971  0.52176757 0.54082083 0.77332126\n",
            "  0.53165199 0.79095867 0.17478371 0.55554132 0.61114999 0.41619751\n",
            "  0.90209862 0.75296341 0.95686761 0.45919864 0.4833745  0.20040762\n",
            "  0.87079582 0.36515821 0.31225234 0.68633786 0.07384248 0.59773123\n",
            "  0.37878301 0.35681243 0.49496005 0.525569   0.90516517 0.84666796\n",
            "  0.9966228  0.54924341 0.81182834 0.60235202 0.09520549 0.92544572\n",
            "  0.89160578 0.69338211 0.90530988 0.43397446 0.71015055 0.49540634\n",
            "  0.91430691 0.07173812 0.76960787 0.83066946 0.36241578 0.77941895\n",
            "  0.811298   0.71953562 0.10618595 0.4340363  0.68942345 0.60874363\n",
            "  0.81630543 0.66862612 0.22229775 0.57514458 0.03263665 0.12613453\n",
            "  0.59970725 0.50504895 0.34428699 0.23846493 0.17594214 0.50180955\n",
            "  0.81214232 0.43156882 0.28419008 0.49293166]\n",
            " [0.97564754 0.67821715 0.         0.51350711 0.72264541 0.79807001\n",
            "  0.66940922 0.9558765  0.88233393 0.84240958 0.04739127 0.2669041\n",
            "  1.12820833 0.8409238  0.40947924 0.09896705 0.40090355 0.53314078\n",
            "  0.90362704 0.31836721 0.82946064 0.93392324 0.53880531 0.5101473\n",
            "  1.08998192 0.41696052 0.40627717 0.31438506 1.05583148 0.75592879\n",
            "  0.08594811 0.35882736 0.17587205 0.81576309 0.85162876 0.76573032\n",
            "  0.83588755 1.12704082 0.84368941 0.78851061 1.04233193 0.84694071\n",
            "  1.20867826 0.75003254 0.92767744 0.75179618 0.34645969 0.87812712\n",
            "  0.69788238 0.48056184 0.93162599 0.23174588 0.67987542 0.71740906\n",
            "  0.95417104 0.63753121 0.37687188 0.59366297 1.2412969  0.77245734\n",
            "  0.9895834  1.01586991 0.45944016 0.66531873 0.60414525 0.75807517\n",
            "  0.92448716 0.1079604  1.09481298 0.84023719 0.1384209  0.24502526\n",
            "  0.82213314 0.74738119 0.2583198  0.94826768 0.5977194  0.97015817\n",
            "  0.52122312 0.90557682 0.76895705 0.72849501 0.47733865 0.47993761\n",
            "  1.20132874 0.09166685 0.70749672 0.10398739 0.66236132 0.80107309\n",
            "  0.1454443  0.9754073  0.33393998 0.48453222 0.84077555 0.40445119\n",
            "  0.80934749 0.9435652  0.66934068 1.02086663]\n",
            " [0.99205823 0.16735328 0.51350711 0.         0.62860702 0.30483111\n",
            "  0.25438159 0.90815547 0.58109803 0.33753801 0.55886176 0.42278179\n",
            "  0.9421628  0.83917152 0.22269089 0.41731603 0.70712325 0.14460866\n",
            "  1.03443086 0.31695042 0.56733395 0.6546029  0.4721056  0.20121125\n",
            "  0.93347511 0.7228016  0.69092524 0.62546342 0.91418866 0.842496\n",
            "  0.42884591 0.35605563 0.35420615 0.5574469  0.58456811 0.73934993\n",
            "  0.5721042  0.85953261 0.33056693 0.57350926 0.70227241 0.49289616\n",
            "  0.96610845 0.71854341 0.92914644 0.48624921 0.36589365 0.36750863\n",
            "  0.80203476 0.29296069 0.46059468 0.54497476 0.16992775 0.5831795\n",
            "  0.5118456  0.35817347 0.38684073 0.48321051 0.97809766 0.8006698\n",
            "  0.97663429 0.64959074 0.69955539 0.57063955 0.09378662 0.86144711\n",
            "  0.87678085 0.53648282 0.93510255 0.50265869 0.55583898 0.35100097\n",
            "  0.86810496 0.23868163 0.62697292 0.83583288 0.34454827 0.80287067\n",
            "  0.7117179  0.73749806 0.25597915 0.45785074 0.5950394  0.52324569\n",
            "  0.90107143 0.51051427 0.29448274 0.41144782 0.15837551 0.29316956\n",
            "  0.44596593 0.60427074 0.18052037 0.14871345 0.33981963 0.40185895\n",
            "  0.78248674 0.54220622 0.31682994 0.61285079]\n",
            " [0.36910518 0.6518629  0.72264541 0.62860702 0.         0.62759058\n",
            "  0.46156589 0.28017434 0.31124822 0.68985524 0.75924399 0.45630727\n",
            "  0.40716003 0.22137699 0.44272913 0.69583462 0.50471171 0.48813795\n",
            "  0.47005963 0.44463724 0.23939119 0.30874141 0.19167953 0.42739591\n",
            "  0.36743216 0.50676352 0.47696955 0.50747556 0.33423589 0.29005405\n",
            "  0.66961221 0.38544297 0.59333504 0.23072325 0.25317199 0.12536083\n",
            "  0.24351672 0.44374171 0.78568938 0.16667186 0.45405362 0.37678718\n",
            "  0.50250196 0.10684926 0.30522412 0.23677259 0.39245402 0.74351849\n",
            "  0.28601632 0.34556694 0.62630401 0.52640361 0.71893683 0.05966351\n",
            "  0.57296224 0.29567112 0.35674984 0.15237603 0.54387777 0.21035605\n",
            "  0.34864937 0.47395837 0.42409826 0.06265903 0.67824407 0.31816763\n",
            "  0.24840787 0.64132419 0.37218721 0.34998352 0.62731967 0.501775\n",
            "  0.27374708 0.6656927  0.57180616 0.23059654 0.29164708 0.25008364\n",
            "  0.36471404 0.19029319 0.74384135 0.24752085 0.29192124 0.24858475\n",
            "  0.53497563 0.6405672  0.45459467 0.65814493 0.61941837 0.68505384\n",
            "  0.57751435 0.45777367 0.60126346 0.48147122 0.67231544 0.32703457\n",
            "  0.16054235 0.49092073 0.3757012  0.54457685]\n",
            " [0.98826661 0.14914728 0.79807001 0.30483111 0.62759058 0.\n",
            "  0.18059417 0.87654219 0.43101501 0.06355199 0.84504574 0.63984626\n",
            "  0.813774   0.84767076 0.41626556 0.70730418 0.89801724 0.27342699\n",
            "  1.09202734 0.53128904 0.45683324 0.5044801  0.55036836 0.32151254\n",
            "  0.82647583 0.91094777 0.8757221  0.83345581 0.81995029 0.90214268\n",
            "  0.71212973 0.53970004 0.62612938 0.45371048 0.46412182 0.7528576\n",
            "  0.45855191 0.68339584 0.16626891 0.50081505 0.49125159 0.31969578\n",
            "  0.79572578 0.73373277 0.92498013 0.40481524 0.55437487 0.11729227\n",
            "  0.87864647 0.41068855 0.16343096 0.77245722 0.20597092 0.56903616\n",
            "  0.23603125 0.34109354 0.5568085  0.5271165  0.79219879 0.83436927\n",
            "  0.95695865 0.42434047 0.86352688 0.58864134 0.2442246  0.92730489\n",
            "  0.85015761 0.79908694 0.82570253 0.34329747 0.81185869 0.59131502\n",
            "  0.9001324  0.08850958 0.85526651 0.77378507 0.36287696 0.70866619\n",
            "  0.85037271 0.65572621 0.15689618 0.38556662 0.72789148 0.64294034\n",
            "  0.69638747 0.77656426 0.17444808 0.69408274 0.14712322 0.06558984\n",
            "  0.70294233 0.38268206 0.46867406 0.32265265 0.04992454 0.55593197\n",
            "  0.78635904 0.30338842 0.256071   0.35570627]\n",
            " [0.82873484 0.19780558 0.66940922 0.25438159 0.46156589 0.18059417\n",
            "  0.         0.72506082 0.33352492 0.24373738 0.71676984 0.47804059\n",
            "  0.70860322 0.68293999 0.2639989  0.58780123 0.72346058 0.1425147\n",
            "  0.91844939 0.37448055 0.33281468 0.40883252 0.370032   0.16203678\n",
            "  0.70892473 0.73574478 0.70025964 0.6637217  0.69542496 0.72692262\n",
            "  0.58516596 0.37206986 0.49355943 0.32544925 0.34669368 0.5854275\n",
            "  0.33650548 0.61020659 0.32605171 0.35773945 0.44789121 0.23908815\n",
            "  0.71904815 0.56556646 0.76487549 0.26146821 0.38734056 0.29677149\n",
            "  0.7009011  0.23599463 0.26708798 0.61022459 0.27031108 0.40527885\n",
            "  0.28574432 0.16694155 0.38489541 0.34935139 0.72763273 0.66333228\n",
            "  0.80224246 0.39622758 0.68516222 0.4168866  0.25362337 0.75131748\n",
            "  0.6965027  0.65310954 0.70948466 0.25082748 0.66164287 0.44176977\n",
            "  0.73017981 0.20418062 0.69154372 0.6330071  0.18361329 0.58229053\n",
            "  0.67011837 0.52184476 0.28257597 0.23624881 0.54780449 0.46265592\n",
            "  0.64749699 0.63347998 0.04183179 0.56723884 0.16735604 0.22841043\n",
            "  0.55677934 0.35098307 0.36398045 0.18715039 0.23016577 0.38082081\n",
            "  0.62203712 0.2942008  0.08724949 0.36867991]\n",
            " [0.13118279 0.92075116 0.9558765  0.90815547 0.28017434 0.87654219\n",
            "  0.72506082 0.         0.48070445 0.93574578 0.98617682 0.69940173\n",
            "  0.29157126 0.12458036 0.7209061  0.94577943 0.64951774 0.76650838\n",
            "  0.33364913 0.71022821 0.42908942 0.43316832 0.46085276 0.70702981\n",
            "  0.22531512 0.64433633 0.62558444 0.68776419 0.18638758 0.26519292\n",
            "  0.91577514 0.64894775 0.8494171  0.42864821 0.42920844 0.19171816\n",
            "  0.42932217 0.43697837 1.0405508  0.37595575 0.55914258 0.58126486\n",
            "  0.42884749 0.20960071 0.08926972 0.47180308 0.65310884 0.9879017\n",
            "  0.31277298 0.62522127 0.84088135 0.73608286 0.99037049 0.32622054\n",
            "  0.7694121  0.56505508 0.61668767 0.43086643 0.48342682 0.19817037\n",
            "  0.08382691 0.60901786 0.56145496 0.34069328 0.95436567 0.28611382\n",
            "  0.03268091 0.86156662 0.23272767 0.55329266 0.8411621  0.75863954\n",
            "  0.18562594 0.92629806 0.7579602  0.12344803 0.56741395 0.22125306\n",
            "  0.48734981 0.23906923 1.00648983 0.49256436 0.4818248  0.48033741\n",
            "  0.5320446  0.86723989 0.71072254 0.90682713 0.88883979 0.93833601\n",
            "  0.81556935 0.6129901  0.87719311 0.76149595 0.91674548 0.5873767\n",
            "  0.14680098 0.67314971 0.63781213 0.70268973]\n",
            " [0.6064288  0.52094199 0.88233393 0.58109803 0.31124822 0.43101501\n",
            "  0.33352492 0.48070445 0.         0.48209868 0.92663042 0.63061566\n",
            "  0.38364553 0.49172176 0.49557078 0.82394781 0.77645495 0.44521884\n",
            "  0.76069131 0.56464426 0.07282464 0.07584255 0.38389705 0.41798487\n",
            "  0.39604112 0.78244414 0.74880915 0.75374425 0.39219248 0.59547374\n",
            "  0.80896615 0.52571268 0.71765858 0.08397423 0.05857887 0.41895121\n",
            "  0.06802192 0.27847574 0.59649445 0.14521646 0.16399595 0.1116049\n",
            "  0.38576629 0.40617101 0.54799827 0.13118675 0.53944961 0.53005636\n",
            "  0.59684143 0.40560201 0.36352599 0.7407567  0.59474526 0.26017051\n",
            "  0.28873633 0.25279327 0.51460722 0.32685134 0.39738843 0.50828361\n",
            "  0.56448528 0.16473536 0.7067228  0.31531046 0.58685457 0.62426699\n",
            "  0.46066533 0.82931882 0.39501566 0.08823743 0.82555505 0.63747621\n",
            "  0.56209526 0.5009548  0.80647382 0.36383278 0.28881166 0.28441479\n",
            "  0.65883432 0.24292367 0.58095383 0.15392897 0.56054968 0.48797261\n",
            "  0.32921382 0.81891437 0.30042856 0.79307951 0.49425744 0.49650416\n",
            "  0.7435215  0.14680191 0.64478485 0.47050494 0.46199252 0.49202122\n",
            "  0.43499291 0.19323199 0.26483696 0.23533429]\n",
            " [1.04894745 0.17142647 0.84240958 0.33753801 0.68985524 0.06355199\n",
            "  0.24373738 0.93574578 0.48209868 0.         0.88897667 0.69557415\n",
            "  0.86242134 0.90946526 0.47104093 0.74943214 0.95767168 0.32713355\n",
            "  1.15511864 0.58613259 0.51278358 0.55383978 0.61369931 0.37937867\n",
            "  0.87813289 0.97085958 0.93577402 0.89133119 0.87331112 0.96546957\n",
            "  0.75654904 0.5976879  0.67302556 0.51048234 0.51870996 0.81518794\n",
            "  0.51410782 0.72475048 0.1176242  0.55979026 0.52766348 0.37052685\n",
            "  0.83695691 0.79619324 0.98584198 0.46461905 0.61211422 0.05388198\n",
            "  0.94217729 0.47135465 0.17097759 0.82784306 0.20906415 0.63107204\n",
            "  0.25692849 0.40456916 0.61608502 0.5906644  0.83006531 0.89718418\n",
            "  1.01670032 0.45840826 0.92490185 0.65170361 0.26373593 0.99070519\n",
            "  0.90985466 0.84900887 0.87703792 0.39559934 0.86311065 0.64358159\n",
            "  0.96275256 0.09980506 0.9109458  0.83099474 0.42637248 0.76300077\n",
            "  0.91290006 0.71198237 0.13549819 0.44639153 0.79031294 0.70554066\n",
            "  0.73075887 0.82566192 0.2377591  0.73861469 0.18084039 0.04669297\n",
            "  0.75342857 0.41931699 0.50984844 0.37547915 0.02023362 0.61629628\n",
            "  0.84814759 0.33783401 0.31949116 0.38014971]\n",
            " [1.0008535  0.72415075 0.04739127 0.55886176 0.75924399 0.84504574\n",
            "  0.71676984 0.98617682 0.92663042 0.88897667 0.         0.30579669\n",
            "  1.16575261 0.86936027 0.45653668 0.14204457 0.40941203 0.58050885\n",
            "  0.9195607  0.36365003 0.87273564 0.9771228  0.577981   0.55736955\n",
            "  1.12609234 0.42467909 0.41785099 0.32793308 1.09131866 0.77851687\n",
            "  0.13299984 0.40187455 0.22321501 0.85900783 0.89491681 0.79720333\n",
            "  0.87917354 1.16871463 0.8886336  0.83028546 1.08719608 0.89293232\n",
            "  1.24878079 0.78214211 0.95465653 0.79585282 0.38901301 0.92424117\n",
            "  0.72008581 0.52618087 0.9790007  0.25370623 0.72432808 0.75631302\n",
            "  1.00146149 0.6830942  0.41821898 0.63371345 1.28227276 0.7996958\n",
            "  1.01693571 1.06160881 0.47456709 0.70301168 0.6488578  0.77907793\n",
            "  0.95515563 0.1260178  1.13107653 0.88584565 0.15169451 0.29011582\n",
            "  0.84705565 0.79359423 0.26581739 0.98295449 0.64307757 1.00784013\n",
            "  0.53979452 0.94390005 0.81388486 0.77292945 0.50530025 0.5140729\n",
            "  1.24413513 0.11944158 0.75480168 0.15108241 0.70873776 0.84740122\n",
            "  0.18539667 1.02138845 0.37990598 0.53191935 0.88753529 0.44510475\n",
            "  0.84012964 0.99029335 0.71611115 1.06758916]\n",
            " [0.73359739 0.55701461 0.2669041  0.42278179 0.45630727 0.63984626\n",
            "  0.47804059 0.69940173 0.63061566 0.69557415 0.30579669 0.\n",
            "  0.86132872 0.59037956 0.22475636 0.24661149 0.28543637 0.36873269\n",
            "  0.69884195 0.11038691 0.5724654  0.67622289 0.27222942 0.31947211\n",
            "  0.82373893 0.30158309 0.27145285 0.20297179 0.79012796 0.52752974\n",
            "  0.21649639 0.11057043 0.15818811 0.55868847 0.59460166 0.50776108\n",
            "  0.57891554 0.86410853 0.73176548 0.52620396 0.79364738 0.61103354\n",
            "  0.94300696 0.49069414 0.6805478  0.49949024 0.09520899 0.74129857\n",
            "  0.47303422 0.25098755 0.74419661 0.13271667 0.58693759 0.45070688\n",
            "  0.74736723 0.40026557 0.11602554 0.32801998 0.97688956 0.52661218\n",
            "  0.74074742 0.77519151 0.29188159 0.3984665  0.51392028 0.53609709\n",
            "  0.66731752 0.19881077 0.8284627  0.59983328 0.19605954 0.08335957\n",
            "  0.58331995 0.61479013 0.2154422  0.6835763  0.35916663 0.70326905\n",
            "  0.32566105 0.63870504 0.66148759 0.47897156 0.23953863 0.21908601\n",
            "  0.94160621 0.19060719 0.50892059 0.20752656 0.53146214 0.66260722\n",
            "  0.12146748 0.73789059 0.27337733 0.32163857 0.68823019 0.14055625\n",
            "  0.55271049 0.71840309 0.45158362 0.79457962]\n",
            " [0.40675458 0.90182082 1.12820833 0.9421628  0.40716003 0.813774\n",
            "  0.70860322 0.29157126 0.38364553 0.86242134 1.16575261 0.86132872\n",
            "  0.         0.39586565 0.80608695 1.09528387 0.88876164 0.79895764\n",
            "  0.62266768 0.83606834 0.37666789 0.30930254 0.59054453 0.7554633\n",
            "  0.06674971 0.88722307 0.86221805 0.90641188 0.10539295 0.54358361\n",
            "  1.07129901 0.78093327 0.9901463  0.38549454 0.36191093 0.40652126\n",
            "  0.37253998 0.18344951 0.97830521 0.37290321 0.37037728 0.49421169\n",
            "  0.13865113 0.41285816 0.38009183 0.45592506 0.79014804 0.90807335\n",
            "  0.58119282 0.70531799 0.72649755 0.93264571 0.97562772 0.41258824\n",
            "  0.63957802 0.5861483  0.75599239 0.53894936 0.1938798  0.4603753\n",
            "  0.35053943 0.43812464 0.80214358 0.46289909 0.961252   0.56815295\n",
            "  0.30092231 1.0484791  0.05939848 0.47188254 1.03429731 0.89968379\n",
            "  0.46985887 0.88454121 0.97337653 0.20623317 0.60802832 0.15807762\n",
            "  0.73218802 0.22405007 0.96459922 0.48431764 0.68922152 0.65540733\n",
            "  0.26272319 1.04740649 0.67964711 1.05871152 0.87378578 0.87935658\n",
            "  0.98279344 0.46202788 0.96690191 0.81210554 0.84219818 0.72689441\n",
            "  0.38003555 0.5404964  0.62966411 0.53874553]\n",
            " [0.15331898 0.87233516 0.8409238  0.83917152 0.22137699 0.84767076\n",
            "  0.68293999 0.12458036 0.49172176 0.90946526 0.86936027 0.59037956\n",
            "  0.39586565 0.         0.63804279 0.83682866 0.52506142 0.70257629\n",
            "  0.27039167 0.61280576 0.42814739 0.46129921 0.37346005 0.63910706\n",
            "  0.33286777 0.51977292 0.50130921 0.56529549 0.29209231 0.14775229\n",
            "  0.80548785 0.55116771 0.7442608  0.42375517 0.43461586 0.10001668\n",
            "  0.43022183 0.51493786 1.00682748 0.3622437  0.60090006 0.57824121\n",
            "  0.5274451  0.1207986  0.09252052 0.44900246 0.55340306 0.96292561\n",
            "  0.18996131 0.54835439 0.83547597 0.61740505 0.93841694 0.27879569\n",
            "  0.7736537  0.51684435 0.51734782 0.35603486 0.58001937 0.07367763\n",
            "  0.15044966 0.63973633 0.43704959 0.27115771 0.89473056 0.17256721\n",
            "  0.10045675 0.74397909 0.34006237 0.55023894 0.72239062 0.65497897\n",
            "  0.07855398 0.88706926 0.63563866 0.19538521 0.51060542 0.28594716\n",
            "  0.36286395 0.27326588 0.96514933 0.46396853 0.36406946 0.37322599\n",
            "  0.61238988 0.75114012 0.67544815 0.79764522 0.83980504 0.90592598\n",
            "  0.70325445 0.63486477 0.78838637 0.69055846 0.8915606  0.48902445\n",
            "  0.06131799 0.68341357 0.59701135 0.72511745]\n",
            " [0.79121303 0.33521656 0.40947924 0.22269089 0.44272913 0.41626556\n",
            "  0.2639989  0.7209061  0.49557078 0.47104093 0.45653668 0.22475636\n",
            "  0.80608695 0.63804279 0.         0.33580609 0.49777557 0.14400163\n",
            "  0.8163982  0.11512266 0.45598937 0.55783674 0.26460944 0.10208726\n",
            "  0.78452671 0.51246608 0.4789034  0.4239341  0.75870235 0.62622705\n",
            "  0.32758064 0.13675072 0.23446207 0.44322674 0.47715176 0.54014228\n",
            "  0.46203055 0.76223542 0.5093507  0.43568102 0.64747981 0.44359106\n",
            "  0.85786732 0.51964343 0.73001161 0.37204031 0.14872485 0.51654369\n",
            "  0.58303852 0.10101208 0.53056111 0.3568075  0.37279736 0.40868002\n",
            "  0.54592137 0.2428019  0.1651405  0.29047339 0.88111396 0.59214877\n",
            "  0.78217644 0.61359136 0.4812568  0.38075386 0.30479923 0.6436536\n",
            "  0.68851178 0.38924358 0.78751931 0.44050777 0.39874776 0.17806208\n",
            "  0.65841446 0.39053067 0.43995932 0.66670309 0.20815183 0.65402618\n",
            "  0.48961846 0.58623899 0.44089656 0.34494567 0.37234907 0.30184744\n",
            "  0.82400741 0.36949377 0.2999447  0.31015446 0.30822116 0.43787553\n",
            "  0.29282822 0.57140258 0.1613592  0.09734476 0.46415487 0.17917135\n",
            "  0.58522194 0.53485681 0.26079962 0.61212927]\n",
            " [0.9787354  0.58324422 0.09896705 0.41731603 0.69583462 0.70730418\n",
            "  0.58780123 0.94577943 0.82394781 0.74943214 0.14204457 0.24661149\n",
            "  1.09528387 0.83682866 0.33580609 0.         0.44865567 0.44814844\n",
            "  0.92861447 0.26298993 0.77627455 0.88047066 0.5058169  0.43270658\n",
            "  1.06190554 0.46560269 0.44826607 0.35661    1.02990246 0.76740866\n",
            "  0.03649084 0.31455551 0.10701097 0.76280736 0.79824108 0.75407589\n",
            "  0.78260923 1.07917425 0.74672357 0.74212719 0.98033095 0.77903396\n",
            "  1.1665083  0.73673168 0.92663777 0.69543514 0.30515473 0.78355537\n",
            "  0.71101271 0.4183683  0.84578373 0.26333455 0.58229541 0.68272711\n",
            "  0.87353635 0.57375827 0.33978044 0.55637386 1.19574798 0.77221869\n",
            "  0.98712104 0.94895464 0.49284419 0.63554304 0.5068875  0.77323836\n",
            "  0.9136077  0.1682226  1.06622382 0.7748262  0.19894808 0.19563616\n",
            "  0.82723035 0.65317707 0.31441835 0.92548828 0.53561521 0.93761692\n",
            "  0.54577863 0.87127372 0.67197546 0.67039039 0.48059985 0.46547232\n",
            "  1.14852691 0.1409055  0.62726383 0.03923367 0.56878541 0.70721589\n",
            "  0.14052959 0.90707226 0.23959395 0.40090771 0.74869072 0.36926334\n",
            "  0.79917504 0.86969456 0.59624708 0.94683682]\n",
            " [0.630552   0.83283347 0.40090355 0.70712325 0.50471171 0.89801724\n",
            "  0.72346058 0.64951774 0.77645495 0.95767168 0.40941203 0.28543637\n",
            "  0.88876164 0.52506142 0.49777557 0.44865567 0.         0.63760868\n",
            "  0.51629006 0.39063381 0.70628348 0.79828363 0.39781093 0.57906964\n",
            "  0.83509206 0.01717202 0.02791203 0.09295241 0.79553341 0.40265467\n",
            "  0.41223368 0.36272547 0.40903357 0.69359975 0.72617212 0.48348649\n",
            "  0.71218727 0.94836252 1.00639478 0.64093026 0.93685662 0.7941041\n",
            "  1.00051079 0.47593709 0.59625241 0.65641435 0.34950006 1.0067048\n",
            "  0.34545463 0.4879118  0.97846098 0.18807143 0.86847736 0.53263883\n",
            "  0.96284244 0.60230427 0.34166322 0.4513586  1.04521079 0.45138985\n",
            "  0.6585787  0.93828869 0.08815403 0.47170514 0.79698398 0.39534481\n",
            "  0.62295287 0.2933256  0.84146753 0.77526835 0.26248265 0.36446234\n",
            "  0.48085867 0.8852879  0.14363146 0.68520202 0.5649084  0.74159587\n",
            "  0.16220934 0.69064882 0.93865277 0.64583216 0.21715182 0.29022345\n",
            "  1.03944694 0.31473699 0.74627689 0.41540651 0.80510384 0.92942218\n",
            "  0.31693731 0.90946805 0.55640613 0.59440208 0.94771605 0.34267996\n",
            "  0.51646186 0.91192793 0.67462805 0.98242675]\n",
            " [0.85460051 0.19796522 0.53314078 0.14460866 0.48813795 0.27342699\n",
            "  0.1425147  0.76650838 0.44521884 0.32713355 0.58050885 0.36873269\n",
            "  0.79895764 0.70257629 0.14400163 0.44814844 0.63760868 0.\n",
            "  0.91064574 0.25902383 0.42582126 0.51684793 0.34468238 0.06710982\n",
            "  0.78915161 0.6517171  0.61740785 0.56671716 0.76961032 0.71740864\n",
            "  0.44788659 0.27492927 0.35818252 0.41539087 0.44390417 0.6025602\n",
            "  0.43084931 0.72319455 0.36922662 0.42916132 0.57763475 0.36658024\n",
            "  0.82771023 0.58178939 0.79120356 0.34345639 0.28853887 0.37262235\n",
            "  0.68141462 0.16966029 0.39850445 0.50078231 0.24781526 0.44063703\n",
            "  0.42696334 0.21377635 0.29772315 0.3473167  0.84243998 0.66863359\n",
            "  0.83677152 0.53154903 0.61408733 0.43203486 0.19320617 0.73833716\n",
            "  0.73548949 0.5266203  0.79086047 0.37214945 0.5386426  0.31792228\n",
            "  0.73644362 0.24784193 0.58395724 0.69166624 0.20052577 0.65842027\n",
            "  0.61366443 0.59292156 0.30403772 0.31488139 0.4921388  0.41268446\n",
            "  0.77066736 0.50484461 0.18385273 0.42982815 0.16837772 0.29406519\n",
            "  0.43022339 0.48680273 0.22147786 0.04953838 0.32067647 0.3038558\n",
            "  0.64456003 0.4351614  0.1811629  0.51048968]\n",
            " [0.22019038 1.09616439 0.90362704 1.03443086 0.47005963 1.09202734\n",
            "  0.91844939 0.33364913 0.76069131 1.15511864 0.9195607  0.69884195\n",
            "  0.62266768 0.27039167 0.8163982  0.92861447 0.51629006 0.91064574\n",
            "  0.         0.75814191 0.69505526 0.73166237 0.56596361 0.84388848\n",
            "  0.55592185 0.50347344 0.50333197 0.59164128 0.51864289 0.19337008\n",
            "  0.89318421 0.70055204 0.85602473 0.68956383 0.70298177 0.34693744\n",
            "  0.6975903  0.76894355 1.24440783 0.62641758 0.87039854 0.84241695\n",
            "  0.76100485 0.36365401 0.24444607 0.70644678 0.6971088  1.20899178\n",
            "  0.23364409 0.74364837 1.09593108 0.67275295 1.15638385 0.5297116\n",
            "  1.03881128 0.752166   0.66553226 0.57124988 0.81595131 0.25971775\n",
            "  0.27534941 0.91012784 0.44500752 0.50341564 1.10307989 0.17298443\n",
            "  0.33343073 0.79660249 0.56329039 0.81475781 0.76831895 0.77793639\n",
            "  0.19907544 1.12093869 0.65641023 0.44766272 0.7369094  0.54514356\n",
            "  0.38353503 0.54184943 1.19539525 0.71745164 0.46230822 0.51644029\n",
            "  0.86489518 0.81258934 0.91763039 0.89055531 1.06362481 1.1462128\n",
            "  0.78808493 0.90479975 0.94575292 0.88815238 1.1383569  0.64287869\n",
            "  0.32571132 0.95101765 0.8364077  0.99492199]\n",
            " [0.76291839 0.44675012 0.31836721 0.31695042 0.44463724 0.53128904\n",
            "  0.37448055 0.71022821 0.56464426 0.58613259 0.36365003 0.11038691\n",
            "  0.83606834 0.61280576 0.11512266 0.26298993 0.39063381 0.25902383\n",
            "  0.75814191 0.         0.51424782 0.61865245 0.25308854 0.21332211\n",
            "  0.80596374 0.40610984 0.37399153 0.31215677 0.775829   0.57518821\n",
            "  0.24484125 0.06164461 0.15606052 0.500687   0.53631118 0.52078253\n",
            "  0.52062209 0.81625591 0.62146691 0.47918359 0.7240139  0.52983331\n",
            "  0.9038278  0.50154746 0.70516693 0.43471018 0.06134444 0.63133114\n",
            "  0.52570428 0.16271492 0.64155336 0.24177833 0.47829081 0.42476197\n",
            "  0.6509294  0.31948774 0.09591573 0.29819952 0.93275953 0.55706154\n",
            "  0.76202148 0.69807631 0.38468564 0.38252993 0.40635423 0.58849548\n",
            "  0.67756361 0.28131635 0.80988577 0.52223823 0.28760375 0.07357054\n",
            "  0.61964355 0.50446582 0.32501449 0.6751368  0.2794328  0.67923492\n",
            "  0.40481344 0.61215197 0.55145804 0.41071559 0.29806121 0.24613704\n",
            "  0.88667948 0.26452129 0.40787845 0.22959101 0.42107688 0.55255815\n",
            "  0.18678669 0.65820543 0.18812843 0.21144708 0.57926742 0.12378421\n",
            "  0.5667615  0.63050078 0.35799457 0.70757997]\n",
            " [0.55064739 0.52836128 0.82946064 0.56733395 0.23939119 0.45683324\n",
            "  0.33281468 0.42908942 0.07282464 0.51278358 0.87273564 0.5724654\n",
            "  0.37666789 0.42814739 0.45598937 0.77627455 0.70628348 0.42582126\n",
            "  0.69505526 0.51424782 0.         0.10448974 0.31728908 0.38893646\n",
            "  0.37664295 0.71186569 0.67854524 0.68652252 0.36554475 0.52581213\n",
            "  0.7590572  0.47086345 0.66936073 0.01377696 0.02218368 0.35059543\n",
            "  0.00645113 0.30624825 0.62301008 0.07279359 0.23084367 0.15255623\n",
            "  0.40459686 0.33680912 0.49026106 0.08461837 0.48385656 0.56343939\n",
            "  0.52534077 0.36052466 0.4123506  0.67782355 0.6018578  0.18740615\n",
            "  0.34577406 0.21812505 0.45668006 0.25923997 0.42526409 0.43997856\n",
            "  0.51213755 0.23749415 0.63528357 0.24263949 0.58470658 0.55447293\n",
            "  0.40627461 0.77118451 0.37696743 0.12444353 0.76574055 0.58584044\n",
            "  0.4960167  0.51810879 0.74108892 0.31882381 0.2481506  0.25296345\n",
            "  0.58643163 0.1992001  0.59913877 0.11293789 0.48978766 0.41919529\n",
            "  0.37243218 0.76228864 0.30640312 0.74380237 0.49928232 0.52112425\n",
            "  0.68821367 0.21847778 0.61127942 0.4442221  0.49316773 0.43242678\n",
            "  0.36975546 0.2559845  0.25303285 0.30539265]\n",
            " [0.56240838 0.59677094 0.93392324 0.6546029  0.30874141 0.5044801\n",
            "  0.40883252 0.43316832 0.07584255 0.55383978 0.9771228  0.67622289\n",
            "  0.30930254 0.46129921 0.55783674 0.88047066 0.79828363 0.51684793\n",
            "  0.73166237 0.61865245 0.10448974 0.         0.41693747 0.48577499\n",
            "  0.32574292 0.80276457 0.77039889 0.78391265 0.32558454 0.57838046\n",
            "  0.8634808  0.57526758 0.77360611 0.11816282 0.08236041 0.4006038\n",
            "  0.09808108 0.20680756 0.66924529 0.15789872 0.14575268 0.18494028\n",
            "  0.31150929 0.39103119 0.50728707 0.18603126 0.58817796 0.60054427\n",
            "  0.58714892 0.46386922 0.42636791 0.77930075 0.67056747 0.26755914\n",
            "  0.34531293 0.31686756 0.56061565 0.35831292 0.3263257  0.48819118\n",
            "  0.51668729 0.17867529 0.72362038 0.32757078 0.66233375 0.60733534\n",
            "  0.41679819 0.87480051 0.32415267 0.16345468 0.86876772 0.69032222\n",
            "  0.53579735 0.57600465 0.84047144 0.31175788 0.34969059 0.22347004\n",
            "  0.66985952 0.19492994 0.65571549 0.21290544 0.58113205 0.51530077\n",
            "  0.2680709  0.86629452 0.376193   0.84817349 0.57009076 0.57005938\n",
            "  0.79248056 0.17993301 0.71085769 0.53966282 0.53364692 0.53593233\n",
            "  0.40891355 0.24585596 0.33780452 0.26953518]\n",
            " [0.52660396 0.53303712 0.53880531 0.4721056  0.19167953 0.55036836\n",
            "  0.370032   0.46085276 0.38389705 0.61369931 0.577981   0.27222942\n",
            "  0.59054453 0.37346005 0.26460944 0.5058169  0.39781093 0.34468238\n",
            "  0.56596361 0.25308854 0.31728908 0.41693747 0.         0.27797021\n",
            "  0.5561043  0.4057242  0.37082847 0.36984721 0.52453076 0.37275819\n",
            "  0.4809155  0.19379919 0.40224176 0.30386241 0.33860806 0.2760746\n",
            "  0.32355807 0.59510772 0.68985552 0.26092616 0.54716459 0.39657332\n",
            "  0.67107001 0.25577505 0.46553868 0.25940186 0.20123011 0.66680181\n",
            "  0.33784117 0.17919727 0.59872643 0.36312144 0.59097952 0.17862481\n",
            "  0.57179459 0.21805685 0.16604225 0.05870572 0.7060093  0.32917959\n",
            "  0.51860019 0.54256668 0.33774934 0.13007533 0.53727725 0.39375594\n",
            "  0.42820691 0.46601883 0.56040693 0.37745742 0.45648989 0.31086031\n",
            "  0.39629204 0.56460861 0.42387761 0.42227283 0.18844658 0.43253799\n",
            "  0.30743865 0.36709834 0.63507598 0.24802188 0.19040487 0.10798236\n",
            "  0.67647723 0.46147404 0.38048118 0.46868434 0.5007909  0.59671791\n",
            "  0.39344082 0.51222257 0.41691333 0.32401897 0.5995676  0.13659869\n",
            "  0.32153434 0.51499778 0.30035735 0.58470666]\n",
            " [0.79166508 0.26291619 0.5101473  0.20121125 0.42739591 0.32151254\n",
            "  0.16203678 0.70702981 0.41798487 0.37937867 0.55736955 0.31947211\n",
            "  0.7554633  0.63910706 0.10208726 0.43270658 0.57906964 0.06710982\n",
            "  0.84388848 0.21332211 0.38893646 0.48577499 0.27797021 0.\n",
            "  0.74146484 0.59264367 0.55786923 0.51209457 0.71977113 0.65072665\n",
            "  0.42708979 0.21835224 0.33446332 0.37736088 0.40859456 0.5391414\n",
            "  0.39447068 0.69246783 0.43129764 0.38286274 0.56168457 0.35318859\n",
            "  0.79347745 0.51833787 0.72854176 0.30457851 0.23290883 0.42770103\n",
            "  0.61436834 0.10275969 0.42891454 0.45217687 0.31486578 0.38261359\n",
            "  0.44427647 0.17101187 0.23750784 0.28314916 0.81199359 0.60331202\n",
            "  0.77550612 0.52247549 0.55149328 0.36966166 0.25934934 0.67146383\n",
            "  0.6756009  0.49107276 0.74361705 0.35370714 0.49983822 0.27973669\n",
            "  0.67105429 0.30769542 0.53453977 0.63723237 0.14819866 0.61022187\n",
            "  0.5484909  0.5435663  0.36845025 0.27604364 0.42651062 0.34620036\n",
            "  0.74689683 0.47155411 0.19796487 0.40938873 0.23222757 0.35038834\n",
            "  0.39475549 0.47906776 0.22762104 0.05687004 0.37058242 0.24076011\n",
            "  0.58183512 0.43725202 0.16580303 0.5142784 ]\n",
            " [0.34023328 0.90499948 1.08998192 0.93347511 0.36743216 0.82647583\n",
            "  0.70892473 0.22531512 0.39604112 0.87813289 1.12609234 0.82373893\n",
            "  0.06674971 0.33286777 0.78452671 1.06190554 0.83509206 0.78915161\n",
            "  0.55592185 0.80596374 0.37664295 0.32574292 0.5561043  0.74146484\n",
            "  0.         0.83277712 0.80898471 0.85716361 0.04082823 0.48055548\n",
            "  1.0364757  0.74892741 0.95806849 0.3834858  0.36510091 0.35160902\n",
            "  0.37345983 0.23767361 0.99231478 0.35999088 0.40867272 0.50763823\n",
            "  0.20530787 0.35995178 0.31355315 0.45009759 0.75716797 0.92573488\n",
            "  0.52021086 0.68352692 0.75086643 0.88820704 0.9784579  0.38134805\n",
            "  0.6667795  0.57537569 0.72214551 0.50776852 0.26047208 0.39947987\n",
            "  0.28405157 0.47285729 0.74778745 0.4264601  0.95895079 0.50448912\n",
            "  0.23609702 1.00671043 0.00741349 0.48321417 0.99111557 0.86687358\n",
            "  0.40545652 0.89293109 0.92512833 0.14991551 0.59326755 0.13128108\n",
            "  0.6766216  0.19860786 0.97369905 0.47763886 0.64072185 0.61290678\n",
            "  0.32383284 1.00709491 0.68299759 1.02461559 0.87579058 0.89178937\n",
            "  0.94492678 0.49175084 0.94587848 0.79833406 0.85801624 0.69264387\n",
            "  0.32161614 0.5668847  0.62666814 0.57339788]\n",
            " [0.62216301 0.84734875 0.41696052 0.7228016  0.50676352 0.91094777\n",
            "  0.73574478 0.64433633 0.78244414 0.97085958 0.42467909 0.30158309\n",
            "  0.88722307 0.51977292 0.51246608 0.46560269 0.01717202 0.6517171\n",
            "  0.50347344 0.40610984 0.71186569 0.80276457 0.4057242  0.59264367\n",
            "  0.83277712 0.         0.03569274 0.11011249 0.79301607 0.39457373\n",
            "  0.42919532 0.37698761 0.42616811 0.69930945 0.73152674 0.48125634\n",
            "  0.71770859 0.95005846 1.02069219 0.64575492 0.94217002 0.8022744\n",
            "  1.0004473  0.47440292 0.5892325  0.66360263 0.36397769 1.02013494\n",
            "  0.33796148 0.50052723 0.98953814 0.20523416 0.88364088 0.53639186\n",
            "  0.972665   0.61236798 0.35513983 0.45836643 1.04568722 0.44617523\n",
            "  0.65134551 0.9448242  0.08507957 0.47561659 0.81240026 0.38621438\n",
            "  0.61827453 0.30954909 0.83922818 0.78303846 0.27856256 0.38101705\n",
            "  0.47351679 0.89925821 0.15915428 0.68298741 0.57538108 0.74130973\n",
            "  0.15733935 0.69145101 0.9532526  0.65365174 0.2221042  0.29783246\n",
            "  1.04172786 0.33126613 0.75797635 0.43246603 0.81942659 0.94303201\n",
            "  0.33409927 0.91660199 0.57298965 0.60888556 0.96070044 0.3551999\n",
            "  0.5131232  0.92043074 0.68562576 0.99041832]\n",
            " [0.61008513 0.81345834 0.40627717 0.69092524 0.47696955 0.8757221\n",
            "  0.70025964 0.62558444 0.74880915 0.93577402 0.41785099 0.27145285\n",
            "  0.86221805 0.50130921 0.4789034  0.44826607 0.02791203 0.61740785\n",
            "  0.50333197 0.37399153 0.67854524 0.77039889 0.37082847 0.55786923\n",
            "  0.80898471 0.03569274 0.         0.09243041 0.76955566 0.38209551\n",
            "  0.41177546 0.34296902 0.40227975 0.66588689 0.69839291 0.45744929\n",
            "  0.68443753 0.92065822 0.98652569 0.61307388 0.90907619 0.76728762\n",
            "  0.97330613 0.44950586 0.57418465 0.62914163 0.33023561 0.98520298\n",
            "  0.32430561 0.46519339 0.95384649 0.18523838 0.85069172 0.50472725\n",
            "  0.93710246 0.5767492  0.32038004 0.4239979  1.01781826 0.4276436\n",
            "  0.63670256 0.91080004 0.06481736 0.44379316 0.77993416 0.3762074\n",
            "  0.59859909 0.29831801 0.81531473 0.74825239 0.26833945 0.35230756\n",
            "  0.45927471 0.86477344 0.15311365 0.65907122 0.53970818 0.7145039\n",
            "  0.13916183 0.66318535 0.91945288 0.6188321  0.18927179 0.2630717\n",
            "  1.01163883 0.31795508 0.72234618 0.41373988 0.78531399 0.90823697\n",
            "  0.31328426 0.8821864  0.54416349 0.57501111 0.92550008 0.31986064\n",
            "  0.49113396 0.88529809 0.64993343 0.95552573]\n",
            " [0.68468376 0.75850315 0.31438506 0.62546342 0.50747556 0.83345581\n",
            "  0.6637217  0.68776419 0.75374425 0.89133119 0.32793308 0.20297179\n",
            "  0.90641188 0.56529549 0.4239341  0.35661    0.09295241 0.56671716\n",
            "  0.59164128 0.31215677 0.68652252 0.78391265 0.36984721 0.51209457\n",
            "  0.85716361 0.11011249 0.09243041 0.         0.81894041 0.45810725\n",
            "  0.32013344 0.29376618 0.31678174 0.67324244 0.70750869 0.50915448\n",
            "  0.69271362 0.94833449 0.93303203 0.62618566 0.91688354 0.75867568\n",
            "  1.00969842 0.49820308 0.6440825  0.62794604 0.27922129 0.93873768\n",
            "  0.3994865  0.42822829 0.9248714  0.09512259 0.78986905 0.52552224\n",
            "  0.91676765 0.55731728 0.27894052 0.42733008 1.05128306 0.49247065\n",
            "  0.70688562 0.91138626 0.14671886 0.46494998 0.7168696  0.45565765\n",
            "  0.65895095 0.20647107 0.86310102 0.7423134  0.17709357 0.27760885\n",
            "  0.53161165 0.81427549 0.07040402 0.70798435 0.51785737 0.7537151\n",
            "  0.21475058 0.69745343 0.86352076 0.61379059 0.21727755 0.26879637\n",
            "  1.03575604 0.22557095 0.69002328 0.32280213 0.73209442 0.86054439\n",
            "  0.22398685 0.87930331 0.46864648 0.52127498 0.88266021 0.2867208\n",
            "  0.54714553 0.87383379 0.6232076  0.94694844]\n",
            " [0.30517928 0.89253887 1.05583148 0.91418866 0.33423589 0.81995029\n",
            "  0.69542496 0.18638758 0.39219248 0.87331112 1.09131866 0.79012796\n",
            "  0.10539295 0.29209231 0.75870235 1.02990246 0.79553341 0.76961032\n",
            "  0.51864289 0.775829   0.36554475 0.32558454 0.52453076 0.71977113\n",
            "  0.04082823 0.79301607 0.76955566 0.81894041 0.         0.4398037\n",
            "  1.00384788 0.7179966  0.92677244 0.37110219 0.35611686 0.31210782\n",
            "  0.36297662 0.26347768 0.98615755 0.34152416 0.42115225 0.50320756\n",
            "  0.24257661 0.32109511 0.27522542 0.43466714 0.72576085 0.92200393\n",
            "  0.47939989 0.65786997 0.7519444  0.85169882 0.9656216  0.35237715\n",
            "  0.67005043 0.55617083 0.69040277 0.47799956 0.29735951 0.35868574\n",
            "  0.24932382 0.48233577 0.70808048 0.39450263 0.94319421 0.46384735\n",
            "  0.19577797 0.97116079 0.04797192 0.47771462 0.95501798 0.83536044\n",
            "  0.36500758 0.88359538 0.88720621 0.1109657  0.571749   0.1131362\n",
            "  0.63664038 0.17669063 0.96459264 0.46145741 0.60293827 0.5775264\n",
            "  0.3538503  0.97213698 0.67138777 0.99232481 0.8627194  0.88490825\n",
            "  0.91105421 0.49777071 0.91999984 0.77659527 0.85331829 0.66077604\n",
            "  0.28122481 0.57018051 0.61161974 0.5821017 ]\n",
            " [0.22799813 0.90294851 0.75592879 0.842496   0.29005405 0.90214268\n",
            "  0.72692262 0.26519292 0.59547374 0.96546957 0.77851687 0.52752974\n",
            "  0.54358361 0.14775229 0.62622705 0.76740866 0.40265467 0.71740864\n",
            "  0.19337008 0.57518821 0.52581213 0.57838046 0.37275819 0.65072665\n",
            "  0.48055548 0.39457373 0.38209551 0.45810725 0.4398037  0.\n",
            "  0.73341737 0.5157729  0.68568579 0.51846077 0.53690353 0.17784825\n",
            "  0.52923697 0.65625398 1.05256321 0.45418922 0.72265772 0.66682444\n",
            "  0.67435346 0.18931096 0.19701203 0.52586275 0.51384389 1.01934398\n",
            "  0.05865661 0.55090525 0.91455685 0.52515484 0.96301412 0.34860292\n",
            "  0.86300476 0.56136055 0.48058867 0.37858247 0.72641469 0.09159029\n",
            "  0.25792136 0.75327769 0.31751082 0.31510979 0.91000436 0.02895863\n",
            "  0.24613991 0.65267773 0.48776765 0.63992259 0.62751625 0.60244688\n",
            "  0.08134542 0.92866624 0.52776898 0.34146633 0.54458507 0.42724968\n",
            "  0.24433662 0.4037253  1.0025782  0.53400132 0.28807147 0.32986785\n",
            "  0.75374518 0.66434544 0.72771775 0.72844112 0.87043053 0.95510239\n",
            "  0.62823649 0.74206347 0.76108056 0.6956124  0.94913901 0.45617981\n",
            "  0.1764779  0.78012241 0.64611264 0.8306825 ]\n",
            " [0.94621532 0.59284199 0.08594811 0.42884591 0.66961221 0.71212973\n",
            "  0.58516596 0.91577514 0.80896615 0.75654904 0.13299984 0.21649639\n",
            "  1.07129901 0.80548785 0.32758064 0.03649084 0.41223368 0.44788659\n",
            "  0.89318421 0.24484125 0.7590572  0.8634808  0.4809155  0.42708979\n",
            "  1.0364757  0.42919532 0.41177546 0.32013344 1.00384788 0.73341737\n",
            "  0.         0.29240193 0.093215   0.74547933 0.78113298 0.72419177\n",
            "  0.7654373  1.0601929  0.7593273  0.72224642 0.96710159 0.76848594\n",
            "  1.14555368 0.70718819 0.89480715 0.67941665 0.28186136 0.79256187\n",
            "  0.67674196 0.40431027 0.84638188 0.22686874 0.59622498 0.65879278\n",
            "  0.87041472 0.56087659 0.31534356 0.53297615 1.17599717 0.74008589\n",
            "  0.95560502 0.93804745 0.45656423 0.61004113 0.52021966 0.73877051\n",
            "  0.88374292 0.134902   1.04094304 0.76302883 0.16485757 0.17398862\n",
            "  0.79425044 0.66175324 0.27870898 0.89849173 0.52185798 0.91337957\n",
            "  0.51010137 0.84750143 0.68464693 0.65508284 0.44733708 0.43554298\n",
            "  1.13148727 0.10691464 0.62372468 0.01808915 0.57662442 0.71535548\n",
            "  0.10541621 0.8968508  0.2487347  0.39953766 0.75484439 0.34441523\n",
            "  0.76902992 0.86242659 0.58827905 0.9397053 ]\n",
            " [0.70139227 0.47049215 0.35882736 0.35605563 0.38544297 0.53970004\n",
            "  0.37206986 0.64894775 0.52571268 0.5976879  0.40187455 0.11057043\n",
            "  0.78093327 0.55116771 0.13675072 0.31455551 0.36272547 0.27492927\n",
            "  0.70055204 0.06164461 0.47086345 0.57526758 0.19379919 0.21835224\n",
            "  0.74892741 0.37698761 0.34296902 0.29376618 0.7179966  0.5157729\n",
            "  0.29240193 0.         0.20930021 0.45713889 0.49304392 0.4592457\n",
            "  0.47730053 0.76881599 0.64371046 0.43042376 0.68763036 0.50135951\n",
            "  0.85315668 0.4400802  0.6435388  0.39462393 0.01553761 0.64554219\n",
            "  0.46742678 0.14087767 0.63666431 0.23948245 0.50954646 0.36855718\n",
            "  0.63737541 0.29024555 0.03518424 0.24199558 0.88398516 0.49573807\n",
            "  0.70038373 0.66669195 0.34467921 0.32379474 0.4409913  0.52990313\n",
            "  0.61629536 0.30551572 0.75303833 0.49094916 0.30560715 0.11896355\n",
            "  0.55867705 0.52271678 0.31971914 0.61603706 0.24917196 0.62347307\n",
            "  0.35644859 0.55688647 0.57651377 0.37265234 0.24387852 0.18601975\n",
            "  0.84251205 0.29348195 0.40107722 0.27874157 0.44243912 0.56768414\n",
            "  0.21782889 0.6286938  0.24545451 0.23206495 0.58889611 0.06214326\n",
            "  0.50522106 0.60791797 0.3414266  0.6841932 ]\n",
            " [0.88968172 0.5133971  0.17587205 0.35420615 0.59333504 0.62612938\n",
            "  0.49355943 0.8494171  0.71765858 0.67302556 0.22321501 0.15818811\n",
            "  0.9901463  0.7442608  0.23446207 0.10701097 0.40903357 0.35818252\n",
            "  0.85602473 0.15606052 0.66936073 0.77360611 0.40224176 0.33446332\n",
            "  0.95806849 0.42616811 0.40227975 0.31678174 0.92677244 0.68568579\n",
            "  0.093215   0.20930021 0.         0.65587612 0.69134701 0.65790593\n",
            "  0.67570311 0.97216896 0.68367939 0.63524366 0.8749181  0.67545363\n",
            "  1.05980912 0.63983704 0.83533629 0.5887665  0.20101199 0.71136056\n",
            "  0.63119746 0.31231711 0.75641232 0.2227572  0.52391745 0.57785329\n",
            "  0.77832647 0.46844665 0.2365932  0.45126253 1.08880115 0.68244485\n",
            "  0.89468933 0.84510914 0.43596963 0.53229215 0.4475654  0.6942336\n",
            "  0.8169878  0.18263817 0.96223304 0.67029023 0.20417054 0.09161663\n",
            "  0.74046174 0.58047527 0.29463486 0.82366642 0.4297916  0.83276104\n",
            "  0.47872391 0.76609701 0.60949718 0.56394174 0.39772605 0.37105087\n",
            "  1.04167436 0.15631836 0.53164009 0.07613844 0.49480408 0.63326701\n",
            "  0.09922211 0.80377935 0.17524019 0.30923782 0.67018628 0.26633054\n",
            "  0.70349337 0.76926533 0.49509069 0.84655081]\n",
            " [0.54876327 0.52176757 0.81576309 0.5574469  0.23072325 0.45371048\n",
            "  0.32544925 0.42864821 0.08397423 0.51048234 0.85900783 0.55868847\n",
            "  0.38549454 0.42375517 0.44322674 0.76280736 0.69359975 0.41539087\n",
            "  0.68956383 0.500687   0.01377696 0.11816282 0.30386241 0.37736088\n",
            "  0.3834858  0.69930945 0.66588689 0.67324244 0.37110219 0.51846077\n",
            "  0.74547933 0.45713889 0.65587612 0.         0.03594066 0.34416638\n",
            "  0.02022725 0.31905719 0.61969528 0.06430527 0.24386887 0.15495032\n",
            "  0.41647574 0.32983744 0.48784741 0.07278241 0.47011248 0.56158802\n",
            "  0.51672781 0.34738246 0.41423912 0.66416115 0.59509364 0.1773722\n",
            "  0.34992161 0.20639289 0.44290504 0.24592068 0.43790141 0.43345017\n",
            "  0.51132562 0.24863305 0.62306534 0.23146015 0.57648746 0.54702507\n",
            "  0.4050744  0.75740791 0.38404168 0.12681463 0.75197963 0.57220972\n",
            "  0.49048894 0.51322617 0.72760391 0.32052153 0.23560461 0.25815448\n",
            "  0.57486027 0.20207901 0.59429899 0.10136623 0.47727545 0.40613648\n",
            "  0.38601128 0.7485172  0.3002897  0.73025621 0.49234812 0.51762004\n",
            "  0.67446252 0.22803246 0.59898741 0.4328857  0.49100812 0.41865336\n",
            "  0.36478157 0.26208176 0.24434743 0.31389529]\n",
            " [0.55288516 0.54082083 0.85162876 0.58456811 0.25317199 0.46412182\n",
            "  0.34669368 0.42920844 0.05857887 0.51870996 0.89491681 0.59460166\n",
            "  0.36191093 0.43461586 0.47715176 0.79824108 0.72617212 0.44390417\n",
            "  0.70298177 0.53631118 0.02218368 0.08236041 0.33860806 0.40859456\n",
            "  0.36510091 0.73152674 0.69839291 0.70750869 0.35611686 0.53690353\n",
            "  0.78113298 0.49304392 0.69134701 0.03594066 0.         0.36049376\n",
            "  0.01574349 0.28525171 0.63038804 0.08832941 0.2106845  0.15279915\n",
            "  0.38496174 0.34760572 0.49343886 0.10522355 0.50604024 0.56859577\n",
            "  0.53848116 0.3821558  0.41178473 0.69959457 0.61450852 0.20351462\n",
            "  0.3416572  0.23814786 0.47883509 0.2803833  0.40447646 0.44985467\n",
            "  0.51270274 0.22121594 0.65436762 0.2603156  0.5995221  0.56569221\n",
            "  0.40766666 0.79330638 0.36504911 0.12530679 0.78777837 0.60796315\n",
            "  0.50419878 0.52800442 0.76247516 0.31581308 0.26912647 0.24455269\n",
            "  0.60442354 0.19500208 0.60888511 0.13308671 0.5094229  0.43981335\n",
            "  0.35037645 0.78445464 0.31853441 0.76584857 0.51227732 0.52890599\n",
            "  0.71039667 0.2053408  0.63181348 0.46353074 0.49890176 0.45452339\n",
            "  0.37728538 0.24891082 0.26897747 0.29384246]\n",
            " [0.25274012 0.77332126 0.76573032 0.73934993 0.12536083 0.7528576\n",
            "  0.5854275  0.19171816 0.41895121 0.81518794 0.79720333 0.50776108\n",
            "  0.40652126 0.10001668 0.54014228 0.75407589 0.48348649 0.6025602\n",
            "  0.34693744 0.52078253 0.35059543 0.4006038  0.2760746  0.5391414\n",
            "  0.35160902 0.48125634 0.45744929 0.50915448 0.31210782 0.17784825\n",
            "  0.72419177 0.4592457  0.65790593 0.34416638 0.36049376 0.\n",
            "  0.3536403  0.49184707 0.91032708 0.28037471 0.54517403 0.4958038\n",
            "  0.52554134 0.02080796 0.19028753 0.35992606 0.46271615 0.86886514\n",
            "  0.1914797  0.44908701 0.74916499 0.54962223 0.83892591 0.18462049\n",
            "  0.69230828 0.41880627 0.42634998 0.25614777 0.57416309 0.08940099\n",
            "  0.24263277 0.57554689 0.39622681 0.17138977 0.79475992 0.20680625\n",
            "  0.15955644 0.67349948 0.35800861 0.46829241 0.6544259  0.56732783\n",
            "  0.14895321 0.78960112 0.57834228 0.20174614 0.41120947 0.26785343\n",
            "  0.32567898 0.23231203 0.86713008 0.3722585  0.29620402 0.28867629\n",
            "  0.58846416 0.67793561 0.57960535 0.71514045 0.74075028 0.80997986\n",
            "  0.62448629 0.56517186 0.69256852 0.59079489 0.79767271 0.39732293\n",
            "  0.04598029 0.60623295 0.50017634 0.65428375]\n",
            " [0.55152131 0.53165199 0.83588755 0.5721042  0.24351672 0.45855191\n",
            "  0.33650548 0.42932217 0.06802192 0.51410782 0.87917354 0.57891554\n",
            "  0.37253998 0.43022183 0.46203055 0.78260923 0.71218727 0.43084931\n",
            "  0.6975903  0.52062209 0.00645113 0.09808108 0.32355807 0.39447068\n",
            "  0.37345983 0.71770859 0.68443753 0.69271362 0.36297662 0.52923697\n",
            "  0.7654373  0.47730053 0.67570311 0.02022725 0.01574349 0.3536403\n",
            "  0.         0.30023279 0.62478183 0.07720548 0.22481984 0.15197791\n",
            "  0.39901196 0.34010938 0.49139644 0.09040483 0.49030017 0.5645439\n",
            "  0.52935147 0.36672986 0.41174713 0.68420553 0.60521478 0.19218136\n",
            "  0.34412612 0.22376038 0.46313117 0.2654611  0.41932084 0.4430399\n",
            "  0.5125191  0.23245398 0.6409684  0.24789288 0.58872549 0.55793803\n",
            "  0.40687066 0.77763336 0.37367413 0.12397118 0.77217719 0.5922421\n",
            "  0.49860038 0.52062082 0.74738049 0.31810551 0.25411754 0.25063775\n",
            "  0.59181442 0.19804281 0.60161654 0.11857923 0.49561715 0.42528566\n",
            "  0.366058   0.76873954 0.30954508 0.75016966 0.50273284 0.52300237\n",
            "  0.6946594  0.21425723 0.61711142 0.44964603 0.49443124 0.43887235\n",
            "  0.37212074 0.25345246 0.25734631 0.30164762]\n",
            " [0.56412594 0.79095867 1.12704082 0.85953261 0.44374171 0.68339584\n",
            "  0.61020659 0.43697837 0.27847574 0.72475048 1.16871463 0.86410853\n",
            "  0.18344951 0.51493786 0.76223542 1.07917425 0.94836252 0.72319455\n",
            "  0.76894355 0.81625591 0.30624825 0.20680756 0.59510772 0.69246783\n",
            "  0.23767361 0.95005846 0.92065822 0.94833449 0.26347768 0.65625398\n",
            "  1.0601929  0.76881599 0.97216896 0.31905719 0.28525171 0.49184707\n",
            "  0.30023279 0.         0.842329   0.33853043 0.20349707 0.3750016\n",
            "  0.11234196 0.49062208 0.52522167 0.39047499 0.78069335 0.76574945\n",
            "  0.68188075 0.6661557  0.57428493 0.9565298  0.86413078 0.42363428\n",
            "  0.48390471 0.52294613 0.7505019  0.53725865 0.1195306  0.56588143\n",
            "  0.50942734 0.27471997 0.86664778 0.48360448 0.86222649 0.68372579\n",
            "  0.43565964 1.06063574 0.23185052 0.35966226 1.05159524 0.88624852\n",
            "  0.59335235 0.7621388  1.01008536 0.32245505 0.55434111 0.22925999\n",
            "  0.80366026 0.2616117  0.83919382 0.41820416 0.73502505 0.6820361\n",
            "  0.09753056 1.05465351 0.57493038 1.04555614 0.76631597 0.74824165\n",
            "  0.98332569 0.307499   0.91690462 0.74646901 0.70467088 0.72383816\n",
            "  0.4804668  0.38937052 0.5432615  0.37224502]\n",
            " [1.14996436 0.17478371 0.84368941 0.33056693 0.78568938 0.16626891\n",
            "  0.32605171 1.0405508  0.59649445 0.1176242  0.8886336  0.73176548\n",
            "  0.97830521 1.00682748 0.5093507  0.74672357 1.00639478 0.36922662\n",
            "  1.24440783 0.62146691 0.62301008 0.66924529 0.68985552 0.43129764\n",
            "  0.99231478 1.02069219 0.98652569 0.93303203 0.98615755 1.05256321\n",
            "  0.7593273  0.64371046 0.68367939 0.61969528 0.63038804 0.91032708\n",
            "  0.62478183 0.842329   0.         0.66548349 0.64515804 0.48495009\n",
            "  0.95455392 0.8907022  1.08638119 0.56886383 0.65692629 0.0868925\n",
            "  1.0249528  0.53130965 0.28289392 0.86107443 0.16586585 0.72814495\n",
            "  0.37187977 0.492841   0.66692149 0.67428195 0.94759487 0.98925375\n",
            "  1.12023324 0.57567971 0.9826743  0.74277765 0.23992976 1.07661313\n",
            "  1.01358553 0.86506146 0.99143873 0.50911408 0.88284414 0.66972641\n",
            "  1.05593633 0.12539855 0.9443226  0.93941172 0.50811595 0.87493445\n",
            "  0.97847639 0.82176374 0.07474905 0.54826961 0.85591589 0.77326904\n",
            "  0.84783737 0.83970063 0.33162169 0.74198344 0.2012956  0.10230566\n",
            "  0.77242455 0.53688648 0.51106159 0.41219893 0.1376592  0.67197309\n",
            "  0.94565102 0.45531049 0.41015643 0.49521484]\n",
            " [0.49188249 0.55554132 0.78851061 0.57350926 0.16667186 0.50081505\n",
            "  0.35773945 0.37595575 0.14521646 0.55979026 0.83028546 0.52620396\n",
            "  0.37290321 0.3622437  0.43568102 0.74212719 0.64093026 0.42916132\n",
            "  0.62641758 0.47918359 0.07279359 0.15789872 0.26092616 0.38286274\n",
            "  0.35999088 0.64575492 0.61307388 0.62618566 0.34152416 0.45418922\n",
            "  0.72224642 0.43042376 0.63524366 0.06430527 0.08832941 0.28037471\n",
            "  0.07720548 0.33853043 0.66548349 0.         0.29709127 0.21626836\n",
            "  0.42515825 0.26572382 0.4299238  0.0972136  0.44218425 0.61199902\n",
            "  0.45267545 0.33590998 0.4734976  0.62403145 0.62769328 0.11521346\n",
            "  0.41243414 0.21538504 0.41207331 0.20224422 0.45376433 0.36953896\n",
            "  0.45723579 0.30934565 0.56758753 0.17239449 0.60210654 0.48273644\n",
            "  0.35042213 0.72364773 0.36172928 0.18843741 0.71594652 0.54825829\n",
            "  0.42740335 0.55399091 0.68341856 0.27579938 0.23514552 0.22945341\n",
            "  0.51648322 0.16538978 0.63483486 0.1215305  0.42382624 0.35747908\n",
            "  0.41613808 0.71681079 0.33834825 0.70788362 0.5247984  0.56318271\n",
            "  0.64492239 0.2912711  0.5954829  0.43962849 0.54080388 0.38572214\n",
            "  0.30252767 0.32613004 0.27198716 0.37793087]\n",
            " [0.69020557 0.61114999 1.04233193 0.70227241 0.45405362 0.49125159\n",
            "  0.44789121 0.55914258 0.16399595 0.52766348 1.08719608 0.79364738\n",
            "  0.37037728 0.60090006 0.64747981 0.98033095 0.93685662 0.57763475\n",
            "  0.87039854 0.7240139  0.23084367 0.14575268 0.54716459 0.56168457\n",
            "  0.40867272 0.94217002 0.90907619 0.91688354 0.42115225 0.72265772\n",
            "  0.96710159 0.68763036 0.8749181  0.24386887 0.2106845  0.54517403\n",
            "  0.22481984 0.20349707 0.64515804 0.29709127 0.         0.21106844\n",
            "  0.31326924 0.53623033 0.63902077 0.29437429 0.70165513 0.5660944\n",
            "  0.73269334 0.5627915  0.3720048  0.90474064 0.68245566 0.41049172\n",
            "  0.28109671 0.40657639 0.67773386 0.48959065 0.30246124 0.63193498\n",
            "  0.64082839 0.07135133 0.86461269 0.46930693 0.69052005 0.75158361\n",
            "  0.54698294 0.99214433 0.40480051 0.20799405 0.98896265 0.79731262\n",
            "  0.67694841 0.57418104 0.97027857 0.43569648 0.44524409 0.33907357\n",
            "  0.81305913 0.32869977 0.64813346 0.31499465 0.720072   0.65000149\n",
            "  0.20563572 0.98109925 0.40830085 0.95079907 0.58983121 0.55468585\n",
            "  0.90516713 0.10865553 0.78903598 0.60998576 0.50786469 0.65562612\n",
            "  0.55102602 0.18984793 0.39834959 0.1695791 ]\n",
            " [0.70318151 0.41619751 0.84694071 0.49289616 0.37678718 0.31969578\n",
            "  0.23908815 0.58126486 0.1116049  0.37052685 0.89293232 0.61103354\n",
            "  0.49421169 0.57824121 0.44359106 0.77903396 0.7941041  0.36658024\n",
            "  0.84241695 0.52983331 0.15255623 0.18494028 0.39657332 0.35318859\n",
            "  0.50763823 0.8022744  0.76728762 0.75867568 0.50320756 0.66682444\n",
            "  0.76848594 0.50135951 0.67545363 0.15495032 0.15279915 0.4958038\n",
            "  0.15197791 0.3750016  0.48495009 0.21626836 0.21106844 0.\n",
            "  0.48590729 0.48024172 0.64261066 0.14577437 0.51630768 0.41879692\n",
            "  0.65989552 0.36714227 0.25980501 0.73178087 0.48960675 0.31893378\n",
            "  0.19652585 0.21130355 0.497653   0.34635356 0.49059679 0.58451883\n",
            "  0.66449642 0.17000429 0.73293998 0.36323853 0.48806972 0.6949485\n",
            "  0.55879271 0.80638428 0.50661939 0.02815876 0.80687015 0.60334295\n",
            "  0.64350414 0.39162279 0.80421199 0.46859593 0.25226862 0.3940898\n",
            "  0.69434819 0.34768906 0.47098061 0.14938293 0.58486972 0.50453884\n",
            "  0.40840998 0.79253247 0.20136913 0.75159151 0.3913152  0.38524637\n",
            "  0.71522385 0.1284666  0.57961374 0.39976112 0.35043792 0.47992701\n",
            "  0.51876774 0.11950508 0.18818079 0.18853093]\n",
            " [0.54539896 0.90209862 1.20867826 0.96610845 0.50250196 0.79572578\n",
            "  0.71904815 0.42884749 0.38576629 0.83695691 1.24878079 0.94300696\n",
            "  0.13865113 0.5274451  0.85786732 1.1665083  1.00051079 0.82771023\n",
            "  0.76100485 0.9038278  0.40459686 0.31150929 0.67107001 0.79347745\n",
            "  0.20530787 1.0004473  0.97330613 1.00969842 0.24257661 0.67435346\n",
            "  1.14555368 0.85315668 1.05980912 0.41647574 0.38496174 0.52554134\n",
            "  0.39901196 0.11234196 0.95455392 0.42515825 0.31326924 0.48590729\n",
            "  0.         0.5286651  0.51779756 0.48914219 0.86406694 0.87760448\n",
            "  0.70816198 0.75960307 0.68512831 1.02661249 0.97543711 0.49384143\n",
            "  0.59435264 0.62272035 0.8320838  0.61510919 0.05528632 0.5880644\n",
            "  0.48917864 0.38460252 0.91571397 0.55072549 0.97188141 0.69996334\n",
            "  0.43594269 1.13641937 0.19799966 0.46940491 1.12507227 0.97177889\n",
            "  0.60335663 0.87422847 1.07430316 0.33301282 0.65153892 0.25927973\n",
            "  0.84846341 0.31227305 0.95145549 0.51753475 0.79313831 0.74904131\n",
            "  0.1452422  1.13253238 0.68470213 1.13165356 0.87700388 0.86058341\n",
            "  1.06373603 0.41902504 1.01516864 0.84848921 0.81689508 0.80423015\n",
            "  0.50482417 0.50098385 0.64929444 0.47997399]\n",
            " [0.27353945 0.75296341 0.75003254 0.71854341 0.10684926 0.73373277\n",
            "  0.56556646 0.20960071 0.40617101 0.79619324 0.78214211 0.49069414\n",
            "  0.41285816 0.1207986  0.51964343 0.73673168 0.47593709 0.58178939\n",
            "  0.36365401 0.50154746 0.33680912 0.39103119 0.25577505 0.51833787\n",
            "  0.35995178 0.47440292 0.44950586 0.49820308 0.32109511 0.18931096\n",
            "  0.70718819 0.4400802  0.63983704 0.32983744 0.34760572 0.02080796\n",
            "  0.34010938 0.49062208 0.8907022  0.26572382 0.53623033 0.48024172\n",
            "  0.5286651  0.         0.21101591 0.34279278 0.44383264 0.84991582\n",
            "  0.19716705 0.42834957 0.73229863 0.53589682 0.81840243 0.16644554\n",
            "  0.67675931 0.39882985 0.40743244 0.2353401  0.5762663  0.10435844\n",
            "  0.26282601 0.56446673 0.38932852 0.15082588 0.77403311 0.21813955\n",
            "  0.17715187 0.65894784 0.36614312 0.45291841 0.64046372 0.54904034\n",
            "  0.16691049 0.76971587 0.56692826 0.21018054 0.39075253 0.26979167\n",
            "  0.32021231 0.22955562 0.8470735  0.35430956 0.28353338 0.27169816\n",
            "  0.58665277 0.6627708  0.56024539 0.69787807 0.72038111 0.79052637\n",
            "  0.60814128 0.55275472 0.67245842 0.56999213 0.77878858 0.37827267\n",
            "  0.06578145 0.5918513  0.48055118 0.64141409]\n",
            " [0.06392378 0.95686761 0.92767744 0.92914644 0.30522412 0.92498013\n",
            "  0.76487549 0.08926972 0.54799827 0.98584198 0.95465653 0.6805478\n",
            "  0.38009183 0.09252052 0.73001161 0.92663777 0.59625241 0.79120356\n",
            "  0.24444607 0.70516693 0.49026106 0.50728707 0.46553868 0.72854176\n",
            "  0.31355315 0.5892325  0.57418465 0.6440825  0.27522542 0.19701203\n",
            "  0.89480715 0.6435388  0.83533629 0.48784741 0.49343886 0.19028753\n",
            "  0.49139644 0.52522167 1.08638119 0.4299238  0.63902077 0.64261066\n",
            "  0.51779756 0.21101591 0.         0.52187867 0.64560788 1.03886137\n",
            "  0.2514446  0.63936538 0.90207896 0.70156427 1.02416087 0.35965565\n",
            "  0.83508345 0.60023372 0.60961979 0.44602129 0.57249205 0.15523614\n",
            "  0.06280315 0.68522967 0.50937692 0.35917156 0.98258261 0.21283159\n",
            "  0.09230327 0.82884763 0.32096228 0.61445247 0.80614329 0.74648694\n",
            "  0.11608735 0.96847373 0.71444467 0.20647297 0.59671661 0.3050297\n",
            "  0.43505946 0.31258133 1.04745133 0.5394908  0.45036136 0.46453313\n",
            "  0.62075201 0.83723449 0.75480532 0.88741605 0.9244758  0.98478407\n",
            "  0.79180342 0.68576611 0.8808583  0.78072801 0.96743723 0.58139822\n",
            "  0.1467087  0.74122626 0.67815092 0.77605611]\n",
            " [0.58466986 0.45919864 0.75179618 0.48624921 0.23677259 0.40481524\n",
            "  0.26146821 0.47180308 0.13118675 0.46461905 0.79585282 0.49949024\n",
            "  0.45592506 0.44900246 0.37204031 0.69543514 0.65641435 0.34345639\n",
            "  0.70644678 0.43471018 0.08461837 0.18603126 0.25940186 0.30457851\n",
            "  0.45009759 0.66360263 0.62914163 0.62794604 0.43466714 0.52586275\n",
            "  0.67941665 0.39462393 0.5887665  0.07278241 0.10522355 0.35992606\n",
            "  0.09040483 0.39047499 0.56886383 0.0972136  0.29437429 0.14577437\n",
            "  0.48914219 0.34279278 0.52187867 0.         0.40829702 0.51730809\n",
            "  0.51595713 0.27799536 0.38956464 0.61103165 0.53174111 0.17743775\n",
            "  0.3386497  0.13362284 0.38350347 0.20526426 0.50966777 0.44691906\n",
            "  0.55219073 0.28345335 0.59152682 0.21785076 0.50893638 0.55352387\n",
            "  0.4453678  0.69815779 0.45116269 0.12217126 0.69461467 0.50717961\n",
            "  0.50885163 0.45678077 0.67846365 0.37296547 0.16393924 0.32165421\n",
            "  0.5501418  0.2603797  0.53762169 0.02866856 0.44365642 0.36623251\n",
            "  0.45350963 0.6877428  0.24114515 0.66378971 0.42878413 0.4666017\n",
            "  0.61245106 0.25305375 0.52670691 0.36014129 0.44593542 0.36126268\n",
            "  0.38804051 0.26478332 0.17695619 0.32913019]\n",
            " [0.70282219 0.4833745  0.34645969 0.36589365 0.39245402 0.55437487\n",
            "  0.38734056 0.65310884 0.53944961 0.61211422 0.38901301 0.09520899\n",
            "  0.79014804 0.55340306 0.14872485 0.30515473 0.34950006 0.28853887\n",
            "  0.6971088  0.06134444 0.48385656 0.58817796 0.20123011 0.23290883\n",
            "  0.75716797 0.36397769 0.33023561 0.27922129 0.72576085 0.51384389\n",
            "  0.28186136 0.01553761 0.20101199 0.47011248 0.50604024 0.46271615\n",
            "  0.49030017 0.78069335 0.65692629 0.44218425 0.70165513 0.51630768\n",
            "  0.86406694 0.44383264 0.64560788 0.40829702 0.         0.65972757\n",
            "  0.46448096 0.15641306 0.65210242 0.22396942 0.52122225 0.37757587\n",
            "  0.65290668 0.30529815 0.03642467 0.25132613 0.89545877 0.49656406\n",
            "  0.70304761 0.68131359 0.33387841 0.33128301 0.4519375  0.52722348\n",
            "  0.62049773 0.29098265 0.76138562 0.50565741 0.29057252 0.10971504\n",
            "  0.55872846 0.53638045 0.30433234 0.62292562 0.26420834 0.63246291\n",
            "  0.34824418 0.56616361 0.58928323 0.38666169 0.23813225 0.18493896\n",
            "  0.85513623 0.27949236 0.41652212 0.26870515 0.45563071 0.58173566\n",
            "  0.20440298 0.64350434 0.24872845 0.24491728 0.60349124 0.06598769\n",
            "  0.50864782 0.62320395 0.35695217 0.69942193]\n",
            " [1.10186755 0.20040762 0.87812712 0.36750863 0.74351849 0.11729227\n",
            "  0.29677149 0.9879017  0.53005636 0.05388198 0.92424117 0.74129857\n",
            "  0.90807335 0.96292561 0.51654369 0.78355537 1.0067048  0.37262235\n",
            "  1.20899178 0.63133114 0.56343939 0.60054427 0.66680181 0.42770103\n",
            "  0.92573488 1.02013494 0.98520298 0.93873768 0.92200393 1.01934398\n",
            "  0.79256187 0.64554219 0.71136056 0.56158802 0.56859577 0.86886514\n",
            "  0.5645439  0.76574945 0.0868925  0.61199902 0.5660944  0.41879692\n",
            "  0.87760448 0.84991582 1.03886137 0.51730809 0.65972757 0.\n",
            "  0.99592102 0.52176987 0.1985007  0.87307428 0.22119952 0.68465902\n",
            "  0.28890024 0.4583829  0.6650502  0.64435583 0.86836259 0.95100667\n",
            "  1.06913137 0.49574663 0.9756565  0.70557619 0.28580741 1.04456143\n",
            "  0.96228578 0.88946057 0.92443336 0.44456051 0.90468321 0.6864724\n",
            "  1.01651958 0.13092545 0.95634361 0.88205901 0.47980285 0.81239896\n",
            "  0.96490874 0.7625737  0.13403912 0.49954672 0.84223109 0.75768732\n",
            "  0.76685529 0.86545315 0.29162841 0.77477543 0.21655852 0.07894445\n",
            "  0.79455311 0.45868516 0.54433913 0.41995483 0.0714296  0.66625304\n",
            "  0.90161111 0.37672573 0.37333453 0.41181281]\n",
            " [0.28598653 0.87079582 0.69788238 0.80203476 0.28601632 0.87864647\n",
            "  0.7009011  0.31277298 0.59684143 0.94217729 0.72008581 0.47303422\n",
            "  0.58119282 0.18996131 0.58303852 0.71101271 0.34545463 0.68141462\n",
            "  0.23364409 0.52570428 0.52534077 0.58714892 0.33784117 0.61436834\n",
            "  0.52021086 0.33796148 0.32430561 0.3994865  0.47939989 0.05865661\n",
            "  0.67674196 0.46742678 0.63119746 0.51672781 0.53848116 0.1914797\n",
            "  0.52935147 0.68188075 1.0249528  0.45267545 0.73269334 0.65989552\n",
            "  0.70816198 0.19716705 0.2514446  0.51595713 0.46448096 0.99592102\n",
            "  0.         0.5129445  0.90111895 0.46686191 0.92851495 0.34144365\n",
            "  0.85459669 0.53775118 0.43232809 0.35167257 0.75884756 0.12083163\n",
            "  0.31339645 0.75816675 0.25958429 0.29948873 0.87279501 0.06321076\n",
            "  0.2904055  0.5943042  0.52724894 0.63384723 0.56899054 0.54947894\n",
            "  0.13556198 0.90020643 0.46920639 0.37592854 0.51738779 0.45497588\n",
            "  0.18601984 0.42367309 0.97223336 0.52103419 0.23363882 0.28281859\n",
            "  0.77890158 0.60625808 0.70481012 0.67215878 0.83848653 0.9292693\n",
            "  0.57142758 0.7435566  0.71282842 0.65674549 0.92655498 0.40930757\n",
            "  0.20352733 0.77590644 0.62294511 0.83059309]\n",
            " [0.70162115 0.36515821 0.48056184 0.29296069 0.34556694 0.41068855\n",
            "  0.23599463 0.62522127 0.40560201 0.47135465 0.52618087 0.25098755\n",
            "  0.70531799 0.54835439 0.10101208 0.4183683  0.4879118  0.16966029\n",
            "  0.74364837 0.16271492 0.36052466 0.46386922 0.17919727 0.10275969\n",
            "  0.68352692 0.50052723 0.46519339 0.42822829 0.65786997 0.55090525\n",
            "  0.40431027 0.14087767 0.31231711 0.34738246 0.3821558  0.44908701\n",
            "  0.36672986 0.6661557  0.53130965 0.33590998 0.5627915  0.36714227\n",
            "  0.75960307 0.42834957 0.63936538 0.27799536 0.15641306 0.52176987\n",
            "  0.5129445  0.         0.49736825 0.38012875 0.41746563 0.30877392\n",
            "  0.49650888 0.15697109 0.14930762 0.19462494 0.78445242 0.50781172\n",
            "  0.68935373 0.53543241 0.45393209 0.28454779 0.35985063 0.57087433\n",
            "  0.59308326 0.44101306 0.68650927 0.35968761 0.44392027 0.23626391\n",
            "  0.57517685 0.40662841 0.45944032 0.56690166 0.11754775 0.55301585\n",
            "  0.44721446 0.48522718 0.47023128 0.25228295 0.32480274 0.2436072\n",
            "  0.73149921 0.42597917 0.26200371 0.38805958 0.3340375  0.44622352\n",
            "  0.34843714 0.4954943  0.26235172 0.14487194 0.46053703 0.14533352\n",
            "  0.49325877 0.4695142  0.20060932 0.5463066 ]\n",
            " [0.96290149 0.31225234 0.93162599 0.46059468 0.62630401 0.16343096\n",
            "  0.26708798 0.84088135 0.36352599 0.17097759 0.9790007  0.74419661\n",
            "  0.72649755 0.83547597 0.53056111 0.84578373 0.97846098 0.39850445\n",
            "  1.09593108 0.64155336 0.4123506  0.42636791 0.59872643 0.42891454\n",
            "  0.75086643 0.98953814 0.95384649 0.9248714  0.7519444  0.91455685\n",
            "  0.84638188 0.63666431 0.75641232 0.41423912 0.41178473 0.74916499\n",
            "  0.41174713 0.57428493 0.28289392 0.4734976  0.3720048  0.25980501\n",
            "  0.68512831 0.73229863 0.90207896 0.38956464 0.65210242 0.1985007\n",
            "  0.90111895 0.49736825 0.         0.87583145 0.36795215 0.56683913\n",
            "  0.09135762 0.38110408 0.64642402 0.56130531 0.67294711 0.83647766\n",
            "  0.92421862 0.3008475  0.93156698 0.60175235 0.40698209 0.94184993\n",
            "  0.81859616 0.9198032  0.74875782 0.28790755 0.92869986 0.70856615\n",
            "  0.89793987 0.25023729 0.95633464 0.72670419 0.41525458 0.64718953\n",
            "  0.90616466 0.60561004 0.30528402 0.38068756 0.78738947 0.70214791\n",
            "  0.56977309 0.89969359 0.23559269 0.8283184  0.30679888 0.21038447\n",
            "  0.82335694 0.26725995 0.6118838  0.44718225 0.15417738 0.6387102\n",
            "  0.7752286  0.18638458 0.30392263 0.21342887]\n",
            " [0.74718265 0.68633786 0.23174588 0.54497476 0.52640361 0.77245722\n",
            "  0.61022459 0.73608286 0.7407567  0.82784306 0.25370623 0.13271667\n",
            "  0.93264571 0.61740505 0.3568075  0.26333455 0.18807143 0.50078231\n",
            "  0.67275295 0.24177833 0.67782355 0.77930075 0.36312144 0.45217687\n",
            "  0.88820704 0.20523416 0.18523838 0.09512259 0.85169882 0.52515484\n",
            "  0.22686874 0.23948245 0.2227572  0.66416115 0.69959457 0.54962223\n",
            "  0.68420553 0.9565298  0.86107443 0.62403145 0.90474064 0.73178087\n",
            "  1.02661249 0.53589682 0.70156427 0.61103165 0.22396942 0.87307428\n",
            "  0.46686191 0.38012875 0.87583145 0.         0.71228645 0.53396958\n",
            "  0.87625359 0.52337628 0.23523165 0.42178745 1.06473403 0.54690441\n",
            "  0.76400693 0.89191913 0.23085633 0.47592243 0.63779963 0.52657233\n",
            "  0.70564991 0.12769291 0.89365728 0.71838727 0.10508342 0.19397601\n",
            "  0.59337205 0.74575467 0.08335275 0.74163853 0.48253784 0.77639066\n",
            "  0.28969003 0.71580331 0.78978597 0.59324913 0.25427682 0.2779467\n",
            "  1.03942794 0.14017892 0.64031622 0.22850161 0.66173659 0.7942664\n",
            "  0.12886603 0.85666018 0.38088389 0.45312984 0.82073024 0.25194137\n",
            "  0.59116689 0.84258837 0.58027836 0.91785936]\n",
            " [1.08803742 0.07384248 0.67987542 0.16992775 0.71893683 0.20597092\n",
            "  0.27031108 0.99037049 0.59474526 0.20906415 0.72432808 0.58693759\n",
            "  0.97562772 0.93841694 0.37279736 0.58229541 0.86847736 0.24781526\n",
            "  1.15638385 0.47829081 0.6018578  0.67056747 0.59097952 0.31486578\n",
            "  0.9784579  0.88364088 0.85069172 0.78986905 0.9656216  0.96301412\n",
            "  0.59622498 0.50954646 0.52391745 0.59509364 0.61450852 0.83892591\n",
            "  0.60521478 0.86413078 0.16586585 0.62769328 0.68245566 0.48960675\n",
            "  0.97543711 0.81840243 1.02416087 0.53174111 0.52122225 0.22119952\n",
            "  0.92851495 0.41746563 0.36795215 0.71228645 0.         0.66598708\n",
            "  0.44139754 0.42543222 0.53693033 0.58797915 0.97787096 0.91002184\n",
            "  1.06528585 0.61936184 0.85391116 0.66757811 0.0763621  0.984646\n",
            "  0.96084012 0.70633129 0.9788252  0.50767872 0.72575894 0.51866403\n",
            "  0.97782206 0.11779199 0.7948438  0.90229219 0.42781665 0.85248668\n",
            "  0.8586229  0.7921184  0.09210689 0.50616823 0.73814101 0.66003231\n",
            "  0.8878993  0.68023352 0.29603614 0.57913831 0.10295868 0.16285653\n",
            "  0.61582415 0.57560544 0.34941695 0.28029393 0.21956972 0.54704969\n",
            "  0.87869978 0.50045526 0.35582523 0.55885349]\n",
            " [0.42354887 0.59773123 0.71740906 0.5831795  0.05966351 0.56903616\n",
            "  0.40527885 0.32622054 0.26017051 0.63107204 0.75631302 0.45070688\n",
            "  0.41258824 0.27879569 0.40868002 0.68272711 0.53263883 0.44063703\n",
            "  0.5297116  0.42476197 0.18740615 0.26755914 0.17862481 0.38261359\n",
            "  0.38134805 0.53639186 0.50472725 0.52552224 0.35237715 0.34860292\n",
            "  0.65879278 0.36855718 0.57785329 0.1773722  0.20351462 0.18462049\n",
            "  0.19218136 0.42363428 0.72814495 0.11521346 0.41049172 0.31893378\n",
            "  0.49384143 0.16644554 0.35965565 0.17743775 0.37757587 0.68465902\n",
            "  0.34144365 0.30877392 0.56683913 0.53396958 0.66598708 0.\n",
            "  0.51464486 0.2409189  0.34345206 0.12665754 0.53079997 0.26999933\n",
            "  0.39933025 0.42453643 0.45633606 0.06104891 0.62822291 0.37644366\n",
            "  0.29571592 0.64262273 0.38517085 0.29255733 0.63134428 0.48716538\n",
            "  0.33328614 0.60909453 0.58650193 0.25812968 0.24119395 0.25492566\n",
            "  0.40262099 0.18871143 0.68784117 0.18787151 0.31594978 0.25840227\n",
            "  0.51025473 0.63922576 0.39667109 0.64612727 0.56546178 0.62713891\n",
            "  0.57201684 0.40540459 0.5694197  0.43809443 0.61338295 0.31447299\n",
            "  0.21754579 0.43446585 0.31876312 0.49061783]\n",
            " [0.89442156 0.37878301 0.95417104 0.5118456  0.57296224 0.23603125\n",
            "  0.28574432 0.7694121  0.28873633 0.25692849 1.00146149 0.74736723\n",
            "  0.63957802 0.7736537  0.54592137 0.87353635 0.96284244 0.42696334\n",
            "  1.03881128 0.6509294  0.34577406 0.34531293 0.57179459 0.44427647\n",
            "  0.6667795  0.972665   0.93710246 0.91676765 0.67005043 0.86300476\n",
            "  0.87041472 0.63737541 0.77832647 0.34992161 0.3416572  0.69230828\n",
            "  0.34412612 0.48390471 0.37187977 0.41243414 0.28109671 0.19652585\n",
            "  0.59435264 0.67675931 0.83508345 0.3386497  0.65290668 0.28890024\n",
            "  0.85459669 0.49650888 0.09135762 0.87625359 0.44139754 0.51464486\n",
            "  0.         0.36067444 0.64222873 0.52791938 0.58162442 0.78104396\n",
            "  0.85317034 0.2098156  0.90910896 0.55611972 0.47065631 0.89101296\n",
            "  0.74893269 0.93211538 0.66431853 0.22405671 0.93800356 0.72138754\n",
            "  0.83982992 0.32449053 0.95420022 0.65208866 0.3991518  0.56834601\n",
            "  0.87706488 0.5314625  0.3877407  0.33582838 0.76219687 0.6785085\n",
            "  0.47848682 0.91408407 0.24670187 0.85254825 0.36724508 0.29187316\n",
            "  0.83663502 0.17807898 0.64726643 0.47283134 0.23850331 0.63050641\n",
            "  0.71463712 0.09993753 0.29599611 0.12335966]\n",
            " [0.66415647 0.35681243 0.63753121 0.35817347 0.29567112 0.34109354\n",
            "  0.16694155 0.56505508 0.25279327 0.40456916 0.6830942  0.40026557\n",
            "  0.5861483  0.51684435 0.2428019  0.57375827 0.60230427 0.21377635\n",
            "  0.752166   0.31948774 0.21812505 0.31686756 0.21805685 0.17101187\n",
            "  0.57537569 0.61236798 0.5767492  0.55731728 0.55617083 0.56136055\n",
            "  0.56087659 0.29024555 0.46844665 0.20639289 0.23814786 0.41880627\n",
            "  0.22376038 0.52294613 0.492841   0.21538504 0.40657639 0.21130355\n",
            "  0.62272035 0.39882985 0.60023372 0.13362284 0.30529815 0.4583829\n",
            "  0.53775118 0.15697109 0.38110408 0.52337628 0.42543222 0.2409189\n",
            "  0.36067444 0.         0.28826251 0.18684873 0.6423684  0.49642687\n",
            "  0.63998039 0.37861095 0.55120642 0.24996073 0.39147247 0.58629907\n",
            "  0.53541218 0.5950843  0.57709217 0.20275349 0.59584742 0.3930574\n",
            "  0.56323845 0.37094562 0.5982489  0.48163375 0.04109894 0.44469731\n",
            "  0.52532053 0.37950664 0.44836664 0.10518965 0.40631284 0.32119568\n",
            "  0.5815617  0.58132681 0.16706196 0.5444185  0.32455523 0.39404806\n",
            "  0.5041241  0.33922671 0.39402158 0.22687957 0.38880498 0.27289719\n",
            "  0.45620019 0.31921237 0.08519945 0.39471182]\n",
            " [0.6671096  0.49496005 0.37687188 0.38684073 0.35674984 0.5568085\n",
            "  0.38489541 0.61668767 0.51460722 0.61608502 0.41821898 0.11602554\n",
            "  0.75599239 0.51734782 0.1651405  0.33978044 0.34166322 0.29772315\n",
            "  0.66553226 0.09591573 0.45668006 0.56061565 0.16604225 0.23750784\n",
            "  0.72214551 0.35513983 0.32038004 0.27894052 0.69040277 0.48058867\n",
            "  0.31534356 0.03518424 0.2365932  0.44290504 0.47883509 0.42634998\n",
            "  0.46313117 0.7505019  0.66692149 0.41207331 0.67773386 0.497653\n",
            "  0.8320838  0.40743244 0.60961979 0.38350347 0.03642467 0.6650502\n",
            "  0.43232809 0.14930762 0.64642402 0.23523165 0.53693033 0.34345206\n",
            "  0.64222873 0.28826251 0.         0.2178114  0.86443076 0.4611489\n",
            "  0.66686733 0.66029015 0.31726771 0.2959107  0.46989281 0.49476187\n",
            "  0.58407504 0.31481821 0.72644623 0.48542171 0.31139203 0.14502688\n",
            "  0.52380675 0.54454873 0.31197181 0.587088   0.24735311 0.59813238\n",
            "  0.32487769 0.5321586  0.6011423  0.36325537 0.21016321 0.15085333\n",
            "  0.82660884 0.30568453 0.41124439 0.30278088 0.46603411 0.58789485\n",
            "  0.23284939 0.62367725 0.28061234 0.25746187 0.60638878 0.0297615\n",
            "  0.47229088 0.60744197 0.34670251 0.68291837]\n",
            " [0.50884842 0.525569   0.59366297 0.48321051 0.15237603 0.5271165\n",
            "  0.34935139 0.43086643 0.32685134 0.5906644  0.63371345 0.32801998\n",
            "  0.53894936 0.35603486 0.29047339 0.55637386 0.4513586  0.3473167\n",
            "  0.57124988 0.29819952 0.25923997 0.35831292 0.05870572 0.28314916\n",
            "  0.50776852 0.45836643 0.4239979  0.42733008 0.47799956 0.37858247\n",
            "  0.53297615 0.24199558 0.45126253 0.24592068 0.2803833  0.25614777\n",
            "  0.2654611  0.53725865 0.67428195 0.20224422 0.48959065 0.34635356\n",
            "  0.61510919 0.2353401  0.44602129 0.20526426 0.25132613 0.64435583\n",
            "  0.35167257 0.19462494 0.56130531 0.42178745 0.58797915 0.12665754\n",
            "  0.52791938 0.18684873 0.2178114  0.         0.64900563 0.32214492\n",
            "  0.49492988 0.48712327 0.38679854 0.09029971 0.54021598 0.40233809\n",
            "  0.39862562 0.5234236  0.51168918 0.32563715 0.51454611 0.36075009\n",
            "  0.38998177 0.55013255 0.48229418 0.3797871  0.16616741 0.38150524\n",
            "  0.34939833 0.31491226 0.62414538 0.19697086 0.23874806 0.16149184\n",
            "  0.61796524 0.51808552 0.35371562 0.520023   0.49296014 0.57776103\n",
            "  0.4486287  0.45823571 0.44895688 0.33471178 0.57528335 0.18937152\n",
            "  0.29946892 0.46563206 0.27193878 0.53330436]\n",
            " [0.60063334 0.90516517 1.2412969  0.97809766 0.54387777 0.79219879\n",
            "  0.72763273 0.48342682 0.39738843 0.83006531 1.28227276 0.97688956\n",
            "  0.1938798  0.58001937 0.88111396 1.19574798 1.04521079 0.84243998\n",
            "  0.81595131 0.93275953 0.42526409 0.3263257  0.7060093  0.81199359\n",
            "  0.26047208 1.04568722 1.01781826 1.05128306 0.29735951 0.72641469\n",
            "  1.17599717 0.88398516 1.08880115 0.43790141 0.40447646 0.57416309\n",
            "  0.41932084 0.1195306  0.94759487 0.45376433 0.30246124 0.49059679\n",
            "  0.05528632 0.5762663  0.57249205 0.50966777 0.89545877 0.86836259\n",
            "  0.75884756 0.78445242 0.67294711 1.06473403 0.97787096 0.53079997\n",
            "  0.58162442 0.6423684  0.86443076 0.64900563 0.         0.63923827\n",
            "  0.54441923 0.37264507 0.96124497 0.5891825  0.97862539 0.75236004\n",
            "  0.48977521 1.1720202  0.25318398 0.47680692 1.16175866 1.0020121\n",
            "  0.65645842 0.87323871 1.11487377 0.38496658 0.67341447 0.30651444\n",
            "  0.89510875 0.35478427 0.94882704 0.53752036 0.8355817  0.78807184\n",
            "  0.11006719 1.16709111 0.69153846 1.16164375 0.88140917 0.85625924\n",
            "  1.09692905 0.41077789 1.0362612  0.86598795 0.81022323 0.8371775\n",
            "  0.55532578 0.49229823 0.66221892 0.46316186]\n",
            " [0.20725424 0.84666796 0.77245734 0.8006698  0.21035605 0.83436927\n",
            "  0.66333228 0.19817037 0.50828361 0.89718418 0.7996958  0.52661218\n",
            "  0.4603753  0.07367763 0.59214877 0.77221869 0.45138985 0.66863359\n",
            "  0.25971775 0.55706154 0.43997856 0.48819118 0.32917959 0.60331202\n",
            "  0.39947987 0.44617523 0.4276436  0.49247065 0.35868574 0.09159029\n",
            "  0.74008589 0.49573807 0.68244485 0.43345017 0.44985467 0.08940099\n",
            "  0.4430399  0.56588143 0.98925375 0.36953896 0.63193498 0.58451883\n",
            "  0.5880644  0.10435844 0.15523614 0.44691906 0.49656406 0.95100667\n",
            "  0.12083163 0.50781172 0.83647766 0.54690441 0.91002184 0.26999933\n",
            "  0.78104396 0.49642687 0.4611489  0.32214492 0.63923827 0.\n",
            "  0.21725035 0.66410881 0.36337205 0.24647631 0.86180211 0.12020368\n",
            "  0.17271169 0.67398643 0.40649417 0.55713343 0.65168051 0.59460099\n",
            "  0.06784559 0.86701335 0.56285851 0.25537911 0.48460375 0.33737385\n",
            "  0.28919872 0.31215556 0.94317573 0.4577432  0.29512939 0.31299529\n",
            "  0.66328675 0.68208442 0.66027173 0.73298561 0.81403133 0.88992123\n",
            "  0.63678443 0.65438392 0.73726093 0.65212767 0.88010417 0.43390103\n",
            "  0.08543251 0.69553145 0.57966719 0.74360552]\n",
            " [0.05623616 0.9966228  0.9895834  0.97663429 0.34864937 0.95695865\n",
            "  0.80224246 0.08382691 0.56448528 1.01670032 1.01693571 0.74074742\n",
            "  0.35053943 0.15044966 0.78217644 0.98712104 0.6585787  0.83677152\n",
            "  0.27534941 0.76202148 0.51213755 0.51668729 0.51860019 0.77550612\n",
            "  0.28405157 0.65134551 0.63670256 0.70688562 0.24932382 0.25792136\n",
            "  0.95560502 0.70038373 0.89468933 0.51132562 0.51270274 0.24263277\n",
            "  0.5125191  0.50942734 1.12023324 0.45723579 0.64082839 0.66449642\n",
            "  0.48917864 0.26282601 0.06280315 0.55219073 0.70304761 1.06913137\n",
            "  0.31339645 0.68935373 0.92421862 0.76400693 1.06528585 0.39933025\n",
            "  0.85317034 0.63998039 0.66686733 0.49492988 0.54441923 0.21725035\n",
            "  0.         0.69195747 0.57188665 0.40611344 1.02663418 0.27176122\n",
            "  0.10684774 0.8911931  0.29128967 0.63647392 0.86866565 0.8052888\n",
            "  0.17783451 1.00460657 0.77724724 0.2057455  0.63960002 0.30191439\n",
            "  0.49762012 0.32285183 1.08439926 0.57196577 0.51225313 0.52364234\n",
            "  0.60229807 0.89931055 0.78951066 0.94792312 0.96447387 1.01815904\n",
            "  0.85300039 0.69657288 0.93520092 0.82881242 0.99785921 0.63827312\n",
            "  0.19707297 0.75697557 0.71506689 0.78615278]\n",
            " [0.73921862 0.54924341 1.01586991 0.64959074 0.47395837 0.42434047\n",
            "  0.39622758 0.60901786 0.16473536 0.45840826 1.06160881 0.77519151\n",
            "  0.43812464 0.63973633 0.61359136 0.94895464 0.93828869 0.53154903\n",
            "  0.91012784 0.69807631 0.23749415 0.17867529 0.54256668 0.52247549\n",
            "  0.47285729 0.9448242  0.91080004 0.91138626 0.48233577 0.75327769\n",
            "  0.93804745 0.66669195 0.84510914 0.24863305 0.22121594 0.57554689\n",
            "  0.23245398 0.27471997 0.57567971 0.30934565 0.07135133 0.17000429\n",
            "  0.38460252 0.56446673 0.68522967 0.28345335 0.68131359 0.49574663\n",
            "  0.75816675 0.53543241 0.3008475  0.89191913 0.61936184 0.42453643\n",
            "  0.2098156  0.37861095 0.66029015 0.48712327 0.37264507 0.66410881\n",
            "  0.69195747 0.         0.87025913 0.48004392 0.63168864 0.78221525\n",
            "  0.59416074 0.97220642 0.46943757 0.17597314 0.9712441  0.77164649\n",
            "  0.71364845 0.50881184 0.96116498 0.48622995 0.41900725 0.3926256\n",
            "  0.82340154 0.37265282 0.58115063 0.29884856 0.72341194 0.64860536\n",
            "  0.27252806 0.95935762 0.35529488 0.92124383 0.52956872 0.48689566\n",
            "  0.8824156  0.04532266 0.74786636 0.56741319 0.43877398 0.64040448\n",
            "  0.58646954 0.12109971 0.35682211 0.10074524]\n",
            " [0.54546174 0.81182834 0.45944016 0.69955539 0.42409826 0.86352688\n",
            "  0.68516222 0.56145496 0.7067228  0.92490185 0.47456709 0.29188159\n",
            "  0.80214358 0.43704959 0.4812568  0.49284419 0.08815403 0.61408733\n",
            "  0.44500752 0.38468564 0.63528357 0.72362038 0.33774934 0.55149328\n",
            "  0.74778745 0.08507957 0.06481736 0.14671886 0.70808048 0.31751082\n",
            "  0.45656423 0.34467921 0.43596963 0.62306534 0.65436762 0.39622681\n",
            "  0.6409684  0.86664778 0.9826743  0.56758753 0.86461269 0.73293998\n",
            "  0.91571397 0.38932852 0.50937692 0.59152682 0.33387841 0.9756565\n",
            "  0.25958429 0.45393209 0.93156698 0.23085633 0.85391116 0.45633606\n",
            "  0.90910896 0.55120642 0.31726771 0.38679854 0.96124497 0.36337205\n",
            "  0.57188665 0.87025913 0.         0.39605063 0.78564679 0.31229215\n",
            "  0.53480671 0.35195065 0.75422132 0.71242913 0.32334745 0.37511766\n",
            "  0.39446687 0.8591166  0.21340942 0.5979688  0.51634585 0.65651018\n",
            "  0.07442394 0.60732784 0.91800241 0.58362422 0.14807633 0.23061041\n",
            "  0.95893637 0.36910976 0.70399885 0.45654072 0.78243666 0.90006655\n",
            "  0.35407899 0.84375498 0.56424251 0.57472833 0.91345069 0.31073408\n",
            "  0.42853109 0.85196346 0.6284033  0.9200948 ]\n",
            " [0.42259025 0.60235202 0.66531873 0.57063955 0.06265903 0.58864134\n",
            "  0.4168866  0.34069328 0.31531046 0.65170361 0.70301168 0.3984665\n",
            "  0.46289909 0.27115771 0.38075386 0.63554304 0.47170514 0.43203486\n",
            "  0.50341564 0.38252993 0.24263949 0.32757078 0.13007533 0.36966166\n",
            "  0.4264601  0.47561659 0.44379316 0.46494998 0.39450263 0.31510979\n",
            "  0.61004113 0.32379474 0.53229215 0.23146015 0.2603156  0.17138977\n",
            "  0.24789288 0.48360448 0.74277765 0.17239449 0.46930693 0.36323853\n",
            "  0.55072549 0.15082588 0.35917156 0.21785076 0.33128301 0.70557619\n",
            "  0.29948873 0.28454779 0.60175235 0.47592243 0.66757811 0.06104891\n",
            "  0.55611972 0.24996073 0.2959107  0.09029971 0.5891825  0.24647631\n",
            "  0.40611344 0.48004392 0.39605063 0.         0.62371955 0.34148583\n",
            "  0.30853576 0.58717148 0.43090194 0.33831058 0.57472383 0.44085828\n",
            "  0.31333495 0.62070592 0.52656462 0.29263449 0.24000485 0.30488064\n",
            "  0.34412468 0.241262   0.69734159 0.22156754 0.25492137 0.19892363\n",
            "  0.57100407 0.58501245 0.41429754 0.59816411 0.56974956 0.64355121\n",
            "  0.51992026 0.45835007 0.53882131 0.42269905 0.63497556 0.26631286\n",
            "  0.21253398 0.48129949 0.33335204 0.54129954]\n",
            " [1.04618525 0.09520549 0.60414525 0.09378662 0.67824407 0.2442246\n",
            "  0.25362337 0.95436567 0.58685457 0.26373593 0.6488578  0.51392028\n",
            "  0.961252   0.89473056 0.30479923 0.5068875  0.79698398 0.19320617\n",
            "  1.10307989 0.40635423 0.58470658 0.66233375 0.53727725 0.25934934\n",
            "  0.95895079 0.81240026 0.77993416 0.7168696  0.94319421 0.91000436\n",
            "  0.52021966 0.4409913  0.4475654  0.57648746 0.5995221  0.79475992\n",
            "  0.58872549 0.86222649 0.23992976 0.60210654 0.69052005 0.48806972\n",
            "  0.97188141 0.77403311 0.98258261 0.50893638 0.4519375  0.28580741\n",
            "  0.87279501 0.35985063 0.40698209 0.63779963 0.0763621  0.62822291\n",
            "  0.47065631 0.39147247 0.46989281 0.54021598 0.97862539 0.86180211\n",
            "  1.02663418 0.63168864 0.78564679 0.62371955 0.         0.93049444\n",
            "  0.92392701 0.63000739 0.95988133 0.50262319 0.64957631 0.44392196\n",
            "  0.92962133 0.16442306 0.72007568 0.87295124 0.38714275 0.83039128\n",
            "  0.79371883 0.7674951  0.16522265 0.48177407 0.67468985 0.59907844\n",
            "  0.89413014 0.60387936 0.28729756 0.50305889 0.1038423  0.21732783\n",
            "  0.53974662 0.5867996  0.27307981 0.21722947 0.26998193 0.48209645\n",
            "  0.83615365 0.51687708 0.33234022 0.58165176]\n",
            " [0.23690973 0.92544572 0.75807517 0.86144711 0.31816763 0.92730489\n",
            "  0.75131748 0.28611382 0.62426699 0.99070519 0.77907793 0.53609709\n",
            "  0.56815295 0.17256721 0.6436536  0.77323836 0.39534481 0.73833716\n",
            "  0.17298443 0.58849548 0.55447293 0.60733534 0.39375594 0.67146383\n",
            "  0.50448912 0.38621438 0.3762074  0.45565765 0.46384735 0.02895863\n",
            "  0.73877051 0.52990313 0.6942336  0.54702507 0.56569221 0.20680625\n",
            "  0.55793803 0.68372579 1.07661313 0.48273644 0.75158361 0.6949485\n",
            "  0.69996334 0.21813955 0.21283159 0.55352387 0.52722348 1.04456143\n",
            "  0.06321076 0.57087433 0.94184993 0.52657233 0.984646   0.37644366\n",
            "  0.89101296 0.58629907 0.49476187 0.40233809 0.75236004 0.12020368\n",
            "  0.27176122 0.78221525 0.31229215 0.34148583 0.93049444 0.\n",
            "  0.2689955  0.65361469 0.51175367 0.66813186 0.62760668 0.61268806\n",
            "  0.10049123 0.95241654 0.52459989 0.36743883 0.5684984  0.4545687\n",
            "  0.24091578 0.4321669  1.02573793 0.5611924  0.29679244 0.34471934\n",
            "  0.78124434 0.66640851 0.75295545 0.73447084 0.89299077 0.97964694\n",
            "  0.63338734 0.7708894  0.77535428 0.71526796 0.97454937 0.47128117\n",
            "  0.20464278 0.80856207 0.67123394 0.85943847]\n",
            " [0.14596491 0.89160578 0.92448716 0.87678085 0.24840787 0.85015761\n",
            "  0.6965027  0.03268091 0.46066533 0.90985466 0.95515563 0.66731752\n",
            "  0.30092231 0.10045675 0.68851178 0.9136077  0.62295287 0.73548949\n",
            "  0.33343073 0.67756361 0.40627461 0.41679819 0.42820691 0.6756009\n",
            "  0.23609702 0.61827453 0.59859909 0.65895095 0.19577797 0.24613991\n",
            "  0.88374292 0.61629536 0.8169878  0.4050744  0.40766666 0.15955644\n",
            "  0.40687066 0.43565964 1.01358553 0.35042213 0.54698294 0.55879271\n",
            "  0.43594269 0.17715187 0.09230327 0.4453678  0.62049773 0.96228578\n",
            "  0.2904055  0.59308326 0.81859616 0.70564991 0.96084012 0.29571592\n",
            "  0.74893269 0.53541218 0.58407504 0.39862562 0.48977521 0.17271169\n",
            "  0.10684774 0.59416074 0.53480671 0.30853576 0.92392701 0.2689955\n",
            "  0.         0.83077402 0.24342971 0.53070807 0.81070228 0.72615157\n",
            "  0.16941858 0.89840414 0.72901362 0.11462439 0.53682872 0.2129839\n",
            "  0.46101208 0.22186896 0.97837174 0.4653261  0.45138203 0.44823258\n",
            "  0.53198386 0.83610412 0.68310014 0.87468626 0.85958591 0.91147122\n",
            "  0.7838148  0.5959929  0.84461812 0.72986729 0.8910116  0.55474688\n",
            "  0.11514041 0.6537133  0.60926997 0.68609733]\n",
            " [0.87484084 0.69338211 0.1079604  0.53648282 0.64132419 0.79908694\n",
            "  0.65310954 0.86156662 0.82931882 0.84900887 0.1260178  0.19881077\n",
            "  1.0484791  0.74397909 0.38924358 0.1682226  0.2933256  0.5266203\n",
            "  0.79660249 0.28131635 0.77118451 0.87480051 0.46601883 0.49107276\n",
            "  1.00671043 0.30954909 0.29831801 0.20647107 0.97116079 0.65267773\n",
            "  0.134902   0.30551572 0.18263817 0.75740791 0.79330638 0.67349948\n",
            "  0.77763336 1.06063574 0.86506146 0.72364773 0.99214433 0.80638428\n",
            "  1.13641937 0.65894784 0.82884763 0.69815779 0.29098265 0.88946057\n",
            "  0.5943042  0.44101306 0.9198032  0.12769291 0.70633129 0.64262273\n",
            "  0.93211538 0.5950843  0.31481821 0.5234236  1.1720202  0.67398643\n",
            "  0.8911931  0.97220642 0.35195065 0.58717148 0.63000739 0.65361469\n",
            "  0.83077402 0.         1.01190002 0.79643024 0.03170608 0.21135902\n",
            "  0.72103985 0.75894663 0.15181824 0.86197465 0.55413174 0.89106109\n",
            "  0.41514284 0.82841961 0.79116024 0.6772651  0.38007012 0.39380556\n",
            "  1.13955425 0.0284361  0.68802582 0.14535945 0.67322148 0.81084917\n",
            "  0.09654614 0.93403155 0.35786474 0.47709163 0.84481758 0.33887051\n",
            "  0.7159118  0.91049942 0.63910158 0.98731924]\n",
            " [0.34748307 0.90530988 1.09481298 0.93510255 0.37218721 0.82570253\n",
            "  0.70948466 0.23272767 0.39501566 0.87703792 1.13107653 0.8284627\n",
            "  0.05939848 0.34006237 0.78751931 1.06622382 0.84146753 0.79086047\n",
            "  0.56329039 0.80988577 0.37696743 0.32415267 0.56040693 0.74361705\n",
            "  0.00741349 0.83922818 0.81531473 0.86310102 0.04797192 0.48776765\n",
            "  1.04094304 0.75303833 0.96223304 0.38404168 0.36504911 0.35800861\n",
            "  0.37367413 0.23185052 0.99143873 0.36172928 0.40480051 0.50661939\n",
            "  0.19799966 0.36614312 0.32096228 0.45116269 0.76138562 0.92443336\n",
            "  0.52724894 0.68650927 0.74875782 0.89365728 0.9788252  0.38517085\n",
            "  0.66431853 0.57709217 0.72644623 0.51168918 0.25318398 0.40649417\n",
            "  0.29128967 0.46943757 0.75422132 0.43090194 0.95988133 0.51175367\n",
            "  0.24342971 1.01190002 0.         0.48240638 0.99644931 0.87109893\n",
            "  0.41277169 0.89265872 0.93097233 0.15626687 0.59543501 0.13374041\n",
            "  0.6831656  0.20135357 0.97336787 0.47882616 0.64654778 0.61809702\n",
            "  0.31732049 1.01213333 0.68320981 1.0290045  0.87622305 0.89106535\n",
            "  0.94970106 0.48890505 0.94885392 0.80048102 0.85690363 0.69697899\n",
            "  0.32836698 0.56446357 0.62755496 0.57005162]\n",
            " [0.67504239 0.43397446 0.84023719 0.50265869 0.34998352 0.34329747\n",
            "  0.25082748 0.55329266 0.08823743 0.39559934 0.88584565 0.59983328\n",
            "  0.47188254 0.55023894 0.44050777 0.7748262  0.77526835 0.37214945\n",
            "  0.81475781 0.52223823 0.12444353 0.16345468 0.37745742 0.35370714\n",
            "  0.48321417 0.78303846 0.74825239 0.7423134  0.47771462 0.63992259\n",
            "  0.76302883 0.49094916 0.67029023 0.12681463 0.12530679 0.46829241\n",
            "  0.12397118 0.35966226 0.50911408 0.18843741 0.20799405 0.02815876\n",
            "  0.46940491 0.45291841 0.61445247 0.12217126 0.50565741 0.44456051\n",
            "  0.63384723 0.35968761 0.28790755 0.71838727 0.50767872 0.29255733\n",
            "  0.22405671 0.20275349 0.48542171 0.32563715 0.47680692 0.55713343\n",
            "  0.63647392 0.17597314 0.71242913 0.33831058 0.50262319 0.66813186\n",
            "  0.53070807 0.79643024 0.48240638 0.         0.79588194 0.59580664\n",
            "  0.61579278 0.41273862 0.78945788 0.44108901 0.24304272 0.36786438\n",
            "  0.67218849 0.32030691 0.49271746 0.12943938 0.5643852  0.48521386\n",
            "  0.39900512 0.78341401 0.21534347 0.74638165 0.40798747 0.4086915\n",
            "  0.7064447  0.138307   0.58114236 0.40258454 0.37560457 0.46647779\n",
            "  0.49086068 0.14301633 0.19142748 0.20766721]\n",
            " [0.85098416 0.71015055 0.1384209  0.55583898 0.62731967 0.81185869\n",
            "  0.66164287 0.8411621  0.82555505 0.86311065 0.15169451 0.19605954\n",
            "  1.03429731 0.72239062 0.39874776 0.19894808 0.26248265 0.5386426\n",
            "  0.76831895 0.28760375 0.76574055 0.86876772 0.45648989 0.49983822\n",
            "  0.99111557 0.27856256 0.26833945 0.17709357 0.95501798 0.62751625\n",
            "  0.16485757 0.30560715 0.20417054 0.75197963 0.78777837 0.6544259\n",
            "  0.77217719 1.05159524 0.88284414 0.71594652 0.98896265 0.80687015\n",
            "  1.12507227 0.64046372 0.80614329 0.69461467 0.29057252 0.90468321\n",
            "  0.56899054 0.44392027 0.92869986 0.10508342 0.72575894 0.63134428\n",
            "  0.93800356 0.59584742 0.31139203 0.51454611 1.16175866 0.65168051\n",
            "  0.86866565 0.9712441  0.32334745 0.57472383 0.64957631 0.62760668\n",
            "  0.81070228 0.03170608 0.99644931 0.79588194 0.         0.22099541\n",
            "  0.69716247 0.7745884  0.12032978 0.84528859 0.55476606 0.87737675\n",
            "  0.38810322 0.8156493  0.80932955 0.67464675 0.3593463  0.37889273\n",
            "  1.1320845  0.05806017 0.69547504 0.17414942 0.68899552 0.82587782\n",
            "  0.11045185 0.93390319 0.37890925 0.48925325 0.85825967 0.33363687\n",
            "  0.69615965 0.91308026 0.64353606 0.9895703 ]\n",
            " [0.801803   0.49540634 0.24502526 0.35100097 0.501775   0.59131502\n",
            "  0.44176977 0.75863954 0.63747621 0.64358159 0.29011582 0.08335957\n",
            "  0.89968379 0.65497897 0.17806208 0.19563616 0.36446234 0.31792228\n",
            "  0.77793639 0.07357054 0.58584044 0.69032222 0.31086031 0.27973669\n",
            "  0.86687358 0.38101705 0.35230756 0.27760885 0.83536044 0.60244688\n",
            "  0.17398862 0.11896355 0.09161663 0.57220972 0.60796315 0.56732783\n",
            "  0.5922421  0.88624852 0.66972641 0.54825829 0.79731262 0.60334295\n",
            "  0.97177889 0.54904034 0.74648694 0.50717961 0.10971504 0.6864724\n",
            "  0.54947894 0.23626391 0.70856615 0.19397601 0.51866403 0.48716538\n",
            "  0.72138754 0.3930574  0.14502688 0.36075009 1.0020121  0.59460099\n",
            "  0.8052888  0.77164649 0.37511766 0.44085828 0.44392196 0.61268806\n",
            "  0.72615157 0.21135902 0.87109893 0.59580664 0.22099541 0.\n",
            "  0.65405765 0.55732776 0.27619167 0.73206384 0.35296511 0.74208216\n",
            "  0.40823656 0.67565914 0.59759217 0.48358387 0.31616997 0.2819801\n",
            "  0.95817908 0.19272278 0.47674939 0.15988833 0.47228397 0.60753474\n",
            "  0.11528342 0.73173525 0.19198288 0.2686803  0.63813722 0.17474519\n",
            "  0.61303785 0.70328199 0.43009468 0.78044006]\n",
            " [0.15382699 0.91430691 0.82213314 0.86810496 0.27374708 0.9001324\n",
            "  0.73017981 0.18562594 0.56209526 0.96275256 0.84705565 0.58331995\n",
            "  0.46985887 0.07855398 0.65841446 0.82723035 0.48085867 0.73644362\n",
            "  0.19907544 0.61964355 0.4960167  0.53579735 0.39629204 0.67105429\n",
            "  0.40545652 0.47351679 0.45927471 0.53161165 0.36500758 0.08134542\n",
            "  0.79425044 0.55867705 0.74046174 0.49048894 0.50419878 0.14895321\n",
            "  0.49860038 0.59335235 1.05593633 0.42740335 0.67694841 0.64350414\n",
            "  0.60335663 0.16691049 0.11608735 0.50885163 0.55872846 1.01651958\n",
            "  0.13556198 0.57517685 0.89793987 0.59337205 0.97782206 0.33328614\n",
            "  0.83982992 0.56323845 0.52380675 0.38998177 0.65645842 0.06784559\n",
            "  0.17783451 0.71364845 0.39446687 0.31333495 0.92962133 0.10049123\n",
            "  0.16941858 0.72103985 0.41277169 0.61579278 0.69716247 0.65405765\n",
            "  0.         0.93404034 0.60178877 0.27281805 0.5521149  0.36446332\n",
            "  0.32038357 0.35055403 1.01048134 0.52109013 0.34698385 0.37406891\n",
            "  0.69076866 0.73098134 0.7263028  0.78803714 0.88167068 0.95627718\n",
            "  0.68990071 0.70683575 0.80164453 0.71963645 0.94546593 0.49722752\n",
            "  0.12735057 0.75199459 0.64604472 0.79676194]\n",
            " [1.03227225 0.07173812 0.74738119 0.23868163 0.6656927  0.08850958\n",
            "  0.20418062 0.92629806 0.5009548  0.09980506 0.79359423 0.61479013\n",
            "  0.88454121 0.88706926 0.39053067 0.65317707 0.8852879  0.24784193\n",
            "  1.12093869 0.50446582 0.51810879 0.57600465 0.56460861 0.30769542\n",
            "  0.89293109 0.89925821 0.86477344 0.81427549 0.88359538 0.92866624\n",
            "  0.66175324 0.52271678 0.58047527 0.51322617 0.52800442 0.78960112\n",
            "  0.52062082 0.7621388  0.12539855 0.55399091 0.57418104 0.39162279\n",
            "  0.87422847 0.76971587 0.96847373 0.45678077 0.53638045 0.13092545\n",
            "  0.90020643 0.40662841 0.25023729 0.74575467 0.11779199 0.60909453\n",
            "  0.32449053 0.37094562 0.54454873 0.55013255 0.87323871 0.86701335\n",
            "  1.00460657 0.50881184 0.8591166  0.62070592 0.16442306 0.95241654\n",
            "  0.89840414 0.75894663 0.89265872 0.41273862 0.7745884  0.55732776\n",
            "  0.93404034 0.         0.82910437 0.82961193 0.38409139 0.77105673\n",
            "  0.85359092 0.71449435 0.08107783 0.43414696 0.73095044 0.64805328\n",
            "  0.77977017 0.7347684  0.21581763 0.64394316 0.08574484 0.0544908\n",
            "  0.66432395 0.46610879 0.41375429 0.29325759 0.10568598 0.54841346\n",
            "  0.82611541 0.38848391 0.29034712 0.44349329]\n",
            " [0.75469705 0.76960787 0.2583198  0.62697292 0.57180616 0.85526651\n",
            "  0.69154372 0.7579602  0.80647382 0.9109458  0.26581739 0.2154422\n",
            "  0.97337653 0.63563866 0.43995932 0.31441835 0.14363146 0.58395724\n",
            "  0.65641023 0.32501449 0.74108892 0.84047144 0.42387761 0.53453977\n",
            "  0.92512833 0.15915428 0.15311365 0.07040402 0.88720621 0.52776898\n",
            "  0.27870898 0.31971914 0.29463486 0.72760391 0.76247516 0.57834228\n",
            "  0.74738049 1.01008536 0.9443226  0.68341856 0.97027857 0.80421199\n",
            "  1.07430316 0.56692826 0.71444467 0.67846365 0.30433234 0.95634361\n",
            "  0.46920639 0.45944032 0.95633464 0.08335275 0.7948438  0.58650193\n",
            "  0.95420022 0.5982489  0.31197181 0.48229418 1.11487377 0.56285851\n",
            "  0.77724724 0.96116498 0.21340942 0.52656462 0.72007568 0.52459989\n",
            "  0.72901362 0.15181824 0.93097233 0.78945788 0.12032978 0.27619167\n",
            "  0.60178877 0.82910437 0.         0.77630732 0.55781304 0.81962951\n",
            "  0.2838056  0.76208455 0.87289919 0.66242064 0.28443317 0.32817421\n",
            "  1.09596645 0.17555439 0.72074239 0.28476657 0.7450806  0.87755495\n",
            "  0.19592009 0.92736856 0.4598532  0.53642011 0.90367205 0.32536155\n",
            "  0.6168538  0.91703771 0.65858173 0.99150758]\n",
            " [0.25457326 0.83066946 0.94826768 0.83583288 0.23059654 0.77378507\n",
            "  0.6330071  0.12344803 0.36383278 0.83099474 0.98295449 0.6835763\n",
            "  0.20623317 0.19538521 0.66670309 0.92548828 0.68520202 0.69166624\n",
            "  0.44766272 0.6751368  0.31882381 0.31175788 0.42227283 0.63723237\n",
            "  0.14991551 0.68298741 0.65907122 0.70798435 0.1109657  0.34146633\n",
            "  0.89849173 0.61603706 0.82366642 0.32052153 0.31581308 0.20174614\n",
            "  0.31810551 0.32245505 0.93941172 0.27579938 0.43569648 0.46859593\n",
            "  0.33301282 0.21018054 0.20647297 0.37296547 0.62292562 0.88205901\n",
            "  0.37592854 0.56690166 0.72670419 0.74163853 0.90229219 0.25812968\n",
            "  0.65208866 0.48163375 0.587088   0.3797871  0.38496658 0.25537911\n",
            "  0.2057455  0.48622995 0.5979688  0.29263449 0.87295124 0.36743883\n",
            "  0.11462439 0.86197465 0.15626687 0.44108901 0.84528859 0.73206384\n",
            "  0.27281805 0.82961193 0.77630732 0.         0.49128641 0.09859895\n",
            "  0.52708517 0.12109473 0.91052546 0.39687858 0.49211463 0.4688821\n",
            "  0.41939033 0.86361737 0.61410406 0.88750294 0.79958919 0.83716332\n",
            "  0.8039816  0.49167038 0.82716263 0.69350566 0.81152948 0.55734015\n",
            "  0.17383494 0.55449372 0.54655311 0.58090085]\n",
            " [0.66052781 0.36241578 0.5977194  0.34454827 0.29164708 0.36287696\n",
            "  0.18361329 0.56741395 0.28881166 0.42637248 0.64307757 0.35916663\n",
            "  0.60802832 0.51060542 0.20815183 0.53561521 0.5649084  0.20052577\n",
            "  0.7369094  0.2794328  0.2481506  0.34969059 0.18844658 0.14819866\n",
            "  0.59326755 0.57538108 0.53970818 0.51785737 0.571749   0.54458507\n",
            "  0.52185798 0.24917196 0.4297916  0.23560461 0.26912647 0.41120947\n",
            "  0.25411754 0.55434111 0.50811595 0.23514552 0.44524409 0.25226862\n",
            "  0.65153892 0.39075253 0.59671661 0.16393924 0.26420834 0.47980285\n",
            "  0.51738779 0.11754775 0.41525458 0.48253784 0.42781665 0.24119395\n",
            "  0.3991518  0.04109894 0.24735311 0.16616741 0.67341447 0.48460375\n",
            "  0.63960002 0.41900725 0.51634585 0.24000485 0.38714275 0.5684984\n",
            "  0.53682872 0.55413174 0.59543501 0.24304272 0.55476606 0.35296511\n",
            "  0.5521149  0.38409139 0.55781304 0.49128641 0.         0.46202328\n",
            "  0.49370911 0.39541952 0.45887475 0.1368285  0.37318223 0.28764144\n",
            "  0.61624434 0.5405661  0.19203909 0.50559079 0.32979776 0.41189396\n",
            "  0.46346624 0.38000506 0.36363254 0.20506864 0.41173651 0.23257766\n",
            "  0.45094037 0.36009189 0.11266163 0.43573677]\n",
            " [0.35239093 0.77941895 0.97015817 0.80287067 0.25008364 0.70866619\n",
            "  0.58229053 0.22125306 0.28441479 0.76300077 1.00784013 0.70326905\n",
            "  0.15807762 0.28594716 0.65402618 0.93761692 0.74159587 0.65842027\n",
            "  0.54514356 0.67923492 0.25296345 0.22347004 0.43253799 0.61022187\n",
            "  0.13128108 0.74130973 0.7145039  0.7537151  0.1131362  0.42724968\n",
            "  0.91337957 0.62347307 0.83276104 0.25815448 0.24455269 0.26785343\n",
            "  0.25063775 0.22925999 0.87493445 0.22945341 0.33907357 0.3940898\n",
            "  0.25927973 0.26979167 0.3050297  0.32165421 0.63246291 0.81239896\n",
            "  0.45497588 0.55301585 0.64718953 0.77639066 0.85248668 0.25492566\n",
            "  0.56834601 0.44469731 0.59813238 0.38150524 0.30651444 0.33737385\n",
            "  0.30191439 0.3926256  0.65651018 0.30488064 0.83039128 0.4545687\n",
            "  0.2129839  0.89106109 0.13374041 0.36786438 0.87737675 0.74208216\n",
            "  0.36446332 0.77105673 0.81962951 0.09859895 0.46202328 0.\n",
            "  0.58922955 0.06781863 0.85209578 0.34861791 0.53653125 0.49866158\n",
            "  0.32678855 0.88963233 0.55838922 0.90089981 0.74958323 0.77337894\n",
            "  0.82473564 0.40169004 0.81532521 0.66709189 0.74311572 0.56896447\n",
            "  0.25215635 0.46919852 0.49860794 0.48948588]\n",
            " [0.47199919 0.811298   0.52122312 0.7117179  0.36471404 0.85037271\n",
            "  0.67011837 0.48734981 0.65883432 0.91290006 0.53979452 0.32566105\n",
            "  0.73218802 0.36286395 0.48961846 0.54577863 0.16220934 0.61366443\n",
            "  0.38353503 0.40481344 0.58643163 0.66985952 0.30743865 0.5484909\n",
            "  0.6766216  0.15733935 0.13916183 0.21475058 0.63664038 0.24433662\n",
            "  0.51010137 0.35644859 0.47872391 0.57486027 0.60442354 0.32567898\n",
            "  0.59181442 0.80366026 0.97847639 0.51648322 0.81305913 0.69434819\n",
            "  0.84846341 0.32021231 0.43505946 0.5501418  0.34824418 0.96490874\n",
            "  0.18601984 0.44721446 0.90616466 0.28969003 0.8586229  0.40262099\n",
            "  0.87706488 0.52532053 0.32487769 0.34939833 0.89510875 0.28919872\n",
            "  0.49762012 0.82340154 0.07442394 0.34412468 0.79371883 0.24091578\n",
            "  0.46101208 0.41514284 0.6831656  0.67218849 0.38810322 0.40823656\n",
            "  0.32038357 0.85359092 0.2838056  0.52708517 0.49370911 0.58922955\n",
            "  0.         0.54282367 0.91694034 0.54533645 0.1227624  0.20746245\n",
            "  0.89730853 0.42981512 0.68491102 0.50810393 0.78071045 0.89135621\n",
            "  0.40535417 0.79955726 0.59069243 0.57836826 0.90014666 0.31174732\n",
            "  0.35614333 0.81385032 0.60633927 0.87914179]\n",
            " [0.36755713 0.71953562 0.90557682 0.73749806 0.19029319 0.65572621\n",
            "  0.52184476 0.23906923 0.24292367 0.71198237 0.94390005 0.63870504\n",
            "  0.22405007 0.27326588 0.58623899 0.87127372 0.69064882 0.59292156\n",
            "  0.54184943 0.61215197 0.1992001  0.19492994 0.36709834 0.5435663\n",
            "  0.19860786 0.69145101 0.66318535 0.69745343 0.17669063 0.4037253\n",
            "  0.84750143 0.55688647 0.76609701 0.20207901 0.19500208 0.23231203\n",
            "  0.19804281 0.2616117  0.82176374 0.16538978 0.32869977 0.34768906\n",
            "  0.31227305 0.22955562 0.31258133 0.2603797  0.56616361 0.7625737\n",
            "  0.42367309 0.48522718 0.60561004 0.71580331 0.7921184  0.18871143\n",
            "  0.5314625  0.37950664 0.5321586  0.31491226 0.35478427 0.31215556\n",
            "  0.32285183 0.37265282 0.60732784 0.241262   0.7674951  0.4321669\n",
            "  0.22186896 0.82841961 0.20135357 0.32030691 0.8156493  0.67565914\n",
            "  0.35055403 0.71449435 0.76208455 0.12109473 0.39541952 0.06781863\n",
            "  0.54282367 0.         0.79556051 0.28632903 0.48111036 0.43787571\n",
            "  0.35716201 0.82616593 0.50006627 0.83478956 0.68916254 0.71969904\n",
            "  0.76013578 0.37429313 0.74755153 0.6004252  0.69236561 0.50317639\n",
            "  0.22775899 0.43442463 0.43687142 0.46428984]\n",
            " [1.11131015 0.10618595 0.76895705 0.25597915 0.74384135 0.15689618\n",
            "  0.28257597 1.00648983 0.58095383 0.13549819 0.81388486 0.66148759\n",
            "  0.96459922 0.96514933 0.44089656 0.67197546 0.93865277 0.30403772\n",
            "  1.19539525 0.55145804 0.59913877 0.65571549 0.63507598 0.36845025\n",
            "  0.97369905 0.9532526  0.91945288 0.86352076 0.96459264 1.0025782\n",
            "  0.68464693 0.57651377 0.60949718 0.59429899 0.60888511 0.86713008\n",
            "  0.60161654 0.83919382 0.07474905 0.63483486 0.64813346 0.47098061\n",
            "  0.95145549 0.8470735  1.04745133 0.53762169 0.58928323 0.13403912\n",
            "  0.97223336 0.47023128 0.30528402 0.78978597 0.09210689 0.68784117\n",
            "  0.3877407  0.44836664 0.6011423  0.62414538 0.94882704 0.94317573\n",
            "  1.08439926 0.58115063 0.91800241 0.69734159 0.16522265 1.02573793\n",
            "  0.97837174 0.79116024 0.97336787 0.49271746 0.80932955 0.59759217\n",
            "  1.01048134 0.08107783 0.87289919 0.91052546 0.45887475 0.85209578\n",
            "  0.91694034 0.79556051 0.         0.51471271 0.79486394 0.71360217\n",
            "  0.85327849 0.76563339 0.29652064 0.66732835 0.13623898 0.09586835\n",
            "  0.69897301 0.53957654 0.43649862 0.34444925 0.15111937 0.60789064\n",
            "  0.90437368 0.4601258  0.36947739 0.50975552]\n",
            " [0.60271089 0.4340363  0.72849501 0.45785074 0.24752085 0.38556662\n",
            "  0.23624881 0.49256436 0.15392897 0.44639153 0.77292945 0.47897156\n",
            "  0.48431764 0.46396853 0.34494567 0.67039039 0.64583216 0.31488139\n",
            "  0.71745164 0.41071559 0.11293789 0.21290544 0.24802188 0.27604364\n",
            "  0.47763886 0.65365174 0.6188321  0.61379059 0.46145741 0.53400132\n",
            "  0.65508284 0.37265234 0.56394174 0.10136623 0.13308671 0.3722585\n",
            "  0.11857923 0.41820416 0.54826961 0.1215305  0.31499465 0.14938293\n",
            "  0.51753475 0.35430956 0.5394908  0.02866856 0.38666169 0.49954672\n",
            "  0.52103419 0.25228295 0.38068756 0.59324913 0.50616823 0.18787151\n",
            "  0.33582838 0.10518965 0.36325537 0.19697086 0.53752036 0.4577432\n",
            "  0.57196577 0.29884856 0.58362422 0.22156754 0.48177407 0.5611924\n",
            "  0.4653261  0.6772651  0.47882616 0.12943938 0.67464675 0.48358387\n",
            "  0.52109013 0.43414696 0.66242064 0.39687858 0.1368285  0.34861791\n",
            "  0.54533645 0.28632903 0.51471271 0.         0.43554804 0.35581937\n",
            "  0.47956886 0.66610868 0.21834943 0.63925274 0.40326828 0.4462066\n",
            "  0.59028788 0.26551335 0.49874323 0.33152043 0.42811929 0.34218962\n",
            "  0.4027273  0.26872497 0.15056074 0.33681696]\n",
            " [0.49953161 0.68942345 0.47733865 0.5950394  0.29192124 0.72789148\n",
            "  0.54780449 0.4818248  0.56054968 0.79031294 0.50530025 0.23953863\n",
            "  0.68922152 0.36406946 0.37234907 0.48059985 0.21715182 0.4921388\n",
            "  0.46230822 0.29806121 0.48978766 0.58113205 0.19040487 0.42651062\n",
            "  0.64072185 0.2221042  0.18927179 0.21727755 0.60293827 0.28807147\n",
            "  0.44733708 0.24387852 0.39772605 0.47727545 0.5094229  0.29620402\n",
            "  0.49561715 0.73502505 0.85591589 0.42382624 0.720072   0.58486972\n",
            "  0.79313831 0.28353338 0.45036136 0.44365642 0.23813225 0.84223109\n",
            "  0.23363882 0.32480274 0.78738947 0.25427682 0.73814101 0.31594978\n",
            "  0.76219687 0.40631284 0.21016321 0.23874806 0.8355817  0.29512939\n",
            "  0.51225313 0.72341194 0.14807633 0.25492137 0.67468985 0.29679244\n",
            "  0.45138203 0.38007012 0.64654778 0.5643852  0.3593463  0.31616997\n",
            "  0.34698385 0.73095044 0.28443317 0.49211463 0.37318223 0.53653125\n",
            "  0.1227624  0.48111036 0.79486394 0.43554804 0.         0.08559624\n",
            "  0.82460316 0.38715656 0.56350901 0.44146831 0.65862664 0.76859483\n",
            "  0.34292587 0.69617776 0.4861806  0.45827096 0.77770361 0.19319861\n",
            "  0.33703769 0.70392912 0.48580959 0.77205239]\n",
            " [0.52002702 0.60874363 0.47993761 0.52324569 0.24858475 0.64294034\n",
            "  0.46265592 0.48033741 0.48797261 0.70554066 0.5140729  0.21908601\n",
            "  0.65540733 0.37322599 0.30184744 0.46547232 0.29022345 0.41268446\n",
            "  0.51644029 0.24613704 0.41919529 0.51530077 0.10798236 0.34620036\n",
            "  0.61290678 0.29783246 0.2630717  0.26879637 0.5775264  0.32986785\n",
            "  0.43554298 0.18601975 0.37105087 0.40613648 0.43981335 0.28867629\n",
            "  0.42528566 0.6820361  0.77326904 0.35747908 0.65000149 0.50453884\n",
            "  0.74904131 0.27169816 0.46453313 0.36623251 0.18493896 0.75768732\n",
            "  0.28281859 0.2436072  0.70214791 0.2779467  0.66003231 0.25840227\n",
            "  0.6785085  0.32119568 0.15085333 0.16149184 0.78807184 0.31299529\n",
            "  0.52364234 0.64860536 0.23061041 0.19892363 0.59907844 0.34471934\n",
            "  0.44823258 0.39380556 0.61809702 0.48521386 0.37889273 0.2819801\n",
            "  0.37406891 0.64805328 0.32817421 0.4688821  0.28764144 0.49866158\n",
            "  0.20746245 0.43787571 0.71360217 0.35581937 0.08559624 0.\n",
            "  0.76789809 0.39474501 0.47794233 0.42649377 0.57749942 0.68462611\n",
            "  0.33682677 0.61927981 0.43121423 0.38186005 0.69269873 0.12656183\n",
            "  0.33370292 0.62296933 0.40024601 0.69259537]\n",
            " [0.65757769 0.81630543 1.20132874 0.90107143 0.53497563 0.69638747\n",
            "  0.64749699 0.5320446  0.32921382 0.73075887 1.24413513 0.94160621\n",
            "  0.26272319 0.61238988 0.82400741 1.14852691 1.03944694 0.77066736\n",
            "  0.86489518 0.88667948 0.37243218 0.2680709  0.67647723 0.74689683\n",
            "  0.32383284 1.04172786 1.01163883 1.03575604 0.3538503  0.75374518\n",
            "  1.13148727 0.84251205 1.04167436 0.38601128 0.35037645 0.58846416\n",
            "  0.366058   0.09753056 0.84783737 0.41613808 0.20563572 0.40840998\n",
            "  0.1452422  0.58665277 0.62075201 0.45350963 0.85513623 0.76685529\n",
            "  0.77890158 0.73149921 0.56977309 1.03942794 0.8878993  0.51025473\n",
            "  0.47848682 0.5815617  0.82660884 0.61796524 0.11006719 0.66328675\n",
            "  0.60229807 0.27252806 0.95893637 0.57100407 0.89413014 0.78124434\n",
            "  0.53198386 1.13955425 0.31732049 0.39900512 1.1320845  0.95817908\n",
            "  0.69076866 0.77977017 1.09596645 0.41939033 0.61624434 0.32678855\n",
            "  0.89730853 0.35716201 0.85327849 0.47956886 0.82460316 0.76789809\n",
            "  0.         1.13210237 0.60927636 1.1162249  0.7943663  0.75932996\n",
            "  1.05912601 0.31379507 0.97395487 0.7986216  0.71120101 0.80105434\n",
            "  0.57785994 0.39357818 0.58952511 0.35776018]\n",
            " [0.88460228 0.66862612 0.09166685 0.51051427 0.6405672  0.77656426\n",
            "  0.63347998 0.86723989 0.81891437 0.82566192 0.11944158 0.19060719\n",
            "  1.04740649 0.75114012 0.36949377 0.1409055  0.31473699 0.50484461\n",
            "  0.81258934 0.26452129 0.76228864 0.86629452 0.46147404 0.47155411\n",
            "  1.00709491 0.33126613 0.31795508 0.22557095 0.97213698 0.66434544\n",
            "  0.10691464 0.29348195 0.15631836 0.7485172  0.78445464 0.67793561\n",
            "  0.76873954 1.05465351 0.83970063 0.71681079 0.98109925 0.79253247\n",
            "  1.13253238 0.6627708  0.83723449 0.6877428  0.27949236 0.86545315\n",
            "  0.60625808 0.42597917 0.89969359 0.14017892 0.68023352 0.63922576\n",
            "  0.91408407 0.58132681 0.30568453 0.51808552 1.16709111 0.68208442\n",
            "  0.89931055 0.95935762 0.36910976 0.58501245 0.60387936 0.66640851\n",
            "  0.83610412 0.0284361  1.01213333 0.78341401 0.05806017 0.19272278\n",
            "  0.73098134 0.7347684  0.17555439 0.86361737 0.5405661  0.88963233\n",
            "  0.42981512 0.82616593 0.76563339 0.66610868 0.38715656 0.39474501\n",
            "  1.13210237 0.         0.66910772 0.11697242 0.64902356 0.78698782\n",
            "  0.07773533 0.92054569 0.3312864  0.45531382 0.8218627  0.33112668\n",
            "  0.72102794 0.89492501 0.62243508 0.9719389 ]\n",
            " [0.81843356 0.22229775 0.70749672 0.29448274 0.45459467 0.17444808\n",
            "  0.04183179 0.71072254 0.30042856 0.2377591  0.75480168 0.50892059\n",
            "  0.67964711 0.67544815 0.2999447  0.62726383 0.74627689 0.18385273\n",
            "  0.91763039 0.40787845 0.30640312 0.376193   0.38048118 0.19796487\n",
            "  0.68299759 0.75797635 0.72234618 0.69002328 0.67138777 0.72771775\n",
            "  0.62372468 0.40107722 0.53164009 0.3002897  0.31853441 0.57960535\n",
            "  0.30954508 0.57493038 0.33162169 0.33834825 0.40830085 0.20136913\n",
            "  0.68470213 0.56024539 0.75480532 0.24114515 0.41652212 0.29162841\n",
            "  0.70481012 0.26200371 0.23559269 0.64031622 0.29603614 0.39667109\n",
            "  0.24670187 0.16706196 0.41124439 0.35371562 0.69153846 0.66027173\n",
            "  0.78951066 0.35529488 0.70399885 0.41429754 0.28729756 0.75295545\n",
            "  0.68310014 0.68802582 0.68320981 0.21534347 0.69547504 0.47674939\n",
            "  0.7263028  0.21581763 0.72074239 0.61410406 0.19203909 0.55838922\n",
            "  0.68491102 0.50006627 0.29652064 0.21834943 0.56350901 0.47794233\n",
            "  0.60927636 0.66910772 0.         0.60586964 0.19427202 0.23048495\n",
            "  0.59199792 0.30999929 0.40530431 0.22738303 0.22175798 0.40469175\n",
            "  0.61421608 0.25236966 0.08186501 0.32692665]\n",
            " [0.93950616 0.57514458 0.10398739 0.41144782 0.65814493 0.69408274\n",
            "  0.56723884 0.90682713 0.79307951 0.73861469 0.15108241 0.20752656\n",
            "  1.05871152 0.79764522 0.31015446 0.03923367 0.41540651 0.42982815\n",
            "  0.89055531 0.22959101 0.74380237 0.84817349 0.46868434 0.40938873\n",
            "  1.02461559 0.43246603 0.41373988 0.32280213 0.99232481 0.72844112\n",
            "  0.01808915 0.27874157 0.07613844 0.73025621 0.76584857 0.71514045\n",
            "  0.75016966 1.04555614 0.74198344 0.70788362 0.95079907 0.75159151\n",
            "  1.13165356 0.69787807 0.88741605 0.66378971 0.26870515 0.77477543\n",
            "  0.67215878 0.38805958 0.8283184  0.22850161 0.57913831 0.64612727\n",
            "  0.85254825 0.5444185  0.30278088 0.520023   1.16164375 0.73298561\n",
            "  0.94792312 0.92124383 0.45654072 0.59816411 0.50305889 0.73447084\n",
            "  0.87468626 0.14535945 1.0290045  0.74638165 0.17414942 0.15988833\n",
            "  0.78803714 0.64394316 0.28476657 0.88750294 0.50559079 0.90089981\n",
            "  0.50810393 0.83478956 0.66732835 0.63925274 0.44146831 0.42649377\n",
            "  1.1162249  0.11697242 0.60586964 0.         0.55876452 0.69750106\n",
            "  0.10283527 0.87991261 0.23117784 0.3815131  0.73685282 0.33208723\n",
            "  0.76018437 0.84500893 0.57091944 0.92227603]\n",
            " [0.9883944  0.03263665 0.66236132 0.15837551 0.61941837 0.14712322\n",
            "  0.16735604 0.88883979 0.49425744 0.18084039 0.70873776 0.53146214\n",
            "  0.87378578 0.83980504 0.30822116 0.56878541 0.80510384 0.16837772\n",
            "  1.06362481 0.42107688 0.49928232 0.57009076 0.5007909  0.23222757\n",
            "  0.87579058 0.81942659 0.78531399 0.73209442 0.8627194  0.87043053\n",
            "  0.57662442 0.44243912 0.49480408 0.49234812 0.51227732 0.74075028\n",
            "  0.50273284 0.76631597 0.2012956  0.5247984  0.58983121 0.3913152\n",
            "  0.87700388 0.72038111 0.9244758  0.42878413 0.45563071 0.21655852\n",
            "  0.83848653 0.3340375  0.30679888 0.66173659 0.10295868 0.56546178\n",
            "  0.36724508 0.32455523 0.46603411 0.49296014 0.88140917 0.81403133\n",
            "  0.96447387 0.52956872 0.78243666 0.56974956 0.1038423  0.89299077\n",
            "  0.85958591 0.67322148 0.87622305 0.40798747 0.68899552 0.47228397\n",
            "  0.88167068 0.08574484 0.7450806  0.79958919 0.32979776 0.74958323\n",
            "  0.78071045 0.68916254 0.13623898 0.40326828 0.65862664 0.57749942\n",
            "  0.7943663  0.64902356 0.19427202 0.55876452 0.         0.13873937\n",
            "  0.5786887  0.48492662 0.32919704 0.21096864 0.18177108 0.4720278\n",
            "  0.77965319 0.41367578 0.25304197 0.47784129]\n",
            " [1.04829113 0.12613453 0.80107309 0.29316956 0.68505384 0.06558984\n",
            "  0.22841043 0.93833601 0.49650416 0.04669297 0.84740122 0.66260722\n",
            "  0.87935658 0.90592598 0.43787553 0.70721589 0.92942218 0.29406519\n",
            "  1.1462128  0.55255815 0.52112425 0.57005938 0.59671791 0.35038834\n",
            "  0.89178937 0.94303201 0.90823697 0.86054439 0.88490825 0.95510239\n",
            "  0.71535548 0.56768414 0.63326701 0.51762004 0.52890599 0.80997986\n",
            "  0.52300237 0.74824165 0.10230566 0.56318271 0.55468585 0.38524637\n",
            "  0.86058341 0.79052637 0.98478407 0.4666017  0.58173566 0.07894445\n",
            "  0.9292693  0.44622352 0.21038447 0.7942664  0.16285653 0.62713891\n",
            "  0.29187316 0.39404806 0.58789485 0.57776103 0.85625924 0.88992123\n",
            "  1.01815904 0.48689566 0.90006655 0.64355121 0.21732783 0.97964694\n",
            "  0.91147122 0.81084917 0.89106535 0.4086915  0.82587782 0.60753474\n",
            "  0.95627718 0.0544908  0.87755495 0.83716332 0.41189396 0.77337894\n",
            "  0.89135621 0.71969904 0.09586835 0.4462066  0.76859483 0.68462611\n",
            "  0.75932996 0.78698782 0.23048495 0.69750106 0.13873937 0.\n",
            "  0.71580326 0.446031   0.4676928  0.34113696 0.05732953 0.58997751\n",
            "  0.84468428 0.36579616 0.31025902 0.41396929]\n",
            " [0.84231575 0.59970725 0.1454443  0.44596593 0.57751435 0.70294233\n",
            "  0.55677934 0.81556935 0.7435215  0.75342857 0.18539667 0.12146748\n",
            "  0.98279344 0.70325445 0.29282822 0.14052959 0.31693731 0.43022339\n",
            "  0.78808493 0.18678669 0.68821367 0.79248056 0.39344082 0.39475549\n",
            "  0.94492678 0.33409927 0.31328426 0.22398685 0.91105421 0.62823649\n",
            "  0.10541621 0.21782889 0.09922211 0.67446252 0.71039667 0.62448629\n",
            "  0.6946594  0.98332569 0.77242455 0.64492239 0.90516713 0.71522385\n",
            "  1.06373603 0.60814128 0.79180342 0.61245106 0.20440298 0.79455311\n",
            "  0.57142758 0.34843714 0.82335694 0.12886603 0.61582415 0.57201684\n",
            "  0.83663502 0.5041241  0.23284939 0.4486287  1.09692905 0.63678443\n",
            "  0.85300039 0.8824156  0.35407899 0.51992026 0.53974662 0.63338734\n",
            "  0.7838148  0.09654614 0.94970106 0.7064447  0.11045185 0.11528342\n",
            "  0.68990071 0.66432395 0.19592009 0.8039816  0.46346624 0.82473564\n",
            "  0.40535417 0.76013578 0.69897301 0.59028788 0.34292587 0.33682677\n",
            "  1.05912601 0.07773533 0.59199792 0.10283527 0.5786887  0.71580326\n",
            "  0.         0.84334395 0.27068975 0.38071041 0.74892914 0.25975308\n",
            "  0.66878262 0.81721929 0.54470988 0.89425106]\n",
            " [0.74182079 0.50504895 0.9754073  0.60427074 0.45777367 0.38268206\n",
            "  0.35098307 0.6129901  0.14680191 0.41931699 1.02138845 0.73789059\n",
            "  0.46202788 0.63486477 0.57140258 0.90707226 0.90946805 0.48680273\n",
            "  0.90479975 0.65820543 0.21847778 0.17993301 0.51222257 0.47906776\n",
            "  0.49175084 0.91660199 0.8821864  0.87930331 0.49777071 0.74206347\n",
            "  0.8968508  0.6286938  0.80377935 0.22803246 0.2053408  0.56517186\n",
            "  0.21425723 0.307499   0.53688648 0.2912711  0.10865553 0.1284666\n",
            "  0.41902504 0.55275472 0.68576611 0.25305375 0.64350434 0.45868516\n",
            "  0.7435566  0.4954943  0.26725995 0.85666018 0.57560544 0.40540459\n",
            "  0.17807898 0.33922671 0.62367725 0.45823571 0.41077789 0.65438392\n",
            "  0.69657288 0.04532266 0.84375498 0.45835007 0.5867996  0.7708894\n",
            "  0.5959929  0.93403155 0.48890505 0.138307   0.93390319 0.73173525\n",
            "  0.70683575 0.46610879 0.92736856 0.49167038 0.38000506 0.40169004\n",
            "  0.79955726 0.37429313 0.53957654 0.26551335 0.69617776 0.61927981\n",
            "  0.31379507 0.92054569 0.30999929 0.87991261 0.48492662 0.446031\n",
            "  0.84334395 0.         0.70379257 0.52322292 0.39945103 0.60476879\n",
            "  0.57950513 0.08196899 0.31327513 0.09040832]\n",
            " [0.94059311 0.34428699 0.33393998 0.18052037 0.60126346 0.46867406\n",
            "  0.36398045 0.87719311 0.64478485 0.50984844 0.37990598 0.27337733\n",
            "  0.96690191 0.78838637 0.1613592  0.23959395 0.55640613 0.22147786\n",
            "  0.94575292 0.18812843 0.61127942 0.71085769 0.41691333 0.22762104\n",
            "  0.94587848 0.57298965 0.54416349 0.46864648 0.91999984 0.76108056\n",
            "  0.2487347  0.24545451 0.17524019 0.59898741 0.63181348 0.69256852\n",
            "  0.61711142 0.91690462 0.51106159 0.5954829  0.78903598 0.57961374\n",
            "  1.01516864 0.67245842 0.8808583  0.52670691 0.24872845 0.54433913\n",
            "  0.71282842 0.26235172 0.6118838  0.38088389 0.34941695 0.5694197\n",
            "  0.64726643 0.39402158 0.28061234 0.44895688 1.0362612  0.73726093\n",
            "  0.93520092 0.74786636 0.56424251 0.53882131 0.27307981 0.77535428\n",
            "  0.84461812 0.35786474 0.94885392 0.58114236 0.37890925 0.19198288\n",
            "  0.80164453 0.41375429 0.4598532  0.82716263 0.36363254 0.81532521\n",
            "  0.59069243 0.74755153 0.43649862 0.49874323 0.4861806  0.43121423\n",
            "  0.97395487 0.3312864  0.40530431 0.23117784 0.32919704 0.4676928\n",
            "  0.27068975 0.70379257 0.         0.180657   0.50930788 0.30519594\n",
            "  0.73823932 0.65583613 0.39145111 0.73161262]\n",
            " [0.84352935 0.23846493 0.48453222 0.14871345 0.48147122 0.32265265\n",
            "  0.18715039 0.76149595 0.47050494 0.37547915 0.53191935 0.32163857\n",
            "  0.81210554 0.69055846 0.09734476 0.40090771 0.59440208 0.04953838\n",
            "  0.88815238 0.21144708 0.4442221  0.53966282 0.32401897 0.05687004\n",
            "  0.79833406 0.60888556 0.57501111 0.52127498 0.77659527 0.6956124\n",
            "  0.39953766 0.23206495 0.30923782 0.4328857  0.46353074 0.59079489\n",
            "  0.44964603 0.74646901 0.41219893 0.43962849 0.60998576 0.39976112\n",
            "  0.84848921 0.56999213 0.78072801 0.36014129 0.24491728 0.41995483\n",
            "  0.65674549 0.14487194 0.44718225 0.45312984 0.28029393 0.43809443\n",
            "  0.47283134 0.22687957 0.25746187 0.33471178 0.86598795 0.65212767\n",
            "  0.82881242 0.56741319 0.57472833 0.42269905 0.21722947 0.71526796\n",
            "  0.72986729 0.47709163 0.80048102 0.40258454 0.48925325 0.2686803\n",
            "  0.71963645 0.29325759 0.53642011 0.69350566 0.20506864 0.66709189\n",
            "  0.57836826 0.6004252  0.34444925 0.33152043 0.45827096 0.38186005\n",
            "  0.7986216  0.45531382 0.22738303 0.3815131  0.21096864 0.34113696\n",
            "  0.38071041 0.52322292 0.180657   0.         0.3695467  0.26675638\n",
            "  0.63412812 0.47580823 0.21168237 0.55199442]\n",
            " [1.03045647 0.17594214 0.84077555 0.33981963 0.67231544 0.04992454\n",
            "  0.23016577 0.91674548 0.46199252 0.02023362 0.88753529 0.68823019\n",
            "  0.84219818 0.8915606  0.46415487 0.74869072 0.94771605 0.32067647\n",
            "  1.1383569  0.57926742 0.49316773 0.53364692 0.5995676  0.37058242\n",
            "  0.85801624 0.96070044 0.92550008 0.88266021 0.85331829 0.94913901\n",
            "  0.75484439 0.58889611 0.67018628 0.49100812 0.49890176 0.79767271\n",
            "  0.49443124 0.70467088 0.1376592  0.54080388 0.50786469 0.35043792\n",
            "  0.81689508 0.77878858 0.96743723 0.44593542 0.60349124 0.0714296\n",
            "  0.92655498 0.46053703 0.15417738 0.82073024 0.21956972 0.61338295\n",
            "  0.23850331 0.38880498 0.60638878 0.57528335 0.81022323 0.88010417\n",
            "  0.99785921 0.43877398 0.91345069 0.63497556 0.26998193 0.97454937\n",
            "  0.8910116  0.84481758 0.85690363 0.37560457 0.85825967 0.63813722\n",
            "  0.94546593 0.10568598 0.90367205 0.81152948 0.41173651 0.74311572\n",
            "  0.90014666 0.69236561 0.15111937 0.42811929 0.77770361 0.69269873\n",
            "  0.71120101 0.8218627  0.22175798 0.73685282 0.18177108 0.05732953\n",
            "  0.74892914 0.39945103 0.50930788 0.3695467  0.         0.60574694\n",
            "  0.83024869 0.31807275 0.30361858 0.36152329]\n",
            " [0.63933185 0.50180955 0.40445119 0.40185895 0.32703457 0.55593197\n",
            "  0.38082081 0.5873767  0.49202122 0.61629628 0.44510475 0.14055625\n",
            "  0.72689441 0.48902445 0.17917135 0.36926334 0.34267996 0.3038558\n",
            "  0.64287869 0.12378421 0.43242678 0.53593233 0.13659869 0.24076011\n",
            "  0.69264387 0.3551999  0.31986064 0.2867208  0.66077604 0.45617981\n",
            "  0.34441523 0.06214326 0.26633054 0.41865336 0.45452339 0.39732293\n",
            "  0.43887235 0.72383816 0.67197309 0.38572214 0.65562612 0.47992701\n",
            "  0.80423015 0.37827267 0.58139822 0.36126268 0.06598769 0.66625304\n",
            "  0.40930757 0.14533352 0.6387102  0.25194137 0.54704969 0.31447299\n",
            "  0.63050641 0.27289719 0.0297615  0.18937152 0.8371775  0.43390103\n",
            "  0.63827312 0.64040448 0.31073408 0.26631286 0.48209645 0.47128117\n",
            "  0.55474688 0.33887051 0.69697899 0.46647779 0.33363687 0.17474519\n",
            "  0.49722752 0.54841346 0.32536155 0.55734015 0.23257766 0.56896447\n",
            "  0.31174732 0.50317639 0.60789064 0.34218962 0.19319861 0.12656183\n",
            "  0.80105434 0.33112668 0.40469175 0.33208723 0.4720278  0.58997751\n",
            "  0.25975308 0.60476879 0.30519594 0.26675638 0.60574694 0.\n",
            "  0.44328752 0.59174854 0.33648952 0.6665083 ]\n",
            " [0.21005978 0.81214232 0.80934749 0.78248674 0.16054235 0.78635904\n",
            "  0.62203712 0.14680098 0.43499291 0.84814759 0.84012964 0.55271049\n",
            "  0.38003555 0.06131799 0.58522194 0.79917504 0.51646186 0.64456003\n",
            "  0.32571132 0.5667615  0.36975546 0.40891355 0.32153434 0.58183512\n",
            "  0.32161614 0.5131232  0.49113396 0.54714553 0.28122481 0.1764779\n",
            "  0.76902992 0.50522106 0.70349337 0.36478157 0.37728538 0.04598029\n",
            "  0.37212074 0.4804668  0.94565102 0.30252767 0.55102602 0.51876774\n",
            "  0.50482417 0.06578145 0.1467087  0.38804051 0.50864782 0.90161111\n",
            "  0.20352733 0.49325877 0.7752286  0.59116689 0.87869978 0.21754579\n",
            "  0.71463712 0.45620019 0.47229088 0.29946892 0.55532578 0.08543251\n",
            "  0.19707297 0.58646954 0.42853109 0.21253398 0.83615365 0.20464278\n",
            "  0.11514041 0.7159118  0.32836698 0.49086068 0.69615965 0.61303785\n",
            "  0.12735057 0.82611541 0.6168538  0.17383494 0.45094037 0.25215635\n",
            "  0.35614333 0.22775899 0.90437368 0.4027273  0.33703769 0.33370292\n",
            "  0.57785994 0.72102794 0.61421608 0.76018437 0.77965319 0.84468428\n",
            "  0.66878262 0.57950513 0.73823932 0.63412812 0.83024869 0.44328752\n",
            "  0.         0.62556814 0.53595416 0.66947272]\n",
            " [0.79955779 0.43156882 0.9435652  0.54220622 0.49092073 0.30338842\n",
            "  0.2942008  0.67314971 0.19323199 0.33783401 0.99029335 0.71840309\n",
            "  0.5404964  0.68341357 0.53485681 0.86969456 0.91192793 0.4351614\n",
            "  0.95101765 0.63050078 0.2559845  0.24585596 0.51499778 0.43725202\n",
            "  0.5668847  0.92043074 0.88529809 0.87383379 0.57018051 0.78012241\n",
            "  0.86242659 0.60791797 0.76926533 0.26208176 0.24891082 0.60623295\n",
            "  0.25345246 0.38937052 0.45531049 0.32613004 0.18984793 0.11950508\n",
            "  0.50098385 0.5918513  0.74122626 0.26478332 0.62320395 0.37672573\n",
            "  0.77590644 0.4695142  0.18638458 0.84258837 0.50045526 0.43446585\n",
            "  0.09993753 0.31921237 0.60744197 0.46563206 0.49229823 0.69553145\n",
            "  0.75697557 0.12109971 0.85196346 0.48129949 0.51687708 0.80856207\n",
            "  0.6537133  0.91049942 0.56446357 0.14301633 0.91308026 0.70328199\n",
            "  0.75199459 0.38848391 0.91703771 0.55449372 0.36009189 0.46919852\n",
            "  0.81385032 0.43442463 0.4601258  0.26872497 0.70392912 0.62296933\n",
            "  0.39357818 0.89492501 0.25236966 0.84500893 0.41367578 0.36579616\n",
            "  0.81721929 0.08196899 0.65583613 0.47580823 0.31807275 0.59174854\n",
            "  0.62556814 0.         0.27424262 0.07730252]\n",
            " [0.74196955 0.28419008 0.66934068 0.31682994 0.3757012  0.256071\n",
            "  0.08724949 0.63781213 0.26483696 0.31949116 0.71611115 0.45158362\n",
            "  0.62966411 0.59701135 0.26079962 0.59624708 0.67462805 0.1811629\n",
            "  0.8364077  0.35799457 0.25303285 0.33780452 0.30035735 0.16580303\n",
            "  0.62666814 0.68562576 0.64993343 0.6232076  0.61161974 0.64611264\n",
            "  0.58827905 0.3414266  0.49509069 0.24434743 0.26897747 0.50017634\n",
            "  0.25734631 0.5432615  0.41015643 0.27198716 0.39834959 0.18818079\n",
            "  0.64929444 0.48055118 0.67815092 0.17695619 0.35695217 0.37333453\n",
            "  0.62294511 0.20060932 0.30392263 0.58027836 0.35582523 0.31876312\n",
            "  0.29599611 0.08519945 0.34670251 0.27193878 0.66221892 0.57966719\n",
            "  0.71506689 0.35682211 0.6284033  0.33335204 0.33234022 0.67123394\n",
            "  0.60926997 0.63910158 0.62755496 0.19142748 0.64353606 0.43009468\n",
            "  0.64604472 0.29034712 0.65858173 0.54655311 0.11266163 0.49860794\n",
            "  0.60633927 0.43687142 0.36947739 0.15056074 0.48580959 0.40024601\n",
            "  0.58952511 0.62243508 0.08186501 0.57091944 0.25304197 0.31025902\n",
            "  0.54470988 0.31327513 0.39145111 0.21168237 0.30361858 0.33648952\n",
            "  0.53595416 0.27424262 0.         0.35154463]\n",
            " [0.83184615 0.49293166 1.02086663 0.61285079 0.54457685 0.35570627\n",
            "  0.36867991 0.70268973 0.23533429 0.38014971 1.06758916 0.79457962\n",
            "  0.53874553 0.72511745 0.61212927 0.94683682 0.98242675 0.51048968\n",
            "  0.99492199 0.70757997 0.30539265 0.26953518 0.58470666 0.5142784\n",
            "  0.57339788 0.99041832 0.95552573 0.94694844 0.5821017  0.8306825\n",
            "  0.9397053  0.6841932  0.84655081 0.31389529 0.29384246 0.65428375\n",
            "  0.30164762 0.37224502 0.49521484 0.37793087 0.1695791  0.18853093\n",
            "  0.47997399 0.64141409 0.77605611 0.32913019 0.69942193 0.41181281\n",
            "  0.83059309 0.5463066  0.21342887 0.91785936 0.55885349 0.49061783\n",
            "  0.12335966 0.39471182 0.68291837 0.53330436 0.46316186 0.74360552\n",
            "  0.78615278 0.10074524 0.9200948  0.54129954 0.58165176 0.85943847\n",
            "  0.68609733 0.98731924 0.57005162 0.20766721 0.9895703  0.78044006\n",
            "  0.79676194 0.44349329 0.99150758 0.58090085 0.43573677 0.48948588\n",
            "  0.87914179 0.46428984 0.50975552 0.33681696 0.77205239 0.69259537\n",
            "  0.35776018 0.9719389  0.32692665 0.92227603 0.47784129 0.41396929\n",
            "  0.89425106 0.09040832 0.73161262 0.55199442 0.36152329 0.6665083\n",
            "  0.66947272 0.07730252 0.35154463 0.        ]]\n"
          ]
        }
      ],
      "source": [
        "Z = np.random.random((100,2))\n",
        "X,Y = np.atleast_2d(Z[:,0], Z[:,1])\n",
        "D = np.sqrt( (X-X.T)**2 + (Y-Y.T)**2)\n",
        "print(D)"
      ]
    },
    {
      "cell_type": "markdown",
      "metadata": {
        "id": "Qe41U1_4REP3"
      },
      "source": [
        "#### 53. How to convert a float (32 bits) array into an integer (32 bits) in place? \n",
        "(**hint**: astype(copy=False))"
      ]
    },
    {
      "cell_type": "code",
      "execution_count": 136,
      "metadata": {
        "id": "3UkGSrKLREP3",
        "colab": {
          "base_uri": "https://localhost:8080/"
        },
        "outputId": "8d07239f-9216-4290-d0c3-28856a4eec1c"
      },
      "outputs": [
        {
          "output_type": "stream",
          "name": "stdout",
          "text": [
            "[ 0  1  2  3  4  5  6  7  8  9 10 11 12 13 14 15 16 17 18 19 20 21 22 23\n",
            " 24]\n"
          ]
        }
      ],
      "source": [
        "a = np.arange(25, dtype=np.float32)\n",
        "a = a.astype(np.int32, copy=False)\n",
        "print(a)"
      ]
    },
    {
      "cell_type": "markdown",
      "metadata": {
        "id": "grhsSvmGREP3"
      },
      "source": [
        "#### 54. How to read the following file? (★★☆) \n",
        "(**hint**: np.genfromtxt)"
      ]
    },
    {
      "cell_type": "markdown",
      "metadata": {
        "id": "KKCNuQIkREP3"
      },
      "source": [
        "```\n",
        "1, 2, 3, 4, 5\n",
        "6,  ,  , 7, 8\n",
        " ,  , 9,10,11\n",
        "```"
      ]
    },
    {
      "cell_type": "code",
      "execution_count": 137,
      "metadata": {
        "id": "ikU7fG3OREP3",
        "colab": {
          "base_uri": "https://localhost:8080/"
        },
        "outputId": "67d28a62-3d31-4247-8478-ded2bdf2ec65"
      },
      "outputs": [
        {
          "output_type": "stream",
          "name": "stdout",
          "text": [
            "[[ 1  2  3  4  5]\n",
            " [ 6 -1 -1  7  8]\n",
            " [-1 -1  9 10 11]]\n"
          ]
        },
        {
          "output_type": "stream",
          "name": "stderr",
          "text": [
            "/usr/local/lib/python3.7/dist-packages/ipykernel_launcher.py:7: DeprecationWarning: `np.int` is a deprecated alias for the builtin `int`. To silence this warning, use `int` by itself. Doing this will not modify any behavior and is safe. When replacing `np.int`, you may wish to use e.g. `np.int64` or `np.int32` to specify the precision. If you wish to review your current use, check the release note link for additional information.\n",
            "Deprecated in NumPy 1.20; for more details and guidance: https://numpy.org/devdocs/release/1.20.0-notes.html#deprecations\n",
            "  import sys\n"
          ]
        }
      ],
      "source": [
        "from io import StringIO\n",
        "\n",
        "F = StringIO('''1, 2, 3, 4, 5\n",
        "                6,  ,  , 7, 8\n",
        "                 ,  , 9,10,11\n",
        "''')\n",
        "ar = np.genfromtxt(F, delimiter=\",\", dtype=np.int)\n",
        "print(ar)"
      ]
    },
    {
      "cell_type": "markdown",
      "metadata": {
        "id": "-Va4dFSuREP3"
      },
      "source": [
        "#### 55. What is the equivalent of enumerate for numpy arrays? (★★☆) \n",
        "(**hint**: np.ndenumerate, np.ndindex)"
      ]
    },
    {
      "cell_type": "code",
      "execution_count": 140,
      "metadata": {
        "id": "dJkZBJHNREP3",
        "colab": {
          "base_uri": "https://localhost:8080/"
        },
        "outputId": "36b83dd5-8044-4d3c-b889-26793206d56e"
      },
      "outputs": [
        {
          "output_type": "stream",
          "name": "stdout",
          "text": [
            "(0, 0) 0\n",
            "(0, 1) 1\n",
            "(0, 2) 2\n",
            "(0, 3) 3\n",
            "(1, 0) 4\n",
            "(1, 1) 5\n",
            "(1, 2) 6\n",
            "(1, 3) 7\n",
            "(2, 0) 8\n",
            "(2, 1) 9\n",
            "(2, 2) 10\n",
            "(2, 3) 11\n",
            "(3, 0) 12\n",
            "(3, 1) 13\n",
            "(3, 2) 14\n",
            "(3, 3) 15\n",
            "(0, 0) 0\n",
            "(0, 1) 1\n",
            "(0, 2) 2\n",
            "(0, 3) 3\n",
            "(1, 0) 4\n",
            "(1, 1) 5\n",
            "(1, 2) 6\n",
            "(1, 3) 7\n",
            "(2, 0) 8\n",
            "(2, 1) 9\n",
            "(2, 2) 10\n",
            "(2, 3) 11\n",
            "(3, 0) 12\n",
            "(3, 1) 13\n",
            "(3, 2) 14\n",
            "(3, 3) 15\n"
          ]
        }
      ],
      "source": [
        "nump = np.arange(16).reshape(4,4)\n",
        "for index, value in np.ndenumerate(nump):\n",
        "    print(index, value)\n",
        "for index in np.ndindex(nump.shape):\n",
        "    print(index, nump[index])\n"
      ]
    },
    {
      "cell_type": "markdown",
      "metadata": {
        "id": "ZAA8te2HREP3"
      },
      "source": [
        "#### 56. Generate a generic 2D Gaussian-like array (★★☆) \n",
        "(**hint**: np.meshgrid, np.exp)"
      ]
    },
    {
      "cell_type": "code",
      "execution_count": 143,
      "metadata": {
        "id": "raxlOZLzREP3",
        "colab": {
          "base_uri": "https://localhost:8080/"
        },
        "outputId": "0322ff1f-0a69-4410-aca1-dad73c5a193b"
      },
      "outputs": [
        {
          "output_type": "stream",
          "name": "stdout",
          "text": [
            "[[0.36787944 0.44822088 0.51979489 0.57375342 0.60279818 0.60279818\n",
            "  0.57375342 0.51979489 0.44822088 0.36787944]\n",
            " [0.44822088 0.54610814 0.63331324 0.69905581 0.73444367 0.73444367\n",
            "  0.69905581 0.63331324 0.54610814 0.44822088]\n",
            " [0.51979489 0.63331324 0.73444367 0.81068432 0.85172308 0.85172308\n",
            "  0.81068432 0.73444367 0.63331324 0.51979489]\n",
            " [0.57375342 0.69905581 0.81068432 0.89483932 0.9401382  0.9401382\n",
            "  0.89483932 0.81068432 0.69905581 0.57375342]\n",
            " [0.60279818 0.73444367 0.85172308 0.9401382  0.98773022 0.98773022\n",
            "  0.9401382  0.85172308 0.73444367 0.60279818]\n",
            " [0.60279818 0.73444367 0.85172308 0.9401382  0.98773022 0.98773022\n",
            "  0.9401382  0.85172308 0.73444367 0.60279818]\n",
            " [0.57375342 0.69905581 0.81068432 0.89483932 0.9401382  0.9401382\n",
            "  0.89483932 0.81068432 0.69905581 0.57375342]\n",
            " [0.51979489 0.63331324 0.73444367 0.81068432 0.85172308 0.85172308\n",
            "  0.81068432 0.73444367 0.63331324 0.51979489]\n",
            " [0.44822088 0.54610814 0.63331324 0.69905581 0.73444367 0.73444367\n",
            "  0.69905581 0.63331324 0.54610814 0.44822088]\n",
            " [0.36787944 0.44822088 0.51979489 0.57375342 0.60279818 0.60279818\n",
            "  0.57375342 0.51979489 0.44822088 0.36787944]]\n"
          ]
        }
      ],
      "source": [
        "a, b = np.meshgrid(np.linspace(-1,1,10), np.linspace(-1,1,10))\n",
        "D = np.sqrt(a*a+b*b)\n",
        "sigma, mu = 1.0, 0.0\n",
        "G = np.exp(-( (D-mu)**2 / ( 2.0 * sigma**2 ) ) )\n",
        "print(G)"
      ]
    },
    {
      "cell_type": "markdown",
      "metadata": {
        "id": "6gewsw5TREP4"
      },
      "source": [
        "#### 57. How to randomly place p elements in a 2D array? (★★☆) \n",
        "(**hint**: np.put, np.random.choice)"
      ]
    },
    {
      "cell_type": "code",
      "execution_count": 147,
      "metadata": {
        "id": "NLA3OJXNREP4",
        "colab": {
          "base_uri": "https://localhost:8080/"
        },
        "outputId": "b53fb3b4-85b0-45db-a119-09a81c15088a"
      },
      "outputs": [
        {
          "output_type": "stream",
          "name": "stdout",
          "text": [
            "[[0. 0. 0. 0. 0. 0. 0. 0. 0.]\n",
            " [0. 0. 0. 0. 0. 0. 1. 0. 0.]\n",
            " [0. 0. 0. 0. 1. 0. 0. 0. 0.]\n",
            " [0. 0. 0. 0. 0. 1. 0. 0. 0.]\n",
            " [0. 0. 0. 0. 0. 0. 0. 1. 0.]\n",
            " [0. 0. 0. 0. 0. 0. 0. 0. 0.]\n",
            " [1. 1. 0. 0. 0. 0. 0. 0. 0.]\n",
            " [0. 0. 0. 0. 0. 0. 0. 0. 0.]\n",
            " [0. 0. 0. 0. 0. 0. 0. 0. 0.]]\n"
          ]
        }
      ],
      "source": [
        "s = 9\n",
        "p = 6\n",
        "A= np.zeros((s,s))\n",
        "np.put(A, np.random.choice(range(s*s), p, replace=False),1)\n",
        "print(A)"
      ]
    },
    {
      "cell_type": "markdown",
      "metadata": {
        "id": "J1Fxp08BREP4"
      },
      "source": [
        "#### 58. Subtract the mean of each row of a matrix (★★☆) \n",
        "(**hint**: mean(axis=,keepdims=))"
      ]
    },
    {
      "cell_type": "code",
      "execution_count": 148,
      "metadata": {
        "id": "SzRyO2hzREP4",
        "colab": {
          "base_uri": "https://localhost:8080/"
        },
        "outputId": "98233795-70e3-4b8c-eed1-2c8f13101780"
      },
      "outputs": [
        {
          "output_type": "stream",
          "name": "stdout",
          "text": [
            "[[-0.22749469 -0.22717995 -0.13092256  0.2220062   0.07737296 -0.24901078\n",
            "   0.32557018  0.20965863]\n",
            " [ 0.22010106 -0.27852807  0.30940916  0.22904324 -0.43365187  0.05640089\n",
            "  -0.17902736  0.07625295]\n",
            " [-0.01218432  0.13664927 -0.17975847 -0.31422517  0.58888257 -0.07923467\n",
            "   0.19903089 -0.3391601 ]\n",
            " [-0.26284531  0.09136193 -0.39582064  0.21400998  0.24760428  0.07742733\n",
            "  -0.35896217  0.38722461]]\n",
            "[[ 0.2967763   0.22559818 -0.18907767 -0.15888254 -0.01903992  0.11313136\n",
            "  -0.03815889 -0.23034681]\n",
            " [-0.44411363 -0.46619076 -0.17818963  0.2099572   0.04878022  0.26750099\n",
            "   0.2407891   0.32146651]\n",
            " [-0.40853207 -0.10694382  0.36463107 -0.28869613  0.07834682 -0.08316853\n",
            "   0.43006896  0.01429369]\n",
            " [-0.07065148  0.10567679  0.59285104  0.02116697 -0.01869611 -0.2422381\n",
            "  -0.38640349 -0.00170563]]\n"
          ]
        }
      ],
      "source": [
        "ar = np.random.rand(4, 8)\n",
        "\n",
        "ray = ar - ar.mean(axis=1, keepdims=True)\n",
        "print(ray)"
      ]
    },
    {
      "cell_type": "markdown",
      "metadata": {
        "id": "8HMDIP9DREP4"
      },
      "source": [
        "#### 59. How to sort an array by the nth column? (★★☆) \n",
        "(**hint**: argsort)"
      ]
    },
    {
      "cell_type": "code",
      "execution_count": 153,
      "metadata": {
        "id": "Nmux5g9bREP4",
        "colab": {
          "base_uri": "https://localhost:8080/"
        },
        "outputId": "27ad7eda-4be5-4cee-b996-45fc3df2dfd9"
      },
      "outputs": [
        {
          "output_type": "stream",
          "name": "stdout",
          "text": [
            "[[2 4 2 5]\n",
            " [1 2 1 1]\n",
            " [4 4 2 2]\n",
            " [3 6 7 2]]\n",
            "[[1 2 1 1]\n",
            " [2 4 2 5]\n",
            " [4 4 2 2]\n",
            " [3 6 7 2]]\n"
          ]
        }
      ],
      "source": [
        "col = np.random.randint(0,8,(4,4))\n",
        "print(col)\n",
        "print(col[col[:,1].argsort()])"
      ]
    },
    {
      "cell_type": "markdown",
      "metadata": {
        "id": "eek1G5G-REP4"
      },
      "source": [
        "#### 60. How to tell if a given 2D array has null columns? (★★☆) \n",
        "(**hint**: any, ~)"
      ]
    },
    {
      "cell_type": "code",
      "execution_count": 156,
      "metadata": {
        "id": "45p3S9J_REP4",
        "colab": {
          "base_uri": "https://localhost:8080/"
        },
        "outputId": "92397702-b072-40e2-c94a-6dfd6243db9b"
      },
      "outputs": [
        {
          "output_type": "stream",
          "name": "stdout",
          "text": [
            "False\n"
          ]
        }
      ],
      "source": [
        "arr = np.random.randint(0,5,(5,10))\n",
        "print((~arr.any(axis=0)).any())"
      ]
    },
    {
      "cell_type": "markdown",
      "metadata": {
        "id": "tk4PaMxJREP4"
      },
      "source": [
        "#### 61. Find the nearest value from a given value in an array (★★☆) \n",
        "(**hint**: np.abs, argmin, flat)"
      ]
    },
    {
      "cell_type": "code",
      "execution_count": 159,
      "metadata": {
        "id": "mVGgM-Q3REP4",
        "colab": {
          "base_uri": "https://localhost:8080/"
        },
        "outputId": "62a535bf-b381-4757-ac72-27a37549acf6"
      },
      "outputs": [
        {
          "output_type": "stream",
          "name": "stdout",
          "text": [
            "0.6306087772718729\n"
          ]
        }
      ],
      "source": [
        "ar= np.random.uniform(0,1,9)\n",
        "ray = 0.5\n",
        "value = ar.flat[np.abs(ar- ray).argmin()]\n",
        "print(value)"
      ]
    },
    {
      "cell_type": "markdown",
      "metadata": {
        "id": "ts7k0ViwREP4"
      },
      "source": [
        "#### 62. Considering two arrays with shape (1,3) and (3,1), how to compute their sum using an iterator? (★★☆) \n",
        "(**hint**: np.nditer)"
      ]
    },
    {
      "cell_type": "code",
      "execution_count": 160,
      "metadata": {
        "id": "d3ZVNT7cREP5",
        "colab": {
          "base_uri": "https://localhost:8080/"
        },
        "outputId": "b394aed4-565d-487c-ff96-00f2076a627d"
      },
      "outputs": [
        {
          "output_type": "stream",
          "name": "stdout",
          "text": [
            "[[0 1 2]\n",
            " [1 2 3]\n",
            " [2 3 4]]\n"
          ]
        }
      ],
      "source": [
        "A = np.arange(3).reshape(3,1)\n",
        "B = np.arange(3).reshape(1,3)\n",
        "it = np.nditer([A,B,None])\n",
        "for x,y,z in it: z[...] = x + y\n",
        "print(it.operands[2])\n"
      ]
    },
    {
      "cell_type": "markdown",
      "metadata": {
        "id": "euRyj5tkREP5"
      },
      "source": [
        "#### 63. Create an array class that has a name attribute (★★☆) \n",
        "(**hint**: class method)"
      ]
    },
    {
      "cell_type": "code",
      "execution_count": 161,
      "metadata": {
        "id": "cLwSFU50REP5",
        "colab": {
          "base_uri": "https://localhost:8080/"
        },
        "outputId": "c636258d-1b0f-4420-d842-cfa223511d90"
      },
      "outputs": [
        {
          "output_type": "stream",
          "name": "stdout",
          "text": [
            "range_10\n"
          ]
        }
      ],
      "source": [
        "class NamedArray(np.ndarray):\n",
        "    def __new__(cls, array, name=\"no name\"):\n",
        "        obj = np.asarray(array).view(cls)\n",
        "        obj.name = name\n",
        "        return obj\n",
        "    def __array_finalize__(self, obj):\n",
        "        if obj is None: return\n",
        "        self.info = getattr(obj, 'name', \"no name\")\n",
        "Z = NamedArray(np.arange(10), \"range_10\")\n",
        "print (Z.name)"
      ]
    },
    {
      "cell_type": "markdown",
      "metadata": {
        "id": "HO2Y-6L8REP5"
      },
      "source": [
        "#### 64. Consider a given vector, how to add 1 to each element indexed by a second vector (be careful with repeated indices)? (★★★) \n",
        "(**hint**: np.bincount | np.add.at)"
      ]
    },
    {
      "cell_type": "code",
      "execution_count": 164,
      "metadata": {
        "id": "LVByqmLHREP5",
        "colab": {
          "base_uri": "https://localhost:8080/"
        },
        "outputId": "9f4251ce-9be9-49ae-e1d6-158bb7f597f8"
      },
      "outputs": [
        {
          "output_type": "stream",
          "name": "stdout",
          "text": [
            "[2. 3. 1. 4. 2. 5. 3. 4. 3. 2. 2. 4. 3. 3. 4.]\n"
          ]
        }
      ],
      "source": [
        "vec = np.ones(15)\n",
        "tor = np.random.randint(0,len(vec),30)\n",
        "vec += np.bincount(tor, minlength=len(Z))\n",
        "print(vec)"
      ]
    },
    {
      "cell_type": "markdown",
      "metadata": {
        "id": "6Vqa5lLUREP5"
      },
      "source": [
        "#### 65. How to accumulate elements of a vector (X) to an array (F) based on an index list (I)? (★★★) \n",
        "(**hint**: np.bincount)"
      ]
    },
    {
      "cell_type": "code",
      "execution_count": 165,
      "metadata": {
        "id": "YD0EF2qNREP5",
        "colab": {
          "base_uri": "https://localhost:8080/"
        },
        "outputId": "858533e4-ba18-40ef-f116-4ad94e150598"
      },
      "outputs": [
        {
          "output_type": "stream",
          "name": "stdout",
          "text": [
            "[0. 9. 8. 7. 6. 5. 0. 0. 0. 1.]\n"
          ]
        }
      ],
      "source": [
        "X = [9,8,7,6,5,1]\n",
        "Y = [1,2,3,4,5,9]\n",
        "F = np.bincount(Y,X)\n",
        "print(F)"
      ]
    },
    {
      "cell_type": "markdown",
      "metadata": {
        "id": "_HnQYhRLREP5"
      },
      "source": [
        "#### 66. Considering a (w,h,3) image of (dtype=ubyte), compute the number of unique colors (★★★) \n",
        "(**hint**: np.unique)"
      ]
    },
    {
      "cell_type": "code",
      "execution_count": 166,
      "metadata": {
        "id": "22ry90ZsREP5",
        "colab": {
          "base_uri": "https://localhost:8080/"
        },
        "outputId": "399aedb5-fb90-48d8-912b-ff265f657afa"
      },
      "outputs": [
        {
          "output_type": "stream",
          "name": "stdout",
          "text": [
            "[0 1]\n"
          ]
        }
      ],
      "source": [
        "w,h = 16,16\n",
        "I = np.random.randint(0,2,(h,w,3)).astype(np.ubyte)\n",
        "F = I[...,0]*256*256 + I[...,1]*256 +I[...,2]\n",
        "n = len(np.unique(F))\n",
        "print(np.unique(I))"
      ]
    },
    {
      "cell_type": "markdown",
      "metadata": {
        "id": "U41ncTTWREP5"
      },
      "source": [
        "#### 67. Considering a four dimensions array, how to get sum over the last two axis at once? (★★★) \n",
        "(**hint**: sum(axis=(-2,-1)))"
      ]
    },
    {
      "cell_type": "code",
      "execution_count": 172,
      "metadata": {
        "id": "1aFLV0z_REP5",
        "colab": {
          "base_uri": "https://localhost:8080/"
        },
        "outputId": "52d9446b-879d-40b3-8ceb-9fd348364b8f"
      },
      "outputs": [
        {
          "output_type": "stream",
          "name": "stdout",
          "text": [
            "[[47 54 49]\n",
            " [54 62 70]\n",
            " [66 55 38]\n",
            " [61 40 50]]\n"
          ]
        }
      ],
      "source": [
        "dim = np.random.randint(0,10,(4,3,4,3))\n",
        "\n",
        "sum = dim.reshape(dim.shape[:-2] + (-1,)).sum(axis=-1)\n",
        "print(sum)"
      ]
    },
    {
      "cell_type": "markdown",
      "metadata": {
        "id": "03hVcruGREP6"
      },
      "source": [
        "#### 68. Considering a one-dimensional vector D, how to compute means of subsets of D using a vector S of same size describing subset  indices? (★★★) \n",
        "(**hint**: np.bincount)"
      ]
    },
    {
      "cell_type": "code",
      "execution_count": 173,
      "metadata": {
        "id": "WrxvTT_kREP6",
        "colab": {
          "base_uri": "https://localhost:8080/"
        },
        "outputId": "36295f3a-d857-41e2-f32b-305f97375b29"
      },
      "outputs": [
        {
          "output_type": "stream",
          "name": "stdout",
          "text": [
            "[0.54548405 0.41610897 0.5338058  0.57398215 0.66920063 0.50225754\n",
            " 0.45967471 0.64703879 0.5532334  0.52168595]\n"
          ]
        }
      ],
      "source": [
        "D = np.random.uniform(0,1,100)\n",
        "S = np.random.randint(0,10,100)\n",
        "D_sums = np.bincount(S, weights=D)\n",
        "D_counts = np.bincount(S)\n",
        "D_means = D_sums / D_counts\n",
        "print(D_means)"
      ]
    },
    {
      "cell_type": "markdown",
      "metadata": {
        "id": "JGQ3AFVsREP6"
      },
      "source": [
        "#### 69. How to get the diagonal of a dot product? (★★★) \n",
        "(**hint**: np.diag)"
      ]
    },
    {
      "cell_type": "code",
      "execution_count": 174,
      "metadata": {
        "id": "Lp_Mj5_XREP6",
        "colab": {
          "base_uri": "https://localhost:8080/"
        },
        "outputId": "f140e929-5c00-4800-b654-5e0ed9766788"
      },
      "outputs": [
        {
          "output_type": "stream",
          "name": "stdout",
          "text": [
            "[2.46484699 0.8790104  0.66462427 1.61939465 2.3156901  1.84871696]\n"
          ]
        }
      ],
      "source": [
        "diag= np.random.uniform(0,1,(6,6))\n",
        "onal = np.random.uniform(0,1,(6,6))\n",
        "diagonal = np.diag(np.dot(diag,onal))\n",
        "print(diagonal)"
      ]
    },
    {
      "cell_type": "markdown",
      "metadata": {
        "id": "s750CK7YREP6"
      },
      "source": [
        "#### 70. Consider the vector \\[1, 2, 3, 4, 5\\], how to build a new vector with 3 consecutive zeros interleaved between each value? (★★★) \n",
        "(**hint**: array\\[::4\\])"
      ]
    },
    {
      "cell_type": "code",
      "execution_count": 175,
      "metadata": {
        "id": "Lq2RrdyHREP6",
        "colab": {
          "base_uri": "https://localhost:8080/"
        },
        "outputId": "e9576cec-de25-46f9-d37b-77c2c87a966c"
      },
      "outputs": [
        {
          "output_type": "stream",
          "name": "stdout",
          "text": [
            "[1. 0. 0. 0. 2. 0. 0. 0. 3. 0. 0. 0. 4. 0. 0. 0. 5.]\n"
          ]
        }
      ],
      "source": [
        "a= np.array([1,2,3,4,5])\n",
        "b = 3\n",
        "c= np.zeros(len(a) + (len(a)-1)*(b))\n",
        "c[::b+1] = a\n",
        "print(c)"
      ]
    },
    {
      "cell_type": "markdown",
      "metadata": {
        "id": "wQmJK77QREP6"
      },
      "source": [
        "#### 71. Consider an array of dimension (5,5,3), how to mulitply it by an array with dimensions (5,5)? (★★★) \n",
        "(**hint**: array\\[:, :, None\\])"
      ]
    },
    {
      "cell_type": "code",
      "execution_count": 176,
      "metadata": {
        "collapsed": true,
        "id": "zWDTBX5oREP6",
        "colab": {
          "base_uri": "https://localhost:8080/"
        },
        "outputId": "2e34495d-c84d-446a-bd19-671bcc2810cc"
      },
      "outputs": [
        {
          "output_type": "stream",
          "name": "stdout",
          "text": [
            "[[[2. 2. 2.]\n",
            "  [2. 2. 2.]\n",
            "  [2. 2. 2.]\n",
            "  [2. 2. 2.]\n",
            "  [2. 2. 2.]]\n",
            "\n",
            " [[2. 2. 2.]\n",
            "  [2. 2. 2.]\n",
            "  [2. 2. 2.]\n",
            "  [2. 2. 2.]\n",
            "  [2. 2. 2.]]\n",
            "\n",
            " [[2. 2. 2.]\n",
            "  [2. 2. 2.]\n",
            "  [2. 2. 2.]\n",
            "  [2. 2. 2.]\n",
            "  [2. 2. 2.]]\n",
            "\n",
            " [[2. 2. 2.]\n",
            "  [2. 2. 2.]\n",
            "  [2. 2. 2.]\n",
            "  [2. 2. 2.]\n",
            "  [2. 2. 2.]]\n",
            "\n",
            " [[2. 2. 2.]\n",
            "  [2. 2. 2.]\n",
            "  [2. 2. 2.]\n",
            "  [2. 2. 2.]\n",
            "  [2. 2. 2.]]]\n"
          ]
        }
      ],
      "source": [
        "dimen = np.ones((5,5,3))\n",
        "sion = 2*np.ones((5,5))\n",
        "print(dimen * sion[:,:,None])"
      ]
    },
    {
      "cell_type": "markdown",
      "metadata": {
        "id": "8wRWbSfbREP6"
      },
      "source": [
        "#### 72. How to swap two rows of an array? (★★★) \n",
        "(**hint**: array\\[\\[\\]\\] = array\\[\\[\\]\\])"
      ]
    },
    {
      "cell_type": "code",
      "execution_count": 178,
      "metadata": {
        "id": "e3VRfdjkREP6",
        "colab": {
          "base_uri": "https://localhost:8080/"
        },
        "outputId": "9c1f57db-90e0-46ea-f81f-33583a6d8154"
      },
      "outputs": [
        {
          "output_type": "stream",
          "name": "stdout",
          "text": [
            "[[ 0  1  2  3]\n",
            " [ 4  5  6  7]\n",
            " [ 8  9 10 11]\n",
            " [12 13 14 15]]\n",
            "[[ 4  5  6  7]\n",
            " [ 0  1  2  3]\n",
            " [ 8  9 10 11]\n",
            " [12 13 14 15]]\n"
          ]
        }
      ],
      "source": [
        "Arr = np.arange(16).reshape(4,4)\n",
        "print(Arr)\n",
        "Arr[[0,1]] = Arr[[1,0]]\n",
        "print(Arr)"
      ]
    },
    {
      "cell_type": "markdown",
      "metadata": {
        "id": "6_YQnPaXREP7"
      },
      "source": [
        "#### 73. Consider a set of 10 triplets describing 10 triangles (with shared vertices), find the set of unique line segments composing all the  triangles (★★★) \n",
        "(**hint**: repeat, np.roll, np.sort, view, np.unique)"
      ]
    },
    {
      "cell_type": "code",
      "execution_count": 179,
      "metadata": {
        "id": "3JzAabh5REP7",
        "colab": {
          "base_uri": "https://localhost:8080/"
        },
        "outputId": "23910100-e3a1-4880-a352-cbb02b1ddb41"
      },
      "outputs": [
        {
          "output_type": "stream",
          "name": "stdout",
          "text": [
            "[( 2, 18) ( 2, 25) ( 2, 37) ( 2, 89) ( 5, 75) ( 5, 95) (10, 12) (10, 75)\n",
            " (12, 75) (13, 77) (13, 95) (14, 26) (14, 59) (15, 54) (15, 83) (18, 25)\n",
            " (26, 59) (37, 89) (39, 61) (39, 84) (41, 88) (41, 90) (42, 48) (42, 91)\n",
            " (48, 91) (54, 83) (61, 84) (75, 95) (77, 95) (88, 90)]\n"
          ]
        }
      ],
      "source": [
        "faces = np.random.randint(0,100,(10,3))\n",
        "F = np.roll(faces.repeat(2,axis=1),-1,axis=1)\n",
        "F = F.reshape(len(F)*3,2)\n",
        "F = np.sort(F,axis=1)\n",
        "G = F.view( dtype=[('p0',F.dtype),('p1',F.dtype)] )\n",
        "G = np.unique(G)\n",
        "print(G)"
      ]
    },
    {
      "cell_type": "markdown",
      "metadata": {
        "id": "4-1RqkjrREP7"
      },
      "source": [
        "#### 74. Given an array C that is a bincount, how to produce an array A such that np.bincount(A) == C? (★★★) \n",
        "(**hint**: np.repeat)"
      ]
    },
    {
      "cell_type": "code",
      "execution_count": 184,
      "metadata": {
        "id": "7l_lxaYkREP7",
        "colab": {
          "base_uri": "https://localhost:8080/"
        },
        "outputId": "96e011b6-7a7d-47f9-93d5-15e3bf23fcef"
      },
      "outputs": [
        {
          "output_type": "stream",
          "name": "stdout",
          "text": [
            "[1 1 2 2 3 4 4 5 6 6]\n"
          ]
        }
      ],
      "source": [
        "C = np.bincount([1,2,3,4,5,6,1,2,6,4])\n",
        "A = np.repeat(np.arange(len(C)), C)\n",
        "print(A)"
      ]
    },
    {
      "cell_type": "markdown",
      "metadata": {
        "id": "pd6uH2I3REP7"
      },
      "source": [
        "#### 75. How to compute averages using a sliding window over an array? (★★★) \n",
        "(**hint**: np.cumsum)"
      ]
    },
    {
      "cell_type": "code",
      "execution_count": 185,
      "metadata": {
        "id": "SF5Co4_WREP7",
        "colab": {
          "base_uri": "https://localhost:8080/"
        },
        "outputId": "3b1b52a2-2ba4-4f27-f740-fb9daf68efe6"
      },
      "outputs": [
        {
          "output_type": "stream",
          "name": "stdout",
          "text": [
            "[ 1.  2.  3.  4.  5.  6.  7.  8.  9. 10. 11. 12. 13. 14. 15. 16. 17. 18.]\n"
          ]
        }
      ],
      "source": [
        "def moving_average(a, n=3) :\n",
        "    ret = np.cumsum(a, dtype=float)\n",
        "    ret[n:] = ret[n:] - ret[:-n]\n",
        "    return ret[n - 1:] / n\n",
        "Z = np.arange(20)\n",
        "print(moving_average(Z, n=3))"
      ]
    },
    {
      "cell_type": "markdown",
      "metadata": {
        "id": "VUAa6dYmREP7"
      },
      "source": [
        "#### 76. Consider a one-dimensional array Z, build a two-dimensional array whose first row is (Z\\[0\\],Z\\[1\\],Z\\[2\\]) and each subsequent row is  shifted by 1 (last row should be (Z\\[-3\\],Z\\[-2\\],Z\\[-1\\]) (★★★) \n",
        "(**hint**: from numpy.lib import stride_tricks)"
      ]
    },
    {
      "cell_type": "code",
      "execution_count": 186,
      "metadata": {
        "id": "DcqrZJ1BREP7",
        "colab": {
          "base_uri": "https://localhost:8080/"
        },
        "outputId": "90d5d4a7-002a-4500-8e39-96e2a3ae4120"
      },
      "outputs": [
        {
          "output_type": "stream",
          "name": "stdout",
          "text": [
            "[[0 1 2]\n",
            " [1 2 3]\n",
            " [2 3 4]\n",
            " [3 4 5]\n",
            " [4 5 6]\n",
            " [5 6 7]\n",
            " [6 7 8]]\n"
          ]
        }
      ],
      "source": [
        "from numpy.lib import stride_tricks\n",
        "\n",
        "def rolling(a, window):\n",
        "    shape = (a.size - window + 1, window)\n",
        "    strides = (a.strides[0], a.strides[0])\n",
        "    return stride_tricks.as_strided(a, shape=shape, strides=strides)\n",
        "array= rolling(np.arange(9), 3)\n",
        "print(array)"
      ]
    },
    {
      "cell_type": "markdown",
      "metadata": {
        "id": "EOMdZkICREP7"
      },
      "source": [
        "#### 77. How to negate a boolean, or to change the sign of a float inplace? (★★★) \n",
        "(**hint**: np.logical_not, np.negative)"
      ]
    },
    {
      "cell_type": "code",
      "execution_count": 187,
      "metadata": {
        "id": "LMGtjginREP7",
        "colab": {
          "base_uri": "https://localhost:8080/"
        },
        "outputId": "41c8ebc6-91c6-47a6-a6eb-020c9b9f82c4"
      },
      "outputs": [
        {
          "output_type": "execute_result",
          "data": {
            "text/plain": [
              "array([ 0.27222898, -0.25448706,  0.923529  ,  0.89529784,  0.05848699,\n",
              "        0.16349634, -0.64492522, -0.34369647,  0.35529613,  0.39371859,\n",
              "       -0.07106366, -0.37267886, -0.87258393, -0.46492476, -0.00312002,\n",
              "        0.51562703, -0.73427809, -0.33043005, -0.94735539,  0.82735231,\n",
              "       -0.61234674,  0.1076332 ,  0.15076215,  0.46829185,  0.46256751,\n",
              "       -0.13193484, -0.55255347, -0.31068972, -0.72642587, -0.99234305,\n",
              "        0.18091091,  0.23097083,  0.38012867, -0.29032708,  0.35843069,\n",
              "       -0.03939519,  0.09827427,  0.92660902,  0.57444046,  0.14683714,\n",
              "       -0.26827881, -0.82035656, -0.94106483, -0.0236829 ,  0.72393972,\n",
              "        0.73344885, -0.29056316, -0.46043285, -0.69805577, -0.53185358,\n",
              "        0.22642555,  0.75864677, -0.82429343,  0.52319357, -0.60229104,\n",
              "        0.04178133,  0.2317432 , -0.17885999,  0.70527675, -0.35820856,\n",
              "       -0.80344016,  0.56519027, -0.09735262,  0.30333147, -0.55099629,\n",
              "        0.472855  , -0.90057841,  0.66476061,  0.65654148, -0.56193613,\n",
              "        0.63318448,  0.41008398,  0.86632493,  0.84986329, -0.41394955,\n",
              "        0.14574111, -0.8193846 , -0.36212681,  0.11415355,  0.83039459,\n",
              "        0.53185684, -0.57608434,  0.13406722,  0.90598989,  0.0064501 ,\n",
              "       -0.2721051 ,  0.11454924, -0.11757132,  0.59296763, -0.46958645,\n",
              "       -0.8807159 , -0.72854621, -0.96942757,  0.40175875,  0.09093592,\n",
              "        0.80012243, -0.200729  , -0.69949435,  0.64739453, -0.98808162])"
            ]
          },
          "metadata": {},
          "execution_count": 187
        }
      ],
      "source": [
        "Z = np.random.randint(0,2,100)\n",
        "np.logical_not(Z, out=Z)\n",
        "\n",
        "Z = np.random.uniform(-1.0,1.0,100)\n",
        "np.negative(Z, out=Z)"
      ]
    },
    {
      "cell_type": "markdown",
      "metadata": {
        "id": "BeJamh4VREP7"
      },
      "source": [
        "#### 78. Consider 2 sets of points P0,P1 describing lines (2d) and a point p, how to compute distance from p to each line i  (P0\\[i\\],P1\\[i\\])? (★★★)"
      ]
    },
    {
      "cell_type": "code",
      "execution_count": 188,
      "metadata": {
        "id": "SSsnxEntREP7",
        "colab": {
          "base_uri": "https://localhost:8080/"
        },
        "outputId": "1ee52a4d-7633-49cb-e2c7-232276597054"
      },
      "outputs": [
        {
          "output_type": "stream",
          "name": "stdout",
          "text": [
            "[ 1.88897587 14.79091774  3.75834724  8.10237924 16.54798122  2.72140424\n",
            "  5.12397136  6.30747865  7.42356106 13.09891469]\n"
          ]
        }
      ],
      "source": [
        "def distance(P0, P1, p):\n",
        "    T = P1 - P0\n",
        "    L = (T**2).sum(axis=1)\n",
        "    U = -((P0[:,0]-p[...,0])*T[:,0] + (P0[:,1]-p[...,1])*T[:,1]) / L\n",
        "    U = U.reshape(len(U),1)\n",
        "    D = P0 + U*T - p\n",
        "    return np.sqrt((D**2).sum(axis=1))\n",
        "\n",
        "P0 = np.random.uniform(-10,10,(10,2))\n",
        "P1 = np.random.uniform(-10,10,(10,2))\n",
        "p  = np.random.uniform(-10,10,( 1,2))\n",
        "print(distance(P0, P1, p))"
      ]
    },
    {
      "cell_type": "markdown",
      "metadata": {
        "id": "KrPCmFlJREP7"
      },
      "source": [
        "#### 79. Consider 2 sets of points P0,P1 describing lines (2d) and a set of points P, how to compute distance from each point j (P\\[j\\]) to each line i (P0\\[i\\],P1\\[i\\])? (★★★)"
      ]
    },
    {
      "cell_type": "code",
      "execution_count": 189,
      "metadata": {
        "id": "g7dZKjmIREP8",
        "colab": {
          "base_uri": "https://localhost:8080/"
        },
        "outputId": "ede57b40-12a1-40d9-ee80-cff872fcee01"
      },
      "outputs": [
        {
          "output_type": "stream",
          "name": "stdout",
          "text": [
            "[[ 3.72456524  2.9298354   8.00704942  0.16049808 13.79466859 14.34068536\n",
            "   2.8811339   4.22181944  8.93403734  5.79706629]\n",
            " [ 0.91915388  4.36320601  4.05311431  6.78458044  2.97805487  9.72123423\n",
            "   5.01789518  9.06015276  0.77498144  3.26732293]\n",
            " [ 2.17676744  5.92158025  1.64518432  4.51310357 14.83829614  8.42252019\n",
            "   6.16004075  5.23446636  6.08085019  1.40596537]\n",
            " [ 3.53390009  8.01482466  0.17491661  5.49210401 15.15822669  7.06125893\n",
            "   8.30278043  7.49346674  5.46531703  3.08400364]\n",
            " [ 9.20135004  7.43344135 13.44631278  5.29253491 17.9685165  19.8165157\n",
            "   7.18406122  7.5719187  14.19513142 11.09519953]\n",
            " [ 8.02769834  5.44120446  3.50271761 12.35428639  3.0466483   2.59624502\n",
            "   4.92800867  1.07652007  3.26583334  5.08870471]\n",
            " [ 7.3047234  10.226116    3.45863656  9.58538652 11.05191993  3.29506582\n",
            "  10.28559144  8.49952543  1.21665475  6.39944737]\n",
            " [ 0.94848854  1.40399805  5.34482378  3.21286466 10.63011025 11.56847352\n",
            "   1.53387128  3.63045971  5.73427165  3.39439644]\n",
            " [ 2.07403877  0.53442313  6.23776734  1.40841977 13.97540434 12.68580935\n",
            "   0.44079276  1.69429972  8.07955389  3.81244521]\n",
            " [ 1.90330576  4.09275467  2.1177182   4.85178631 12.8240899   8.70309857\n",
            "   4.17838334  2.72205081  5.21409668  0.54207188]]\n"
          ]
        }
      ],
      "source": [
        "P0 = np.random.uniform(-10, 10, (10,2))\n",
        "P1 = np.random.uniform(-10,10,(10,2))\n",
        "p = np.random.uniform(-10, 10, (10,2))\n",
        "print(np.array([distance(P0,P1,p_i) for p_i in p]))"
      ]
    },
    {
      "cell_type": "markdown",
      "metadata": {
        "id": "QfWvQM9VREP8"
      },
      "source": [
        "#### 80. Consider an arbitrary array, write a function that extract a subpart with a fixed shape and centered on a given element (pad with a `fill` value when necessary) (★★★) \n",
        "(**hint**: minimum, maximum)"
      ]
    },
    {
      "cell_type": "code",
      "execution_count": 190,
      "metadata": {
        "id": "j9BHcpmQREP8",
        "colab": {
          "base_uri": "https://localhost:8080/"
        },
        "outputId": "106d6e63-ee79-4805-a573-75d1694e26e4"
      },
      "outputs": [
        {
          "output_type": "stream",
          "name": "stdout",
          "text": [
            "[[6 6 2 5 2 7 0 5 6 6]\n",
            " [3 4 2 4 0 7 3 5 1 9]\n",
            " [5 2 2 5 4 2 8 8 3 0]\n",
            " [5 1 6 8 6 1 4 5 7 6]\n",
            " [7 3 0 2 7 4 6 0 3 6]\n",
            " [0 8 6 8 2 3 5 9 0 9]\n",
            " [8 1 7 0 5 7 6 8 0 2]\n",
            " [0 7 0 1 3 7 7 5 4 9]\n",
            " [6 3 6 9 2 2 7 3 5 3]\n",
            " [5 7 2 6 1 8 5 9 7 1]]\n",
            "[[0 0 0 0 0]\n",
            " [0 6 6 2 5]\n",
            " [0 3 4 2 4]\n",
            " [0 5 2 2 5]\n",
            " [0 5 1 6 8]]\n"
          ]
        },
        {
          "output_type": "stream",
          "name": "stderr",
          "text": [
            "/usr/local/lib/python3.7/dist-packages/ipykernel_launcher.py:19: FutureWarning: Using a non-tuple sequence for multidimensional indexing is deprecated; use `arr[tuple(seq)]` instead of `arr[seq]`. In the future this will be interpreted as an array index, `arr[np.array(seq)]`, which will result either in an error or a different result.\n"
          ]
        }
      ],
      "source": [
        "Z = np.random.randint(0,10,(10,10))\n",
        "shape = (5,5)\n",
        "fill  = 0\n",
        "position = (1,1)\n",
        "R = np.ones(shape, dtype=Z.dtype)*fill\n",
        "P  = np.array(list(position)).astype(int)\n",
        "Rs = np.array(list(R.shape)).astype(int)\n",
        "Zs = np.array(list(Z.shape)).astype(int)\n",
        "R_start = np.zeros((len(shape),)).astype(int)\n",
        "R_stop  = np.array(list(shape)).astype(int)\n",
        "Z_start = (P-Rs//2)\n",
        "Z_stop  = (P+Rs//2)+Rs%2\n",
        "R_start = (R_start - np.minimum(Z_start,0)).tolist()\n",
        "Z_start = (np.maximum(Z_start,0)).tolist()\n",
        "R_stop = np.maximum(R_start, (R_stop - np.maximum(Z_stop-Zs,0))).tolist()\n",
        "Z_stop = (np.minimum(Z_stop,Zs)).tolist()\n",
        "r = [slice(start,stop) for start,stop in zip(R_start,R_stop)]\n",
        "z = [slice(start,stop) for start,stop in zip(Z_start,Z_stop)]\n",
        "R[r] = Z[z]\n",
        "print(Z)\n",
        "print(R)"
      ]
    },
    {
      "cell_type": "markdown",
      "metadata": {
        "id": "BifbB1i3REP8"
      },
      "source": [
        "#### 81. Consider an array Z = \\[1,2,3,4,5,6,7,8,9,10,11,12,13,14\\], how to generate an array R = \\[\\[1,2,3,4\\], \\[2,3,4,5\\], \\[3,4,5,6\\], ..., \\[11,12,13,14\\]\\]? (★★★) \n",
        "(**hint**: stride\\_tricks.as\\_strided)"
      ]
    },
    {
      "cell_type": "code",
      "execution_count": 193,
      "metadata": {
        "id": "1zhsBcDNREP8",
        "colab": {
          "base_uri": "https://localhost:8080/"
        },
        "outputId": "9705b87d-6b4b-4618-9a41-e93763aeb88d"
      },
      "outputs": [
        {
          "output_type": "stream",
          "name": "stdout",
          "text": [
            "[[ 1  2  3  4]\n",
            " [ 2  3  4  5]\n",
            " [ 3  4  5  6]\n",
            " [ 4  5  6  7]\n",
            " [ 5  6  7  8]\n",
            " [ 6  7  8  9]\n",
            " [ 7  8  9 10]\n",
            " [ 8  9 10 11]\n",
            " [ 9 10 11 12]\n",
            " [10 11 12 13]\n",
            " [11 12 13 14]]\n"
          ]
        }
      ],
      "source": [
        "Z = np.arange(1,15,dtype=np.uint32)\n",
        "array = stride_tricks.as_strided(Z,(11,4),(4,4))\n",
        "print(array)"
      ]
    },
    {
      "cell_type": "markdown",
      "metadata": {
        "id": "43dhKzRGREP8"
      },
      "source": [
        "#### 82. Compute a matrix rank (★★★) \n",
        "(**hint**: np.linalg.svd) (suggestion: np.linalg.svd)"
      ]
    },
    {
      "cell_type": "code",
      "execution_count": 196,
      "metadata": {
        "id": "ip2hg4arREP8",
        "colab": {
          "base_uri": "https://localhost:8080/"
        },
        "outputId": "1fed5dca-04fb-4139-c6c8-8dd355eb16eb"
      },
      "outputs": [
        {
          "output_type": "stream",
          "name": "stdout",
          "text": [
            "9\n"
          ]
        }
      ],
      "source": [
        "array = np.random.uniform(0,1,(9,9))\n",
        "U, S, V = np.linalg.svd(array) \n",
        "rank = np.sum(S > 1e-9)\n",
        "print(rank)"
      ]
    },
    {
      "cell_type": "markdown",
      "metadata": {
        "id": "1Bhp0i0QREP8"
      },
      "source": [
        "#### 83. How to find the most frequent value in an array? \n",
        "(**hint**: np.bincount, argmax)"
      ]
    },
    {
      "cell_type": "code",
      "execution_count": 197,
      "metadata": {
        "id": "wLeMUyGGREP9",
        "colab": {
          "base_uri": "https://localhost:8080/"
        },
        "outputId": "cc503fa2-e8c7-428c-d250-3d8ff714df5a"
      },
      "outputs": [
        {
          "output_type": "stream",
          "name": "stdout",
          "text": [
            "1\n"
          ]
        }
      ],
      "source": [
        "array = np.random.randint(0,5,25)\n",
        "print(np.bincount(array).argmax())"
      ]
    },
    {
      "cell_type": "markdown",
      "metadata": {
        "id": "OAtlwhifREP9"
      },
      "source": [
        "#### 84. Extract all the contiguous 3x3 blocks from a random 10x10 matrix (★★★) \n",
        "(**hint**: stride\\_tricks.as\\_strided)"
      ]
    },
    {
      "cell_type": "code",
      "execution_count": 198,
      "metadata": {
        "id": "oDvZz37jREP9",
        "colab": {
          "base_uri": "https://localhost:8080/"
        },
        "outputId": "412b5934-4c36-4f03-9ad2-4dc7210a0659"
      },
      "outputs": [
        {
          "output_type": "stream",
          "name": "stdout",
          "text": [
            "[[[[4 2 3]\n",
            "   [1 4 3]\n",
            "   [2 2 1]]\n",
            "\n",
            "  [[2 3 2]\n",
            "   [4 3 3]\n",
            "   [2 1 2]]\n",
            "\n",
            "  [[3 2 4]\n",
            "   [3 3 1]\n",
            "   [1 2 0]]\n",
            "\n",
            "  [[2 4 3]\n",
            "   [3 1 3]\n",
            "   [2 0 0]]\n",
            "\n",
            "  [[4 3 0]\n",
            "   [1 3 4]\n",
            "   [0 0 2]]\n",
            "\n",
            "  [[3 0 1]\n",
            "   [3 4 3]\n",
            "   [0 2 4]]\n",
            "\n",
            "  [[0 1 1]\n",
            "   [4 3 3]\n",
            "   [2 4 3]]\n",
            "\n",
            "  [[1 1 4]\n",
            "   [3 3 3]\n",
            "   [4 3 4]]]\n",
            "\n",
            "\n",
            " [[[1 4 3]\n",
            "   [2 2 1]\n",
            "   [4 2 4]]\n",
            "\n",
            "  [[4 3 3]\n",
            "   [2 1 2]\n",
            "   [2 4 2]]\n",
            "\n",
            "  [[3 3 1]\n",
            "   [1 2 0]\n",
            "   [4 2 4]]\n",
            "\n",
            "  [[3 1 3]\n",
            "   [2 0 0]\n",
            "   [2 4 1]]\n",
            "\n",
            "  [[1 3 4]\n",
            "   [0 0 2]\n",
            "   [4 1 2]]\n",
            "\n",
            "  [[3 4 3]\n",
            "   [0 2 4]\n",
            "   [1 2 2]]\n",
            "\n",
            "  [[4 3 3]\n",
            "   [2 4 3]\n",
            "   [2 2 0]]\n",
            "\n",
            "  [[3 3 3]\n",
            "   [4 3 4]\n",
            "   [2 0 2]]]\n",
            "\n",
            "\n",
            " [[[2 2 1]\n",
            "   [4 2 4]\n",
            "   [2 2 2]]\n",
            "\n",
            "  [[2 1 2]\n",
            "   [2 4 2]\n",
            "   [2 2 2]]\n",
            "\n",
            "  [[1 2 0]\n",
            "   [4 2 4]\n",
            "   [2 2 3]]\n",
            "\n",
            "  [[2 0 0]\n",
            "   [2 4 1]\n",
            "   [2 3 2]]\n",
            "\n",
            "  [[0 0 2]\n",
            "   [4 1 2]\n",
            "   [3 2 2]]\n",
            "\n",
            "  [[0 2 4]\n",
            "   [1 2 2]\n",
            "   [2 2 1]]\n",
            "\n",
            "  [[2 4 3]\n",
            "   [2 2 0]\n",
            "   [2 1 4]]\n",
            "\n",
            "  [[4 3 4]\n",
            "   [2 0 2]\n",
            "   [1 4 2]]]\n",
            "\n",
            "\n",
            " [[[4 2 4]\n",
            "   [2 2 2]\n",
            "   [4 1 2]]\n",
            "\n",
            "  [[2 4 2]\n",
            "   [2 2 2]\n",
            "   [1 2 3]]\n",
            "\n",
            "  [[4 2 4]\n",
            "   [2 2 3]\n",
            "   [2 3 1]]\n",
            "\n",
            "  [[2 4 1]\n",
            "   [2 3 2]\n",
            "   [3 1 4]]\n",
            "\n",
            "  [[4 1 2]\n",
            "   [3 2 2]\n",
            "   [1 4 2]]\n",
            "\n",
            "  [[1 2 2]\n",
            "   [2 2 1]\n",
            "   [4 2 3]]\n",
            "\n",
            "  [[2 2 0]\n",
            "   [2 1 4]\n",
            "   [2 3 1]]\n",
            "\n",
            "  [[2 0 2]\n",
            "   [1 4 2]\n",
            "   [3 1 2]]]\n",
            "\n",
            "\n",
            " [[[2 2 2]\n",
            "   [4 1 2]\n",
            "   [1 2 2]]\n",
            "\n",
            "  [[2 2 2]\n",
            "   [1 2 3]\n",
            "   [2 2 0]]\n",
            "\n",
            "  [[2 2 3]\n",
            "   [2 3 1]\n",
            "   [2 0 2]]\n",
            "\n",
            "  [[2 3 2]\n",
            "   [3 1 4]\n",
            "   [0 2 0]]\n",
            "\n",
            "  [[3 2 2]\n",
            "   [1 4 2]\n",
            "   [2 0 0]]\n",
            "\n",
            "  [[2 2 1]\n",
            "   [4 2 3]\n",
            "   [0 0 1]]\n",
            "\n",
            "  [[2 1 4]\n",
            "   [2 3 1]\n",
            "   [0 1 3]]\n",
            "\n",
            "  [[1 4 2]\n",
            "   [3 1 2]\n",
            "   [1 3 3]]]\n",
            "\n",
            "\n",
            " [[[4 1 2]\n",
            "   [1 2 2]\n",
            "   [3 0 2]]\n",
            "\n",
            "  [[1 2 3]\n",
            "   [2 2 0]\n",
            "   [0 2 3]]\n",
            "\n",
            "  [[2 3 1]\n",
            "   [2 0 2]\n",
            "   [2 3 2]]\n",
            "\n",
            "  [[3 1 4]\n",
            "   [0 2 0]\n",
            "   [3 2 1]]\n",
            "\n",
            "  [[1 4 2]\n",
            "   [2 0 0]\n",
            "   [2 1 4]]\n",
            "\n",
            "  [[4 2 3]\n",
            "   [0 0 1]\n",
            "   [1 4 3]]\n",
            "\n",
            "  [[2 3 1]\n",
            "   [0 1 3]\n",
            "   [4 3 3]]\n",
            "\n",
            "  [[3 1 2]\n",
            "   [1 3 3]\n",
            "   [3 3 2]]]\n",
            "\n",
            "\n",
            " [[[1 2 2]\n",
            "   [3 0 2]\n",
            "   [0 4 1]]\n",
            "\n",
            "  [[2 2 0]\n",
            "   [0 2 3]\n",
            "   [4 1 1]]\n",
            "\n",
            "  [[2 0 2]\n",
            "   [2 3 2]\n",
            "   [1 1 4]]\n",
            "\n",
            "  [[0 2 0]\n",
            "   [3 2 1]\n",
            "   [1 4 3]]\n",
            "\n",
            "  [[2 0 0]\n",
            "   [2 1 4]\n",
            "   [4 3 2]]\n",
            "\n",
            "  [[0 0 1]\n",
            "   [1 4 3]\n",
            "   [3 2 1]]\n",
            "\n",
            "  [[0 1 3]\n",
            "   [4 3 3]\n",
            "   [2 1 4]]\n",
            "\n",
            "  [[1 3 3]\n",
            "   [3 3 2]\n",
            "   [1 4 3]]]\n",
            "\n",
            "\n",
            " [[[3 0 2]\n",
            "   [0 4 1]\n",
            "   [2 0 0]]\n",
            "\n",
            "  [[0 2 3]\n",
            "   [4 1 1]\n",
            "   [0 0 0]]\n",
            "\n",
            "  [[2 3 2]\n",
            "   [1 1 4]\n",
            "   [0 0 1]]\n",
            "\n",
            "  [[3 2 1]\n",
            "   [1 4 3]\n",
            "   [0 1 0]]\n",
            "\n",
            "  [[2 1 4]\n",
            "   [4 3 2]\n",
            "   [1 0 1]]\n",
            "\n",
            "  [[1 4 3]\n",
            "   [3 2 1]\n",
            "   [0 1 2]]\n",
            "\n",
            "  [[4 3 3]\n",
            "   [2 1 4]\n",
            "   [1 2 3]]\n",
            "\n",
            "  [[3 3 2]\n",
            "   [1 4 3]\n",
            "   [2 3 2]]]]\n"
          ]
        }
      ],
      "source": [
        "Z = np.random.randint(0,5,(10,10))\n",
        "n = 3\n",
        "i = 1 + (Z.shape[0]-3)\n",
        "j = 1 + (Z.shape[1]-3)\n",
        "C = stride_tricks.as_strided(Z, shape=(i, j, n, n), strides=Z.strides + Z.strides)\n",
        "print(C)"
      ]
    },
    {
      "cell_type": "markdown",
      "metadata": {
        "id": "qhA2apmxREP9"
      },
      "source": [
        "#### 85. Create a 2D array subclass such that Z\\[i,j\\] == Z\\[j,i\\] (★★★) \n",
        "(**hint**: class method)"
      ]
    },
    {
      "cell_type": "code",
      "execution_count": 200,
      "metadata": {
        "id": "qtUcPng2REP9",
        "colab": {
          "base_uri": "https://localhost:8080/"
        },
        "outputId": "b9b39d14-b65e-46fe-f5b7-19131451227b"
      },
      "outputs": [
        {
          "output_type": "stream",
          "name": "stdout",
          "text": [
            "[[ 3  8  5 11]\n",
            " [ 8  1 13 11]\n",
            " [ 5 13  4 42]\n",
            " [11 11 42  0]]\n"
          ]
        }
      ],
      "source": [
        "class Symetric(np.ndarray):\n",
        "    def __setitem__(self, index, value):\n",
        "        i,j = index\n",
        "        super(Symetric, self).__setitem__((i,j), value)\n",
        "        super(Symetric, self).__setitem__((j,i), value)\n",
        "\n",
        "def symetric(Z):\n",
        "    return np.asarray(Z + Z.T - np.diag(Z.diagonal())).view(Symetric)\n",
        "\n",
        "S = symetric(np.random.randint(0,8,(4,4)))\n",
        "S[2,3] = 42\n",
        "print(S)"
      ]
    },
    {
      "cell_type": "markdown",
      "metadata": {
        "id": "6F8qSMubREP9"
      },
      "source": [
        "#### 86. Consider a set of p matrices wich shape (n,n) and a set of p vectors with shape (n,1). How to compute the sum of of the p matrix products at once? (result has shape (n,1)) (★★★) \n",
        "(**hint**: np.tensordot)"
      ]
    },
    {
      "cell_type": "code",
      "execution_count": 203,
      "metadata": {
        "id": "A_KhBXe2REP9",
        "colab": {
          "base_uri": "https://localhost:8080/"
        },
        "outputId": "de67610b-ee0f-490b-a9cf-1a05ff3a15a7"
      },
      "outputs": [
        {
          "output_type": "stream",
          "name": "stdout",
          "text": [
            "[[50.]\n",
            " [50.]\n",
            " [50.]\n",
            " [50.]\n",
            " [50.]\n",
            " [50.]\n",
            " [50.]\n",
            " [50.]\n",
            " [50.]\n",
            " [50.]]\n"
          ]
        }
      ],
      "source": [
        "p, n = 5, 10\n",
        "M = np.ones((p,n,n))\n",
        "V = np.ones((p,n,1))\n",
        "S = np.tensordot(M, V, axes=[[0, 2], [0, 1]])\n",
        "print(S)"
      ]
    },
    {
      "cell_type": "markdown",
      "metadata": {
        "id": "5t2GF4-kREP-"
      },
      "source": [
        "#### 87. Consider a 16x16 array, how to get the block-sum (block size is 4x4)? (★★★) \n",
        "(**hint**: np.add.reduceat)"
      ]
    },
    {
      "cell_type": "code",
      "execution_count": 204,
      "metadata": {
        "id": "1fp0o8EhREP-",
        "colab": {
          "base_uri": "https://localhost:8080/"
        },
        "outputId": "5a0b97fa-42af-4a97-d4c2-1c7b068b15ca"
      },
      "outputs": [
        {
          "output_type": "stream",
          "name": "stdout",
          "text": [
            "[[16. 16. 16. 16.]\n",
            " [16. 16. 16. 16.]\n",
            " [16. 16. 16. 16.]\n",
            " [16. 16. 16. 16.]]\n"
          ]
        }
      ],
      "source": [
        "Z = np.ones((16,16))\n",
        "k = 4\n",
        "S = np.add.reduceat(np.add.reduceat(Z, np.arange(0, Z.shape[0], k), axis=0),\n",
        "                                       np.arange(0, Z.shape[1], k), axis=1)\n",
        "print(S)"
      ]
    },
    {
      "cell_type": "markdown",
      "metadata": {
        "id": "rvd5rWqRREP-"
      },
      "source": [
        "#### 88. How to implement the Game of Life using numpy arrays? (★★★)"
      ]
    },
    {
      "cell_type": "code",
      "execution_count": 205,
      "metadata": {
        "id": "O3d4uTk5REP-",
        "colab": {
          "base_uri": "https://localhost:8080/"
        },
        "outputId": "09a6dd70-25ae-422c-9a8c-d0c387208e7c"
      },
      "outputs": [
        {
          "output_type": "stream",
          "name": "stdout",
          "text": [
            "[[0 0 0 0 0 0 0 0 0 0 0 0 0 0 0 0 0 0 0 0 0 0 0 0 0 0 0 0 0 0 0 0 0 0 0 0\n",
            "  0 0 0 0 0 0 0 0 0 0 0 0 0 0]\n",
            " [0 0 0 0 0 0 0 0 0 0 0 0 0 0 0 0 0 0 0 0 0 0 0 0 0 0 0 0 0 0 0 0 0 0 0 0\n",
            "  0 0 0 0 0 1 0 0 0 0 0 0 0 0]\n",
            " [0 0 0 0 0 0 0 0 0 0 0 0 0 0 0 0 0 0 0 0 0 0 0 0 0 0 0 0 0 0 0 0 0 0 0 0\n",
            "  0 0 0 0 1 0 1 0 0 0 0 0 0 0]\n",
            " [0 0 0 0 0 0 0 0 0 0 0 0 0 0 0 0 0 0 0 0 0 0 0 0 0 0 0 0 0 0 0 0 0 1 1 1\n",
            "  0 0 0 0 1 0 1 0 0 0 0 0 0 0]\n",
            " [0 0 0 0 1 0 0 0 0 0 0 0 0 0 0 0 0 0 0 0 0 0 0 0 0 0 0 0 0 0 0 0 0 0 0 0\n",
            "  0 0 0 0 0 1 0 0 0 0 0 0 0 0]\n",
            " [0 0 0 1 0 1 0 0 0 0 0 0 0 0 0 0 0 0 0 0 0 0 0 0 0 0 0 0 0 0 0 0 0 0 0 0\n",
            "  0 0 0 0 0 0 0 0 0 0 0 0 0 0]\n",
            " [0 0 0 1 0 1 0 0 0 0 0 0 0 0 0 0 0 0 0 0 1 0 0 0 0 0 0 0 0 0 0 0 0 0 0 0\n",
            "  0 0 0 0 0 0 0 0 0 0 0 0 0 0]\n",
            " [0 0 0 0 1 0 0 0 0 0 0 0 0 0 0 0 0 0 0 0 1 0 0 0 0 0 0 0 0 0 0 0 0 0 0 0\n",
            "  0 0 0 0 0 0 0 0 0 0 0 0 0 0]\n",
            " [0 0 0 0 0 0 0 0 0 0 0 0 0 0 0 0 0 0 0 0 1 0 0 0 0 0 0 0 0 0 0 0 0 0 0 0\n",
            "  0 0 0 0 0 0 0 0 0 0 0 0 0 0]\n",
            " [0 0 0 0 0 0 0 0 0 0 0 0 0 0 0 0 0 0 0 0 0 0 0 0 0 0 0 0 0 0 0 0 0 0 0 0\n",
            "  0 0 0 0 0 0 0 0 0 0 0 0 0 0]\n",
            " [0 0 0 0 0 0 0 0 0 0 0 0 0 0 0 0 0 0 1 1 1 0 0 0 0 0 0 0 0 0 0 0 0 0 0 0\n",
            "  0 0 0 0 0 0 0 0 0 0 0 0 0 0]\n",
            " [0 0 0 0 0 0 0 0 0 0 0 0 0 0 0 0 0 0 1 1 1 0 0 0 0 0 0 0 0 0 0 0 0 0 0 0\n",
            "  0 0 0 0 0 0 0 0 0 0 0 0 0 0]\n",
            " [0 0 0 0 0 0 0 0 1 1 0 0 0 0 0 0 0 1 0 0 0 0 0 0 0 0 0 0 0 0 0 0 0 0 0 0\n",
            "  0 0 0 0 0 0 0 0 0 0 0 0 0 0]\n",
            " [0 0 0 0 0 0 0 0 1 1 0 0 0 0 0 0 0 0 1 1 0 1 0 0 0 0 0 0 0 1 1 1 0 0 0 0\n",
            "  0 0 0 0 0 0 0 0 0 1 1 1 0 0]\n",
            " [0 0 0 0 0 0 0 0 0 0 0 0 0 0 0 0 0 0 1 0 0 0 1 0 0 0 0 0 0 0 0 0 0 0 0 0\n",
            "  0 0 0 0 0 0 0 0 0 1 1 1 0 0]\n",
            " [0 0 0 0 0 0 0 0 0 0 0 0 0 0 0 0 0 0 0 0 0 1 0 0 0 0 0 0 0 0 0 0 0 0 0 0\n",
            "  0 0 0 0 0 0 0 0 0 0 0 0 0 0]\n",
            " [0 0 0 0 0 0 0 0 0 0 0 0 0 0 0 0 0 0 1 1 0 0 0 0 0 0 0 0 0 0 0 0 0 0 0 0\n",
            "  0 0 0 0 0 0 0 0 0 0 0 0 0 0]\n",
            " [0 0 0 0 0 0 0 0 0 0 0 0 0 0 0 0 0 0 1 1 0 0 0 0 0 0 0 0 0 0 0 0 0 0 0 0\n",
            "  0 0 0 0 0 0 0 0 0 0 0 0 0 0]\n",
            " [0 0 0 0 0 0 0 0 0 0 0 0 0 0 0 0 0 0 1 0 0 0 0 0 0 0 0 0 0 0 0 0 0 0 0 0\n",
            "  0 0 0 0 0 0 0 0 0 0 0 0 0 0]\n",
            " [0 0 0 0 0 0 0 0 0 0 0 0 0 0 0 0 0 0 0 0 0 0 0 0 0 0 0 0 0 0 0 0 0 0 0 0\n",
            "  0 0 0 0 0 1 1 0 0 0 0 0 0 0]\n",
            " [0 0 0 0 0 0 0 0 0 0 0 0 0 0 0 0 0 0 0 0 0 0 0 0 0 0 0 0 0 0 0 0 0 0 0 0\n",
            "  0 0 0 0 1 0 0 1 0 0 0 0 0 0]\n",
            " [0 0 0 0 0 0 0 0 0 0 0 0 0 0 0 0 0 0 0 0 0 0 0 0 0 0 0 0 0 0 0 0 0 0 0 0\n",
            "  0 0 0 0 0 1 0 1 0 0 0 0 0 0]\n",
            " [0 0 0 0 0 0 0 0 0 0 0 0 0 0 0 0 0 0 0 1 0 0 0 0 0 0 0 0 0 0 0 0 0 0 0 0\n",
            "  0 0 0 0 0 0 1 0 0 0 0 0 0 0]\n",
            " [0 0 0 0 0 0 0 0 0 0 0 0 0 0 0 0 0 1 1 0 0 0 0 0 0 0 0 0 0 0 0 0 0 0 0 0\n",
            "  0 0 0 0 0 0 0 0 0 0 0 0 0 0]\n",
            " [0 0 0 0 0 0 0 0 0 0 0 0 0 0 0 0 0 0 0 0 0 0 1 0 0 0 0 0 0 0 0 0 0 0 0 0\n",
            "  0 0 0 0 0 0 0 0 0 0 0 0 0 0]\n",
            " [0 0 0 0 0 0 0 0 0 0 0 0 0 0 0 0 0 0 0 0 1 0 1 0 0 0 0 0 0 0 0 0 0 0 0 0\n",
            "  0 0 0 0 0 0 0 0 0 0 0 0 0 0]\n",
            " [0 0 0 0 0 0 0 0 0 0 0 0 0 0 0 0 0 0 0 0 1 1 1 0 0 0 0 0 0 0 0 0 0 0 0 0\n",
            "  0 0 0 0 0 0 0 0 0 0 0 0 0 0]\n",
            " [0 0 0 0 0 0 0 0 0 0 0 0 0 0 0 0 0 0 0 0 0 0 0 0 0 0 0 0 0 0 0 0 0 0 0 0\n",
            "  0 0 0 0 0 0 0 0 0 0 0 0 0 0]\n",
            " [0 0 0 0 0 0 0 0 0 0 0 0 0 0 0 0 0 0 0 0 0 0 0 0 0 0 0 0 0 0 0 0 0 0 0 0\n",
            "  0 0 0 0 0 0 0 0 0 0 0 0 0 0]\n",
            " [0 0 0 0 0 0 0 0 0 0 0 0 0 0 0 0 1 1 0 0 0 0 0 0 0 0 0 0 0 0 0 0 0 0 0 0\n",
            "  0 0 0 0 0 0 0 0 0 0 0 0 0 0]\n",
            " [0 0 0 0 0 0 0 0 0 0 0 0 0 0 0 1 1 0 0 0 0 0 0 0 0 0 0 0 0 0 0 0 0 0 0 0\n",
            "  0 0 0 0 0 0 0 0 1 1 1 0 0 0]\n",
            " [0 0 0 0 0 0 0 0 0 0 0 0 0 0 0 0 1 1 0 1 1 0 0 0 0 0 0 0 0 0 0 0 0 0 0 0\n",
            "  0 0 0 0 0 0 0 1 1 0 0 1 0 0]\n",
            " [0 0 0 0 0 0 0 0 0 0 0 0 0 0 0 0 1 1 1 0 0 0 0 0 0 0 0 0 0 0 0 0 0 0 0 0\n",
            "  0 0 0 0 0 0 1 0 0 0 1 1 0 0]\n",
            " [0 0 0 0 0 0 0 0 0 0 0 0 0 0 0 0 0 1 1 0 0 0 0 0 0 0 0 0 0 0 0 0 0 0 0 0\n",
            "  0 0 0 0 0 1 0 0 1 1 1 0 0 0]\n",
            " [0 0 0 0 0 0 0 0 0 0 0 0 0 0 0 0 0 0 0 0 0 0 0 0 0 0 0 0 0 0 0 0 0 0 0 0\n",
            "  0 0 0 0 1 0 0 1 1 0 0 0 0 0]\n",
            " [0 0 0 0 0 0 0 0 0 0 0 0 0 0 0 0 0 0 0 0 0 0 0 0 0 0 0 0 0 0 0 0 0 0 0 0\n",
            "  0 0 0 0 1 0 0 1 0 0 0 0 0 0]\n",
            " [0 0 0 0 0 0 0 0 1 1 0 0 0 0 0 0 0 0 0 0 0 0 0 0 0 0 0 0 0 0 0 0 0 0 0 0\n",
            "  0 0 0 0 0 1 0 0 1 0 0 0 0 0]\n",
            " [0 0 0 0 0 0 0 0 0 0 0 0 0 0 0 0 0 0 0 0 0 0 0 0 0 0 0 0 0 0 0 0 0 0 0 0\n",
            "  0 0 0 0 0 1 0 0 1 0 0 0 0 0]\n",
            " [0 1 1 0 1 1 1 0 0 1 1 0 0 0 0 0 0 0 0 0 0 0 0 0 0 0 0 0 0 0 0 0 0 0 0 0\n",
            "  0 0 0 0 0 0 1 1 1 0 0 0 0 0]\n",
            " [0 1 1 0 0 0 0 0 0 0 1 1 0 0 0 0 0 0 0 0 0 0 0 0 0 0 0 0 0 0 0 0 0 0 0 0\n",
            "  0 0 0 0 0 0 0 0 0 0 1 1 0 0]\n",
            " [0 0 0 0 0 0 0 0 0 0 1 1 0 0 0 0 0 0 0 0 0 0 0 0 0 0 0 0 0 0 0 0 0 0 0 0\n",
            "  0 0 0 0 0 0 0 0 0 0 1 1 0 0]\n",
            " [0 0 0 0 0 0 0 1 1 0 1 0 0 1 1 0 0 0 0 0 0 0 0 0 0 0 0 0 0 1 0 0 0 0 0 0\n",
            "  0 0 0 0 0 0 0 0 0 0 0 0 0 0]\n",
            " [0 0 0 0 0 0 0 1 1 1 1 1 0 0 0 0 0 0 0 0 0 0 0 0 0 0 0 0 0 1 0 0 0 0 0 0\n",
            "  0 0 0 0 0 0 0 0 0 0 0 0 0 0]\n",
            " [0 0 0 0 0 0 0 0 1 1 1 1 0 0 1 0 0 0 0 0 0 0 0 0 0 0 0 0 0 1 0 0 0 0 0 0\n",
            "  0 0 0 0 0 0 0 0 0 0 0 0 0 0]\n",
            " [0 0 0 0 0 0 0 0 1 1 1 1 1 1 0 0 0 0 0 0 0 0 0 0 0 0 0 0 0 0 0 0 0 0 0 0\n",
            "  0 0 0 0 0 0 0 0 0 0 0 0 0 0]\n",
            " [0 0 0 0 0 0 0 0 0 1 0 0 1 0 0 0 0 0 0 0 0 0 0 0 0 1 1 1 0 0 0 1 1 1 0 0\n",
            "  0 0 0 0 0 0 0 0 0 0 0 0 0 0]\n",
            " [0 0 0 0 0 0 0 0 0 0 1 1 0 0 0 0 0 0 0 0 0 0 0 0 0 0 0 0 0 0 0 0 0 0 0 0\n",
            "  0 0 0 0 0 0 0 0 0 0 0 0 0 0]\n",
            " [0 0 0 0 0 0 0 0 0 0 0 1 0 0 0 0 0 0 0 0 0 0 0 0 0 0 0 0 0 0 0 0 0 0 0 0\n",
            "  0 0 0 0 0 0 0 0 0 0 0 0 0 0]\n",
            " [0 0 0 0 0 0 0 0 0 0 0 0 0 0 0 0 0 0 0 0 0 0 0 0 0 0 0 0 0 0 0 0 0 0 0 0\n",
            "  0 0 0 0 0 0 0 0 0 0 0 0 0 0]\n",
            " [0 0 0 0 0 0 0 0 0 0 0 0 0 0 0 0 0 0 0 0 0 0 0 0 0 0 0 0 0 0 0 0 0 0 0 0\n",
            "  0 0 0 0 0 0 0 0 0 0 0 0 0 0]]\n"
          ]
        }
      ],
      "source": [
        "def iterate(Z):\n",
        "    \n",
        "    N = (Z[0:-2,0:-2] + Z[0:-2,1:-1] + Z[0:-2,2:] +\n",
        "         Z[1:-1,0:-2]                + Z[1:-1,2:] +\n",
        "         Z[2:  ,0:-2] + Z[2:  ,1:-1] + Z[2:  ,2:])\n",
        "\n",
        "  \n",
        "    birth = (N==3) & (Z[1:-1,1:-1]==0)\n",
        "    survive = ((N==2) | (N==3)) & (Z[1:-1,1:-1]==1)\n",
        "    Z[...] = 0\n",
        "    Z[1:-1,1:-1][birth | survive] = 1\n",
        "    return Z\n",
        "\n",
        "Z = np.random.randint(0,2,(50,50))\n",
        "for i in range(100): Z = iterate(Z)\n",
        "print(Z)\n"
      ]
    },
    {
      "cell_type": "markdown",
      "metadata": {
        "id": "H_Tc1X05REP-"
      },
      "source": [
        "#### 89. How to get the n largest values of an array (★★★) \n",
        "(**hint**: np.argsort | np.argpartition)"
      ]
    },
    {
      "cell_type": "code",
      "execution_count": 208,
      "metadata": {
        "id": "7vTDVyTRREP-",
        "colab": {
          "base_uri": "https://localhost:8080/"
        },
        "outputId": "53875f44-6dac-4486-8f84-9907e460dde1"
      },
      "outputs": [
        {
          "output_type": "stream",
          "name": "stdout",
          "text": [
            "[994 995 996 997 998 999]\n",
            "[999 998 996 997 995 994]\n"
          ]
        }
      ],
      "source": [
        "Z = np.arange(1000)\n",
        "np.random.shuffle(Z)\n",
        "n = 6\n",
        "print (Z[np.argsort(Z)[-n:]])\n",
        "print (Z[np.argpartition(-Z,n)[:n]])"
      ]
    },
    {
      "cell_type": "markdown",
      "metadata": {
        "id": "Ed2jyUtkREP-"
      },
      "source": [
        "#### 90. Given an arbitrary number of vectors, build the cartesian product (every combinations of every item) (★★★) \n",
        "(**hint**: np.indices)"
      ]
    },
    {
      "cell_type": "code",
      "execution_count": 209,
      "metadata": {
        "scrolled": true,
        "id": "UlvZJuraREP-",
        "colab": {
          "base_uri": "https://localhost:8080/"
        },
        "outputId": "4398b724-2017-45aa-a433-54b34a295540"
      },
      "outputs": [
        {
          "output_type": "stream",
          "name": "stdout",
          "text": [
            "[[1 4 6]\n",
            " [1 4 7]\n",
            " [1 5 6]\n",
            " [1 5 7]\n",
            " [2 4 6]\n",
            " [2 4 7]\n",
            " [2 5 6]\n",
            " [2 5 7]\n",
            " [3 4 6]\n",
            " [3 4 7]\n",
            " [3 5 6]\n",
            " [3 5 7]]\n"
          ]
        }
      ],
      "source": [
        "def cartesian(arrays):\n",
        "    arrays = [np.asarray(a) for a in arrays]\n",
        "    shape = (len(x) for x in arrays)\n",
        "    ix = np.indices(shape, dtype=int)\n",
        "    ix = ix.reshape(len(arrays), -1).T\n",
        "    for n, arr in enumerate(arrays):\n",
        "        ix[:, n] = arrays[n][ix[:, n]]\n",
        "    return ix\n",
        "print (cartesian(([1, 2, 3], [4, 5], [6, 7])))"
      ]
    },
    {
      "cell_type": "markdown",
      "metadata": {
        "id": "XQio-YjfREP_"
      },
      "source": [
        "#### 91. How to create a record array from a regular array? (★★★) \n",
        "(**hint**: np.core.records.fromarrays)"
      ]
    },
    {
      "cell_type": "code",
      "execution_count": 212,
      "metadata": {
        "id": "yA7Bvu7kREP_",
        "colab": {
          "base_uri": "https://localhost:8080/"
        },
        "outputId": "1fee2414-1f92-48c3-9aff-1feec57a3837"
      },
      "outputs": [
        {
          "output_type": "stream",
          "name": "stdout",
          "text": [
            "[(b'Welcome ', 3.11, 2) (b'Python W', 4.6 , 2)]\n"
          ]
        }
      ],
      "source": [
        "A = np.array([(\"Welcome to the\", 3.11, 2),\n",
        "              (\"Python World\", 4.6, 2)])\n",
        "ARR   = np.core.records.fromarrays(A.T,\n",
        "                               names='col1, col2, col3',\n",
        "                               formats = 'S8, f8, i8')\n",
        "print(ARR)"
      ]
    },
    {
      "cell_type": "markdown",
      "metadata": {
        "id": "UxJ3Fm1kREP_"
      },
      "source": [
        "#### 92. Consider a large vector Z, compute Z to the power of 3 using 3 different methods (★★★) \n",
        "(**hint**: np.power, \\*, np.einsum)"
      ]
    },
    {
      "cell_type": "code",
      "execution_count": 214,
      "metadata": {
        "id": "6abBCJvDREP_",
        "colab": {
          "base_uri": "https://localhost:8080/"
        },
        "outputId": "81a55d24-4688-402e-8c61-09ac70e7ae05"
      },
      "outputs": [
        {
          "output_type": "stream",
          "name": "stdout",
          "text": [
            "100 loops, best of 5: 19.2 ms per loop\n",
            "1000 loops, best of 5: 607 µs per loop\n",
            "1000 loops, best of 5: 627 µs per loop\n"
          ]
        }
      ],
      "source": [
        "Z = np.random.rand(int(3e5))\n",
        "%timeit np.power(Z,3)\n",
        "%timeit Z*Z*Z\n",
        "%timeit np.einsum('i,i,i->i',Z,Z,Z)"
      ]
    },
    {
      "cell_type": "markdown",
      "metadata": {
        "id": "LrXLwuI5REP_"
      },
      "source": [
        "#### 93. Consider two arrays A and B of shape (8,3) and (2,2). How to find rows of A that contain elements of each row of B regardless of the order of the elements in B? (★★★) \n",
        "(**hint**: np.where)"
      ]
    },
    {
      "cell_type": "code",
      "execution_count": 215,
      "metadata": {
        "id": "sE7mhQBfREP_",
        "colab": {
          "base_uri": "https://localhost:8080/"
        },
        "outputId": "6cefe49c-a615-4493-8d3e-95ece4ca39e9"
      },
      "outputs": [
        {
          "output_type": "stream",
          "name": "stdout",
          "text": [
            "[0 1 2 4 5 6 7]\n"
          ]
        }
      ],
      "source": [
        "A = np.random.randint(0,5,(8,3))\n",
        "B = np.random.randint(0,5,(2,2))\n",
        "C = (A[..., np.newaxis, np.newaxis] == B)\n",
        "rows = np.where(C.any((3,1)).all(1))[0]\n",
        "print(rows)"
      ]
    },
    {
      "cell_type": "markdown",
      "metadata": {
        "id": "TIu0hfgvREQA"
      },
      "source": [
        "#### 94. Considering a 10x3 matrix, extract rows with unequal values (e.g. \\[2,2,3\\]) (★★★)"
      ]
    },
    {
      "cell_type": "code",
      "execution_count": 217,
      "metadata": {
        "id": "u870QfhTREQA",
        "colab": {
          "base_uri": "https://localhost:8080/"
        },
        "outputId": "9988170f-8618-42c9-9872-60591b46861d"
      },
      "outputs": [
        {
          "output_type": "stream",
          "name": "stdout",
          "text": [
            "[[4 3 1]\n",
            " [0 1 2]\n",
            " [4 3 4]\n",
            " [1 2 2]\n",
            " [4 4 1]\n",
            " [0 2 1]\n",
            " [0 0 4]\n",
            " [3 1 4]\n",
            " [0 0 2]\n",
            " [2 1 0]]\n",
            "[[4 3 1]\n",
            " [0 1 2]\n",
            " [4 3 4]\n",
            " [1 2 2]\n",
            " [4 4 1]\n",
            " [0 2 1]\n",
            " [0 0 4]\n",
            " [3 1 4]\n",
            " [0 0 2]\n",
            " [2 1 0]]\n",
            "[[4 3 1]\n",
            " [0 1 2]\n",
            " [4 3 4]\n",
            " [1 2 2]\n",
            " [4 4 1]\n",
            " [0 2 1]\n",
            " [0 0 4]\n",
            " [3 1 4]\n",
            " [0 0 2]\n",
            " [2 1 0]]\n"
          ]
        }
      ],
      "source": [
        "A = np.random.randint(0,5,(10,3))\n",
        "print(A)\n",
        "\n",
        "E = np.all(A[:,1:] == A[:,:-1], axis=1)\n",
        "U = A[~E]\n",
        "print(U)\n",
        "\n",
        "U = A[A.max(axis=1) != A.min(axis=1),:]\n",
        "print(U)"
      ]
    },
    {
      "cell_type": "markdown",
      "metadata": {
        "id": "Wg_KDBrLREQA"
      },
      "source": [
        "#### 95. Convert a vector of ints into a matrix binary representation (★★★) \n",
        "(**hint**: np.unpackbits)"
      ]
    },
    {
      "cell_type": "code",
      "execution_count": 219,
      "metadata": {
        "id": "e4kEBSofREQA",
        "colab": {
          "base_uri": "https://localhost:8080/"
        },
        "outputId": "2ab621d2-e757-4cdd-b059-cb5f4861a8e2"
      },
      "outputs": [
        {
          "output_type": "stream",
          "name": "stdout",
          "text": [
            "[[0 0 0 0 0 0 0 0]\n",
            " [0 0 0 0 0 0 0 1]\n",
            " [0 0 0 0 0 0 1 0]\n",
            " [0 0 1 0 1 0 0 0]\n",
            " [0 1 0 0 0 0 1 1]\n",
            " [0 1 0 1 1 0 1 0]\n",
            " [0 1 1 1 1 1 0 1]\n",
            " [0 0 0 1 1 0 0 1]]\n"
          ]
        }
      ],
      "source": [
        "vector= np.array([0,1,2,40,67,90,125,25])\n",
        "B = ((vector.reshape(-1,1) & (2**np.arange(8))) != 0).astype(int)\n",
        "print(B[:,::-1])"
      ]
    },
    {
      "cell_type": "markdown",
      "metadata": {
        "id": "l4VQwwcXREQA"
      },
      "source": [
        "#### 96. Given a two dimensional array, how to extract unique rows? (★★★) \n",
        "(**hint**: np.ascontiguousarray)"
      ]
    },
    {
      "cell_type": "code",
      "execution_count": 220,
      "metadata": {
        "id": "JUKPbCIuREQA",
        "colab": {
          "base_uri": "https://localhost:8080/"
        },
        "outputId": "8fafb7d6-8c6d-46dd-c425-f0f05ad14541"
      },
      "outputs": [
        {
          "output_type": "stream",
          "name": "stdout",
          "text": [
            "[[0 0 0 0]\n",
            " [0 0 0 1]\n",
            " [0 0 1 0]\n",
            " [0 1 0 1]\n",
            " [1 1 1 0]\n",
            " [1 1 1 1]]\n"
          ]
        }
      ],
      "source": [
        "Z = np.random.randint(0,2,(8,4))\n",
        "T = np.ascontiguousarray(Z).view(np.dtype((np.void, Z.dtype.itemsize * Z.shape[1])))\n",
        "_, idx = np.unique(T, return_index=True)\n",
        "uZ = Z[idx]\n",
        "print(uZ)"
      ]
    },
    {
      "cell_type": "markdown",
      "metadata": {
        "id": "SwpaO6ehREQA"
      },
      "source": [
        "#### 97. Considering 2 vectors A & B, write the einsum equivalent of inner, outer, sum, and mul function (★★★) \n",
        "(**hint**: np.einsum)"
      ]
    },
    {
      "cell_type": "code",
      "execution_count": 221,
      "metadata": {
        "id": "bz4ALmcUREQA",
        "colab": {
          "base_uri": "https://localhost:8080/"
        },
        "outputId": "8830e67b-a255-485b-b0e5-36e14bc5fad2"
      },
      "outputs": [
        {
          "output_type": "execute_result",
          "data": {
            "text/plain": [
              "array([[0.17720629, 0.27828235, 0.20592105, 0.42010542, 0.24926443,\n",
              "        0.04198383, 0.11961561, 0.29938303, 0.27469391],\n",
              "       [0.37940631, 0.59581453, 0.44088587, 0.89946384, 0.53368591,\n",
              "        0.08988919, 0.25610219, 0.640992  , 0.58813152],\n",
              "       [0.20815851, 0.32688931, 0.24188882, 0.4934843 , 0.29280289,\n",
              "        0.04931705, 0.14050861, 0.3516756 , 0.32267408],\n",
              "       [0.08488926, 0.13330894, 0.09864484, 0.20124815, 0.11940814,\n",
              "        0.02011202, 0.0573009 , 0.14341705, 0.13158992],\n",
              "       [0.01459447, 0.02291895, 0.01695938, 0.03459931, 0.02052908,\n",
              "        0.00345773, 0.00985138, 0.02465678, 0.02262342],\n",
              "       [0.25905586, 0.40681782, 0.30103365, 0.61414735, 0.36439685,\n",
              "        0.06137569, 0.17486471, 0.43766466, 0.40157191],\n",
              "       [0.36936739, 0.58004954, 0.42922022, 0.87566443, 0.51956482,\n",
              "        0.08751076, 0.24932584, 0.62403163, 0.57256982],\n",
              "       [0.35492025, 0.55736195, 0.41243205, 0.8414144 , 0.49924298,\n",
              "        0.08408794, 0.23957391, 0.59962376, 0.55017479],\n",
              "       [0.09097447, 0.14286507, 0.1057161 , 0.21567444, 0.1279678 ,\n",
              "        0.02155373, 0.06140847, 0.15369777, 0.14102283]])"
            ]
          },
          "metadata": {},
          "execution_count": 221
        }
      ],
      "source": [
        "A = np.random.uniform(0,1,9)\n",
        "B = np.random.uniform(0,1,9)\n",
        "np.einsum('i->', A)       \n",
        "np.einsum('i,i->i', A, B) \n",
        "np.einsum('i,i', A, B)    \n",
        "np.einsum('i,j->ij', A, B)"
      ]
    },
    {
      "cell_type": "markdown",
      "metadata": {
        "id": "hfQESaY3REQA"
      },
      "source": [
        "#### 98. Considering a path described by two vectors (X,Y), how to sample it using equidistant samples (★★★)? \n",
        "(**hint**: np.cumsum, np.interp)"
      ]
    },
    {
      "cell_type": "code",
      "execution_count": 224,
      "metadata": {
        "collapsed": true,
        "id": "uaZsYrMjREQA",
        "colab": {
          "base_uri": "https://localhost:8080/"
        },
        "outputId": "939abcf5-5f9c-4a35-b48b-e083266ffab5"
      },
      "outputs": [
        {
          "output_type": "stream",
          "name": "stdout",
          "text": [
            "[  0.           2.48788858   4.97577716   7.46366574   9.95155432\n",
            "  12.43944289  14.92733147  17.41522005  19.90310863  22.39099721\n",
            "  24.87888579  27.36677437  29.85466295  32.34255152  34.8304401\n",
            "  37.31832868  39.80621726  42.29410584  44.78199442  47.269883\n",
            "  49.75777158  52.24566016  54.73354873  57.22143731  59.70932589\n",
            "  62.19721447  64.68510305  67.17299163  69.66088021  72.14876879\n",
            "  74.63665736  77.12454594  79.61243452  82.1003231   84.58821168\n",
            "  87.07610026  89.56398884  92.05187742  94.539766    97.02765457\n",
            "  99.51554315 102.00343173 104.49132031 106.97920889 109.46709747\n",
            " 111.95498605 114.44287463 116.9307632  119.41865178 121.90654036\n",
            " 124.39442894 126.88231752 129.3702061  131.85809468 134.34598326\n",
            " 136.83387184 139.32176041 141.80964899 144.29753757 146.78542615\n",
            " 149.27331473 151.76120331 154.24909189 156.73698047 159.22486904\n",
            " 161.71275762 164.2006462  166.68853478 169.17642336 171.66431194\n",
            " 174.15220052 176.6400891  179.12797768 181.61586625 184.10375483\n",
            " 186.59164341 189.07953199 191.56742057 194.05530915 196.54319773\n",
            " 199.03108631 201.51897488 204.00686346 206.49475204 208.98264062\n",
            " 211.4705292  213.95841778 216.44630636 218.93419494 221.42208352\n",
            " 223.90997209 226.39786067 228.88574925 231.37363783 233.86152641\n",
            " 236.34941499 238.83730357 241.32519215 243.81308072 246.3009693\n",
            " 248.78885788 251.27674646 253.76463504 256.25252362 258.7404122\n",
            " 261.22830078 263.71618936 266.20407793 268.69196651 271.17985509\n",
            " 273.66774367 276.15563225 278.64352083 281.13140941 283.61929799\n",
            " 286.10718656 288.59507514 291.08296372 293.5708523  296.05874088\n",
            " 298.54662946 301.03451804 303.52240662 306.0102952  308.49818377\n",
            " 310.98607235 313.47396093 315.96184951 318.44973809 320.93762667\n",
            " 323.42551525 325.91340383 328.4012924  330.88918098 333.37706956\n",
            " 335.86495814 338.35284672 340.8407353  343.32862388 345.81651246\n",
            " 348.30440104 350.79228961 353.28017819 355.76806677 358.25595535\n",
            " 360.74384393 363.23173251 365.71962109 368.20750967 370.69539824\n",
            " 373.18328682 375.6711754  378.15906398 380.64695256 383.13484114\n",
            " 385.62272972 388.1106183  390.59850688 393.08639545 395.57428403\n",
            " 398.06217261 400.55006119 403.03794977 405.52583835 408.01372693\n",
            " 410.50161551 412.98950408 415.47739266 417.96528124 420.45316982\n",
            " 422.9410584  425.42894698 427.91683556 430.40472414 432.89261272\n",
            " 435.38050129 437.86838987 440.35627845 442.84416703 445.33205561\n",
            " 447.81994419 450.30783277 452.79572135 455.28360992 457.7714985\n",
            " 460.25938708 462.74727566 465.23516424 467.72305282 470.2109414\n",
            " 472.69882998 475.18671856 477.67460713 480.16249571 482.65038429\n",
            " 485.13827287 487.62616145 490.11405003 492.60193861 495.08982719]\n",
            "[ 0.00000000e+00 -3.73131229e-01 -2.59817608e+00 -3.26212050e+00\n",
            " -2.18442687e+00 -2.98929946e-02  2.42923642e+00  4.54913599e+00\n",
            "  5.92318348e+00  6.35117933e+00  5.82369277e+00  4.46259540e+00\n",
            "  2.47320794e+00  1.09577220e-01 -2.36575300e+00 -4.71261671e+00\n",
            " -6.72701769e+00 -8.25541575e+00 -9.18486120e+00 -9.46381505e+00\n",
            " -9.11085788e+00 -8.12875279e+00 -6.63306046e+00 -4.69271059e+00\n",
            " -2.44736165e+00 -2.05444585e-02  2.46101146e+00  4.86841760e+00\n",
            "  7.08937968e+00  9.02539126e+00  1.05948609e+01  1.17357250e+01\n",
            "  1.24068974e+01  1.25885805e+01  1.22815267e+01  1.15053927e+01\n",
            "  1.02963689e+01  8.70429550e+00  6.78948686e+00  4.61716636e+00\n",
            "  2.25853448e+00 -1.98731680e-01 -2.68040566e+00 -5.11543300e+00\n",
            " -7.41973991e+00 -9.53891040e+00 -1.14237629e+01 -1.29919305e+01\n",
            " -1.42355069e+01 -1.51243232e+01 -1.56061571e+01 -1.57219415e+01\n",
            " -1.54217066e+01 -1.47579136e+01 -1.37255236e+01 -1.23634834e+01\n",
            " -1.07024632e+01 -8.78327367e+00 -6.65029558e+00 -4.35514246e+00\n",
            " -1.94290275e+00  5.28038914e-01  3.00985904e+00  5.45450275e+00\n",
            "  7.80093594e+00  1.00179639e+01  1.20595602e+01  1.38732623e+01\n",
            "  1.54564938e+01  1.67497894e+01  1.77435802e+01  1.84439878e+01\n",
            "  1.87990820e+01  1.88271003e+01  1.85472755e+01  1.79378850e+01\n",
            "  1.70105456e+01  1.58085777e+01  1.43501808e+01  1.26222364e+01\n",
            "  1.06905445e+01  8.58498641e+00  6.33562529e+00  3.96179025e+00\n",
            "  1.51802643e+00 -9.61699044e-01 -3.44349301e+00 -5.88951759e+00\n",
            " -8.26006582e+00 -1.05270865e+01 -1.26610269e+01 -1.46343020e+01\n",
            " -1.64206033e+01 -1.79708499e+01 -1.92894561e+01 -2.03605967e+01\n",
            " -2.11716587e+01 -2.17133504e+01 -2.19797677e+01 -2.19626531e+01\n",
            " -2.16476737e+01 -2.10622561e+01 -2.02145809e+01 -1.91158467e+01\n",
            " -1.77800930e+01 -1.62239930e+01 -1.44666197e+01 -1.25291882e+01\n",
            " -1.04347777e+01 -8.20773276e+00 -5.86978851e+00 -3.45563299e+00\n",
            " -9.92556869e-01  1.49191203e+00  3.97031733e+00  6.41557503e+00\n",
            "  8.80126359e+00  1.11019001e+01  1.32931995e+01  1.53523150e+01\n",
            "  1.72580567e+01  1.89910866e+01  2.05340895e+01  2.18719167e+01\n",
            "  2.29917039e+01  2.38829603e+01  2.45376309e+01  2.49501314e+01\n",
            "  2.51173551e+01  2.50386548e+01  2.47157984e+01  2.41529019e+01\n",
            "  2.33563391e+01  2.23346314e+01  2.10983193e+01  1.96598169e+01\n",
            "  1.80332532e+01  1.62343003e+01  1.42799934e+01  1.21885425e+01\n",
            "  9.97914013e+00  7.67176574e+00  5.28699023e+00  2.84441658e+00\n",
            "  3.68190102e-01 -2.11846865e+00 -4.59426061e+00 -7.03829202e+00\n",
            " -9.43024209e+00 -1.17505186e+01 -1.39803999e+01 -1.61021634e+01\n",
            " -1.80991985e+01 -1.99561058e+01 -2.16587804e+01 -2.31850397e+01\n",
            " -2.45166960e+01 -2.56568097e+01 -2.65976904e+01 -2.73332424e+01\n",
            " -2.78589555e+01 -2.81718833e+01 -2.82706110e+01 -2.81552119e+01\n",
            " -2.78066635e+01 -2.72341677e+01 -2.64578863e+01 -2.54844118e+01\n",
            " -2.43214986e+01 -2.29779690e+01 -2.14636172e+01 -1.97837046e+01\n",
            " -1.79341987e+01 -1.59545785e+01 -1.38585628e+01 -1.16602783e+01\n",
            " -9.37416511e+00 -7.01488958e+00 -4.59184632e+00 -2.12995331e+00\n",
            "  3.50691071e-01  2.83498918e+00  5.30813450e+00  7.75565814e+00\n",
            "  1.01522531e+01  1.24813227e+01  1.47337756e+01  1.68973642e+01\n",
            "  1.89604991e+01  2.09071945e+01  2.26943693e+01  2.43420179e+01\n",
            "  2.58422998e+01  2.71881423e+01  2.83731992e+01  2.93376609e+01\n",
            "  3.01222558e+01  3.07280750e+01  3.11531219e+01  3.13960177e+01]\n",
            "[ 0.00000000e+00  1.74026724e+00  9.81816584e-01 -1.34251287e+00\n",
            " -3.53191891e+00 -4.70449474e+00 -4.59573427e+00 -3.33831870e+00\n",
            " -1.28956083e+00  1.14234685e+00  3.55645601e+00  5.62188218e+00\n",
            "  7.09389488e+00  7.82951803e+00  7.78700678e+00  6.99685666e+00\n",
            "  5.55535240e+00  3.60417006e+00  1.30506373e+00 -1.15819722e+00\n",
            " -3.61328132e+00 -5.89130465e+00 -7.87065053e+00 -9.41689057e+00\n",
            " -1.04714836e+01 -1.09903787e+01 -1.09354306e+01 -1.03330912e+01\n",
            " -9.22690166e+00 -7.67489830e+00 -5.75257980e+00 -3.54832201e+00\n",
            " -1.15854355e+00  1.31709956e+00  3.78023622e+00  6.13780326e+00\n",
            "  8.30540149e+00  1.02098724e+01  1.17910419e+01  1.29972950e+01\n",
            "  1.37774249e+01  1.41319792e+01  1.40585758e+01  1.35636816e+01\n",
            "  1.26345244e+01  1.13409083e+01  9.72216360e+00  7.79464305e+00\n",
            "  5.64544223e+00  3.32503222e+00  8.88107041e-01 -1.59329248e+00\n",
            " -4.05992507e+00 -6.45313746e+00 -8.71327144e+00 -1.07900854e+01\n",
            " -1.26380653e+01 -1.42147006e+01 -1.54892299e+01 -1.64390858e+01\n",
            " -1.70351433e+01 -1.72938948e+01 -1.71685631e+01 -1.67219979e+01\n",
            " -1.59044166e+01 -1.47824153e+01 -1.33665280e+01 -1.16678134e+01\n",
            " -9.75246391e+00 -7.63091465e+00 -5.35345831e+00 -2.96905840e+00\n",
            " -5.09631905e-01  1.97507060e+00  4.44430515e+00  6.85344809e+00\n",
            "  9.15903461e+00  1.13337844e+01  1.33467125e+01  1.51336120e+01\n",
            "  1.66966787e+01  1.80162922e+01  1.90746708e+01  1.98127969e+01\n",
            "  2.02634499e+01  2.04221761e+01  2.02877631e+01  1.98449702e+01\n",
            "  1.90974465e+01  1.80799531e+01  1.68069397e+01  1.52959771e+01\n",
            "  1.35665801e+01  1.16227312e+01  9.51601869e+00  7.27388893e+00\n",
            "  4.92519240e+00  2.49981337e+00  2.82932820e-02 -2.45817963e+00\n",
            " -4.92460367e+00 -7.34030894e+00 -9.67635928e+00 -1.19050601e+01\n",
            " -1.40002645e+01 -1.59376556e+01 -1.76950019e+01 -1.92523833e+01\n",
            " -2.05923861e+01 -2.16995543e+01 -2.25478860e+01 -2.31432552e+01\n",
            " -2.34800725e+01 -2.35556687e+01 -2.33702741e+01 -2.29269662e+01\n",
            " -2.22315865e+01 -2.12926288e+01 -2.01211000e+01 -1.87303570e+01\n",
            " -1.71359212e+01 -1.53552740e+01 -1.34076356e+01 -1.13137308e+01\n",
            " -9.09554383e+00 -6.77606668e+00 -4.37904252e+00 -1.92870828e+00\n",
            "  5.50461201e-01  3.03400451e+00  5.49771780e+00  7.91788934e+00\n",
            "  1.02715222e+01  1.25365431e+01  1.46919953e+01  1.67182148e+01\n",
            "  1.85969872e+01  2.03116866e+01  2.18473923e+01  2.31909872e+01\n",
            "  2.43312337e+01  2.52588296e+01  2.59664444e+01  2.64391214e+01\n",
            "  2.66748505e+01  2.66796333e+01  2.64545680e+01  2.60026765e+01\n",
            "  2.53288265e+01  2.44396400e+01  2.33433894e+01  2.20498837e+01\n",
            "  2.05703459e+01  1.89172843e+01  1.71043584e+01  1.51396391e+01\n",
            "  1.30387952e+01  1.08294252e+01  8.52903617e+00  6.15551380e+00\n",
            "  3.72697869e+00  1.26164946e+00 -1.22228693e+00 -3.70679651e+00\n",
            " -6.17014862e+00 -8.59028675e+00 -1.09516293e+01 -1.32379536e+01\n",
            " -1.54338179e+01 -1.75246263e+01 -1.94966815e+01 -2.13317519e+01\n",
            " -2.29952001e+01 -2.44987532e+01 -2.58335652e+01 -2.69919481e+01\n",
            " -2.79673583e+01 -2.87543764e+01 -2.93186910e+01 -2.96679958e+01\n",
            " -2.98181354e+01 -2.97693731e+01 -2.95229769e+01 -2.90811595e+01\n",
            " -2.84133854e+01 -2.75430665e+01 -2.64934034e+01 -2.52713717e+01\n",
            " -2.38845608e+01 -2.23353782e+01 -2.06051319e+01 -1.87442619e+01\n",
            " -1.67635423e+01 -1.46739620e+01 -1.24866789e+01 -1.01933401e+01\n",
            " -7.83474328e+00 -5.42495146e+00 -2.97607515e+00 -5.00072086e-01]\n"
          ]
        }
      ],
      "source": [
        "phi = np.arange(0, 10*np.pi, 0.1)\n",
        "a = 1\n",
        "x = a*phi*np.cos(phi)\n",
        "y = a*phi*np.sin(phi)\n",
        "dr = (np.diff(x)**2 + np.diff(y)**2)**.5 \n",
        "r = np.zeros_like(x)\n",
        "r[1:] = np.cumsum(dr)                \n",
        "r_int = np.linspace(0, r.max(), 200) \n",
        "x_int = np.interp(r_int, r, x)       \n",
        "y_int = np.interp(r_int, r, y)\n",
        "\n",
        "print(r_int)\n",
        "print(x_int)\n",
        "print(y_int)"
      ]
    },
    {
      "cell_type": "markdown",
      "metadata": {
        "id": "I4iSgIKIREQA"
      },
      "source": [
        "#### 99. Given an integer n and a 2D array X, select from X the rows which can be interpreted as draws from a multinomial distribution with n degrees, i.e., the rows which only contain integers and which sum to n. (★★★) \n",
        "(**hint**: np.logical\\_and.reduce, np.mod)"
      ]
    },
    {
      "cell_type": "code",
      "execution_count": 231,
      "metadata": {
        "id": "rZFMXB0dREQB",
        "colab": {
          "base_uri": "https://localhost:8080/"
        },
        "outputId": "728cc520-91b7-4669-e90e-96c5f4c2bca3"
      },
      "outputs": [
        {
          "output_type": "stream",
          "name": "stdout",
          "text": [
            "[]\n"
          ]
        }
      ],
      "source": [
        "arr = np.asarray([[1.0, 0.0, 5.4, 7.9],\n",
        "                [12.0, 0.0, 8.0, 5.0],\n",
        "                [1.5, 0.76, 8.5, 0.0]])\n",
        "n = 5\n",
        "M = np.logical_and.reduce(np.mod(arr, 1) == 0, axis=-1)\n",
        "M &= (arr.sum(axis=-1) == n)\n",
        "print(arr[M])\n"
      ]
    },
    {
      "cell_type": "markdown",
      "metadata": {
        "id": "7IMw9SIfREQB"
      },
      "source": [
        "#### 100. Compute bootstrapped 95% confidence intervals for the mean of a 1D array X (i.e., resample the elements of an array with replacement N times, compute the mean of each sample, and then compute percentiles over the means). (★★★) \n",
        "(**hint**: np.percentile)"
      ]
    },
    {
      "cell_type": "code",
      "execution_count": 232,
      "metadata": {
        "id": "9f975k2QREQB",
        "colab": {
          "base_uri": "https://localhost:8080/"
        },
        "outputId": "4ccb3a3a-dfca-4880-9e6f-8fed8c6186dc"
      },
      "outputs": [
        {
          "output_type": "stream",
          "name": "stdout",
          "text": [
            "[-0.35324266  0.0398344 ]\n"
          ]
        }
      ],
      "source": [
        "X = np.random.randn(100) \n",
        "N = 1000 \n",
        "idx = np.random.randint(0, X.size, (N, X.size))\n",
        "means = X[idx].mean(axis=1)\n",
        "confint = np.percentile(means, [2.5, 97.5])\n",
        "print(confint)"
      ]
    }
  ],
  "metadata": {
    "kernelspec": {
      "display_name": "Python 3",
      "language": "python",
      "name": "python3"
    },
    "language_info": {
      "codemirror_mode": {
        "name": "ipython",
        "version": 3
      },
      "file_extension": ".py",
      "mimetype": "text/x-python",
      "name": "python",
      "nbconvert_exporter": "python",
      "pygments_lexer": "ipython3",
      "version": "3.8.3"
    },
    "colab": {
      "name": "Numpytasks.ipynb",
      "provenance": [],
      "collapsed_sections": [
        "57sM4iULREPu",
        "PCdPOgf3REPu",
        "6aRTCFBFREPv",
        "UgmbB0NQREPv",
        "_bBXuZhGREPv",
        "5XiaXu2sREPv",
        "YEfPAf27REPw",
        "P8N9AgfjREPw",
        "sRSuTpGpREPw",
        "CeosG61RREPx",
        "8q2Q89PFREPx",
        "R87r2NqfREPx",
        "Gi_HfjSaREPx",
        "pRklqun_REPx",
        "5n1Ma1-nREPy",
        "8lO7_AHQREPy",
        "cN49NIjOREPy",
        "Lp1sEewAREPy",
        "ugb46ZWaREPy",
        "mIXOt-ZLREPz",
        "DLPdzwGWREPz",
        "ZbaklFt2REPz",
        "6BBJajb3REPz",
        "wbzgzt3YREPz",
        "-SNovodsREP0",
        "vNWmb-L-REP0",
        "wX8f-pK5REP0",
        "6_-9uyajREP0",
        "qIA8YQJ0REP0",
        "b6licrjTREP0",
        "eCVty7_lREP0",
        "XnrJSt3RREP1",
        "8HMDIP9DREP4",
        "eek1G5G-REP4",
        "tk4PaMxJREP4",
        "ts7k0ViwREP4",
        "euRyj5tkREP5",
        "HO2Y-6L8REP5",
        "6Vqa5lLUREP5",
        "_HnQYhRLREP5",
        "U41ncTTWREP5",
        "03hVcruGREP6",
        "JGQ3AFVsREP6",
        "s750CK7YREP6",
        "wQmJK77QREP6",
        "8wRWbSfbREP6",
        "6_YQnPaXREP7",
        "4-1RqkjrREP7",
        "pd6uH2I3REP7",
        "VUAa6dYmREP7",
        "EOMdZkICREP7",
        "BeJamh4VREP7",
        "KrPCmFlJREP7",
        "QfWvQM9VREP8",
        "BifbB1i3REP8",
        "43dhKzRGREP8",
        "1Bhp0i0QREP8",
        "OAtlwhifREP9",
        "qhA2apmxREP9",
        "6F8qSMubREP9",
        "5t2GF4-kREP-",
        "rvd5rWqRREP-",
        "H_Tc1X05REP-",
        "Ed2jyUtkREP-",
        "XQio-YjfREP_",
        "UxJ3Fm1kREP_",
        "LrXLwuI5REP_",
        "TIu0hfgvREQA",
        "Wg_KDBrLREQA",
        "l4VQwwcXREQA",
        "SwpaO6ehREQA",
        "hfQESaY3REQA",
        "I4iSgIKIREQA",
        "7IMw9SIfREQB"
      ]
    }
  },
  "nbformat": 4,
  "nbformat_minor": 0
}